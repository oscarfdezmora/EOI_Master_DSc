{
  "nbformat": 4,
  "nbformat_minor": 0,
  "metadata": {
    "kernelspec": {
      "display_name": "Python 3",
      "language": "python",
      "name": "python3"
    },
    "language_info": {
      "codemirror_mode": {
        "name": "ipython",
        "version": 3
      },
      "file_extension": ".py",
      "mimetype": "text/x-python",
      "name": "python",
      "nbconvert_exporter": "python",
      "pygments_lexer": "ipython3",
      "version": "3.6.4"
    },
    "colab": {
      "name": "Actividad_2_sentiment_analysis.ipynb",
      "provenance": [],
      "include_colab_link": true
    }
  },
  "cells": [
    {
      "cell_type": "markdown",
      "metadata": {
        "id": "view-in-github",
        "colab_type": "text"
      },
      "source": [
        "<a href=\"https://colab.research.google.com/github/oscarfdezmora/EOI_Master_DSc/blob/main/NLP%20-%20Actividad_2_sentiment_analysis.ipynb\" target=\"_parent\"><img src=\"https://colab.research.google.com/assets/colab-badge.svg\" alt=\"Open In Colab\"/></a>"
      ]
    },
    {
      "cell_type": "markdown",
      "metadata": {
        "id": "HLVS3PBprF6O"
      },
      "source": [
        "![Captura%20de%20pantalla%202021-02-18%20a%20las%2012.20.21.png](attachment:Captura%20de%20pantalla%202021-02-18%20a%20las%2012.20.21.png)"
      ]
    },
    {
      "cell_type": "markdown",
      "metadata": {
        "id": "_ZhP2dbjrF6Y"
      },
      "source": [
        "# Instrucciones\n",
        "\n",
        "En esta actividad seguiremos trabajando con el corpus de opiniones de la SFU (https://www.sfu.ca/~mtaboada/SFU_Review_Corpus.html). A modo de recordatorio, esta colección consta de 400 artículos de opinión extraídos del sitio web Epinions y etiquetados con polaridad positiva o negativa. Exactamente, 200 tienen polaridad positiva y 200 tienen polaridad negativa. \n",
        "\n",
        "* La columna \"target\" es la polaridad asignada a la opinión: 0 significa polaridad negativa y 1 polaridad positiva.\n",
        "* La columna 'text' incluye el contenido del artículo de opinión en texto libre.\n",
        "\n",
        "La coincidencia exacta en el número de ejemplos de cada clase no es una coincidencia. La intención es tener un conjunto de datos equilibrado. Eso no refleja las distribuciones reales de las clases positivas y negativas en los artículos de opinión sino que se trabaja así porque los conjuntos de datos equilibrados simplifican el diseño de la mayoría de los métodos computacionales que se requieren para el análisis de sentimientos. Sin embargo, es mejor ser consciente de que este equilibrio de clases es artificial. \n",
        "\n",
        "**El objetivo de esta actividad es familiarizarse con las técnicas básicas de extracción de características del texto y resolver una tarea de PLN completa. Para ello, se debe crear el código necesario que se indica en las celdas vacías. Cuando sea posible, también se proporciona la salida esperada.**"
      ]
    },
    {
      "cell_type": "markdown",
      "metadata": {
        "id": "BtOzC2ArrF6Z"
      },
      "source": [
        "## Imports"
      ]
    },
    {
      "cell_type": "code",
      "metadata": {
        "id": "na_8WK0orF6a"
      },
      "source": [
        "import numpy as np                         # Librería para el álgebra lineal y matemáticas\n",
        "import pandas as pd                        # Librería Dataframe \n",
        "\n",
        "import matplotlib.pyplot as plt            # Librería para gráficas \n",
        "import re                                  # Librería para expresiones regulares\n",
        "import string                              # Librería para operaciones con strings\n",
        "\n",
        "import nltk                                # Librería de preprocesamiento de texto\n",
        "from nltk.corpus import stopwords          # Módulo de stop words que se incluye en NLTK\n",
        "from nltk.stem import PorterStemmer        # Módulo para stemming\n",
        "\n",
        "import random                              # Librería para generar números semialeatorios\n",
        "\n",
        "# La salida de los comandos de visualización gráfica se muestran directamente debajo de la celda de código \n",
        "# en la que se especifican\n",
        "%matplotlib inline                         "
      ],
      "execution_count": 1,
      "outputs": []
    },
    {
      "cell_type": "markdown",
      "metadata": {
        "id": "epy_AI3OrF6b"
      },
      "source": [
        "## Obtener los datos\n",
        "\n",
        "**1. Lee el fichero SFU_Review_Corpus.csv y cárgalo en una estructura de tipo Dataframe llamada 'sfu'.**"
      ]
    },
    {
      "cell_type": "code",
      "metadata": {
        "colab": {
          "base_uri": "https://localhost:8080/"
        },
        "id": "YPqu15FArF6b",
        "outputId": "22fb5c95-2f5b-412c-d852-499c7cf1a946"
      },
      "source": [
        "## Habilitamos la lectura desde Drive\r\n",
        "from google.colab import drive\r\n",
        "drive.mount('/content/drive')"
      ],
      "execution_count": 2,
      "outputs": [
        {
          "output_type": "stream",
          "text": [
            "Mounted at /content/drive\n"
          ],
          "name": "stdout"
        }
      ]
    },
    {
      "cell_type": "code",
      "metadata": {
        "colab": {
          "base_uri": "https://localhost:8080/",
          "height": 419
        },
        "id": "AgqtIbqZt0N0",
        "outputId": "0682657e-44d4-4b55-bb3c-c8641ab163ff"
      },
      "source": [
        "## Definimos nuestra ruta de trabajo\r\n",
        "dir = '/content/drive/MyDrive/Máster EOI/Semana 12 - PLN/'\r\n",
        "\r\n",
        "## Leemos los datos del fichero origen\r\n",
        "sfu = pd.read_csv(dir + 'SFU_Review_Corpus.csv')\r\n",
        "sfu"
      ],
      "execution_count": 3,
      "outputs": [
        {
          "output_type": "execute_result",
          "data": {
            "text/html": [
              "<div>\n",
              "<style scoped>\n",
              "    .dataframe tbody tr th:only-of-type {\n",
              "        vertical-align: middle;\n",
              "    }\n",
              "\n",
              "    .dataframe tbody tr th {\n",
              "        vertical-align: top;\n",
              "    }\n",
              "\n",
              "    .dataframe thead th {\n",
              "        text-align: right;\n",
              "    }\n",
              "</style>\n",
              "<table border=\"1\" class=\"dataframe\">\n",
              "  <thead>\n",
              "    <tr style=\"text-align: right;\">\n",
              "      <th></th>\n",
              "      <th>text</th>\n",
              "      <th>target</th>\n",
              "    </tr>\n",
              "  </thead>\n",
              "  <tbody>\n",
              "    <tr>\n",
              "      <th>0</th>\n",
              "      <td>Let me start off this review by first stating ...</td>\n",
              "      <td>0</td>\n",
              "    </tr>\n",
              "    <tr>\n",
              "      <th>1</th>\n",
              "      <td>The Imac is horrible. Sure it looks nice but w...</td>\n",
              "      <td>0</td>\n",
              "    </tr>\n",
              "    <tr>\n",
              "      <th>2</th>\n",
              "      <td>I was so excited when I was given an iMac for ...</td>\n",
              "      <td>0</td>\n",
              "    </tr>\n",
              "    <tr>\n",
              "      <th>3</th>\n",
              "      <td>I was going to purchase one of the new $1199 m...</td>\n",
              "      <td>0</td>\n",
              "    </tr>\n",
              "    <tr>\n",
              "      <th>4</th>\n",
              "      <td>Although I do not personaly own one of these m...</td>\n",
              "      <td>0</td>\n",
              "    </tr>\n",
              "    <tr>\n",
              "      <th>...</th>\n",
              "      <td>...</td>\n",
              "      <td>...</td>\n",
              "    </tr>\n",
              "    <tr>\n",
              "      <th>395</th>\n",
              "      <td>Now, to bring up a few important points about ...</td>\n",
              "      <td>0</td>\n",
              "    </tr>\n",
              "    <tr>\n",
              "      <th>396</th>\n",
              "      <td>Two weeks ago, I spent several days behind the...</td>\n",
              "      <td>0</td>\n",
              "    </tr>\n",
              "    <tr>\n",
              "      <th>397</th>\n",
              "      <td>I rented a PT Cruiser for a weekend trip from ...</td>\n",
              "      <td>0</td>\n",
              "    </tr>\n",
              "    <tr>\n",
              "      <th>398</th>\n",
              "      <td>You know youre in trouble when, after driving...</td>\n",
              "      <td>0</td>\n",
              "    </tr>\n",
              "    <tr>\n",
              "      <th>399</th>\n",
              "      <td>My neighbor bought one of these, the sport mod...</td>\n",
              "      <td>0</td>\n",
              "    </tr>\n",
              "  </tbody>\n",
              "</table>\n",
              "<p>400 rows × 2 columns</p>\n",
              "</div>"
            ],
            "text/plain": [
              "                                                  text  target\n",
              "0    Let me start off this review by first stating ...       0\n",
              "1    The Imac is horrible. Sure it looks nice but w...       0\n",
              "2    I was so excited when I was given an iMac for ...       0\n",
              "3    I was going to purchase one of the new $1199 m...       0\n",
              "4    Although I do not personaly own one of these m...       0\n",
              "..                                                 ...     ...\n",
              "395  Now, to bring up a few important points about ...       0\n",
              "396  Two weeks ago, I spent several days behind the...       0\n",
              "397  I rented a PT Cruiser for a weekend trip from ...       0\n",
              "398  You know youre in trouble when, after driving...       0\n",
              "399  My neighbor bought one of these, the sport mod...       0\n",
              "\n",
              "[400 rows x 2 columns]"
            ]
          },
          "metadata": {
            "tags": []
          },
          "execution_count": 3
        }
      ]
    },
    {
      "cell_type": "markdown",
      "metadata": {
        "id": "jtuXruj1rF6c"
      },
      "source": [
        "## Análisis exploratorio de los datos (EDA)"
      ]
    },
    {
      "cell_type": "markdown",
      "metadata": {
        "id": "ycFFRNMnrF6c"
      },
      "source": [
        "Antes de nada, podemos imprimir un par de opiniones del conjunto de datos para ver su aspecto. Un buen entendimiento de los datos es responsable del 80% del éxito o el fracaso en los proyectos de ciencia de datos. Podemos aprovechar este momento para observar aspectos que nos gustaría tener en cuenta al preprocesar nuestros datos.\n",
        "\n",
        "Vamos a imprimir una opinión positiva y otra negativa al azar. Hemos añadido una marca de color al principio de cada string para distinguir mejor las dos.\n",
        "\n",
        ">*Ten en cuenta que como estamos obteniendo una opinión aleatoria, la salida podría ser diferente a la que se muestra al ejecutar las celdas que aparecen a continuación.*"
      ]
    },
    {
      "cell_type": "code",
      "metadata": {
        "colab": {
          "base_uri": "https://localhost:8080/"
        },
        "id": "G2YuJuxRrF6d",
        "outputId": "d11c8f15-5f79-4f9c-cd5a-15954fb48b30"
      },
      "source": [
        "# Mostrar la opinión negativa en verde\n",
        "print(f\"\\033[92m {sfu[sfu['target']==0]['text'].iloc[random.randint(0,200)]}\")"
      ],
      "execution_count": 5,
      "outputs": [
        {
          "output_type": "stream",
          "text": [
            "\u001b[92m I enjoyed reading Dean Koontz's book \"Tick Tock\" very much. What I didn't enjoy doing, however, was listening to this book on audiocassette. I had never before listened to a book on tape, so this was a first. Just because I give my opinion of this book on audiocassette a bad review, it does not mean I'm bashing audiocassette books in general. I'm sure this book on tape has got to be one of the worse. I listened to the taped version a week after finishing the book, so the book was still fresh in my mind.  \n",
            " \n",
            "The person who read the book complete stripped the personality out of the characters by his interpretations of the voices. As I read the book, I got the impression of the main female character to be smart, clever, fun and sporadic. The reader, however, made the female's voice whiny and obviously fake. His reading of the book put it into a whole new perspective, and not a likeable one either. He instead made the whole book sound ridiculous.  \n",
            " \n",
            "I am a very big fan of Dean Koontz books, therefore I would hate for someone who has never read or listened to a Dean Koontz book before to pick \"Tick Tock\" on audiocassette as their first choice. Should that happen, there is a very likely chance that the person would never again try any piece written by Dean Koontz.  \n",
            " \n",
            "I suggest that if you plan on listening to Dean Koontz's \"Tick Tock\" on audiocassette that you read the book first, for it is much different even though it is exactly the same.  \n",
            " \n",
            "PS--Please keep in mind that my ratings are not for the book itself, but for the book on audiocassette \n",
            "\n"
          ],
          "name": "stdout"
        }
      ]
    },
    {
      "cell_type": "markdown",
      "metadata": {
        "id": "8lZ-E0nWrF6d"
      },
      "source": [
        "Salida esperada: \n",
        "\n",
        "![Captura%20de%20pantalla%202021-01-28%20a%20las%2012.30.31.png](attachment:Captura%20de%20pantalla%202021-01-28%20a%20las%2012.30.31.png)"
      ]
    },
    {
      "cell_type": "code",
      "metadata": {
        "colab": {
          "base_uri": "https://localhost:8080/"
        },
        "id": "fTWVr26jrF6e",
        "outputId": "deec836e-5c00-4866-e80d-b2920bfb60e5"
      },
      "source": [
        "# Opinión positiva en rojo\n",
        "print(f\"\\033[91m {sfu[sfu['target']==1]['text'].iloc[random.randint(0,200)]}\")"
      ],
      "execution_count": 6,
      "outputs": [
        {
          "output_type": "stream",
          "text": [
            "\u001b[91m Plot Details: This opinion reveals major details about the movie's plot.  \n",
            "I just want to be upfront on the following.  \n",
            " \n",
            "I still haven't forgiven Tom for what he did to Nicole. To dump your wife through a divorce petition is pretty sleazy. What's even sleazier is to abandon her while she's pregnant with your child and then try to say that the marriage was only enforce for 9 years 11 months so that you could skirt the 10 year California rule on split of assets.  \n",
            " \n",
            "It's sleazy.  \n",
            " \n",
            "Now that I've gotten that out of the way, let's talk about my strong like for Tom Cruise, the actor. I've always had a soft spot for the lovable creature that he is and by the time he made Top Gun, I was swearing my undying devotion to him. I don't think that he's a particularly gifted actor however, like Britney Spears, he is the consummate entertainer. I doubt that he'll ever win an Oscar for Best Actor. Why? In the end, I think that his looks are what sabotage him. The best thing that could happen to him is an industrial accident.  \n",
            " \n",
            "What does this have to do with The Last Samurai? I'll get to that in a moment. Let's review the story, shall we?  \n",
            " \n",
            "It's 1876. The movie opens up with Nathan Algren (Tom Cruise) sabotaging his own employment opportunities by funneling his anger and regret into a bottle of alcohol and an attitude of rebellion.  \n",
            " \n",
            "What's he so upset about? As a captain, he spent time fighting those savages and along the way, he massacred innocent women and children. That's enough to make any man with a conscious, drink.  \n",
            " \n",
            "The Japanese government, recognizing his keen ability to get the job done, hires him to train their troops in the modern ways of war. Who is the enemy? Their own people, specifically those who do not wish to see the modern ways take over their world. That effort is driven by the samurais and their honorable leader, Katsumoto (Ken Watanabe).  \n",
            " \n",
            "Algren, for the right price, takes the job on.  \n",
            " \n",
            "The Japanese peasants, who make up most of the emperor's army, are ill-prepared for any type of battle. Unfortunately, the government doesn't want to hear that and despite Algren's proof, they send a group in to hold the samurais back from disturbing a railroad.  \n",
            " \n",
            "After the samurais kill most of the soldiers (the others have ran), Algren is left to fight them off. Katsumoto, impressed and fascinated with the American, spares his life and takes him in as a prisoner.  \n",
            " \n",
            "Algren is housed with the family of the samurai that he killed in battle. During the process, he detoxes, and learns to appreciate life for what it is.  \n",
            " \n",
            "Did you think I just gave the entire movie away? Well relax, I didn't.  \n",
            " \n",
            "So back to this whole thing with Tom. What does his appearance have to do with The Last Samurai? I felt like the entire time I was watching this movie, that Tom was miscast and had someone else been thrown into this role (Edward Norton? Hugh Jackman?), I might have walked away liking it better. He was just too pretty for the role. Even the hap-hazard beard and scruff couldn't hide his pretty-boy face and that my friends, was distracting. In addition, I felt like his acting were pretty stiff. It's like he was aiming to be \"technically\" precise in everything that he did and that in turn seemed to stifle any of his emotional connections with other characters.  \n",
            " \n",
            "The true gem of the film, acting wise, was Ken Watanbe. He had a screen presence that I haven't seen in a long time. His charisma (magnetic, charming, forceful, and mysterious) is what pushed me to recommend this movie and I really wish that the entire story would have focused around him and not Tom. In fact, you could have left Tom out of this and it would have been a better picture. But of course, Tom is the box office pull SO you gotta take the good with the bad.  \n",
            " \n",
            "Now let's move on to two of my (normally) favorite producers/writers/directors in the world - Edward Zwick and Marshall Herskovitz. I fell deeply in like with them when they were at the helm of Thirtysomething. I felt cheated that there was a lack of emotional bonding between the characters. I mean, there was some between Algren and Katsumoto (but not nearly enough) and virtually nothing but superficial ties with the rest of the characters. Although I'm thrilled that they didn't have Tom doin' everybody, I felt a little cheated about his interactions with the opposite sex.  \n",
            " \n",
            "This movie was too long (I had to pee) and very predictable in parts (I rolled my eyes). In addition, for a movie that didn't have enough emotional bonding, it relied a lot on melodrama to manipulate the audience. See important death scenes for more details. The editing together of the scenes was pretty good with the exception of the first 8-10 minutes. The scenes introducing Tom's character felt very disjointed.  \n",
            " \n",
            "The technical aspects of the movie - from the cinematography to the battle scenes - were amazing. The fight/training scenes looked real and felt real. The choreography was over the top fantastic. I was duly impressed. The battle scenes seemed more like art than war - almost to the point of glamorization. Girls, if you strongly dislike blood and guts please know that while there is lots of blood shed, most of the scenes were not horribly gross. I only closed my eyes twice that I can remember.  \n",
            " \n",
            "As far as the story goes, I can't vouch to any of the historical accuracies of it so if you are one of those sticklers for factual accounts, you might want to do your research before you go.  \n",
            " \n",
            "I feel a little strange giving this movie such low marks considering that it had a some of the best technical stuff I've seen in a long time, a strong score, and Ken Watanabe however, if the studios want to pull in a wider audience than just battle buffs, they need to look beyond the technical perfections and evaluate the emotional aspects of the film.  \n",
            " \n",
            "To recap:  \n",
            "*/SYM Movie was TOO long. I had to pee but waited.  \n",
            "*/SYM Tom is too pretty for this kind of role.  \n",
            "*/SYM Ken Watanabe is a force to be reckoned with.  \n",
            "*/SYM Boys will like this more than girls.  \n",
            "\n"
          ],
          "name": "stdout"
        }
      ]
    },
    {
      "cell_type": "markdown",
      "metadata": {
        "id": "zFSJ1zRwrF6e"
      },
      "source": [
        "Salida esperada:\n",
        "\n",
        "![Captura%20de%20pantalla%202021-01-28%20a%20las%2012.31.42.png](attachment:Captura%20de%20pantalla%202021-01-28%20a%20las%2012.31.42.png)"
      ]
    },
    {
      "cell_type": "markdown",
      "metadata": {
        "id": "fxtJ_1L4rF6e"
      },
      "source": [
        "Ahora, revisemos algunas de las estadísticas."
      ]
    },
    {
      "cell_type": "code",
      "metadata": {
        "colab": {
          "base_uri": "https://localhost:8080/",
          "height": 204
        },
        "id": "EMev29rarF6f",
        "outputId": "e385f75d-867e-4ef6-b4e1-b451537db6f0"
      },
      "source": [
        "sfu.head()"
      ],
      "execution_count": 7,
      "outputs": [
        {
          "output_type": "execute_result",
          "data": {
            "text/html": [
              "<div>\n",
              "<style scoped>\n",
              "    .dataframe tbody tr th:only-of-type {\n",
              "        vertical-align: middle;\n",
              "    }\n",
              "\n",
              "    .dataframe tbody tr th {\n",
              "        vertical-align: top;\n",
              "    }\n",
              "\n",
              "    .dataframe thead th {\n",
              "        text-align: right;\n",
              "    }\n",
              "</style>\n",
              "<table border=\"1\" class=\"dataframe\">\n",
              "  <thead>\n",
              "    <tr style=\"text-align: right;\">\n",
              "      <th></th>\n",
              "      <th>text</th>\n",
              "      <th>target</th>\n",
              "    </tr>\n",
              "  </thead>\n",
              "  <tbody>\n",
              "    <tr>\n",
              "      <th>0</th>\n",
              "      <td>Let me start off this review by first stating ...</td>\n",
              "      <td>0</td>\n",
              "    </tr>\n",
              "    <tr>\n",
              "      <th>1</th>\n",
              "      <td>The Imac is horrible. Sure it looks nice but w...</td>\n",
              "      <td>0</td>\n",
              "    </tr>\n",
              "    <tr>\n",
              "      <th>2</th>\n",
              "      <td>I was so excited when I was given an iMac for ...</td>\n",
              "      <td>0</td>\n",
              "    </tr>\n",
              "    <tr>\n",
              "      <th>3</th>\n",
              "      <td>I was going to purchase one of the new $1199 m...</td>\n",
              "      <td>0</td>\n",
              "    </tr>\n",
              "    <tr>\n",
              "      <th>4</th>\n",
              "      <td>Although I do not personaly own one of these m...</td>\n",
              "      <td>0</td>\n",
              "    </tr>\n",
              "  </tbody>\n",
              "</table>\n",
              "</div>"
            ],
            "text/plain": [
              "                                                text  target\n",
              "0  Let me start off this review by first stating ...       0\n",
              "1  The Imac is horrible. Sure it looks nice but w...       0\n",
              "2  I was so excited when I was given an iMac for ...       0\n",
              "3  I was going to purchase one of the new $1199 m...       0\n",
              "4  Although I do not personaly own one of these m...       0"
            ]
          },
          "metadata": {
            "tags": []
          },
          "execution_count": 7
        }
      ]
    },
    {
      "cell_type": "code",
      "metadata": {
        "colab": {
          "base_uri": "https://localhost:8080/"
        },
        "id": "IY1nzz7erF6f",
        "outputId": "d806f2e7-7c10-4aa4-ada2-9d9688c91859"
      },
      "source": [
        "sfu.info()"
      ],
      "execution_count": 8,
      "outputs": [
        {
          "output_type": "stream",
          "text": [
            "<class 'pandas.core.frame.DataFrame'>\n",
            "RangeIndex: 400 entries, 0 to 399\n",
            "Data columns (total 2 columns):\n",
            " #   Column  Non-Null Count  Dtype \n",
            "---  ------  --------------  ----- \n",
            " 0   text    400 non-null    object\n",
            " 1   target  400 non-null    int64 \n",
            "dtypes: int64(1), object(1)\n",
            "memory usage: 6.4+ KB\n"
          ],
          "name": "stdout"
        }
      ]
    },
    {
      "cell_type": "code",
      "metadata": {
        "colab": {
          "base_uri": "https://localhost:8080/",
          "height": 297
        },
        "id": "7n-PpHYqrF6f",
        "outputId": "2fc9a114-aa01-4010-e4ec-4423a60c0212"
      },
      "source": [
        "sfu.describe()"
      ],
      "execution_count": 9,
      "outputs": [
        {
          "output_type": "execute_result",
          "data": {
            "text/html": [
              "<div>\n",
              "<style scoped>\n",
              "    .dataframe tbody tr th:only-of-type {\n",
              "        vertical-align: middle;\n",
              "    }\n",
              "\n",
              "    .dataframe tbody tr th {\n",
              "        vertical-align: top;\n",
              "    }\n",
              "\n",
              "    .dataframe thead th {\n",
              "        text-align: right;\n",
              "    }\n",
              "</style>\n",
              "<table border=\"1\" class=\"dataframe\">\n",
              "  <thead>\n",
              "    <tr style=\"text-align: right;\">\n",
              "      <th></th>\n",
              "      <th>target</th>\n",
              "    </tr>\n",
              "  </thead>\n",
              "  <tbody>\n",
              "    <tr>\n",
              "      <th>count</th>\n",
              "      <td>400.000000</td>\n",
              "    </tr>\n",
              "    <tr>\n",
              "      <th>mean</th>\n",
              "      <td>0.500000</td>\n",
              "    </tr>\n",
              "    <tr>\n",
              "      <th>std</th>\n",
              "      <td>0.500626</td>\n",
              "    </tr>\n",
              "    <tr>\n",
              "      <th>min</th>\n",
              "      <td>0.000000</td>\n",
              "    </tr>\n",
              "    <tr>\n",
              "      <th>25%</th>\n",
              "      <td>0.000000</td>\n",
              "    </tr>\n",
              "    <tr>\n",
              "      <th>50%</th>\n",
              "      <td>0.500000</td>\n",
              "    </tr>\n",
              "    <tr>\n",
              "      <th>75%</th>\n",
              "      <td>1.000000</td>\n",
              "    </tr>\n",
              "    <tr>\n",
              "      <th>max</th>\n",
              "      <td>1.000000</td>\n",
              "    </tr>\n",
              "  </tbody>\n",
              "</table>\n",
              "</div>"
            ],
            "text/plain": [
              "           target\n",
              "count  400.000000\n",
              "mean     0.500000\n",
              "std      0.500626\n",
              "min      0.000000\n",
              "25%      0.000000\n",
              "50%      0.500000\n",
              "75%      1.000000\n",
              "max      1.000000"
            ]
          },
          "metadata": {
            "tags": []
          },
          "execution_count": 9
        }
      ]
    },
    {
      "cell_type": "markdown",
      "metadata": {
        "id": "fL_mXWHqrF6g"
      },
      "source": [
        "A medida que avanzamos en nuestro análisis, tenemos que empezar a pensar en las características que vamos a utilizar. Esto está relacionado con la idea general de la extracción de características. Cuanto mejor sea nuestro conocimiento del dominio de los datos, mejor será nuestra capacidad para diseñar más características a partir de ellos."
      ]
    },
    {
      "cell_type": "markdown",
      "metadata": {
        "id": "qmbEHpDjrF6g"
      },
      "source": [
        "**2. Crea una nueva columna denominada 'text_length' que represente la longitud en número de caracteres de los artículos de opinión y visualiza la cabecera del dataframe de nuevo.**\n",
        "\n",
        "SUGERENCIA: \n",
        "Puedes usar la función 'len'."
      ]
    },
    {
      "cell_type": "code",
      "metadata": {
        "id": "5WD7gNJZrF6h"
      },
      "source": [
        "sfu['text_length'] = sfu['text'].str.len()"
      ],
      "execution_count": 10,
      "outputs": []
    },
    {
      "cell_type": "code",
      "metadata": {
        "colab": {
          "base_uri": "https://localhost:8080/",
          "height": 204
        },
        "id": "Rs1yaIVMrF6h",
        "outputId": "95e796cc-de61-4427-f483-f2cba0216c83"
      },
      "source": [
        "sfu.head()"
      ],
      "execution_count": 11,
      "outputs": [
        {
          "output_type": "execute_result",
          "data": {
            "text/html": [
              "<div>\n",
              "<style scoped>\n",
              "    .dataframe tbody tr th:only-of-type {\n",
              "        vertical-align: middle;\n",
              "    }\n",
              "\n",
              "    .dataframe tbody tr th {\n",
              "        vertical-align: top;\n",
              "    }\n",
              "\n",
              "    .dataframe thead th {\n",
              "        text-align: right;\n",
              "    }\n",
              "</style>\n",
              "<table border=\"1\" class=\"dataframe\">\n",
              "  <thead>\n",
              "    <tr style=\"text-align: right;\">\n",
              "      <th></th>\n",
              "      <th>text</th>\n",
              "      <th>target</th>\n",
              "      <th>text_length</th>\n",
              "    </tr>\n",
              "  </thead>\n",
              "  <tbody>\n",
              "    <tr>\n",
              "      <th>0</th>\n",
              "      <td>Let me start off this review by first stating ...</td>\n",
              "      <td>0</td>\n",
              "      <td>2966</td>\n",
              "    </tr>\n",
              "    <tr>\n",
              "      <th>1</th>\n",
              "      <td>The Imac is horrible. Sure it looks nice but w...</td>\n",
              "      <td>0</td>\n",
              "      <td>3744</td>\n",
              "    </tr>\n",
              "    <tr>\n",
              "      <th>2</th>\n",
              "      <td>I was so excited when I was given an iMac for ...</td>\n",
              "      <td>0</td>\n",
              "      <td>1512</td>\n",
              "    </tr>\n",
              "    <tr>\n",
              "      <th>3</th>\n",
              "      <td>I was going to purchase one of the new $1199 m...</td>\n",
              "      <td>0</td>\n",
              "      <td>1231</td>\n",
              "    </tr>\n",
              "    <tr>\n",
              "      <th>4</th>\n",
              "      <td>Although I do not personaly own one of these m...</td>\n",
              "      <td>0</td>\n",
              "      <td>1252</td>\n",
              "    </tr>\n",
              "  </tbody>\n",
              "</table>\n",
              "</div>"
            ],
            "text/plain": [
              "                                                text  target  text_length\n",
              "0  Let me start off this review by first stating ...       0         2966\n",
              "1  The Imac is horrible. Sure it looks nice but w...       0         3744\n",
              "2  I was so excited when I was given an iMac for ...       0         1512\n",
              "3  I was going to purchase one of the new $1199 m...       0         1231\n",
              "4  Although I do not personaly own one of these m...       0         1252"
            ]
          },
          "metadata": {
            "tags": []
          },
          "execution_count": 11
        }
      ]
    },
    {
      "cell_type": "markdown",
      "metadata": {
        "id": "bfdOXSXLrF6h"
      },
      "source": [
        "Salida esperada:\n",
        "\n",
        "![Captura%20de%20pantalla%202021-01-28%20a%20las%2012.34.10.png](attachment:Captura%20de%20pantalla%202021-01-28%20a%20las%2012.34.10.png)"
      ]
    },
    {
      "cell_type": "markdown",
      "metadata": {
        "id": "RSOcnAqDrF6i"
      },
      "source": [
        "### Visualización de los datos\n",
        "\n",
        "Visualicemos los datos!"
      ]
    },
    {
      "cell_type": "code",
      "metadata": {
        "colab": {
          "base_uri": "https://localhost:8080/",
          "height": 282
        },
        "id": "FdOtMTHyrF6i",
        "outputId": "5cd26bfe-95c3-490d-c47b-9fd751f262ac"
      },
      "source": [
        "sfu['text_length'].plot(bins=50, kind='hist') "
      ],
      "execution_count": 12,
      "outputs": [
        {
          "output_type": "execute_result",
          "data": {
            "text/plain": [
              "<matplotlib.axes._subplots.AxesSubplot at 0x7fab1ab3cf10>"
            ]
          },
          "metadata": {
            "tags": []
          },
          "execution_count": 12
        },
        {
          "output_type": "display_data",
          "data": {
            "image/png": "[encoded data removed]",
            "text/plain": [
              "<Figure size 432x288 with 1 Axes>"
            ]
          },
          "metadata": {
            "tags": [],
            "needs_background": "light"
          }
        }
      ]
    },
    {
      "cell_type": "markdown",
      "metadata": {
        "id": "r1NL7sOCrF6i"
      },
      "source": [
        "Parece que existe una opinión realmente larga."
      ]
    },
    {
      "cell_type": "code",
      "metadata": {
        "colab": {
          "base_uri": "https://localhost:8080/"
        },
        "id": "LLy3ZuQdrF6i",
        "outputId": "6abc86a2-ecca-4004-a159-3d63a2033483"
      },
      "source": [
        "sfu['text_length'].describe()"
      ],
      "execution_count": 13,
      "outputs": [
        {
          "output_type": "execute_result",
          "data": {
            "text/plain": [
              "count      400.000000\n",
              "mean      3940.862500\n",
              "std       3553.954689\n",
              "min        186.000000\n",
              "25%       1635.500000\n",
              "50%       3199.500000\n",
              "75%       4906.000000\n",
              "max      33886.000000\n",
              "Name: text_length, dtype: float64"
            ]
          },
          "metadata": {
            "tags": []
          },
          "execution_count": 13
        }
      ]
    },
    {
      "cell_type": "code",
      "metadata": {
        "colab": {
          "base_uri": "https://localhost:8080/"
        },
        "id": "qdx46J_5rF6j",
        "outputId": "c00b1293-8019-467c-e3cd-bcf7631458d0"
      },
      "source": [
        "print(sfu[sfu['text_length'] == 33886]['text'].iloc[0])"
      ],
      "execution_count": 14,
      "outputs": [
        {
          "output_type": "stream",
          "text": [
            "Why was I so drawn to the iMac? You see, for the last 11 years I have been using Microsoft Windows-based machines. Each version of Windows has been getting better, and XP in particular is quite good. In fact, going into this purchase, I was quite happy with XP.  \n",
            " \n",
            "Still, roaming the aisles of CompUSA I felt myself being drawn to the iMac. For a few reasons actually. First, I had continually heard that the Mac made it super easy to manage digital photos and create movies. Second, I found the design of the iMac very appealing. I still use a Windows machine for work, so I figured I would take a chance and buy an iMac to replace my Micron PC at home - and I haven't looked back since.  \n",
            " \n",
            "INITIAL CONCERNS  \n",
            " \n",
            "Prior to the purchase, I did a bit of research to ensure I wouldn't be making a big mistake. My home computer had been used primarily for managing photos, creating and editing Microsoft Office documents, videoconferencing (using Messenger in XP), and surfing the net. With the iMac, I wanted to add making movies to the repertoire. One thing that I discovered that eased my decision was the fact that MS Office documents now share the same file format for Mac and PC. My assumption was that the Mac version would require different file formats (requiring a conversion at either end), and this is not the case. Discovering that I could create a Word, Excel or Powerpoint document and e-mail it to a PC without any worries was a beautiful thing.  \n",
            " \n",
            "The other thing that was a concern was videoconferencing functionality. We have family on the other coast, and used the videoconferencing capability built into XP's Messenger to virtually visit these relatives. The version of MSN Messenger for the Mac does not have this feature, which was initially a bit of a bummer. However, there was an easy solution. Yahoo Messenger does have videoconferencing capabilities built-in, and works cross-platform (Mac to PC). In addition, the iSight camera that is available for the Mac is incredible. It is auto-focus, and the image quality is excellent. Yahoo also offers better video quality as compared to MSN and the built-in version of Messenger available with XP.  \n",
            " \n",
            "If there was one other thing I worried about, it was processor speed. Owning a PC for so many years gets you caught up in thinking about speed simply in terms of the processor speed. The new PC's were shipping with 3 GHz processors, and here I was contemplating the purchase of a machine with a 1 GHz processor. What was I thinking! I was told that the Mac and PC process information very differently, and the 1 GHz processor was equivalent to a much faster processor on the PC side. I put a bit of faith in this explanation, and never let it get in the way of my purchase decision.  \n",
            " \n",
            "Once I found that MS Office and videoconferencing would work for me on the iMac - and put aside the processor speed concern - I got out the credit card. Actually, I bought it from CompUSA and opened a CompUSA credit card account to get 5% off my purchase as well as 6 months of no interest financing. They also gave me $50 toward the purchase of accessories, which I put toward the purchase of a Canon S400 (which is phenomenal).  \n",
            " \n",
            "OUT OF THE BOX  \n",
            " \n",
            "One thing that really bugged me about my PC was the sheer number of cables, connectors and general mess it seemed to create on my desktop. It was so nice taking the iMac out of the box, placing it on my desk, connecting the speakers, keyboard and Ethernet cable to the iMac, connecting the mouse to the keyboard, and done. I am stating the obvious when I say the iMac looked stunning. It truly is a piece of art, and the build quality is very impressive. The bottom of the iMac was even finished off beautifully with a circular piece of brushed aluminum (which looks very much like a larger version of what you'd find on the back of a fine watch).  \n",
            " \n",
            "Another aspect of the design that is very nice is the fact that the system is very ergonomically pleasing. It is amazing how much more comfortable it is (especially at 6'3\") to have the screen up nice and high. Apple used a unique mounting system for the monitor which makes it easy to manipulate the screen placement with just one hand with very little effort. The range of movement is vast. Being tall, I have the screen very high, but someone who likes it lower can lower it all the way down so that the bottom of the screen is only a half inch from the surface of the desk! From the highest to the lowest setting, there is a range of movement of 7.5 inches! The LCD flat panel I had on my PC only pivoted up and down to adjust the viewing angle, but it offered no actual vertical movement as with the iMac. I found that once I started using the iMac, I got way fewer headaches. With my other monitor, even though the viewing angle was correct after it pivoted upward, I was still looking down at it quite a bit. This caused the back of my neck to strain after a while, which would sometimes lead to headaches. The iMac monitor also pivots from side to side, which I haven't found all that useful - but I guess people will use it when they want to show others their work, etc.  \n",
            " \n",
            "FEATURES  \n",
            " \n",
            "The iMac is very full-featured, especially considering its diminutive size. I think anyone buying simply on specs will probably buy a PC, as they are leading the pack from a hardware per dollar standpoint. I was more concerned with real world usability. Still, for those that must know, here are the specs:  \n",
            " \n",
            "1 GHz PowerPC G4 Processor  \n",
            "133 MHz bus speed  \n",
            "17\" widescreen digital display  \n",
            "DVD/CD burner (read: 32x CD/8x DVD; burn: 8x CD-RW, 16x DD-R, 4x DVD-R)  \n",
            "80GB 7200rpm Hard Drive  \n",
            "NVIDIA GeForce4 MX 64MB video card  \n",
            "256MB DDR SDRAM (Max 1GB)  \n",
            "56K V.92 internal modem  \n",
            "2 Firewire ports  \n",
            "2 available USB ports (after the speakers, and keyboard/mouse are connected)  \n",
            "Apple Pro Speakers (the translucent round speakers)  \n",
            " \n",
            "This is probably a good section to comment on the speed of the machine with the 1 GHz processor. While I have no 3 GHz windows machine to directly compare it to, I can say that I now have no worries about performance. Probably the most processor intensive task I have undertaken on the iMac is movie editing. For this, I found the iMac to be plenty fast, and at no time did I feel like I needed more speed. I really feel that the Mac world is more focused on usability than raw speed, as is the case with the PC world. The PC world is filled with specs and benchmarks, and you don't see this nearly as often in the Mac world (although you do see it).  \n",
            " \n",
            "The first thing I did to my iMac was to add memory. From a performance per dollar standpoint, nothing beats additional RAM. So I purchased a 512MB memory board from CompUSA for around $120 to bring the total memory up to 768MB. I have upgraded the memory in all the computers I have owned, so I didn't even bother trying the machine with the 256MB. Therefore, I couldn't compare the iMac with the standard versus added memory. My recommendation would be for around $100 get the extra memory - it's a no brainer.  \n",
            " \n",
            "From a hardware perspective, I should also note that you can get an internal wireless card for the iMac. The Airport Extreme wireless card for the iMac works with the AirPort Extreme Base Station using 802.11g for up to 54 Mbps, which is about 5 times faster than the currently most popular standard of 802.11b. The Airport Extreme Card is also compatible with 802.11b if you already have a wireless router based on the older standard. I have a wireless network in my house, but have the iMac sitting next to the router. Therefore, I just connected it with an Ethernet cable. However, if I was to place it elsewhere in the house, the internal wireless feature would be nice as it would eliminate an external box. I have actually thought about putting it in the family room, and since it looks so nice, it would fit right into the decor. Actually, it would probably enhance it.  \n",
            " \n",
            "Another internal option for the iMac is a bluetooth adapter. However, be aware that this option is only available if you buy your iMac directly through Apple - something I was not aware of prior to purchase! Since I bought my machine through CompUSA, I wasn't able to get the internal bluetooth. All is not lost however. First of all, I don't currently have a need for it. And second, you can buy a tiny D-Link DBT-120 bluetooth adapter that plugs into a USB port for about $50. The D-Link adapter is tiny at 1.81\" x 0.73\" x 0.37\", so you just plug it in and you don't see it.  \n",
            " \n",
            "One thing I would advise is to replace the Apple Pro Speakers with a better system if you are going to do a ton of music listening, as the Pro Speakers have absolutely zero low end. So far, I have kept them - but I will replace them at some point.  \n",
            " \n",
            "GETTING STARTED  \n",
            " \n",
            "I turned on the machine and went through the setup procedure. In a matter of minutes, all the necessary information the machine needed was entered, and it had auto-discovered my internet connection. I was ready to roll.  \n",
            " \n",
            "When first using the iMac, one word comes to mind, and that is \"slick\". Everything looks so nice and crisp and stylish. The way the icons look, and the way the applications launch. It's all, well, very slick! The 17\" widescreen display is absolutely stunning. The images seem to jump off the screen they are so lifelike. Unlike most PC's that convert the digital image to analog, where it is sent through a cable to the monitor, the iMac display has a direct digital connection to the video card. The high-quality of the monitor combined with the digital connection is what makes the monitor look the way it does.  \n",
            " \n",
            "I started playing around with the applications, and they were very intuitive. Anyone used to a Windows machine will find it very easy to use the Mac. Sure, it is slightly different, but the general concepts of pulldown menus are the same. The one thing I did notice however is that I missed a 2-button mouse. I have no idea why Apple choose not to include a 2-button mouse on this machine, as the OS X operating system supposedly does support 2-button mouse operation (although it supposedly doesn't offer as extensive support for 2-button operation as compared to Windows). The mouse it ships with actually doesn't have any buttons at all. Rather, you simply push down on the mouse itself and the whole mouse \"is\" the button. Since you can use any portion of the mouse to click, I found myself \"thinking\" that I had clicked the right side and waiting for a menu to pop up. However, that was not the case, as there really was no second button to click. I have contemplated buying a 2-button mouse, but the mouse it ships with matches the unit and looks so darn nice with it that I haven't bothered up to this point. I figure Apple will eventually smarten up and offer a 2-button version.  \n",
            " \n",
            "Another area where the iMac was lacking was in user switching. My wife and I had separate user accounts on the XP machine. We could switch back and forth on the XP machine, leaving applications open. When we switched back, anything we were working on would still be there, ready to work on. With the Mac and OS X (also called Jaguar), you need to completely log off (and close all applications) in order to switch between users. This may not seem like a big deal, but if you are both home throughout the day, and want to jump on the computer from time to time, it becomes an annoyance. The good news is that the next version of software, called Panther, is due out from Apple on 10/24/03. Panther adds a number of features, and one of them is user switching similar in functionality to XP.  \n",
            " \n",
            "One other minor issue that took me a little time to get used to was the differences between the \"home\" and \"end\" keys. With the Mac, the \"home\" key takes you to the beginning of a document versus the beginning of the line with a PC. The \"end\" key on the Mac takes you to the end of the document versus the end of the line with a PC. To go to the beginning or end of the line on the Mac, you need to use the up and down arrow keys. Minor quibbles of course, but anyone used to Windows would find it a bit confusing at first - in practice.  \n",
            " \n",
            "Other than the issues mentioned above, I found the iMac and OS X to be very easy to use. Keep in mind, this was just basic usability, nothing application specific. Read on to find out how the iMac stacked up from an applications standpoint.  \n",
            " \n",
            "APPLICATIONS  \n",
            " \n",
            "The iLife suite of applications (which come with the iMac) was one reason I went with the iMac. This includes iMovie, iTunes, iPhoto and iDVD. To summarize each application:  \n",
            " \n",
            "iMovie - import movies from your camcorder and edit them  \n",
            " \n",
            "iPhoto - import, manage, edit and print photos, easily order prints or photo albums  \n",
            " \n",
            "iDVD - put your iMovie projects on DVD and/or create DVD-based slideshows of your photos from iPhoto  \n",
            " \n",
            "iTunes - import, manage music from your CD's or downloaded music  \n",
            " \n",
            "Since the iLife applications are so central to the iMac experience, I wanted to really focus on them from the standpoint of \"how\" I use them and how easy they are to use. I really wanted to make movies from the footage I took on my digital camcorder. I also wanted to better manage my digital photos. I found it to be exhausting and tedious to try to find the best application for doing these things on the PC. There were way too many choices. If people were raving about the Apple applications and how easy they were to use, and I didn't have to go on a search to find the best movie application, best photo application, etc., I would be very happy. So after playing around with the iMac and getting a feel for it, the next day I focused on the iLife applications.  \n",
            " \n",
            "Over the past few years, I have accumulated many hours worth of video featuring my now 2 year old son. I had been itching to put them on DVD, but it seemed like such a chore. I did fool around a little on the PC trying to make a movie, but I didn't find it all that intuitive, and it seemed a little flaky. About an hour after launching iMovie, my first DVD was DONE, and it looked GREAT. It even had transition effects (e.g. fade in, fade out), titles and credits, and a few songs I imported from some CD's! It was so easy you cannot even imagine. I simply connected my JVC MiniDV camcorder and pressed a button to import the footage. The iMovie application seems to detect the various points in the video where I stopped and started recording. So different pieces of footage that I took on the same tape were stored on the \"storyboard\" as individual clips. Then I simply took the individual clips and dragged them into a timeline at the bottom of the screen. One clip would run into the other. However, if I wanted to put in a transition effect between the two clips, I simply selected from a list of effects and dragged the effect icon between the two clips on the timeline. Super easy, and super intuitive. You can name each clip, then see a list of the clip names in order to build a \"scene selection\" for a DVD (same as the scene selection feature on DVD's you rent). I then used iDVD to burn my movie, and I was loving life. The experience of making my first movie exceeded any and all expectations I had going into the process. As for performance, it was great. I would describe it as very responsive, and at no time did I wish it was faster.  \n",
            " \n",
            "iPhoto and iTunes are equally as impressive as iMovie and iDVD. iPhoto stores all your photos in a library. After your photos are stored in the library (which by default is organized by \"roll\" of digital film which is dated and can be renamed to whatever you'd like), you create albums. You then select pictures from the library and drag them into an album. You can edit the pictures in the album, and also have a copy of the original stored in the library if you ever want to revert to the original image. I have found iPhoto to be very easy to use and have not even scratched the surface of its capabilities. For instance, I know you can put in descriptions of individual photos, then search all of iPhoto for photos that contain a keyword. The nice thing is that iPhoto presents you with a super simple and clean interface. The advanced features are there, but they aren't \"in your face\" like they are with PC applications. Once I got some pictures from my digicam into iPhoto, I also found out how easy it was to e-mail photos to my friends. With my PC, e-mailing photos that were compressed down to a manageable file size was a big pain. I would open the photo, resize is, save it as a compressed JPEG, then open Outlook and attach the images to an e-mail and send it. It was a labor intensive process. With iPhoto, you simply select the photos you want to send, then press the e-mail icon at the bottom of the iPhoto interface. It brings up a window which allows you to select a size of small, medium, large or full size as well as two check boxes asking whether you want to include comments or titles, and that's it. I usually select medium (which is 640 x 480). So in other words, I select the photos, click e-mail, click \"medium\", then press \"compose\". This automatically opens up an e-mail with the photos attached, at which time I write my e-mail text and hit send. So easy. iPhoto also makes it extremely easy for the novice to post their photos to their own internet site with the addition of the .Mac service, but more on that later. Lastly, you can click on \"order prints\" or \"order book\" to get your photos professionally processed or to order a hard-bound book containing the photos from any of your albums. When you order prints, the order is handled by Kodak. Not sure who makes the albums, as I have not done this yet, but they look beautiful. They are hard bound and covered in linen in a variety of colors. A 10 page album will run about $30. Prints are $0.49 for 4 x 6, $0.99 for 5 x 7, $3.99 for 8 x 10 and go all the way up to $19.99 for a 20 x 30. These services are commonplace for PC users, but the fact that they are so tightly integrated into iPhoto makes the process of ordering them MUCH easier. It takes so little time that it is actually fun versus a laborious task.  \n",
            " \n",
            "iTunes along with the Apple Music Store makes it a pleasure to get into music on your computer. This is something that has been intriguing to me, but have never done it because it isn't all that intuitive on the PC. It's not that it isn't possible. It's just that I never wanted to take the steps to learn. With iTunes, there is no learning. You just pop a CD in, iTunes opens, and you can either listen to it or drag songs into your music library. It couldn't be easier. iTunes works like iPhoto in terms of having a library and then playlists (equivalent to albums in iPhoto). All your music gets placed into the library, then you create playlists which organize the music in the library. So I may drag one song into my \"Mellow\" playlist, and another in my \"Classical Music\" playlist. You name the playlists however you want, and organize them accordingly. Another very nice feature of iTunes is that along with your library and playlists, iTunes also has a \"Music Store\" icon. Select this icon and it connects directly into Apples online music download service called the Apple Music Store. The beauty of this is that it doesn't open an internet browser, necessitating a second interface to deal with. Rather, the music is right there in iTunes. When your music library or playlists are selected, the search bar at the top of iTunes lets you search your own music for a group or a song. When you select the Music Store, the same search bar lets you search their online database. If you want to buy a song, you do it right within iTunes. After the song is downloaded, you can simply drag it into one of your playlists just like any other song. It is very simple, and very easy to do. Notice that \"easy\" seems to be a recurring theme here?  \n",
            " \n",
            "I would say that Apple has not done enough to promote the iLife applications. Sure, the thought of these built in applications was appealing to me, and was a reason for purchasing the iMac. However, I didn't expect them to transform the way I used a computer. These applications far exceeded my expectations, and if I was running Apple I would make even more of an effort in promoting them. With my PC, even though it was capable of making movies and managing music, I had never actually done it due to the fact that it was too much of a bother to figure out. With iMovie and iTunes, it was a joy to do both. Also, iPhoto makes it much easier to manage and share your photos, which means that I feel confident my photos are where I want them, and easy to get to - versus lost in the midst of some folder somewhere.  \n",
            " \n",
            "In addition to the iLife suit of applications, some other applications the unit ships with are iCal, iChat, Address Book and Mail. Obviously the person who decided not to put an \"i\" in front of Mail and Address Book is no longer with the company! iCal is obviously a calendar application (not a calculator, but the iMac does come with one of those too). iChat is an instant messaging application that works between Macs and also is compatible with AOL Instant Messenger. iChat does not support cross-platform (Mac to PC) videoconferencing, so I have not used it yet. As I mentioned earlier, I am using the Yahoo Messenger for this.  \n",
            " \n",
            "Address Book and Mail are just what they sound like. They are both very basic applications, but they do have one advantage. That is, they integrate well with other Apple software. If you are used to Outlook, you will NOT like Address Book, Mail and iCal, as they are all SEPARATE applications. No idea why Apple decided on this. It's actually not quite as bad as it sounds, as the applications do offer some integration/interaction with one another. For example, if you are in Mail, you can click an e-mail and select \"add this person to your address book\", and it will add that contact to Address Book (without having to open the Address Book application). Still, if you are an Outlook fan, then Microsoft Office X comes with Entourage X, which is a Mac version of Outlook. I loaded Entourage X to try it out, and I liked it very much. However, I eventually stopped using it in favor of the Apple applications. Not because I thought they were better, but rather because iCal, Address Book and Mail seemed to integrate better with the other Apple applications. For example, when I wanted to e-mail photos from iPhoto, iPhoto does offer you the option of selecting Apple Mail or Microsoft Entourage as the default mailer. However, when I tried to have iPhoto send photos through Entourage, I got an error message. I switched it to Apple Mail, and it worked flawlessly. That was enough to sell me on the idea of sticking with the Apple Applications. Hopefully they will improve them over time. I have the luxury of managing my calendar and the majority of my contacts on my work machine, which is a PC running Outlook. So my iMac is primarily used for e-mail and managing some personal contacts. If I managed my business contacts on the iMac, I would definitely toss iCal, Address Book and Mail in favor of Entourage.  \n",
            " \n",
            "INTERNET AND THE .MAC SERVICE  \n",
            " \n",
            "I didn't find much of a difference between the PC and Mac from a web-surfing standpoint. One thing I guess I did notice was that Internet Explorer offered slower performance than it does on the PC platform. The iMac does come with its own browser called Safari. Safari does offer faster performance, and seemed much more responsive than Internet Explorer. This makes a lot of sense since IE was built for the PC and Safari was built for the Mac. After using both, I actually preferred Safari, primarily because it offered tabbed browsing - which I had never experienced before. To explain, when you open a link in Internet Explorer, it will override the existing page, causing you to have to hit the \"back\" button to get back where you were. IE also offers the ability to open the link in a new window, which means you don't override the page you were on previously, but now you have two windows open. Tabbed browsing simply allows you to open a link on another tab, within the same window. If you click a link in Safari, it will override the existing page just like IE. However, if you hold the apple button on the keyboard down when you click a link, it will add a tab at the top of the browser and open the new page associated with the new tab. You can then click on the different tabs on the top of the browser window to switch between the pages, as well as click on the \"x\" on the tab itself to close the tab. You can have many tabs open at once, and switching between them is very simple since each tab is labeled with the title of the particular page it is associated with. Personally, I like the concept of tabbed browsing, which is why I preferred Safari. I also like the performance of Safari over IE.  \n",
            " \n",
            "Another hidden gem I found on the Mac post-purchase was the .Mac service from Apple. At $99 a year, it certainly isn't the cheapest hosting/e-mail service around. However, it is much more than that. For a novice who wants to put up a web page, and I mean a TRUE NOVICE, there is no better solution. The .Mac service has pre-formatted web page templates for just about everything, including templates for a homepage, file-sharing, photo albums, movies, writing, resume, baby, education and invitations. Furthermore, it doesn't allow the user anywhere near any programming code where they can screw anything up. For example, areas where text can be added only allow the user to put in their own text and move on. I believe you can make minor changes, such as text color and size, but that's it. Experienced web designers will find the .Mac templates to be far too simple and inflexible. However, novices will get a big grin on how easy it is and how they can't mess things up. Especially when within 5 minutes (no lie) they will have a web page up with photos!  \n",
            " \n",
            "Speaking of photos, the .Mac service seamlessly works with iPhoto in what has to be one of the greatest feats of integration I have ever seen on a personal computer...and it works! Let's say you have taken pictures with your digital camera and imported them into iPhoto. Now you want to put some of those pictures on the website you created through the .Mac service. All you need to do is launch iPhoto and select the photos (by clicking on them) you want to put on your website. Once you select them, you simply click on the \"homepage\" icon on the bottom of iPhoto window. This brings up a window which shows what your web page, complete with the photos, will look like. It also adds a title of the page, which you can overwrite, as well as an area where you can write a description of the event related to the photos on the page. After you write whatever you want, you click on a \"theme\" from a number of designs that the .Mac service offers, which are various designs of borders that go around the photo (such as wood frames, frameless, push pin, etc.). Once you select the theme, you hit \"publish\", and THAT IS IT! Not only does it automatically publish the page, but it also adds a link to that photo page on your home page! You can then go back to your homepage in .Mac and edit the text for that link. Down the road when you want to delete the photo page, you simply login to .Mac and it shows you a list of the pages on your site. Select the one you want to delete and it not only deletes it, but also gets rid of the link to that page on your homepage. In other words, you don't need to worry about the impact that changing or eliminating one page has on another page. In fact, you don't need to know the first thing about designing a website. iPhoto combined with the .Mac service makes it easy for ANYONE to put up their own website. I can't stress enough how easy it is. Also, it gives you the option of password-protecting the site, which is a nice feature in this day and age. For instance, I have lots of pictures of my house and family that I wouldn't necessarily want just anyone to see - which is why I did password protect my site.  \n",
            " \n",
            "The .Mac service also offers integration with iMovie for posting movie clips to your site, although I have not investigated that yet. In addition, you get all sorts of free software and special offers (that are actually worthwhile) through .Mac. The .Mac service also offers all sorts of online training for many applications, such as the iLife applications. The other \"services\" it offers are e-mail, server space for backup, as well as an interesting way to backup and allow you to access your bookmarks, calendar, contacts and files over the internet. The .Mac files and folders are available to you on your iMac through a disk called the iDisk (Apple really loves the letter \"i\", especially in lower case)! The iDisk looks like just another disk on your iMac, but it is actually a virtual disk that is located at Apple on their servers. This is where your website and backup files are located. iSync automatically synchronizes information such as your calendar, contacts, bookmarks and files between your hard drive and your iDisk and makes them available to you over the internet through any web browser on any computer (PC or Mac). iSync also performs various synchronization feats between your iMac and other Macs, as well as with Palm PDA's and bluetooth mobile phones.  \n",
            " \n",
            "Once you get an understanding of how .Mac integrates with your iMac, and all the services it offers, $99 seems like a relative bargain. I am very glad I have the .Mac service. I should also note that more experienced website designers can upload their designs to the .Mac web server if they feel the .Mac templates are too simplistic.  \n",
            " \n",
            "WARRANTY  \n",
            " \n",
            "Apple warranties the iMac for one year.  \n",
            " \n",
            "SUPPORT  \n",
            " \n",
            "Apple provides complimentary phone support for 90 days from the date of purchase. Since I was new to the Mac world, I purchased 3 years of support for $169 (called the AppleCare Protection Plan). My assumption was that since I was new to the platform, I'd need the support more than the average person. Well, I haven't called yet! I'm almost hoping I will have a minor issue just to get some sort of payback on my investment! Actually, the AppleCare Protection Plan also increases the warranty of your hardware an extra 2 years, to make it supported fully for 3 years on both the hardware and phone support. It also includes onsite service versus having to send it - or drive it - back to an Apple authorized service center (which is the case with the standard 1 year warranty).  \n",
            " \n",
            "COST  \n",
            " \n",
            "I don't understand why many people say Apple's are more expensive than PC's. When I was shopping, I found that the PC's from Dell and Gateway were MORE expensive for a similarly equipped computer. I paid $1799 for my 17\" 1Ghz iMac.  \n",
            " \n",
            "For example, at the writing of this review (10/23/03), I went to the Dell website to try and price out a PC which was as close to the specs of the 17\" iMac. Here are the details of the Dell system, which was based on a 2.6 GHz Dimension 4600C, which is their ultra-compact desktop (which most closely matches the footprint of the iMac):  \n",
            " \n",
            "Dell Dimension 4600C  \n",
            "Pentium® 4 Processor at 2.60GHz w/800MHz front side bus/ HT Technology  \n",
            "Microsoft® Windows® XP Home Edition  \n",
            "17 in 1703FP Ultrasharp Digital Flat Panel Display  \n",
            "256MB Dual Channel shared DDR SDRAM at 400MHz (2x128M)  \n",
            "80GB Ultra ATA/100 Hard Drive  \n",
            "No Floppy Drive Included  \n",
            "4x DVD+R+RW Drive CD-RW including Sonic RecordNow and MyDVD LE  \n",
            "COMPLETE DVD/CD Burning, Copying, Backup-MyDVD Dlx and RecordNow  \n",
            "Dell® Quietkey® Keyboard  \n",
            "Dell Optical USB Mouse  \n",
            "Microsoft Worksuite® including Money®  \n",
            "Front/ Rear IEEE 1394 Ports and Dual Front PCMCIA slots with Data Fax Modem  \n",
            "64MB DDR NVIDIA GeForce4 MX Graphics Card with TV-Out and DVI  \n",
            "Integrated 5.1 Audio with Dolby Digital 5.1 capability  \n",
            "Dell Media Experience  \n",
            "Altec Lansing® ADA215 Speakers  \n",
            "Dell Jukebox Premium powered by MUSICMATCH  \n",
            "Dell Picture Studio, Image Expert Premium  \n",
            "Microsoft® Plus! Digital Media Edition  \n",
            "56K PCI Data/Fax Modem  \n",
            "Integrated 10/100 Ethernet  \n",
            "1 Year Limited Warranty plus 1 Year At-Home Service  \n",
            "Belkin SurgeMaster Gold - 10 Outlet with Coax  \n",
            " \n",
            "The Dell system priced out at $2,033. A few hundred dollars more than the 17\" iMac! Granted, if all you want is a bare bones computer that will get the job done, you can get a much less expensive PC. However, you get what you pay for. I believe that the Dell above - with the options listed - most closely matches the iMac, and is more money.  \n",
            " \n",
            "SUMMARY  \n",
            " \n",
            "I really couldn't be any happier with my purchase of the iMac. It has been the most satisfying consumer electronics purchase I have ever made...period. It is beautiful. It is easy to use. It gets things done quickly. It is fun. What more could I ask for?  \n",
            " \n",
            "For those worried about comparing the specs of the Macs to the PC's, I say get over it and move on. Once you sit down and use the Mac, you will see that the whole is much more than just the sum of its parts. You'll forget all about processor speeds, caches and different types of RAM. Rather, you'll just enjoy the experience of using your computer.  \n",
            " \n",
            "Since Windows is pretty much universal on PC's, PC purchases usually boil down to how much hardware you are getting for your dollar. It is this mentality that causes people to miss out on the beauty of the Mac. The Mac purchase is really about software. Sure, you have your hardcore Mac fans who spend countless hours debating how fast something will get done on a Mac G4 versus G5. But for the average consumer who just wants to their computer to work effortlessly, it really comes down to the software. And it is the software that really makes the Mac shine. Of course, the fact that it looks so nice is an added bonus!  \n",
            "\n"
          ],
          "name": "stdout"
        }
      ]
    },
    {
      "cell_type": "markdown",
      "metadata": {
        "id": "tNUjAqlerF6j"
      },
      "source": [
        "Intentemos ver si la longitud del texto es un rasgo distintivo entre las opiniones positivas y las negativas:"
      ]
    },
    {
      "cell_type": "code",
      "metadata": {
        "colab": {
          "base_uri": "https://localhost:8080/",
          "height": 352
        },
        "id": "9RGv0FIvrF6j",
        "outputId": "4acd9861-7ec0-4c9d-afae-262c1f54149f"
      },
      "source": [
        "sfu.hist(column='text_length', by='target', bins=100,figsize=(12,4))"
      ],
      "execution_count": 15,
      "outputs": [
        {
          "output_type": "execute_result",
          "data": {
            "text/plain": [
              "array([<matplotlib.axes._subplots.AxesSubplot object at 0x7fab1a577110>,\n",
              "       <matplotlib.axes._subplots.AxesSubplot object at 0x7fab1a59d9d0>],\n",
              "      dtype=object)"
            ]
          },
          "metadata": {
            "tags": []
          },
          "execution_count": 15
        },
        {
          "output_type": "display_data",
          "data": {
            "image/png": "[encoded data removed]",
            "text/plain": [
              "<Figure size 864x288 with 2 Axes>"
            ]
          },
          "metadata": {
            "tags": [],
            "needs_background": "light"
          }
        }
      ]
    },
    {
      "cell_type": "markdown",
      "metadata": {
        "id": "5AgGhRqwrF6k"
      },
      "source": [
        "A través de un EDA básico hemos visto que no hay mucha diferencia en la longitud en caracteres entre las opiniones de una y otra polaridad, por lo que parece que no es una característica que nos permita discriminar correctamente las opiniones.\n",
        "\n",
        "¡Ahora vamos a empezar a procesar los datos para poder utilizarlos finalmente con Scikit-learn!\n"
      ]
    },
    {
      "cell_type": "markdown",
      "metadata": {
        "id": "qNk6psFDrF6k"
      },
      "source": [
        "## Preprocesamiento del texto"
      ]
    },
    {
      "cell_type": "markdown",
      "metadata": {
        "id": "P8TbuRV5rF6k"
      },
      "source": [
        "Como ya hemos aprendido, el preprocesamiento de datos es uno de los pasos críticos en cualquier proyecto de aprendizaje automático. Incluye la limpieza y el formateo de los datos antes de introducirlos en un algoritmo de aprendizaje automático. En el caso del PLN, algunos de los pasos más comunes de preprocesamiento son los siguientes:\n",
        "\n",
        "  * Tokenización\n",
        "  * Eliminación de las palabras vacías y de los signos de puntuación\n",
        "  * Stemming\n",
        "\n",
        "La función que se muestra a continuación implementa todos estos pasos. Básicamente:\n",
        "* Tokenizar significa dividir las cadenas de texto en tokens individuales sin espacios en blanco ni tabulaciones. En este mismo paso, también podemos convertir cada token de la cadena a minúsculas. El módulo tokenize de NLTK nos permite hacer esto fácilmente.\n",
        "* El stemming es el proceso de convertir una palabra en su forma más general, o stem. Esto ayuda a reducir el tamaño de nuestro vocabulario. \n",
        "    Consideremos las palabras\n",
        "\n",
        "    **learn**\n",
        "    \n",
        "    **learn**ing\n",
        "    \n",
        "    **learn**ed\n",
        "    \n",
        "    **learn**t\n",
        "    \n",
        "    Todas estas palabras proceden de su raíz común **learn**. Sin embargo, en algunos casos, el proceso de derivación produce palabras que no son ortográficamente correctas de la palabra raíz. Por ejemplo, **happi** y **sunni**. Esto se debe a que el algoritmo elige la raíz más común para las palabras relacionadas. Por ejemplo, podemos ver el conjunto de palabras que comprende las diferentes formas de **happy**:\n",
        "\n",
        "    **happ**y\n",
        "    \n",
        "    **happi**ness\n",
        "    \n",
        "    **happi**er\n",
        "\n",
        "    Podemos ver que el prefijo **happi** es el más utilizado. No podemos elegir **happ** porque es la raíz de palabras no relacionadas como **happen**.\n",
        "\n",
        "    NLTK dispone de diferentes módulos para el stemming y nosotros utilizaremos el módulo PorterStemmer que implementa el Algoritmo Porter Stemming (https://tartarus.org/martin/PorterStemmer/).\n",
        "\n",
        "\n",
        "* Podemos ver que la lista de stop words de abajo contiene algunas palabras que podrían ser importantes en algunos contextos. Podrían ser palabras como *i*, *not*, *between*, *because*, *won*, *against*. Es posible que se tenga que personalizar la lista de stop words para algunas aplicaciones. Para nuestro ejercicio, utilizaremos la lista completa.\n",
        "\n",
        "* En cuanto a la puntuación, algunas agrupaciones como *:)* y *...* deben conservarse cuando se trata, por ejemplo, de tweets porque se utilizan para expresar emociones. En otros contextos, como el análisis médico, deben eliminarse. En nuestro ejercicio, vamos a eliminarlos."
      ]
    },
    {
      "cell_type": "code",
      "metadata": {
        "colab": {
          "base_uri": "https://localhost:8080/",
          "height": 1000
        },
        "id": "4XvZdcLRwNO8",
        "outputId": "7442c501-c2dc-4f12-cb43-78ec2abf7ae0"
      },
      "source": [
        "!pip install --user -U nltk\r\n",
        "import nltk\r\n",
        "\r\n",
        "nltk.download()"
      ],
      "execution_count": 16,
      "outputs": [
        {
          "output_type": "stream",
          "text": [
            "Collecting nltk\n",
            "\u001b[?25l  Downloading https://files.pythonhosted.org/packages/92/75/ce35194d8e3022203cca0d2f896dbb88689f9b3fce8e9f9cff942913519d/nltk-3.5.zip (1.4MB)\n",
            "\u001b[K     |████████████████████████████████| 1.4MB 5.4MB/s \n",
            "\u001b[?25hRequirement already satisfied, skipping upgrade: click in /usr/local/lib/python3.7/dist-packages (from nltk) (7.1.2)\n",
            "Requirement already satisfied, skipping upgrade: joblib in /usr/local/lib/python3.7/dist-packages (from nltk) (1.0.1)\n",
            "Requirement already satisfied, skipping upgrade: regex in /usr/local/lib/python3.7/dist-packages (from nltk) (2019.12.20)\n",
            "Requirement already satisfied, skipping upgrade: tqdm in /usr/local/lib/python3.7/dist-packages (from nltk) (4.41.1)\n",
            "Building wheels for collected packages: nltk\n",
            "  Building wheel for nltk (setup.py) ... \u001b[?25l\u001b[?25hdone\n",
            "  Created wheel for nltk: filename=nltk-3.5-cp37-none-any.whl size=1434670 sha256=cb10eaf46cca64adf21db8a7e30125c60ade2a50aafed4621b3b5787de8f2ad7\n",
            "  Stored in directory: /root/.cache/pip/wheels/ae/8c/3f/b1fe0ba04555b08b57ab52ab7f86023639a526d8bc8d384306\n",
            "Successfully built nltk\n",
            "Installing collected packages: nltk\n",
            "\u001b[33m  WARNING: The script nltk is installed in '/root/.local/bin' which is not on PATH.\n",
            "  Consider adding this directory to PATH or, if you prefer to suppress this warning, use --no-warn-script-location.\u001b[0m\n",
            "Successfully installed nltk-3.5\n"
          ],
          "name": "stdout"
        },
        {
          "output_type": "display_data",
          "data": {
            "application/vnd.colab-display-data+json": {
              "pip_warning": {
                "packages": [
                  "nltk"
                ]
              }
            }
          },
          "metadata": {
            "tags": []
          }
        },
        {
          "output_type": "stream",
          "text": [
            "NLTK Downloader\n",
            "---------------------------------------------------------------------------\n",
            "    d) Download   l) List    u) Update   c) Config   h) Help   q) Quit\n",
            "---------------------------------------------------------------------------\n",
            "Downloader> d\n",
            "\n",
            "Download which package (l=list; x=cancel)?\n",
            "  Identifier> all\n",
            "    Downloading collection 'all'\n",
            "       | \n",
            "       | Downloading package abc to /root/nltk_data...\n",
            "       |   Unzipping corpora/abc.zip.\n",
            "       | Downloading package alpino to /root/nltk_data...\n",
            "       |   Unzipping corpora/alpino.zip.\n",
            "       | Downloading package biocreative_ppi to /root/nltk_data...\n",
            "       |   Unzipping corpora/biocreative_ppi.zip.\n",
            "       | Downloading package brown to /root/nltk_data...\n",
            "       |   Unzipping corpora/brown.zip.\n",
            "       | Downloading package brown_tei to /root/nltk_data...\n",
            "       |   Unzipping corpora/brown_tei.zip.\n",
            "       | Downloading package cess_cat to /root/nltk_data...\n",
            "       |   Unzipping corpora/cess_cat.zip.\n",
            "       | Downloading package cess_esp to /root/nltk_data...\n",
            "       |   Unzipping corpora/cess_esp.zip.\n",
            "       | Downloading package chat80 to /root/nltk_data...\n",
            "       |   Unzipping corpora/chat80.zip.\n",
            "       | Downloading package city_database to /root/nltk_data...\n",
            "       |   Unzipping corpora/city_database.zip.\n",
            "       | Downloading package cmudict to /root/nltk_data...\n",
            "       |   Unzipping corpora/cmudict.zip.\n",
            "       | Downloading package comparative_sentences to\n",
            "       |     /root/nltk_data...\n",
            "       |   Unzipping corpora/comparative_sentences.zip.\n",
            "       | Downloading package comtrans to /root/nltk_data...\n",
            "       | Downloading package conll2000 to /root/nltk_data...\n",
            "       |   Unzipping corpora/conll2000.zip.\n",
            "       | Downloading package conll2002 to /root/nltk_data...\n",
            "       |   Unzipping corpora/conll2002.zip.\n",
            "       | Downloading package conll2007 to /root/nltk_data...\n",
            "       | Downloading package crubadan to /root/nltk_data...\n",
            "       |   Unzipping corpora/crubadan.zip.\n",
            "       | Downloading package dependency_treebank to /root/nltk_data...\n",
            "       |   Unzipping corpora/dependency_treebank.zip.\n",
            "       | Downloading package dolch to /root/nltk_data...\n",
            "       |   Unzipping corpora/dolch.zip.\n",
            "       | Downloading package europarl_raw to /root/nltk_data...\n",
            "       |   Unzipping corpora/europarl_raw.zip.\n",
            "       | Downloading package floresta to /root/nltk_data...\n",
            "       |   Unzipping corpora/floresta.zip.\n",
            "       | Downloading package framenet_v15 to /root/nltk_data...\n",
            "       |   Unzipping corpora/framenet_v15.zip.\n",
            "       | Downloading package framenet_v17 to /root/nltk_data...\n",
            "       |   Unzipping corpora/framenet_v17.zip.\n",
            "       | Downloading package gazetteers to /root/nltk_data...\n",
            "       |   Unzipping corpora/gazetteers.zip.\n",
            "       | Downloading package genesis to /root/nltk_data...\n",
            "       |   Unzipping corpora/genesis.zip.\n",
            "       | Downloading package gutenberg to /root/nltk_data...\n",
            "       |   Unzipping corpora/gutenberg.zip.\n",
            "       | Downloading package ieer to /root/nltk_data...\n",
            "       |   Unzipping corpora/ieer.zip.\n",
            "       | Downloading package inaugural to /root/nltk_data...\n",
            "       |   Unzipping corpora/inaugural.zip.\n",
            "       | Downloading package indian to /root/nltk_data...\n",
            "       |   Unzipping corpora/indian.zip.\n",
            "       | Downloading package jeita to /root/nltk_data...\n",
            "       | Downloading package kimmo to /root/nltk_data...\n",
            "       |   Unzipping corpora/kimmo.zip.\n",
            "       | Downloading package knbc to /root/nltk_data...\n",
            "       | Downloading package lin_thesaurus to /root/nltk_data...\n",
            "       |   Unzipping corpora/lin_thesaurus.zip.\n",
            "       | Downloading package mac_morpho to /root/nltk_data...\n",
            "       |   Unzipping corpora/mac_morpho.zip.\n",
            "       | Downloading package machado to /root/nltk_data...\n",
            "       | Downloading package masc_tagged to /root/nltk_data...\n",
            "       | Downloading package moses_sample to /root/nltk_data...\n",
            "       |   Unzipping models/moses_sample.zip.\n",
            "       | Downloading package movie_reviews to /root/nltk_data...\n",
            "       |   Unzipping corpora/movie_reviews.zip.\n",
            "       | Downloading package names to /root/nltk_data...\n",
            "       |   Unzipping corpora/names.zip.\n",
            "       | Downloading package nombank.1.0 to /root/nltk_data...\n",
            "       | Downloading package nps_chat to /root/nltk_data...\n",
            "       |   Unzipping corpora/nps_chat.zip.\n",
            "       | Downloading package omw to /root/nltk_data...\n",
            "       |   Unzipping corpora/omw.zip.\n",
            "       | Downloading package opinion_lexicon to /root/nltk_data...\n",
            "       |   Unzipping corpora/opinion_lexicon.zip.\n",
            "       | Downloading package paradigms to /root/nltk_data...\n",
            "       |   Unzipping corpora/paradigms.zip.\n",
            "       | Downloading package pil to /root/nltk_data...\n",
            "       |   Unzipping corpora/pil.zip.\n",
            "       | Downloading package pl196x to /root/nltk_data...\n",
            "       |   Unzipping corpora/pl196x.zip.\n",
            "       | Downloading package ppattach to /root/nltk_data...\n",
            "       |   Unzipping corpora/ppattach.zip.\n",
            "       | Downloading package problem_reports to /root/nltk_data...\n",
            "       |   Unzipping corpora/problem_reports.zip.\n",
            "       | Downloading package propbank to /root/nltk_data...\n",
            "       | Downloading package ptb to /root/nltk_data...\n",
            "       |   Unzipping corpora/ptb.zip.\n",
            "       | Downloading package product_reviews_1 to /root/nltk_data...\n",
            "       |   Unzipping corpora/product_reviews_1.zip.\n",
            "       | Downloading package product_reviews_2 to /root/nltk_data...\n",
            "       |   Unzipping corpora/product_reviews_2.zip.\n",
            "       | Downloading package pros_cons to /root/nltk_data...\n",
            "       |   Unzipping corpora/pros_cons.zip.\n",
            "       | Downloading package qc to /root/nltk_data...\n",
            "       |   Unzipping corpora/qc.zip.\n",
            "       | Downloading package reuters to /root/nltk_data...\n",
            "       | Downloading package rte to /root/nltk_data...\n",
            "       |   Unzipping corpora/rte.zip.\n",
            "       | Downloading package semcor to /root/nltk_data...\n",
            "       | Downloading package senseval to /root/nltk_data...\n",
            "       |   Unzipping corpora/senseval.zip.\n",
            "       | Downloading package sentiwordnet to /root/nltk_data...\n",
            "       |   Unzipping corpora/sentiwordnet.zip.\n",
            "       | Downloading package sentence_polarity to /root/nltk_data...\n",
            "       |   Unzipping corpora/sentence_polarity.zip.\n",
            "       | Downloading package shakespeare to /root/nltk_data...\n",
            "       |   Unzipping corpora/shakespeare.zip.\n",
            "       | Downloading package sinica_treebank to /root/nltk_data...\n",
            "       |   Unzipping corpora/sinica_treebank.zip.\n",
            "       | Downloading package smultron to /root/nltk_data...\n",
            "       |   Unzipping corpora/smultron.zip.\n",
            "       | Downloading package state_union to /root/nltk_data...\n",
            "       |   Unzipping corpora/state_union.zip.\n",
            "       | Downloading package stopwords to /root/nltk_data...\n",
            "       |   Unzipping corpora/stopwords.zip.\n",
            "       | Downloading package subjectivity to /root/nltk_data...\n",
            "       |   Unzipping corpora/subjectivity.zip.\n",
            "       | Downloading package swadesh to /root/nltk_data...\n",
            "       |   Unzipping corpora/swadesh.zip.\n",
            "       | Downloading package switchboard to /root/nltk_data...\n",
            "       |   Unzipping corpora/switchboard.zip.\n",
            "       | Downloading package timit to /root/nltk_data...\n",
            "       |   Unzipping corpora/timit.zip.\n",
            "       | Downloading package toolbox to /root/nltk_data...\n",
            "       |   Unzipping corpora/toolbox.zip.\n",
            "       | Downloading package treebank to /root/nltk_data...\n",
            "       |   Unzipping corpora/treebank.zip.\n",
            "       | Downloading package twitter_samples to /root/nltk_data...\n",
            "       |   Unzipping corpora/twitter_samples.zip.\n",
            "       | Downloading package udhr to /root/nltk_data...\n",
            "       |   Unzipping corpora/udhr.zip.\n",
            "       | Downloading package udhr2 to /root/nltk_data...\n",
            "       |   Unzipping corpora/udhr2.zip.\n",
            "       | Downloading package unicode_samples to /root/nltk_data...\n",
            "       |   Unzipping corpora/unicode_samples.zip.\n",
            "       | Downloading package universal_treebanks_v20 to\n",
            "       |     /root/nltk_data...\n",
            "       | Downloading package verbnet to /root/nltk_data...\n",
            "       |   Unzipping corpora/verbnet.zip.\n",
            "       | Downloading package verbnet3 to /root/nltk_data...\n",
            "       |   Unzipping corpora/verbnet3.zip.\n",
            "       | Downloading package webtext to /root/nltk_data...\n",
            "       |   Unzipping corpora/webtext.zip.\n",
            "       | Downloading package wordnet to /root/nltk_data...\n",
            "       |   Unzipping corpora/wordnet.zip.\n",
            "       | Downloading package wordnet_ic to /root/nltk_data...\n",
            "       |   Unzipping corpora/wordnet_ic.zip.\n",
            "       | Downloading package words to /root/nltk_data...\n",
            "       |   Unzipping corpora/words.zip.\n",
            "       | Downloading package ycoe to /root/nltk_data...\n",
            "       |   Unzipping corpora/ycoe.zip.\n",
            "       | Downloading package rslp to /root/nltk_data...\n",
            "       |   Unzipping stemmers/rslp.zip.\n",
            "       | Downloading package maxent_treebank_pos_tagger to\n",
            "       |     /root/nltk_data...\n",
            "       |   Unzipping taggers/maxent_treebank_pos_tagger.zip.\n",
            "       | Downloading package universal_tagset to /root/nltk_data...\n",
            "       |   Unzipping taggers/universal_tagset.zip.\n",
            "       | Downloading package maxent_ne_chunker to /root/nltk_data...\n",
            "       |   Unzipping chunkers/maxent_ne_chunker.zip.\n",
            "       | Downloading package punkt to /root/nltk_data...\n",
            "       |   Unzipping tokenizers/punkt.zip.\n",
            "       | Downloading package book_grammars to /root/nltk_data...\n",
            "       |   Unzipping grammars/book_grammars.zip.\n",
            "       | Downloading package sample_grammars to /root/nltk_data...\n",
            "       |   Unzipping grammars/sample_grammars.zip.\n",
            "       | Downloading package spanish_grammars to /root/nltk_data...\n",
            "       |   Unzipping grammars/spanish_grammars.zip.\n",
            "       | Downloading package basque_grammars to /root/nltk_data...\n",
            "       |   Unzipping grammars/basque_grammars.zip.\n",
            "       | Downloading package large_grammars to /root/nltk_data...\n",
            "       |   Unzipping grammars/large_grammars.zip.\n",
            "       | Downloading package tagsets to /root/nltk_data...\n",
            "       |   Unzipping help/tagsets.zip.\n",
            "       | Downloading package snowball_data to /root/nltk_data...\n",
            "       | Downloading package bllip_wsj_no_aux to /root/nltk_data...\n",
            "       |   Unzipping models/bllip_wsj_no_aux.zip.\n",
            "       | Downloading package word2vec_sample to /root/nltk_data...\n",
            "       |   Unzipping models/word2vec_sample.zip.\n",
            "       | Downloading package panlex_swadesh to /root/nltk_data...\n",
            "       | Downloading package mte_teip5 to /root/nltk_data...\n",
            "       |   Unzipping corpora/mte_teip5.zip.\n",
            "       | Downloading package averaged_perceptron_tagger to\n",
            "       |     /root/nltk_data...\n",
            "       |   Unzipping taggers/averaged_perceptron_tagger.zip.\n",
            "       | Downloading package averaged_perceptron_tagger_ru to\n",
            "       |     /root/nltk_data...\n",
            "       |   Unzipping taggers/averaged_perceptron_tagger_ru.zip.\n",
            "       | Downloading package perluniprops to /root/nltk_data...\n",
            "       |   Unzipping misc/perluniprops.zip.\n",
            "       | Downloading package nonbreaking_prefixes to\n",
            "       |     /root/nltk_data...\n",
            "       |   Unzipping corpora/nonbreaking_prefixes.zip.\n",
            "       | Downloading package vader_lexicon to /root/nltk_data...\n",
            "       | Downloading package porter_test to /root/nltk_data...\n",
            "       |   Unzipping stemmers/porter_test.zip.\n",
            "       | Downloading package wmt15_eval to /root/nltk_data...\n",
            "       |   Unzipping models/wmt15_eval.zip.\n",
            "       | Downloading package mwa_ppdb to /root/nltk_data...\n",
            "       |   Unzipping misc/mwa_ppdb.zip.\n",
            "       | \n",
            "     Done downloading collection all\n",
            "\n",
            "---------------------------------------------------------------------------\n",
            "    d) Download   l) List    u) Update   c) Config   h) Help   q) Quit\n",
            "---------------------------------------------------------------------------\n",
            "Downloader> q\n"
          ],
          "name": "stdout"
        },
        {
          "output_type": "execute_result",
          "data": {
            "text/plain": [
              "True"
            ]
          },
          "metadata": {
            "tags": []
          },
          "execution_count": 16
        }
      ]
    },
    {
      "cell_type": "code",
      "metadata": {
        "colab": {
          "base_uri": "https://localhost:8080/"
        },
        "id": "8ozXObW0rF6l",
        "outputId": "3e3ef23a-7f1f-43e2-9caa-03e0376a6df3"
      },
      "source": [
        "# mostrar la lista de stopwords en inglés de NLTK\n",
        "print('Stop words\\n')\n",
        "print(stopwords.words('english'))\n",
        "\n",
        "print('\\nPunctuation\\n')\n",
        "print(string.punctuation)"
      ],
      "execution_count": 17,
      "outputs": [
        {
          "output_type": "stream",
          "text": [
            "Stop words\n",
            "\n",
            "['i', 'me', 'my', 'myself', 'we', 'our', 'ours', 'ourselves', 'you', \"you're\", \"you've\", \"you'll\", \"you'd\", 'your', 'yours', 'yourself', 'yourselves', 'he', 'him', 'his', 'himself', 'she', \"she's\", 'her', 'hers', 'herself', 'it', \"it's\", 'its', 'itself', 'they', 'them', 'their', 'theirs', 'themselves', 'what', 'which', 'who', 'whom', 'this', 'that', \"that'll\", 'these', 'those', 'am', 'is', 'are', 'was', 'were', 'be', 'been', 'being', 'have', 'has', 'had', 'having', 'do', 'does', 'did', 'doing', 'a', 'an', 'the', 'and', 'but', 'if', 'or', 'because', 'as', 'until', 'while', 'of', 'at', 'by', 'for', 'with', 'about', 'against', 'between', 'into', 'through', 'during', 'before', 'after', 'above', 'below', 'to', 'from', 'up', 'down', 'in', 'out', 'on', 'off', 'over', 'under', 'again', 'further', 'then', 'once', 'here', 'there', 'when', 'where', 'why', 'how', 'all', 'any', 'both', 'each', 'few', 'more', 'most', 'other', 'some', 'such', 'no', 'nor', 'not', 'only', 'own', 'same', 'so', 'than', 'too', 'very', 's', 't', 'can', 'will', 'just', 'don', \"don't\", 'should', \"should've\", 'now', 'd', 'll', 'm', 'o', 're', 've', 'y', 'ain', 'aren', \"aren't\", 'couldn', \"couldn't\", 'didn', \"didn't\", 'doesn', \"doesn't\", 'hadn', \"hadn't\", 'hasn', \"hasn't\", 'haven', \"haven't\", 'isn', \"isn't\", 'ma', 'mightn', \"mightn't\", 'mustn', \"mustn't\", 'needn', \"needn't\", 'shan', \"shan't\", 'shouldn', \"shouldn't\", 'wasn', \"wasn't\", 'weren', \"weren't\", 'won', \"won't\", 'wouldn', \"wouldn't\"]\n",
            "\n",
            "Punctuation\n",
            "\n",
            "!\"#$%&'()*+,-./:;<=>?@[\\]^_`{|}~\n"
          ],
          "name": "stdout"
        }
      ]
    },
    {
      "cell_type": "code",
      "metadata": {
        "id": "CWS3F6t5rF6n"
      },
      "source": [
        "def normalize_opinion(text):\n",
        "    # Importar la lista de stopwords de NLTK en inglés\n",
        "    stop_words = set(stopwords.words('english'))\n",
        "    \n",
        "    # Instanciar el objeto \n",
        "    stemmer = PorterStemmer() \n",
        "    \n",
        "    filtered_text = []\n",
        "\n",
        "    # Tokenización, convertir en minúsculas, eliminar las stop words, puntuación y obtener la raíz\n",
        "    filtered_text = [stemmer.stem(w.lower()) for w in nltk.word_tokenize(text) if \n",
        "                         w not in string.punctuation and\n",
        "                         w.lower() not in stop_words]  \n",
        "    \n",
        "    # Devolver la lista de tokens convertidos en un string   \n",
        "    return  ' '.join(filtered_text)"
      ],
      "execution_count": 18,
      "outputs": []
    },
    {
      "cell_type": "markdown",
      "metadata": {
        "id": "7kP7hr-0rF6n"
      },
      "source": [
        "Probemos cómo funciona esta función en una opinión concreta:"
      ]
    },
    {
      "cell_type": "code",
      "metadata": {
        "colab": {
          "base_uri": "https://localhost:8080/"
        },
        "id": "HvbPmuDvrF6o",
        "outputId": "887db486-0836-4f86-deb2-69e5d553f9da"
      },
      "source": [
        "print(f\"\\033[34mOriginal text: \\033[30m{sfu['text'].iloc[2]}\")"
      ],
      "execution_count": 19,
      "outputs": [
        {
          "output_type": "stream",
          "text": [
            "\u001b[34mOriginal text: \u001b[30mI was so excited when I was given an iMac for my birthday last year, especially since it is aqua blue. However, I have found lots of flaws with this computer. First of all, it doesn't have a disk drive (the hard square disks), you have to buy that seperately (which runs about 100$!). I couldn't transfer any files from my old computer onto my new iMac without buying extra stuff! I was also not happy with the DVD player, it isn't fast enough to keep up with the DVD itself! The actors lines will go in and out of being dubbed correctly. It is only a slight problem, but it really aggravates me to the point that I have only watched one DVE on it. Not only that, this computer has frequent crashes (about once every week or so). That is a problem in itself, but to make matters worse there is no set of keys that you can press to restart the computer. You have to hold down the power button for about ten seconds for the computer to turn off. A few times even that hasn't worked and I actually had to unplug my computer. However, the computer does have a lot of memory, it is pretty quick, and is good if you don't constantly have to import and export things from your computer. The tech support is very helpful too...however, I have WAY too many friends there considering this is supposed to be a very reliable computer. Overall, I wouldn't suggest this computer, espcially since the world is being run more and more by PC's now (I cannot down load files unless they are in a MAC format...very frustrating).  \n",
            "\n"
          ],
          "name": "stdout"
        }
      ]
    },
    {
      "cell_type": "code",
      "metadata": {
        "colab": {
          "base_uri": "https://localhost:8080/"
        },
        "id": "ubb--TbQrF6o",
        "outputId": "a29ed32b-4f5e-4514-b8c6-c77ad8565879"
      },
      "source": [
        "print(f\"\\033[34mNormalized opinion: \\033[30m{normalize_opinion(sfu['text'].iloc[2])}\")"
      ],
      "execution_count": 20,
      "outputs": [
        {
          "output_type": "stream",
          "text": [
            "\u001b[34mNormalized opinion: \u001b[30mexcit given imac birthday last year especi sinc aqua blue howev found lot flaw comput first n't disk drive hard squar disk buy seper run 100 could n't transfer file old comput onto new imac without buy extra stuff also happi dvd player n't fast enough keep dvd actor line go dub correctli slight problem realli aggrav point watch one dve comput frequent crash everi week problem make matter wors set key press restart comput hold power button ten second comput turn time even n't work actual unplug comput howev comput lot memori pretti quick good n't constantli import export thing comput tech support help ... howev way mani friend consid suppos reliabl comput overal would n't suggest comput espcial sinc world run pc 's load file unless mac format ... frustrat\n"
          ],
          "name": "stdout"
        }
      ]
    },
    {
      "cell_type": "markdown",
      "metadata": {
        "id": "yge1LZWUrF6p"
      },
      "source": [
        "**3. Crea una nueva columna en el dataframe llamada 'normalized_text' resultante de aplicar la función 'normalize_opinion' en la columna 'text' y visualiza el dataframe.** \n",
        "\n",
        "\n",
        "SUGERENCIA: Una forma de resolver esto es utilizar la función 'apply'. \n",
        "\n",
        "*Puede llevar un tiempo procesar todo el dataframe y aplicar la función.*"
      ]
    },
    {
      "cell_type": "code",
      "metadata": {
        "id": "R7sxT8fgrF6p"
      },
      "source": [
        "sfu['normalized_text'] = sfu['text'].apply(normalize_opinion)"
      ],
      "execution_count": 21,
      "outputs": []
    },
    {
      "cell_type": "code",
      "metadata": {
        "colab": {
          "base_uri": "https://localhost:8080/",
          "height": 204
        },
        "id": "cF7I-CA2rF6p",
        "outputId": "4cbbbf82-ad0d-4d5d-9f44-a63133d68bd7"
      },
      "source": [
        "sfu.head()"
      ],
      "execution_count": 22,
      "outputs": [
        {
          "output_type": "execute_result",
          "data": {
            "text/html": [
              "<div>\n",
              "<style scoped>\n",
              "    .dataframe tbody tr th:only-of-type {\n",
              "        vertical-align: middle;\n",
              "    }\n",
              "\n",
              "    .dataframe tbody tr th {\n",
              "        vertical-align: top;\n",
              "    }\n",
              "\n",
              "    .dataframe thead th {\n",
              "        text-align: right;\n",
              "    }\n",
              "</style>\n",
              "<table border=\"1\" class=\"dataframe\">\n",
              "  <thead>\n",
              "    <tr style=\"text-align: right;\">\n",
              "      <th></th>\n",
              "      <th>text</th>\n",
              "      <th>target</th>\n",
              "      <th>text_length</th>\n",
              "      <th>normalized_text</th>\n",
              "    </tr>\n",
              "  </thead>\n",
              "  <tbody>\n",
              "    <tr>\n",
              "      <th>0</th>\n",
              "      <td>Let me start off this review by first stating ...</td>\n",
              "      <td>0</td>\n",
              "      <td>2966</td>\n",
              "      <td>let start review first state imacdv 1999 model...</td>\n",
              "    </tr>\n",
              "    <tr>\n",
              "      <th>1</th>\n",
              "      <td>The Imac is horrible. Sure it looks nice but w...</td>\n",
              "      <td>0</td>\n",
              "      <td>3744</td>\n",
              "      <td>imac horribl sure look nice talk comput offic ...</td>\n",
              "    </tr>\n",
              "    <tr>\n",
              "      <th>2</th>\n",
              "      <td>I was so excited when I was given an iMac for ...</td>\n",
              "      <td>0</td>\n",
              "      <td>1512</td>\n",
              "      <td>excit given imac birthday last year especi sin...</td>\n",
              "    </tr>\n",
              "    <tr>\n",
              "      <th>3</th>\n",
              "      <td>I was going to purchase one of the new $1199 m...</td>\n",
              "      <td>0</td>\n",
              "      <td>1231</td>\n",
              "      <td>go purchas one new 1199 mid-rang imac 19 month...</td>\n",
              "    </tr>\n",
              "    <tr>\n",
              "      <th>4</th>\n",
              "      <td>Although I do not personaly own one of these m...</td>\n",
              "      <td>0</td>\n",
              "      <td>1252</td>\n",
              "      <td>although personali one monster work one everi ...</td>\n",
              "    </tr>\n",
              "  </tbody>\n",
              "</table>\n",
              "</div>"
            ],
            "text/plain": [
              "                                                text  ...                                    normalized_text\n",
              "0  Let me start off this review by first stating ...  ...  let start review first state imacdv 1999 model...\n",
              "1  The Imac is horrible. Sure it looks nice but w...  ...  imac horribl sure look nice talk comput offic ...\n",
              "2  I was so excited when I was given an iMac for ...  ...  excit given imac birthday last year especi sin...\n",
              "3  I was going to purchase one of the new $1199 m...  ...  go purchas one new 1199 mid-rang imac 19 month...\n",
              "4  Although I do not personaly own one of these m...  ...  although personali one monster work one everi ...\n",
              "\n",
              "[5 rows x 4 columns]"
            ]
          },
          "metadata": {
            "tags": []
          },
          "execution_count": 22
        }
      ]
    },
    {
      "cell_type": "markdown",
      "metadata": {
        "id": "HNO0l1EzrF6p"
      },
      "source": [
        "Salida esperada:\n",
        "\n",
        "![Captura%20de%20pantalla%202021-01-28%20a%20las%2012.44.12.png](attachment:Captura%20de%20pantalla%202021-01-28%20a%20las%2012.44.12.png)"
      ]
    },
    {
      "cell_type": "markdown",
      "metadata": {
        "id": "2AwAv2nwrF6q"
      },
      "source": [
        "Comprobemos que tras la limpieza y normalización del texto no hay opiniones vacías."
      ]
    },
    {
      "cell_type": "code",
      "metadata": {
        "colab": {
          "base_uri": "https://localhost:8080/"
        },
        "id": "gJQPJGIxrF6q",
        "outputId": "159f09e3-faa6-4195-af7a-2741aee0fbbf"
      },
      "source": [
        "sfu.isnull().sum()"
      ],
      "execution_count": 23,
      "outputs": [
        {
          "output_type": "execute_result",
          "data": {
            "text/plain": [
              "text               0\n",
              "target             0\n",
              "text_length        0\n",
              "normalized_text    0\n",
              "dtype: int64"
            ]
          },
          "metadata": {
            "tags": []
          },
          "execution_count": 23
        }
      ]
    },
    {
      "cell_type": "markdown",
      "metadata": {
        "id": "QGxLDe-krF6q"
      },
      "source": [
        "## Tarea de clasificación NLP"
      ]
    },
    {
      "cell_type": "markdown",
      "metadata": {
        "id": "EOEY-L5grF6r"
      },
      "source": [
        "## Train Test Split\n",
        "\n",
        "Una forma adecuada es dividir los datos en un conjunto de training/test, en el que el modelo sólo ve los datos de entrenamiento durante el ajuste del modelo y el tuneado de los parámetros. Los datos de test no se utilizan en ningún caso. De este modo, nuestra evaluación final sobre los datos de test es representativa del verdadero rendimiento predictivo.\n",
        "\n",
        "Utilizamos train_test_split para dividir los datos en X_train, X_test, y_train, y_test, con test_size=0.3 y random_state=42."
      ]
    },
    {
      "cell_type": "code",
      "metadata": {
        "id": "_K7xH8N2rF6r"
      },
      "source": [
        "from sklearn.model_selection import train_test_split"
      ],
      "execution_count": 24,
      "outputs": []
    },
    {
      "cell_type": "code",
      "metadata": {
        "id": "v-uffYyGrF6r"
      },
      "source": [
        "X_train, X_test, y_train, y_test = train_test_split(sfu['normalized_text'], sfu['target'] ,test_size=0.3,random_state=42)"
      ],
      "execution_count": 25,
      "outputs": []
    },
    {
      "cell_type": "code",
      "metadata": {
        "colab": {
          "base_uri": "https://localhost:8080/"
        },
        "id": "Fdxgj77vrF6s",
        "outputId": "95133118-748d-4e6c-ef92-099a17d8d22a"
      },
      "source": [
        "print(f\"\\033[34mFirst example in the train set: \\033[30m{X_train.iloc[0]}\")\n",
        "print(X_train.iloc[0])\n",
        "print(f\"\\033[34mPolarity: \\033[30m{y_train.iloc[0]}\")\n",
        "print(f\"X_train shape: {X_train.shape}\")\n",
        "print(f\"X_test shape: {X_test.shape}\")"
      ],
      "execution_count": 26,
      "outputs": [
        {
          "output_type": "stream",
          "text": [
            "\u001b[34mFirst example in the train set: \u001b[30mwent calphalon hard-anod cookwar year back pot look great seem say `` owner pot class '' howev use went back less-expens non-stick cookwar job calphalon pot heavi hard clean ca n't put dishwash -- 'll get white spot tri one small piec howev heavi aluminum work better purpos exampl use calphalon 'm sear fish -- need get pan hot first oliv oil 'm use ensur fish wo n't stick handl metal heat pot need pothold lift one pot stove ... 'm alway unsur grip use pothold lift pan bubbl oil stove quick omelet morn reach budg non-stick special dish reqir hot smooth evenli heat surfac use calphalon\n",
            "went calphalon hard-anod cookwar year back pot look great seem say `` owner pot class '' howev use went back less-expens non-stick cookwar job calphalon pot heavi hard clean ca n't put dishwash -- 'll get white spot tri one small piec howev heavi aluminum work better purpos exampl use calphalon 'm sear fish -- need get pan hot first oliv oil 'm use ensur fish wo n't stick handl metal heat pot need pothold lift one pot stove ... 'm alway unsur grip use pothold lift pan bubbl oil stove quick omelet morn reach budg non-stick special dish reqir hot smooth evenli heat surfac use calphalon\n",
            "\u001b[34mPolarity: \u001b[30m0\n",
            "X_train shape: (280,)\n",
            "X_test shape: (120,)\n"
          ],
          "name": "stdout"
        }
      ]
    },
    {
      "cell_type": "markdown",
      "metadata": {
        "id": "BCNa85g8rF6s"
      },
      "source": [
        "## Extracción de catacterísticas (Vectorización)"
      ]
    },
    {
      "cell_type": "markdown",
      "metadata": {
        "id": "OejZVZ4FrF6s"
      },
      "source": [
        "## A. Bag-of-Words (BoW)"
      ]
    },
    {
      "cell_type": "markdown",
      "metadata": {
        "id": "eEdgfmqCrF6s"
      },
      "source": [
        "Actualmente, tenemos las opiniones como un conjunto de tokens (stems) y ahora necesitamos convertir cada una de esas opiniones en un vector con el que puedan trabajar los modelos de Scikit-learn.\n",
        "\n",
        "Lo haremos siguiendo el modelo bag-of-words en el que cada vector tendrá tantas dimensiones como palabras únicas haya en el corpus de opiniones. Primero, utilizaremos el **CountVectorizer** de Scikit-learn. Este modelo convertirá una colección de documentos de texto en una matriz de recuento de tokens.\n",
        "\n",
        "Podemos imaginarlo como una matriz bidimensional en la que la primera dimensión son los documentos reales (1 fila por documento) y la otra dimensión es todo el vocabulario (1 columna por token). \n",
        "\n",
        "Por ejemplo:\n",
        "\n",
        "<table border = “1“>\n",
        "<tr>\n",
        "<th></th> <th>Frecuencia Token 1</th> <th>Frecuencia Token 2</th> <th>...</th> <th>Frecuencia Token N</th> \n",
        "</tr>\n",
        "<tr>\n",
        "<td><b>Opinión 1</b></td><td>0</td><td>1</td><td>...</td><td>0</td>\n",
        "</tr>\n",
        "<tr>\n",
        "<td><b>Opinión 2</b></td><td>0</td><td>0</td><td>...</td><td>0</td>\n",
        "</tr>\n",
        "<tr>\n",
        "<td><b>...</b></td> <td>1</td><td>2</td><td>...</td><td>0</td>\n",
        "</tr>\n",
        "<tr>\n",
        "<td><b>Opinión N</b></td> <td>0</td><td>1</td><td>...</td><td>1</td>\n",
        "</tr>\n",
        "</table>\n",
        "\n",
        "Como hay tantas opiniones, podemos esperar muchas frecuencias a cero para la presencia de cada token en un documento concreto. Debido a esto, Scikit-learn producirá una [matriz dispersa] (https://en.wikipedia.org/wiki/Sparse_matrix)."
      ]
    },
    {
      "cell_type": "code",
      "metadata": {
        "id": "VN6sBLZMrF6t"
      },
      "source": [
        "from sklearn.feature_extraction.text import CountVectorizer"
      ],
      "execution_count": 27,
      "outputs": []
    },
    {
      "cell_type": "code",
      "metadata": {
        "id": "aoEi0L9grF6t"
      },
      "source": [
        "# Hay muchos argumentos y parámetros que se pueden pasar al CountVectorizer \n",
        "# En este caso, como tenemos el texto ya normalizado no pasaremos ningún argumento\n",
        "bow_transformer = CountVectorizer()"
      ],
      "execution_count": 28,
      "outputs": []
    },
    {
      "cell_type": "markdown",
      "metadata": {
        "id": "UnvSbW-ZrF6t"
      },
      "source": [
        "Vamos a generar el vocabulario a partir de los datos de entrenamiento."
      ]
    },
    {
      "cell_type": "code",
      "metadata": {
        "colab": {
          "base_uri": "https://localhost:8080/"
        },
        "id": "xupR7k9erF6u",
        "outputId": "9f12216f-0994-4f80-8b96-479c1ed9c56a"
      },
      "source": [
        "bow_transformer.fit(X_train)"
      ],
      "execution_count": 29,
      "outputs": [
        {
          "output_type": "execute_result",
          "data": {
            "text/plain": [
              "CountVectorizer(analyzer='word', binary=False, decode_error='strict',\n",
              "                dtype=<class 'numpy.int64'>, encoding='utf-8', input='content',\n",
              "                lowercase=True, max_df=1.0, max_features=None, min_df=1,\n",
              "                ngram_range=(1, 1), preprocessor=None, stop_words=None,\n",
              "                strip_accents=None, token_pattern='(?u)\\\\b\\\\w\\\\w+\\\\b',\n",
              "                tokenizer=None, vocabulary=None)"
            ]
          },
          "metadata": {
            "tags": []
          },
          "execution_count": 29
        }
      ]
    },
    {
      "cell_type": "markdown",
      "metadata": {
        "id": "AGeblNO_rF6u"
      },
      "source": [
        "Podemos ver el número de tokens diferentes en el diccionario y los propios tokens."
      ]
    },
    {
      "cell_type": "code",
      "metadata": {
        "colab": {
          "base_uri": "https://localhost:8080/"
        },
        "id": "0vXHKpuLrF6u",
        "outputId": "5575f46a-666f-4a62-c669-950f1c5f002d"
      },
      "source": [
        "print(f'Hay {len(bow_transformer.get_feature_names())} tokens en el vocabulario:')\n",
        "print(bow_transformer.get_feature_names())"
      ],
      "execution_count": 30,
      "outputs": [
        {
          "output_type": "stream",
          "text": [
            "Hay 10452 tokens en el vocabulario:\n",
            "['00', '000', '007', '00pm', '01', '02', '024', '0271', '0273', '0298', '03', '033', '0359', '0380', '0395', '04', '0409', '0412', '0441', '0462', '05', '0547', '0551', '0555', '06ghz', '0735', '0917', '0984', '0gb', '0ghz', '0in', '0l', '0t213e6fmay', '10', '100', '1000', '10000', '100base', '100m', '100mhz', '100x', '1024', '104', '106th', '10base', '10gb', '10k', '10pm', '10th', '10x', '11', '110', '1185', '11b', '11g', '11th', '12', '120', '1200', '1200nf', '120gig', '120mb', '125', '128', '128mb', '1299', '12a', '12th', '12x', '13', '130', '1300', '130w', '1313', '133', '135', '1394', '14', '140', '1400', '144', '1440x900', '145lb', '147', '1493', '15', '150', '1500', '155', '15mph', '16', '160', '1600', '1600x1200', '160gb', '165', '1656', '166', '168', '169', '16k', '16x', '16x9', '17', '170', '1700', '1703fp', '171', '17120', '172', '1743', '175', '1799', '17in', '18', '180', '180w', '181', '1814', '1818', '185', '186', '187', '1870', '1876', '188', '19', '190', '1900', '1906', '1912', '192', '1921', '1930', '194', '1940', '1950', '1952', '1957', '196', '1960', '1966', '1975', '1976', '1980', '1982', '1985', '1986', '1989', '1990', '1991', '1992', '1993', '1995', '1996', '1997', '1998', '1999', '1am', '1gb', '1ghz', '1gig', '1st', '1x', '20', '200', '2000', '2001', '2002', '2003', '2004', '2005', '200gb', '2024', '20700', '20gb', '20k', '20sk2', '20th', '20yr', '21', '210', '215', '216', '2198', '21st', '22', '2200', '221', '225', '225hp', '22nd', '23', '230', '2350', '2388', '24', '240', '240sx', '2431', '245', '245lb', '24th', '24x', '24x7', '25', '250', '2500', '2500rpm', '250gb', '250w', '2537', '256', '256k', '256mb', '25th', '26', '260', '260hp', '264v', '27', '272', '273', '275', '2750rpm', '2758', '27k', '27th', '28', '2800', '2819', '28723', '29', '292', '2cl', '2gb', '2ghz', '2k', '2k3', '2na', '2nd', '2pac', '2tl', '2v', '2x', '2x128m', '30', '300', '3000', '3000gt', '302', '309', '30k', '31', '310', '3100', '313', '315341', '31k', '32', '320', '320w', '3224', '325', '325ci', '3281', '328i', '32k', '32mb', '32x', '33', '330', '330ci', '330i', '330xi', '333', '3337', '333mhz', '33mpg', '34', '340', '345', '3470', '3485', '34th', '35', '350', '3500', '350w', '359', '35k', '35th', '36', '360', '37', '3700', '379', '38', '380', '39', '390', '3d', '3dmark2001', '3gb', '3l', '3rd', '3s', '3v', '3x', '40', '400', '4000', '400k', '400mhz', '400n', '400p', '40gb', '40k', '41', '411', '412', '4164', '42', '420', '4200', '4200rpm', '4229', '427', '430', '437', '44', '4430', '45', '450', '4500', '4550', '45r18', '45zr17', '460', '4600', '4600c', '462', '47', '48', '480', '4800', '48x', '49', '497367046', '4eva', '4g94', '4gb', '4ghz', '4l', '4mile', '4runner', '4th', '4x', '4x2', '4x4', '4xj', '50', '500', '5000', '500k', '500lb', '50k', '50r16', '512', '512mb', '5150', '52', '520', '5200', '5250', '5260', '52x', '5300', '530622076', '533', '54', '5400', '540i', '542456257', '55', '550', '5500', '56', '560', '5600', '56k', '56x', '57', '583', '5831', '5gb', '5ghz', '5in', '5l', '5s', '5se', '5spd', '5th', '60', '600', '6000', '600mhz', '60gb', '60ghz', '60gig', '6100', '62', '620', '6200', '63', '64', '640', '64mb', '64meg', '65', '66', '666', '6ghz', '6l', '6p', '6th', '6x', '70', '700', '7020', '7040', '70mph', '72', '7200', '7200rpm', '7222', '73', '749', '75', '75hz', '768', '768mb', '7ghz', '7gig', '7k', '80', '800', '800mhz', '802', '80gb', '80gig', '80mm', '81', '82', '8250', '85', '850', '86', '8600', '865pe', '87', '8860', '89', '8ball', '8gb', '8ghz', '8liter', '8mb', '8t', '8th', '8x', '90', '900', '900mhz', '9055', '90mph', '90v', '91', '911', '92', '93', '94', '9438', '95', '950', '96', '9600', '96mb', '97', '9797', '98', '98se', '99', '999', '9k', '9pm', '9th', '9x', '____', 'a4', 'aa', 'aaron', 'ab', 'abandon', 'abat', 'abbey', 'abdomen', 'abducted', 'abdul', 'abhor', 'abil', 'abl', 'abnorm', 'aboard', 'abomin', 'abort', 'abosultey', 'abound', 'above', 'abras', 'absenc', 'absens', 'absent', 'absolut', 'absolv', 'absorb', 'abstract', 'absurd', 'abund', 'abundantli', 'abus', 'ac', 'ac97', 'academ', 'acceler', 'accelerate', 'accent', 'accentu', 'accept', 'access', 'accessori', 'accid', 'accident', 'acclaim', 'accolad', 'accommod', 'accomod', 'accompani', 'accomplish', 'accord', 'accordingli', 'account', 'accru', 'accumul', 'accur', 'accuraci', 'accus', 'accustom', 'acer', 'ach', 'achiev', 'acid', 'acorn', 'acount', 'acoust', 'acquaint', 'acquaintances', 'acquir', 'acquisit', 'acquitt', 'acrobat', 'acronym', 'across', 'acrost', 'act', 'actin', 'action', 'actiu', 'activ', 'active', 'actor', 'actress', 'actual', 'actulli', 'acura', 'acut', 'ad', 'ada215', 'adam', 'adapt', 'adapter', 'adaptor', 'adc', 'add', 'addendum', 'addict', 'addit', 'address', 'adeptli', 'adequ', 'adequate', 'adher', 'adjac', 'adjoin', 'adjust', 'admir', 'admiss', 'admit', 'admittedli', 'adn', 'adolesc', 'adopt', 'ador', 'adorn', 'adrenalin', 'adu', 'adult', 'advanc', 'advantag', 'adventur', 'adventure', 'advers', 'advertis', 'advic', 'advis', 'advisor', 'aerob', 'aerodynam', 'aerosol', 'aesthet', 'affair', 'affect', 'affix', 'affluent', 'afford', 'aflam', 'aforement', 'afraid', 'after', 'afteral', 'aftermarket', 'aftermath', 'afternoon', 'afterthought', 'afterward', 'ag', 'age', 'agenc', 'agent', 'agent_id', 'aggrav', 'aggress', 'agil', 'agit', 'ago', 'agoni', 'agp', 'agre', 'agreement', 'agricultur', 'ah', 'ahead', 'ahiahi', 'ahoy', 'ai', 'aid', 'aight', 'aim', 'ain', 'aint', 'air', 'airbag', 'airborn', 'aircor', 'aircraft', 'airflow', 'airfram', 'airi', 'airlin', 'airplan', 'airplane', 'airplay', 'airport', 'airsick', 'airwav', 'airway', 'airwel', 'aisl', 'ak', 'ak77', 'aka', 'akbar', 'akroyd', 'al', 'ala', 'alarm', 'albeit', 'albino', 'album', 'alcatraz', 'alchemist', 'alcohol', 'alderton', 'alec', 'alert', 'alex', 'algren', 'alien', 'alik', 'aliv', 'all', 'allah', 'allegedli', 'allen', 'alley', 'alliter', 'allow', 'alloy', 'almighti', 'almost', 'aloha', 'alon', 'along', 'alongsid', 'aloud', 'alphabet', 'alreadi', 'alright', 'also', 'altec', 'alter', 'altern', 'alternate', 'although', 'altima', 'altitud', 'altogeth', 'altruist', 'aluminum', 'alway', 'alzheim', 'am', 'amanda', 'amateur', 'amateurish', 'amaz', 'amazingli', 'amazon', 'amber', 'ambienc', 'ambient', 'ambit', 'ambival', 'amd', 'amen', 'amenities', 'ameri', 'america', 'american', 'amerisuit', 'ami', 'amidst', 'amil', 'amillion', 'among', 'amongst', 'amount', 'amp', 'ampl', 'amplifi', 'amsoil', 'amuck', 'amus', 'an', 'anal', 'analog', 'analon', 'analys', 'analysi', 'analyt', 'analyz', 'anchor', 'ancient', 'ancillari', 'and', 'anderclayton', 'andfit', 'andh', 'andromeda', 'anem', 'anew', 'angel', 'angelino', 'anger', 'angi', 'angir', 'angl', 'angri', 'angrier', 'angriest', 'anguish', 'angular', 'ani', 'anim', 'ann', 'annett', 'anni', 'annie', 'annihil', 'anniversari', 'announc', 'annoy', 'annoying', 'annoyingh', 'annual', 'annvil', 'annyo', 'anod', 'anodis', 'anonym', 'anoth', 'answer', 'antagon', 'antagonist', 'antenna', 'anthem', 'anti', 'antic', 'anticip', 'anticlimat', 'antidot', 'antiqu', 'antiques', 'antiviru', 'anxiou', 'anxious', 'anybodi', 'anyhow', 'anymor', 'anyon', 'anyth', 'anytim', 'anyway', 'anywher', 'aol', 'aopen', 'aotearoa', 'apart', 'apex', 'apiec', 'aplenti', 'apocalyps', 'apocalypt', 'apocryph', 'apolog', 'apologet', 'app', 'appal', 'appar', 'appeal', 'appear', 'appet', 'appl', 'applaud', 'apple', 'applecar', 'applework', 'appli', 'applianc', 'applic', 'appoint', 'appreci', 'apprehend', 'apprehens', 'apprentic', 'approach', 'appropri', 'approv', 'approx', 'approxim', 'april', 'aqua', 'ar', 'arab', 'arafat', 'arang', 'arc', 'arcad', 'arch', 'archenemi', 'archetyp', 'architectur', 'architecture', 'archway', 'arctic', 'area', 'aren', 'arena', 'arent', 'argu', 'arguabl', 'argument', 'aringarosa', 'aris', 'arizona', 'arkansa', 'arm', 'armco', 'armi', 'armload', 'armoir', 'armor', 'armrest', 'armstrong', 'army', 'arnold', 'around', 'arrang', 'array', 'arriv', 'arrog', 'arrow', 'arson', 'art', 'artform', 'arthur', 'artic', 'articl', 'artifact', 'artifici', 'artilleri', 'artist', 'artistri', 'artists', 'artsi', 'artwork', 'as', 'asap', 'ascrib', 'asham', 'ashanti', 'ashley', 'ashtray', 'asia', 'asian', 'asid', 'ask', 'asleep', 'asner', 'aspect', 'aspir', 'aspx', 'ass', 'assassin', 'assault', 'assembl', 'assert', 'assess', 'asset', 'assi', 'assign', 'assist', 'associ', 'assort', 'assum', 'assumpt', 'assur', 'asthmatic', 'astonish', 'astronaut', 'astronomically', 'astut', 'at', 'ata', 'ate', 'athiest', 'athlon', 'ati', 'atla', 'atlanta', 'atlanti', 'atlantic', 'atmospher', 'atroc', 'atroci', 'attach', 'attack', 'attain', 'attempt', 'attend', 'attendants', 'attent', 'attic', 'attitud', 'attorney', 'attorneys', 'attract', 'attribut', 'attun', 'atx', 'audac', 'audi', 'audienc', 'audio', 'audiogi', 'audiophil', 'auditorium', 'august', 'auinala', 'aunt', 'aurora', 'ausset', 'austin', 'austria', 'authent', 'author', 'auto', 'autobiograph', 'autobox', 'autograph', 'autom', 'automak', 'automat', 'automatic', 'automatically', 'automobil', 'automot', 'autoweek', 'autumn', 'av', 'avail', 'availbl', 'avalanch', 'ave', 'avenu', 'averag', 'average', 'avert', 'avid', 'avoid', 'aw', 'await', 'awaken', 'awar', 'award', 'away', 'awd', 'awe', 'awesom', 'awesome', 'awhil', 'awkward', 'awok', 'awoken', 'awoolcott', 'aww', 'axl', 'axod', 'az', 'azetti', 'b_tche', 'babi', 'babu', 'babylon', 'babysit', 'babysitt', 'baccarat', 'back', 'backbon', 'backdrop', 'background', 'backlight', 'backlit', 'backroad', 'backseat', 'backsid', 'backspac', 'backstori', 'backstreet', 'backup', 'backward', 'bacon', 'bad', 'baddi', 'badg', 'badli', 'bag', 'bagel', 'bagg', 'bahia', 'bail', 'bake', 'baked', 'bakin', 'baking', 'bal', 'balanc', 'balconi', 'baldacci', 'baldwin', 'balki', 'ball', 'ballast', 'ballroom', 'baltimor', 'bamboo', 'ban', 'banana', 'band', 'bang', 'banger', 'bangin', 'banish', 'bank', 'banned', 'banner', 'banquet', 'banshe', 'banter', 'bar', 'barber', 'barbershop', 'bare', 'barenak', 'baresi', 'barg', 'bargain', 'bariton', 'bark', 'barmaid', 'baron', 'barrag', 'barri', 'barrington', 'bartend', 'bas', 'base', 'basebal', 'basement', 'baser', 'bash', 'basi', 'basic', 'basket', 'basketbal', 'bass', 'basslin', 'bast', 'bastard', 'bat', 'batch', 'bate', 'bath', 'bathrob', 'bathroom', 'bathtub', 'batteri', 'battery', 'battl', 'battle', 'battlefield', 'bay', 'bazillion', 'bbb', 'bc', 'be', 'beach', 'bead', 'beam', 'bean', 'beani', 'bear', 'beard', 'beast', 'beat', 'beaten', 'beatin', 'beatmak', 'beatswis', 'beauti', 'becam', 'beckham', 'beckon', 'becom', 'bed', 'bedroom', 'bedsid', 'bedspread', 'beef', 'beefi', 'beep', 'beer', 'beerbuff', 'beeri', 'beetl', 'befit', 'befor', 'beforehand', 'befriend', 'befuddl', 'beg', 'began', 'begin', 'beginn', 'behav', 'behavior', 'behaviour', 'behemoth', 'behind', 'behold', 'beig', 'belch', 'beleiv', 'belfri', 'belief', 'believ', 'belittl', 'belkin', 'bell', 'bella', 'bellagio', 'bellman', 'bellyflop', 'belong', 'belov', 'belt', 'beltlin', 'bemoan', 'bench', 'benchmark', 'bend', 'beneath', 'benefit', 'benevol', 'benjamin', 'benson', 'bent', 'benz', 'benzino', 'berenbaum', 'berg', 'berkeley', 'bermuda', 'berni', 'berri', 'besid', 'best', 'bestsel', 'bestseller', 'bet', 'betsey', 'better', 'betti', 'between', 'betwixt', 'beverag', 'bewar', 'beyond', 'bezel', 'bhp', 'bi', 'bia', 'bias', 'bibl', 'biblic', 'bicker', 'bicycl', 'bid', 'bide', 'big', 'bigga', 'bigger', 'biggest', 'biggi', 'biggie', 'bill', 'billboard', 'billi', 'billion', 'billy', 'bin', 'bind', 'bing', 'bio', 'bird', 'birdcal', 'birdman', 'birth', 'birthday', 'biscuit', 'bishop', 'bit', 'bite', 'bitten', 'bizarr', 'bkf', 'blabber', 'blabbermouth', 'black', 'blackalic', 'blackalici', 'blackalicious', 'blacken', 'blackest', 'blackjack', 'blackmail', 'blackout', 'blackstar', 'blacktop', 'blade', 'blah', 'blame', 'blameless', 'bland', 'blank', 'blanket', 'blase', 'blast', 'blastin', 'blatant', 'blatent', 'blather', 'blaze', 'bleary', 'blech', 'bleed', 'blend', 'blender', 'bless', 'blew', 'blige', 'blind', 'blindfold', 'blindli', 'bling', 'blink', 'bliss', 'blisteringli', 'blitz', 'blizzard', 'blk', 'bloatwar', 'block', 'bloke', 'blond', 'blood', 'bloodi', 'bloodsuck', 'bloom', 'bloviat', 'blow', 'blower', 'blown', 'blu', 'blubberi', 'blue', 'blueberri', 'blueprint', 'bluetooth', 'blunt', 'blur', 'blush', 'bmw', 'bo', 'board', 'boardroom', 'boardwalk', 'boast', 'boat', 'bob', 'bobbi', 'bode', 'bodi', 'bodice', 'bodili', 'bodily', 'body', 'bodystyl', 'boggl', 'boi', 'boil', 'boiler', 'boll', 'bologna', 'bolster', 'bolt', 'bomb', 'bombard', 'bon', 'bonafid', 'bond', 'bone', 'bones', 'bongo', 'bonni', 'bonu', 'bonus', 'bonzi', 'boo', 'boogaloo', 'boogi', 'book', 'booklet', 'bookmark', 'bookmarks', 'booksel', 'bookshelf', 'boom', 'boost', 'booster', 'boot', 'bootee', 'booth', 'booti', 'bootleg', 'booty', 'booz', 'booze', 'boozi', 'bop', 'border', 'borderlin', 'bore', 'boredom', 'boringli', 'born', 'borrow', 'bose', 'bosom', 'boss', 'boston', 'botanicca', 'bother', 'bothersom', 'bottl', 'bottom', 'bottoms', 'bouffant', 'bought', 'bounc', 'bounci', 'bound', 'boundari', 'bounti', 'bounty', 'bout', 'boutiqu', 'bow', 'bowi', 'bowl', 'box', 'boxier', 'boy', 'boyarde', 'boycott', 'boyfriend', 'brace', 'bracket', 'bradburi', 'bradman', 'brag', 'bragadaccio', 'braggadacio', 'braggadocio', 'brain', 'brainer', 'brainless', 'brake', 'branch', 'brand', 'brandon', 'brass', 'brassi', 'brat', 'brave', 'braveheart', 'braveri', 'brawl', 'braxton', 'brazen', 'bread', 'breadman', 'break', 'breakdown', 'breaker', 'breakestra', 'breakfast', 'breaking', 'breakout', 'breast', 'breath', 'breathtak', 'breev', 'breez', 'breslin', 'brethren', 'brett', 'breviti', 'brew', 'brian', 'briansdad', 'brick', 'bride', 'bridg', 'bridgett', 'brief', 'bright', 'brighten', 'brighter', 'brightli', 'brilliant', 'brilliantli', 'brillo', 'brim', 'bring', 'bringin', 'bristal', 'british', 'britney', 'brittl', 'bro', 'broad', 'broadband', 'broccoli', 'brochur', 'brock', 'broderick', 'brodi', 'broiler', 'broke', 'broken', 'bronxer', 'bronz', 'brooklyn', 'brotha', 'brother', 'brought', 'brow', 'brown', 'browni', 'brows', 'browser', 'bruci', 'bruckheimer', 'bruguru', 'bruis', 'brung', 'brush', 'brushed', 'brutal', 'brute', 'brutishli', 'bsing', 'bu', 'bubbl', 'bubblegum', 'bubblier', 'bubblin', 'buck', 'bucket', 'buckin', 'bucks', 'bud', 'budden', 'buddi', 'buddy', 'budg', 'budget', 'buff', 'buffer', 'buffet', 'bug', 'buggi', 'build', 'built', 'bulb', 'bulk', 'bulki', 'bulkier', 'bullet', 'bulli', 'bullitt', 'bullsh', 'bum', 'bumbl', 'bummer', 'bump', 'bumpbumpbumpbump', 'bumper', 'bumpi', 'bumpin', 'bumpkinish', 'bun', 'bunch', 'buncha', 'bundel', 'bundl', 'bunk', 'burbl', 'burden', 'burger', 'buri', 'burin', 'burn', 'burner', 'burning', 'burnout', 'burnt', 'burp', 'burst', 'bus', 'buse', 'busi', 'buss', 'bust', 'busta', 'but', 'butcher', 'butler', 'butt', 'butta', 'butter', 'butterfli', 'button', 'buy', 'buyer', 'buzz', 'by', 'bypass', 'byrn', 'byte', 'byzantin', 'c240', 'c320', 'c70', 'ca', 'caan', 'cab', 'cabana', 'cabin', 'cabinet', 'cabl', 'cach', 'cad', 'cadillac', 'cadmium', 'caen', 'caesar', 'cafe', 'cafeteria', 'café', 'cage', 'cake', 'cal', 'calaphon', 'calcul', 'calendar', 'cali', 'calib', 'california', 'call', 'caller', 'callin', 'calling', 'calm', 'calmli', 'calph', 'calphalon', 'cam', 'camaro', 'camb', 'camcord', 'came', 'camera', 'campground', 'camri', 'camron', 'camshaft', 'can', 'canada', 'cancel', 'cancer', 'cancun', 'candela', 'candid', 'candl', 'candlelit', 'cane', 'canibu', 'canned', 'cannon', 'canon', 'canopi', 'cant', 'canva', 'canvas', 'canyon', 'cap', 'capabl', 'capac', 'capaci', 'capad', 'cape', 'capit', 'capitalist', 'capon', 'capri', 'capt', 'captain', 'captiv', 'captur', 'car', 'caramel', 'carat', 'caray', 'carbon', 'card', 'cardboard', 'cardin', 'care', 'career', 'caress', 'carey', 'cargo', 'caribbean', 'caribean', 'caricatur', 'carla', 'carla_geronimo', 'carlo', 'carlton', 'carmak', 'carmen', 'carnag', 'carniv', 'carolina', 'carpal', 'carpel', 'carpet', 'carrey', 'carri', 'carribean', 'carrington', 'carrot', 'cars', 'carsmart', 'carson', 'cart', 'cartoon', 'carv', 'casa', 'case', 'cash', 'casino', 'casio', 'casper', 'cass', 'casserol', 'casset', 'cassett', 'cassidi', 'cast', 'castin', 'castl', 'casual', 'cat', 'catalog', 'catalogu', 'catch', 'catchi', 'catchiest', 'cate', 'categori', 'cater', 'cathedr', 'cathi', 'cathol', 'cattl', 'caucasian', 'caught', 'caus', 'caustic', 'caution', 'cautiou', 'cautious', 'caveat', 'cavern', 'cd', 'ceased', 'cede', 'ceil', 'ceiling', 'celebr', 'celeri', 'celeron', 'celia', 'celica', 'cell', 'cello', 'cellular', 'celph', 'cemetari', 'cemeteri', 'cent', 'center', 'centerfold', 'centerpiec', 'centr', 'central', 'centrifug', 'centuri', 'ceo', 'cereal', 'ceremoni', 'certain', 'certainli', 'certaintli', 'certif', 'cgi', 'ch', 'cha', 'chad', 'chafe', 'chain', 'chainsaw', 'chair', 'chais', 'chali', 'chalkboard', 'challeg', 'challeng', 'chamber', 'chamberlain', 'champ', 'champagn', 'champion', 'chanc', 'chandeli', 'chandler', 'chang', 'change', 'changer', 'changin', 'channel', 'chant', 'chap', 'chapel', 'chaperon', 'chapstick', 'chapter', 'charact', 'character', 'characterist', 'characterless', 'charcoal', 'charg', 'charge', 'charger', 'charisma', 'charismat', 'chariti', 'charl', 'charli', 'charm', 'chart', 'chase', 'chassi', 'chat', 'cheap', 'cheaper', 'cheapest', 'cheapi', 'cheapli', 'cheapo', 'cheat', 'check', 'checked', 'checkin', 'cheddar', 'cheek', 'cheeki', 'cheer', 'cheerlead', 'chees', 'cheesi', 'cheesili', 'chef', 'chemistri', 'cher', 'cherish', 'cherri', 'cherub', 'chess', 'chest', 'chestnut', 'chevi', 'chevrolet', 'chevvi', 'chewi', 'chi', 'chicago', 'chick', 'chicken', 'chicli', 'chief', 'child', 'childbirth', 'childhood', 'childish', 'children', 'chill', 'chilled', 'chilli', 'chillin', 'chime', 'chin', 'china', 'chines', 'chinese', 'chinez', 'chingi', 'chintzi', 'chip', 'chipe', 'chipset', 'chirp', 'chloe', 'chocol', 'choic', 'chok', 'choke', 'chomp', 'choo', 'choos', 'chop', 'choppi', 'chord', 'chore', 'choreographi', 'choru', 'chorus', 'chose', 'chosen', 'chow', 'chri', 'chrichton', 'chris', 'christian', 'christma', 'christmastim', 'chrome', 'chromosom', 'chronic', 'chrysler', 'chubbi', 'chuck', 'chuckl', 'chug', 'chummi', 'chunk', 'chunki', 'church', 'churn', 'ciaran', 'cigarett', 'cinch', 'cinema', 'cinemat', 'cinematagraphi', 'cinematic', 'cinematograph', 'cinematographi', 'circu', 'circuit', 'circul', 'circular', 'circulon', 'circumfer', 'circumst', 'citi', 'citizen', 'city', 'civic', 'civil', 'ck', 'cka', 'ckin', 'cl', 'clad', 'claiborn', 'claim', 'clam', 'clambak', 'clamshel', 'clan', 'clanci', 'clap', 'clariti', 'clark', 'clash', 'class', 'classi', 'classic', 'classroom', 'clatter', 'clau', 'claus', 'clean', 'cleaner', 'cleanest', 'cleanli', 'cleans', 'cleanser', 'cleanup', 'clear', 'clearer', 'clearli', 'clerk', 'clever', 'cleverli', 'clich', 'click', 'clicker', 'client', 'clientel', 'cliff', 'climat', 'climate', 'climax', 'climb', 'clinic', 'clinton', 'clio', 'clip', 'clipper', 'clips', 'cloak', 'clock', 'clockwork', 'clone', 'clori', 'clos', 'close', 'closer', 'closest', 'closet', 'cloth', 'cloud', 'cloudi', 'cloudless', 'clove', 'cloverleaf', 'clu', 'club', 'clubbish', 'clue', 'clumsi', 'clunk', 'clunker', 'clunki', 'clunkili', 'cluster', 'clutch', 'clutter', 'clyde', 'cm', 'cmhd_desktops', 'co', 'coal', 'coars', 'coast', 'coaster', 'coat', 'coax', 'cobra', 'cobweb', 'cocain', 'cock', 'cocki', 'cockpit', 'cocktail', 'coddl', 'code', 'coen', 'coffe', 'cofort', 'cogniz', 'coil', 'coin', 'coincident', 'coke', 'col', 'cola', 'colada', 'coland', 'cold', 'coldchain', 'coldest', 'collabo', 'collabor', 'colleagu', 'collect', 'colleen', 'colleg', 'collid', 'cologn', 'colon', 'color', 'colour', 'column', 'com', 'coma', 'combat', 'combin', 'combo', 'come', 'comeback', 'comed', 'comedi', 'comedian', 'comedy', 'comfi', 'comfort', 'comic', 'coming', 'command', 'commeci', 'commenc', 'commend', 'commensur', 'comment', 'commentari', 'commerci', 'commercial', 'commiss', 'commit', 'commod', 'common', 'commonli', 'commonplac', 'commonwealth', 'commun', 'communist', 'commut', 'compact', 'compactflash', 'compani', 'companion', 'compaq', 'compar', 'comparison', 'comparisons', 'compart', 'compartment', 'compass', 'compat', 'compel', 'compens', 'compet', 'competit', 'competitor', 'compil', 'complain', 'complaint', 'complement', 'complementari', 'complet', 'complex', 'compli', 'compliant', 'complic', 'compliment', 'complimentari', 'compon', 'compos', 'composit', 'comprehend', 'comprehens', 'compress', 'compressor', 'compris', 'compromis', 'compuls', 'compusa', 'comput', 'computer', 'comrad', 'comtinu', 'con', 'conceal', 'conced', 'conceit', 'conceiv', 'concentr', 'concept', 'conceptu', 'concern', 'concerns', 'concert', 'concess', 'concierg', 'concis', 'conclud', 'conclus', 'concoct', 'concret', 'concur', 'condens', 'condiment', 'condit', 'condition', 'condom', 'condominium', 'conduc', 'conduct', 'conductor', 'conduit', 'cone', 'conenct', 'conext', 'coney', 'confer', 'conferec', 'conferenc', 'confess', 'confid', 'configur', 'confin', 'confirm', 'conflict', 'conform', 'conformist', 'confront', 'confus', 'congratul', 'congressman', 'conjunct', 'conjur', 'connect', 'connector', 'conni', 'connot', 'conquer', 'conrad', 'consci', 'consciou', 'conscious', 'consecr', 'consequ', 'conserv', 'consid', 'consider', 'consist', 'consol', 'conspicu', 'conspiraci', 'constanc', 'constant', 'constantli', 'constantly', 'constitut', 'construct', 'consult', 'consum', 'consumm', 'consumpt', 'contact', 'contag', 'contain', 'contempl', 'contemporari', 'contend', 'content', 'content_72728153732', 'contest', 'context', 'contin', 'continent', 'continu', 'contour', 'contracept', 'contract', 'contractor', 'contractu', 'contrari', 'contrast', 'contribut', 'contriv', 'control', 'controversi', 'conveni', 'convent', 'convers', 'convert', 'convey', 'convict', 'convienc', 'convinc', 'coo', 'coochi', 'cook', 'cookbook', 'cooked', 'cooker', 'cooki', 'cookie', 'cookshop', 'cookwar', 'cool', 'cooler', 'coolest', 'coolio', 'cooper', 'coordin', 'cop', 'copasetik', 'copastik', 'copi', 'copper', 'coput', 'copycat', 'cor', 'coral', 'cord', 'cordial', 'cordless', 'core', 'corian', 'cork', 'cormega', 'corn', 'corner', 'corni', 'corolla', 'corp', 'corpor', 'corral', 'correct', 'correctli', 'correspond', 'corridor', 'corros', 'corrupt', 'corvett', 'cosmet', 'cosset', 'cost', 'costco', 'costli', 'costner', 'costum', 'cotton', 'cottonfield', 'couch', 'cougar', 'cough', 'could', 'couldn', 'couldnt', 'counsl', 'count', 'counter', 'countless', 'countri', 'country', 'countrysid', 'coup', 'coupl', 'couplet', 'coupon', 'courag', 'cours', 'court', 'courteou', 'courteous', 'courtesi', 'courtroom', 'courtyard', 'cousin', 'cousins', 'cov', 'cove', 'cover', 'coverag', 'coverlet', 'covet', 'cowbel', 'cowboy', 'cowl', 'cowork', 'cox', 'cozi', 'cpu', 'cpus', 'cr', 'cra', 'crab', 'crack', 'crackl', 'crackli', 'cradl', 'craft', 'craig', 'crakk', 'cram', 'cramp', 'crane', 'cranium', 'crank', 'cranki', 'crankshaft', 'crap', 'crappag', 'crappi', 'crapppi', 'crash', 'crashtest', 'crate', 'crave', 'crawl', 'crazi', 'crazy', 'creaki', 'cream', 'creat', 'creatin', 'creation', 'creativ', 'creator', 'creatur', 'credenza', 'credibl', 'credit', 'credul', 'creep', 'creepi', 'creme', 'creuset', 'crew', 'cri', 'crib', 'crichton', 'crime', 'crimin', 'cring', 'crisco', 'crisp', 'crisper', 'crispest', 'crispiest', 'criteria', 'critic', 'critiqu', 'critt', 'critter', 'crook', 'croon', 'crop', 'croquet', 'crosbi', 'cross', 'crossfir', 'crow', 'crowd', 'crown', 'crt', 'crude', 'cruel', 'cruelli', 'cruelti', 'cruis', 'cruiser', 'crumb', 'crummi', 'crunk', 'crust', 'crutch', 'cruz', 'crv', 'cryptic', 'cryptograph', 'cryptographi', 'cryptologist', 'crystal', 'cs', 'csi', 'cuba', 'cubbi', 'cube', 'cubic', 'cucumb', 'cue', 'cuisin', 'cuisinart', 'culinari', 'culkin', 'culmin', 'culprit', 'cult', 'cultur', 'cumbersom', 'cunninlynguist', 'cup', 'cupboard', 'cupcak', 'cuphold', 'cupid', 'curat', 'curator', 'curb', 'curios', 'curiou', 'curious', 'curl', 'curli', 'curr', 'current', 'curri', 'curs', 'cursor', 'curtail', 'curtain', 'curv', 'curvatur', 'curvi', 'cushion', 'cusom', 'cusp', 'cuss', 'custodi', 'custom', 'customari', 'customer', 'customizab', 'cut', 'cute', 'cutesi', 'cutmast', 'cutt', 'cuttin', 'cuz', 'cv', 'cyberlink', 'cycl', 'cylidn', 'cylind', 'cynic', 'cypher', 'cypress', 'd12', 'd235rh', 'da', 'dab', 'dabrat', 'dad', 'dada', 'daddi', 'daili', 'daiquiri', 'daisi', 'dakar', 'dakota', 'dale', 'damag', 'damn', 'damon', 'damp', 'dan', 'danc', 'dancehal', 'dancer', 'dances', 'dancing', 'danger', 'dangl', 'daniel', 'danish', 'danni', 'dare', 'dargi', 'daring', 'dark', 'darken', 'darker', 'darl', 'darn', 'darth', 'dash', 'dashboard', 'dat', 'data', 'databas', 'date', 'datelin', 'daughter', 'daunt', 'dave', 'david', 'davidk93', 'dawdl', 'dawn', 'day', 'daycar', 'daydreaming', 'daylight', 'daytim', 'daytona', 'daz', 'daze', 'dazzl', 'dbt', 'dct', 'dd', 'ddr', 'de', 'dead', 'deadli', 'deadlin', 'deafen', 'deafualt', 'deal', 'dealer', 'dealership', 'dealt', 'dean', 'dear', 'dearest', 'dearli', 'death', 'debacl', 'debat', 'debbi', 'debilit', 'debri', 'debut', 'dec', 'decad', 'decay', 'deceas', 'deceiv', 'decemb', 'decent', 'decept', 'decid', 'decidedli', 'decis', 'deck', 'declin', 'deco', 'decod', 'deconstruct', 'decor', 'decre', 'decreas', 'decreased', 'dedic', 'deduct', 'dee', 'deejay', 'deem', 'deep', 'deeper', 'deepli', 'def', 'defari', 'default', 'defeat', 'defect', 'defend', 'defens', 'defi', 'defiant', 'defin', 'definet', 'definit', 'deflat', 'deflector', 'defog', 'defoli', 'defrost', 'degener', 'degrad', 'degre', 'degreez', 'degress', 'dei', 'deja', 'delain', 'delay', 'delet', 'deli', 'delic', 'delici', 'delight', 'deliv', 'deliveri', 'dell', 'delta', 'delud', 'delux', 'dem', 'demand', 'demeanor', 'demigodz', 'demis', 'demo', 'democraci', 'demograph', 'demolish', 'demon', 'demonstr', 'demot', 'deni', 'denni', 'denomin', 'denot', 'denounc', 'dens', 'dent', 'denti', 'dentist', 'denty', 'denyin', 'deoder', 'deodor', 'dep', 'depart', 'departur', 'depend', 'depict', 'deplor', 'depot', 'depress', 'depriv', 'dept', 'depth', 'deriv', 'derogatori', 'derrti', 'descend', 'deschanel', 'describ', 'descript', 'desert', 'deserv', 'design', 'desir', 'desk', 'deskt', 'desktop', 'desol', 'despair', 'despar', 'desper', 'despis', 'despit', 'dessert', 'destin', 'destini', 'destroy', 'destruct', 'destructio', 'desultori', 'detail', 'detect', 'detent', 'deterg', 'deterior', 'determin', 'deterr', 'detour', 'detox', 'detract', 'detriment', 'detroit', 'devast', 'develop', 'devest', 'devic', 'devil', 'devis', 'devito', 'devolv', 'devot', 'dexter', 'dey', 'dh', 'di', 'diablo', 'diabol', 'diagnost', 'diagon', 'diagram', 'dial', 'dialog', 'dialogu', 'diamet', 'diamond', 'diari', 'dice', 'dicken', 'dictat', 'diction', 'dictionari', 'did', 'diddi', 'didn', 'didnt', 'die', 'diesel', 'diet', 'differ', 'differenti', 'difficult', 'difficulti', 'difficultli', 'diffrenc', 'diffrent', 'dig', 'digga', 'diggiti', 'digicam', 'digit', 'dignifi', 'digniti', 'digress', 'dijon', 'dilapid', 'dilat', 'dilated', 'dilemma', 'dilig', 'dilli', 'dilling', 'dim', 'dime', 'dimens', 'dimension', 'diminish', 'diminut', 'dimm', 'dimmer', 'dine', 'ding', 'dingi', 'dinner', 'dinosaur', 'dionysian', 'dip', 'diplomat', 'dire', 'direct', 'directli', 'director', 'directori', 'dirt', 'dirti', 'disabl', 'disadvantag', 'disagre', 'disapp', 'disappear', 'disappoin', 'disappoint', 'disassembl', 'disast', 'disaster', 'disbelief', 'disc', 'discern', 'discharg', 'disclos', 'discographi', 'discolor', 'discomfort', 'disconcert', 'disconnect', 'discount', 'discourag', 'discov', 'discrimin', 'discuss', 'diseas', 'disenfranchis', 'disengag', 'disentangl', 'disgust', 'disgustingli', 'dish', 'dishearten', 'dishevel', 'dishwash', 'disimilar', 'disjoint', 'disk', 'dislik', 'dismal', 'dismantl', 'dismay', 'dismiss', 'disney', 'disneyish', 'disneyland', 'disneyworld', 'disobedi', 'disorderli', 'dispens', 'dispirit', 'display', 'displeas', 'dispos', 'disregard', 'disrespect', 'disrob', 'diss', 'dissapear', 'dissapoint', 'dissatisfi', 'dissip', 'dissolv', 'dissuad', 'dist', 'distanc', 'distant', 'distil', 'distinct', 'distinctli', 'distinguish', 'distort', 'distract', 'distractedli', 'distribut', 'distributor', 'distrust', 'disturb', 'ditch', 'dither', 'ditti', 'dive', 'divers', 'divid', 'divin', 'divis', 'divorc', 'divulg', 'dixi', 'dj', 'dlo', 'dlx', 'dmx', 'do', 'doc', 'dock', 'doctor', 'document', 'documentari', 'dodg', 'dodger', 'doe', 'doesn', 'doesnt', 'dog', 'dogg', 'doggfath', 'dohc', 'doin', 'dolbi', 'dollar', 'dollhous', 'dolly', 'dolor', 'domain', 'dome', 'domin', 'don', 'donat', 'done', 'dont', 'donut', 'doo', 'doolittl', 'doom', 'doomsday', 'door', 'doorman', 'doormen', 'doors', 'doorstep', 'dope', 'dorm', 'dormand', 'dose', 'dot', 'doubl', 'double', 'doubleday', 'doubt', 'dough', 'dougi', 'dous', 'down', 'downbeat', 'downey', 'downfal', 'download', 'downright', 'downshift', 'downsid', 'downstair', 'downtown', 'downturn', 'dozen', 'dp', 'dr', 'dr_steph', 'drab', 'drag', 'dragon', 'dragonfire88', 'drain', 'drake', 'drama', 'dramas', 'dramat', 'drape', 'draw', 'drawback', 'drawer', 'drawn', 'dre', 'dread', 'dream', 'dreami', 'dreamlik', 'dreamweav', 'dreari', 'dreg', 'drench', 'dress', 'dresser', 'dressing', 'drew', 'dri', 'dribbl', 'drift', 'driftin', 'drink', 'drip', 'driv', 'drivabl', 'drive', 'drivebi', 'drivelin', 'driven', 'driver', 'drivetrain', 'driveway', 'drivin', 'drone', 'drool', 'drop', 'droplet', 'drought', 'drove', 'drown', 'drug', 'drugged', 'drum', 'drumbeat', 'drunk', 'drunkard', 'drunken', 'dtc', 'dtc28723', 'dtc29559', 'dtc39418', 'dtc39425', 'dtc47364', 'dtc65916', 'dtc66961', 'dtc69143', 'dtf229365', 'dual', 'duan', 'dub', 'dubiou', 'ducass', 'duchess', 'duck', 'duckl', 'dude', 'due', 'duet', 'duke', 'duli', 'dull', 'dumb', 'dumbest', 'dumbstruck', 'dummi', 'dump', 'dumpl', 'dumpster', 'dunno', 'dunst', 'duo', 'duplex', 'duplic', 'dupri', 'durabl', 'durat', 'duratec', 'durn', 'dust', 'dutch', 'duti', 'dutton', 'dv', 'dvd', 'dve', 'dvgate', 'dvi', 'dwarf', 'dwell', 'dwindl', 'dx', 'dylan', 'dynam', 'dynamo', 'dyno', 'décor', 'e773c', 'ea', 'eachoth', 'eager', 'eagerli', 'eagl', 'ear', 'earli', 'earlier', 'earliest', 'earn', 'earnest', 'earnhardt', 'earplug', 'earth', 'earthi', 'earthli', 'earthlink', 'earthquak', 'eas', 'easi', 'easier', 'easiest', 'easili', 'easily', 'east', 'eastern', 'easy', 'easysystem', 'eat', 'eaten', 'eateri', 'eats', 'eavesdrop', 'ebay', 'ebert', 'eboni', 'ecc', 'eccentr', 'ecco', 'echo', 'eclect', 'eclips', 'eco', 'econom', 'economi', 'ecp', 'ecstat', 'ed', 'eddi', 'edg', 'edgi', 'edific', 'edit', 'editor', 'edmund', 'edsel', 'educ', 'edward', 'eeek', 'eeri', 'eerili', 'effect', 'effervesc', 'effici', 'effort', 'effortlessli', 'eg', 'egg', 'eggnog', 'ego', 'eh', 'eight', 'eighteen', 'eighti', 'eisner', 'either', 'eject', 'elabor', 'elantra', 'elbow', 'elderli', 'elect', 'electr', 'electro', 'electron', 'electronica', 'eleg', 'elegantli', 'element', 'elementari', 'eleph', 'elev', 'elf', 'elicit', 'elimin', 'eliminat', 'elit', 'elizabeth', 'ella', 'elliot', 'elliott', 'elong', 'eloqu', 'els', 'else', 'elsewher', 'elud', 'elv', 'em', 'emac', 'email', 'embarass', 'embark', 'embarrass', 'embassi', 'embed', 'embodi', 'emboss', 'embrac', 'emce', 'emcee', 'emerg', 'emili', 'eminem', 'emiss', 'emit', 'emot', 'emotionally', 'empath', 'emperor', 'emphas', 'emphasi', 'empir', 'employ', 'employe', 'empti', 'emri', 'emti', 'en', 'enabl', 'enamel', 'encarta', 'encas', 'enclos', 'enclyclopedia', 'encod', 'encount', 'encourag', 'encyclopedia', 'end', 'endang', 'endear', 'endeavor', 'ending', 'endless', 'endors', 'endow', 'endulg', 'endur', 'enemi', 'enemies', 'enemy', 'energ', 'energet', 'energi', 'energy', 'enforc', 'engag', 'engin', 'england', 'english', 'engrav', 'engross', 'enhanc', 'enigma', 'enjoy', 'enlarg', 'enlighten', 'enlist', 'ennobl', 'enorm', 'enough', 'enrol', 'enslav', 'ensnar', 'ensur', 'entail', 'ententr', 'enter', 'enterpris', 'entertain', 'enthral', 'enthusiasm', 'enthusiast', 'entir', 'entiti', 'entitl', 'entourag', 'entranc', 'entre', 'entri', 'entryhal', 'envelop', 'envi', 'enviabl', 'enviou', 'environ', 'environment', 'envis', 'epa', 'epcot', 'epic', 'epilogu', 'epininions', 'epinion', 'epinions', 'episod', 'epp', 'equal', 'equilibrium', 'equip', 'equit', 'equival', 'er', 'era', 'eras', 'erect', 'ergonom', 'ergonomicli', 'eric', 'erkel', 'ernest', 'error', 'erupts', 'es', 'escal', 'escap', 'escort', 'espcial', 'especi', 'espionage', 'essenc', 'essenti', 'essex', 'establish', 'estat', 'esteem', 'ester', 'estim', 'estrang', 'et', 'etat', 'etc', 'etch', 'etern', 'ethan', 'ether', 'ethernet', 'etho', 'ethompson3', 'euphoni', 'euphrat', 'europ', 'european', 'euthan', 'ev', 'evalu', 'evanovich', 'evas', 'eve', 'even', 'evenli', 'event', 'eventu', 'ever', 'everglad', 'everi', 'every', 'everybodi', 'everyday', 'everyon', 'everyone', 'everyth', 'everything', 'everytim', 'everywher', 'evict', 'evid', 'evidenc', 'evil', 'evinc', 'evo', 'evolut', 'evolv', 'ewww', 'ex', 'exacerb', 'exact', 'exactli', 'exager', 'exagger', 'exalt', 'examin', 'exampl', 'excalibur', 'exce', 'exceed', 'exceedingli', 'excel', 'except', 'excerpt', 'excess', 'exchang', 'excit', 'exclaim', 'exclam', 'exclud', 'exclus', 'exclusives', 'excori', 'excus', 'execut', 'execution', 'exemplifi', 'exercis', 'exert', 'exhaust', 'exhibit', 'exhillar', 'exist', 'exit', 'exodu', 'exot', 'expand', 'expans', 'expeci', 'expect', 'expedit', 'expel', 'expend', 'expens', 'experi', 'experienc', 'experience', 'experiment', 'expert', 'expertis', 'expertli', 'expir', 'expired', 'explain', 'explan', 'explet', 'explic', 'explicit', 'explod', 'exploit', 'explor', 'exploratori', 'expo', 'export', 'expos', 'exposur', 'exposè', 'expound', 'express', 'expressway', 'exquist', 'extend', 'extended', 'extens', 'extent', 'exterior', 'extern', 'extol', 'extra', 'extract', 'extraordinari', 'extraordinarili', 'extraterrestri', 'extravag', 'extrem', 'exuber', 'exud', 'ey', 'eye', 'eyebal', 'eyehol', 'eyelid', 'eyes', 'fa', 'fab', 'fabol', 'fabric', 'fabul', 'fac', 'facad', 'face', 'facelift', 'facepl', 'facial', 'facil', 'facilit', 'fact', 'factoid', 'factor', 'factori', 'factual', 'factuom', 'faculti', 'fade', 'fail', 'failur', 'faint', 'fair', 'fairground', 'fairi', 'fairli', 'faith', 'fake', 'fakin', 'fall', 'fallen', 'falls', 'fals', 'falter', 'fam', 'fame', 'famili', 'familiar', 'family', 'famish', 'famou', 'fan', 'fanast', 'fanat', 'fanci', 'fancier', 'fang', 'fantasi', 'fantasia', 'fantast', 'fantasy', 'far', 'farberwar', 'farc', 'fare', 'farm', 'farmer', 'farrel', 'fart', 'farther', 'farthest', 'fascia', 'fascin', 'fashion', 'fast', 'fasten', 'faster', 'fastest', 'fastfood', 'fastr', 'fat', 'fatal', 'fate', 'father', 'fatigu', 'faulkner', 'fault', 'faux', 'faverau', 'favor', 'favorit', 'favour', 'favourit', 'favreau', 'fax', 'faxstf', 'fbi', 'fdd', 'fe', 'fear', 'fearsom', 'feast', 'feat', 'featur', 'feature', 'featureless', 'features', 'feautr', 'februari', 'feburari', 'fece', 'fed', 'feder', 'fedex', 'fee', 'feebli', 'feed', 'feedback', 'feel', 'feet', 'feint', 'felin', 'fell', 'fella', 'fellow', 'felt', 'femal', 'feminest', 'feminist', 'fenc', 'fender', 'ferrel', 'ferrell', 'ferri', 'ferryboat', 'fest', 'festiv', 'fetish', 'fever', 'few', 'fewer', 'fi', 'fianc', 'ficarra', 'fict', 'fiction', 'fidel', 'field', 'fiend', 'fierc', 'fieri', 'fiesta', 'fifteen', 'fifth', 'fifti', 'fifty', 'figgaz', 'fight', 'fighter', 'figur', 'figurehead', 'fiji', 'fil', 'file', 'filet', 'fill', 'filled', 'filler', 'film', 'filmi', 'filmmak', 'filter', 'filthi', 'final', 'financ', 'financi', 'find', 'finder', 'finding', 'fine', 'finest', 'finger', 'fingertip', 'finish', 'finnish', 'fire', 'fireplac', 'fireproof', 'firewal', 'firewir', 'firework', 'firm', 'firmer', 'firmli', 'first', 'fischer', 'fish', 'fishtail', 'fist', 'fit', 'fits', 'fitzgerald', 'five', 'fix', 'fixtur', 'flack', 'flag', 'flagg', 'flail', 'flair', 'flake', 'flaki', 'flame', 'flamepillar', 'flap', 'flare', 'flash', 'flashback', 'flashi', 'flat', 'flatter', 'flavor', 'flaw', 'flawless', 'flawlessli', 'flea', 'fled', 'flee', 'fleed', 'fleet', 'fleme', 'flesh', 'fleur', 'flew', 'flex', 'flexibl', 'fli', 'flick', 'flicker', 'flight', 'flimsi', 'flinti', 'flip', 'flipmod', 'float', 'flock', 'flood', 'floor', 'floormat', 'floorshow', 'flop', 'floppi', 'florida', 'floridia', 'floridian', 'flossi', 'flour', 'flouresc', 'flourish', 'flow', 'flower', 'floyd', 'fluffi', 'fluid', 'fluidli', 'fluoresc', 'fluouresc', 'flurri', 'flush', 'flute', 'flyer', 'fm', 'fmcc', 'fo', 'foam', 'fob', 'focaccia', 'focal', 'foci', 'focu', 'focus', 'fog', 'fold', 'folder', 'folk', 'follow', 'followin', 'fond', 'food', 'fool', 'fooled', 'foolish', 'foolproof', 'foot', 'footag', 'footbal', 'footi', 'footprint', 'footstep', 'footwork', 'for', 'forc', 'ford', 'fordfocusbreakproblems', 'forearm', 'forecast', 'foreign', 'foreman', 'foremost', 'foresaw', 'forest', 'forev', 'forgav', 'forget', 'forgett', 'forgiv', 'forgiven', 'forgot', 'forgotten', 'fork', 'form', 'formal', 'formaldehyd', 'format', 'former', 'formerli', 'formid', 'formula', 'formulaic', 'fornic', 'fort', 'forth', 'forti', 'fortifi', 'fortun', 'forty', 'forum', 'forward', 'foucault', 'foud', 'foul', 'found', 'foundat', 'founder', 'fountain', 'four', 'fourteen', 'fourth', 'fox', 'foxi', 'fraction', 'fragg', 'fragment', 'fram', 'frame', 'frameless', 'framework', 'fran', 'franchis', 'francisco', 'frank', 'frankenstein', 'franki', 'frankli', 'fransisco', 'frat', 'fratern', 'fraudul', 'fray', 'fre', 'freak', 'freaki', 'freakin', 'freakishli', 'freddi', 'fredon', 'fredwreck', 'free', 'freebasin', 'freebi', 'freedom', 'freeland', 'freeli', 'freestyl', 'freesyl', 'freewar', 'freeway', 'freez', 'freeze', 'freezer', 'fremont', 'french', 'freon', 'freqent', 'frequ', 'frequenc', 'frequent', 'fresh', 'freshen', 'fresher', 'freshest', 'freshli', 'freshly', 'freshwat', 'fret', 'freudian', 'fri', 'friday', 'fridg', 'friend', 'friendli', 'friendlier', 'friggin', 'frighten', 'frighteningli', 'frill', 'frilli', 'fring', 'front', 'frontier', 'frontin', 'frost', 'frozen', 'fruit', 'fruiti', 'frustrat', 'frv27', 'fryer', 'fsb', 'ft', 'ftp', 'fu', 'fuck', 'fuel', 'fugit', 'fujitsu', 'full', 'fullest', 'fulli', 'fumbl', 'fume', 'fun', 'funct', 'function', 'fund', 'funer', 'funk', 'funki', 'funnel', 'funni', 'funnier', 'funniest', 'funny', 'furnish', 'furnitur', 'furrow', 'furthermor', 'furthur', 'fusion', 'fuss', 'fussi', 'futil', 'futon', 'futur', 'futurisit', 'futurist', 'fuzz', 'fuzzi', 'fwd', 'fx', 'g3', 'g4', 'g40', 'g5', 'ga', 'gab', 'gadget', 'gage', 'gain', 'gainsward', 'gal', 'gala', 'galant', 'galaxi', 'galleri', 'gallon', 'gallop', 'galor', 'gam', 'gambl', 'gambler', 'game', 'gamer', 'gang', 'gangsta', 'gangstarr', 'gansta', 'gap', 'garag', 'garbag', 'garbl', 'garden', 'garland', 'garlic', 'gasp', 'gass', 'gat', 'gate', 'gateway', 'gather', 'gato', 'gaucho', 'gaug', 'gave', 'gawk', 'gawker', 'gay', 'gaze', 'gb', 'gear', 'gearbox', 'gee', 'geek', 'geeki', 'geforc', 'geforce2', 'geforce4', 'geisel', 'gem', 'gene', 'gener', 'genesi', 'genet', 'geniou', 'geniu', 'genius', 'genocid', 'genr', 'genre', 'gentl', 'gentleman', 'gentli', 'genuin', 'geograph', 'geographi', 'georg', 'germ', 'german', 'germani', 'germaphob', 'gert', 'gestur', 'get', 'getaway', 'getrag', 'gettin', 'gf', 'gga', 'ggot', 'gh', 'ghastli', 'ghetto', 'ghost', 'ghoul', 'ghz', 'giant', 'gibson', 'giddi', 'giddy', 'gift', 'gig', 'gigabit', 'gigabyt', 'gigahertz', 'gigant', 'gigarang', 'gigaset', 'giger', 'giggl', 'gillie', 'gimbal', 'gimbel', 'gimmick', 'gimmicki', 'gin', 'ginnif', 'giovanni', 'girdl', 'girl', 'girlfriend', 'girli', 'girls', 'gisel', 'give', 'given', 'giver', 'glad', 'gladiat', 'gladli', 'glamor', 'glanc', 'glare', 'glass', 'glasses', 'glaze', 'glazed', 'gleam', 'glenn', 'gli', 'glide', 'glitch', 'glitter', 'glitz', 'global', 'globe', 'glock', 'gloom', 'gloomi', 'glori', 'gloriou', 'glory', 'glossi', 'glove', 'glow', 'glu', 'gm', 'go', 'go5200', 'goal', 'goat', 'gobbl', 'goblet', 'god', 'goddess', 'gods', 'goe', 'going', 'gold', 'goldchain', 'golden', 'golf', 'gollaxwelcom', 'gon', 'gone', 'good', 'goodby', 'goodfor', 'goodi', 'goodwil', 'goodwin', 'goodyear', 'goofi', 'googl', 'goon', 'goosebump', 'gorgeou', 'gorgeous', 'gori', 'gosh', 'gospel', 'gossam', 'got', 'gothic', 'gothika', 'goto', 'gotten', 'gotti', 'goug', 'gourmet', 'gov', 'govern', 'gow', 'gown', 'gp', 'grab', 'grac', 'grace', 'gracious', 'grad', 'grade', 'gradual', 'graduat', 'grafh', 'grafton', 'graham', 'grain', 'grammar', 'gran', 'grand', 'granddaught', 'grandeur', 'grandfath', 'grandios', 'grandma', 'grandmoth', 'grandpa', 'grandpappi', 'grandpar', 'grandpaw', 'grandson', 'granni', 'grant', 'graphic', 'grasp', 'grass', 'grate', 'grater', 'gratif', 'gratitud', 'gratuiti', 'grav', 'grave', 'gravelli', 'gravi', 'gravit', 'gray', 'graze', 'grazer', 'greas', 'greasi', 'great', 'greater', 'greatest', 'greatli', 'gredunza', 'greed', 'greedi', 'greek', 'green', 'greenback', 'greenhous', 'greenish', 'greet', 'greeter', 'greg', 'grew', 'grey', 'greyhound', 'grid', 'griddl', 'gridiron', 'grief', 'griev', 'grievanc', 'griffin', 'grill', 'grilled', 'grime', 'grimi', 'grimiest', 'grin', 'grinch', 'grinchi', 'grind', 'grip', 'gripe', 'grisham', 'grisli', 'grisoft', 'grit', 'gritti', 'grizzli', 'groan', 'groceri', 'groom', 'groov', 'groovin', 'grope', 'gross', 'grouch', 'ground', 'group', 'groupie', 'grout', 'grove', 'grow', 'growl', 'grown', 'gruff', 'grumbl', 'grumpi', 'grunt', 'grv616', 'gs', 'gs300', 'gs430', 'gt', 'gti', 'guag', 'guarante', 'guard', 'guava', 'gucci', 'guch', 'guess', 'guest', 'guesthous', 'guffaw', 'guid', 'guild', 'guilt', 'guilti', 'guilty', 'guis', 'guitar', 'gulch', 'gum', 'gun', 'gunk', 'guru', 'gut', 'guy', 'gwenn', 'gyllenha', 'ha', 'habit', 'hack', 'hade', 'haden', 'haggl', 'haha', 'hair', 'haircut', 'hairdress', 'hairspray', 'hak', 'half', 'halfway', 'hall', 'hallmark', 'halloween', 'hallway', 'halogen', 'halt', 'halv', 'ham', 'hamburg', 'hammer', 'hammi', 'hamper', 'han', 'hana', 'hand', 'handi', 'handilng', 'handl', 'handler', 'handling', 'handrest', 'hands', 'handset', 'handsom', 'handwash', 'hang', 'hanger', 'hangin', 'hangmen', 'hank', 'hanna', 'hannah', 'hap', 'haphazard', 'happen', 'happi', 'happier', 'happili', 'harass', 'harbour', 'hard', 'hard_to_pleas', 'hardback', 'hardcor', 'hardcore', 'harddriv', 'harden', 'harder', 'hardi', 'hardiest', 'hardli', 'hardwar', 'harken', 'harley', 'harm', 'harmon', 'harmoni', 'harp', 'harper', 'harpist', 'harri', 'harrisburg', 'harrumph', 'harsh', 'harshest', 'harvard', 'harvest', 'hasp', 'hassel', 'hassl', 'hastili', 'hat', 'hatch', 'hatchback', 'hate', 'hater', 'hatin', 'hatr', 'haul', 'haunt', 'hauteur', 'hav', 'havana', 'haven', 'havent', 'havoc', 'hawaii', 'hawaiian', 'hawk', 'hay', 'hazard', 'haze', 'hazi', 'hd', 'hdd', 'he', 'heaaaavi', 'head', 'headach', 'headboard', 'headcov', 'headlamp', 'headlight', 'headlin', 'headphon', 'headrest', 'headroom', 'headset', 'health', 'healthi', 'healthier', 'heap', 'hear', 'heard', 'hears', 'heart', 'heartfelt', 'heat', 'heating', 'heatsink', 'heav', 'heaven', 'heavenli', 'heavi', 'heavier', 'heavili', 'heavily', 'heavy', 'heavyish', 'heavyweight', 'heck', 'heckuva', 'hed', 'hedg', 'heed', 'heedless', 'heeee', 'heel', 'heeps', 'heff', 'heft', 'hefti', 'heh', 'height', 'heighten', 'heirloom', 'heist', 'held', 'helen', 'hell', 'hello', 'helm', 'help', 'helper', 'helpless', 'helplessli', 'hemispher', 'henc', 'henceforth', 'henri', 'her', 'heracliu', 'here', 'hero', 'heroin', 'herr', 'herskovitz', 'hertz', 'herut', 'hesit', 'hey', 'hi', 'hibern', 'hid', 'hidden', 'hide', 'hideou', 'hideous', 'hierarchi', 'hieroglyph', 'higgin', 'high', 'higher', 'highest', 'highland', 'highli', 'highlight', 'highschool', 'highway', 'hike', 'hilari', 'hill', 'hilton', 'hind', 'hinder', 'hindsight', 'hing', 'hint', 'hip', 'hiphop', 'hippi', 'hire', 'his', 'hiss', 'histor', 'histori', 'hit', 'hitachi', 'hitch', 'hitmen', 'hmm', 'hmmm', 'hmmmm', 'ho', 'hoard', 'hobb', 'hobbi', 'hockey', 'hoe', 'hog', 'hol', 'hold', 'holder', 'holding', 'holds', 'hole', 'holes', 'holida', 'holiday', 'holla', 'hollogram', 'hollywood', 'holm', 'hom', 'home', 'homeboy', 'homeless', 'homelink', 'homepag', 'homer', 'hometown', 'homework', 'homi', 'homicid', 'honda', 'honest', 'honestli', 'honey', 'honeycomb', 'honeymoon', 'honor', 'hood', 'hoodi', 'hook', 'hooker', 'hooks', 'hoola', 'hoop', 'hooray', 'hop', 'hope', 'hopeless', 'hopelessli', 'hopp', 'hopper', 'hor', 'horizont', 'hormones', 'horn', 'horni', 'horrend', 'horribl', 'horrid', 'horrif', 'horrifi', 'horror', 'hors', 'horseback', 'horsepow', 'horton', 'hose', 'hospit', 'hospital', 'host', 'hostag', 'hostage', 'hostess', 'hostil', 'hosting', 'hot', 'hotdog', 'hotel', 'hotels', 'hotter', 'hottest', 'hour', 'hous', 'houseguest', 'household', 'housekeep', 'houses', 'housew', 'housewar', 'housewif', 'houston', 'hover', 'howard', 'howev', 'howl', 'hp', 'hr', 'hrs', 'hsn', 'ht', 'html', 'http', 'hub', 'hubbub', 'hubrist', 'huddl', 'hue', 'hug', 'huge', 'hugh', 'hugo', 'huh', 'hula', 'hum', 'human', 'humanist', 'humankind', 'humberfloob', 'humid', 'humili', 'hummer', 'humong', 'humor', 'humour', 'hump', 'humvee', 'hundr', 'hung', 'hunger', 'hungri', 'hunker', 'hunt', 'hunter', 'hurdl', 'hurray', 'hurri', 'hurrican', 'hurt', 'husband', 'hush', 'hussein', 'husti', 'hustl', 'hustla', 'hvac', 'hwi', 'hyatt', 'hybrid', 'hydrat', 'hydrid', 'hygien', 'hype', 'hyper', 'hyperthread', 'hypnot', 'hypocracy', 'hyster', 'hysteria', 'hyundai', 'hz', 'i30', 'ian', 'ibm', 'ibook', 'ical', 'ice', 'iceberg', 'iced', 'ichat', 'ick', 'icon', 'id', 'ide', 'idea', 'ideal', 'idealist', 'ident', 'identifi', 'idiosyncrasi', 'idiot', 'idisk', 'idl', 'idvd', 'idvd2', 'ie', 'ieee', 'if', 'iffi', 'ifi', 'ifor', 'ignit', 'ignor', 'ii', 'iii', 'ikea', 'ilif', 'ill', 'illeg', 'illegitim', 'illmat', 'illog', 'illumin', 'illumuin', 'illus', 'illustr', 'im', 'ima', 'imac', 'imag', 'imageri', 'images', 'imagin', 'imaginit', 'imit', 'immacul', 'immatur', 'immedi', 'immens', 'immensli', 'immers', 'immin', 'immobil', 'immun', 'imovi', 'imovie2', 'impact', 'impair', 'impala', 'impati', 'impecc', 'impenetr', 'imperfect', 'imperson', 'implaus', 'implement', 'impli', 'import', 'importantli', 'imposs', 'imposter', 'imprecis', 'impress', 'impressions', 'impreza', 'imprint', 'imprison', 'improv', 'impuls', 'imri', 'in', 'inabl', 'inaccuraci', 'inact', 'inadequ', 'inadvert', 'inan', 'inappropri', 'inappropriate', 'inattent', 'inaud', 'inbound', 'inc', 'incarcer', 'incarn', 'incendiari', 'incens', 'incent', 'inch', 'incid', 'incis', 'incit', 'inclin', 'includ', 'incom', 'incommun', 'incompat', 'incompet', 'incomplet', 'inconsist', 'inconveni', 'incorpor', 'incorrect', 'incorrectli', 'increas', 'increasingli', 'incred', 'incumb', 'inde', 'independ', 'india', 'indian', 'indic', 'indict', 'indiffer', 'indign', 'indistinct', 'individu', 'indoor', 'induc', 'induct', 'indulg', 'industri', 'industry', 'inebri', 'ineffici', 'inept', 'ineptitud', 'inertia', 'inescap', 'inevit', 'inexhaust', 'inexist', 'inexpens', 'inexperienc', 'infam', 'infantri', 'infecti', 'infer', 'inferior', 'inferno', 'infin', 'infinit', 'inflat', 'inflex', 'inflict', 'influenc', 'influenti', 'info', 'infomerci', 'inform', 'infrequ', 'infuenc', 'ingeni', 'ingenu', 'ingredi', 'inher', 'inherit', 'initi', 'inject', 'injur', 'injuri', 'ink', 'inkjet', 'inkl', 'inlet', 'inn', 'inna', 'innat', 'inner', 'innoc', 'innocu', 'innov', 'innuendo', 'innumer', 'inoffens', 'inop', 'inoper', 'inopportun', 'input', 'inquir', 'inquisit', 'inroad', 'insan', 'insecur', 'insert', 'inset', 'insid', 'insight', 'insignific', 'insist', 'insomnia', 'inspect', 'inspector', 'inspir', 'inspiron', 'instal', 'instanc', 'instant', 'instantli', 'instead', 'instinct', 'institut', 'instruct', 'instructions', 'instructor', 'instrument', 'insturct', 'insul', 'insult', 'insur', 'intact', 'intak', 'intang', 'integr', 'integra', 'integration', 'intel', 'intellect', 'intellectu', 'intellig', 'intenc', 'intend', 'intens', 'intent', 'interact', 'intercom', 'intercours', 'interest', 'interf', 'interfac', 'interfer', 'intergalact', 'interior', 'interlud', 'intermitt', 'intern', 'international', 'internet', 'interrog', 'interrupt', 'interspers', 'interst', 'interuppt', 'interupt', 'interv', 'interven', 'intervideo', 'interview', 'interwoven', 'intim', 'intimid', 'intoler', 'intox', 'intricaci', 'intrigu', 'intrins', 'intro', 'introduc', 'introduct', 'introspect', 'intrud', 'intrus', 'intuit', 'invad', 'invalid', 'invari', 'invect', 'invent', 'inventor', 'invert', 'invest', 'investig', 'investor', 'invis', 'invit', 'involv', 'iphoto', 'ir', 'iren', 'iron', 'ironi', 'irrat', 'irregular', 'irrelev', 'irrespect', 'irrit', 'irs', 'is', 'is300', 'ish', 'isi', 'isight', 'island', 'isley', 'isms', 'isn', 'isnt', 'isol', 'issu', 'issue', 'issues', 'isync', 'it', 'italian', 'itch', 'item', 'iter', 'itool', 'itun', 'itunes2', 'itunes4', 'ive', 'j740', 'ja', 'jab', 'jack', 'jacket', 'jackman', 'jackpot', 'jacksommersbi', 'jackson', 'jacksonvil', 'jacqu', 'jadakiss', 'jade', 'jae', 'jag', 'jaguar', 'jail', 'jam', 'jamaican', 'jame', 'jamilla', 'jan', 'jane', 'janet', 'janitor', 'janni', 'januari', 'japan', 'japanes', 'japanese', 'jar', 'jarul', 'jason', 'jaunt', 'jaw', 'jawn', 'jay', 'jazz', 'jazzi', 'jb', 'jd', 'jealou', 'jealousi', 'jedi', 'jeep', 'jeff', 'jelli', 'jello', 'jellybean', 'jennif', 'jerk', 'jermain', 'jerri', 'jersey', 'jerssi', 'jerusalem', 'jess', 'jesu', 'jeter', 'jetta', 'jewel', 'jewelri', 'jg', 'jheri', 'jigga', 'jiggl', 'jiggyjay', 'jill', 'jim', 'jimmi', 'jitter', 'jitteri', 'jivey', 'jj', 'joan', 'job', 'jobe', 'joe', 'joel', 'jog', 'john', 'johnson', 'join', 'joint', 'joke', 'jolli', 'jolt', 'jon', 'jone', 'jordan', 'josie_garza', 'jostl', 'journal', 'journalist', 'journey', 'jovi', 'joy', 'joyc', 'joyou', 'joystick', 'jpeg', 'jr', 'juan', 'jubil', 'judg', 'judgement', 'judgment', 'judi', 'juggernaut', 'juic', 'juiceladi', 'juiceman', 'jukebox', 'juli', 'julia', 'juliet', 'julio', 'jumbo', 'jump', 'jumper', 'jumperless', 'jumpin', 'jun', 'june', 'jungl', 'junior', 'junk', 'jurass', 'just', 'justic', 'justifi', 'justin', 'justo', 'juvenil', 'juvi', 'jux', 'juxtaposit', 'jvas2', 'jvc', 'kakahiaka', 'kam', 'kane', 'kapalua', 'karaok', 'kardon', 'kart', 'katherin', 'kathi', 'kathleen', 'kati', 'katsumoto', 'kauai', 'kay', 'kayslay', 'kb', 'kbp', 'ke', 'keanu', 'keen', 'keep', 'keeper', 'keev', 'keith', 'kel', 'keli', 'kelli', 'kelly', 'ken', 'keno', 'kensington', 'kentucki', 'kept', 'ker', 'kernel', 'kettl', 'kevin', 'key', 'keybaord', 'keyboard', 'keyhol', 'keyless', 'keylim', 'keypad', 'keyspan', 'keyston', 'keystrok', 'keyword', 'kg', 'kgb', 'khtml', 'kia', 'kick', 'kickdown', 'kicko', 'kid', 'kiddi', 'kids', 'kiesha', 'kill', 'killa', 'killah', 'killaz', 'killed', 'killer', 'kim', 'kind', 'kinda', 'kindergarten', 'kindli', 'king', 'kingdom', 'kings', 'kingston', 'kinsey', 'kiosk', 'kirkland', 'kirsten', 'kisha', 'kiss', 'kit', 'kitchen', 'kitchenaid', 'kite', 'kitschi', 'kiz', 'kleenex', 'km', 'kmart', 'knaamean', 'knapeley', 'knee', 'knew', 'knife', 'knight', 'knive', 'knob', 'knobbi', 'knock', 'knod', 'know', 'knowledg', 'known', 'knows', 'kodak', 'kona', 'koncret', 'koontz', 'korean', 'kri', 'kringl', 'kristinafh', 'kross', 'krs', 'kvm', 'kwan', 'kwanzaa', 'kx', 'kyle', 'l3', 'l70', 'la', 'lab', 'label', 'labor', 'laboratori', 'labori', 'lac', 'lace', 'lack', 'lackadais', 'lacklust', 'lacquer', 'laden', 'ladi', 'lady', 'ladylik', 'lag', 'lagoon', 'laid', 'laidback', 'lake', 'lakefront', 'lame', 'lament', 'lamin', 'laminar', 'lamp', 'lampshad', 'lan', 'lancer', 'land', 'landscap', 'lane', 'langdon', 'langtri', 'languag', 'languish', 'lansing', 'lansing5', 'lap', 'laptop', 'lard', 'larg', 'larger', 'largest', 'laser', 'lash', 'lassit', 'last', 'lastli', 'latch', 'late', 'later', 'latest', 'latin', 'latino', 'latter', 'latyrx', 'lauderdal', 'laugh', 'laughabl', 'laughter', 'launch', 'laundri', 'laurel', 'lauren', 'lava', 'lavish', 'law', 'lawrenc', 'lawsuit', 'lawyer', 'lay', 'layer', 'layout', 'laywer', 'lazi', 'lb', 'lbs', 'lcd', 'ldc', 'le', 'leachman', 'lead', 'leaden', 'leader', 'leagu', 'leak', 'lean', 'leap', 'leapt', 'learn', 'leas', 'leash', 'least', 'leather', 'leav', 'lectur', 'led', 'lee', 'left', 'leftov', 'leg', 'legaci', 'legal', 'legend', 'legendari', 'legibl', 'legit', 'legitim', 'legroom', 'leisur', 'lem', 'lemon', 'lemonad', 'len', 'lena', 'lend', 'length', 'lengthi', 'lenkum', 'lens', 'leppard', 'leroy', 'less', 'lesser', 'lesson', 'lest', 'let', 'lethal', 'lett', 'letter', 'lettuc', 'leukaemia', 'leukemia', 'lev', 'level', 'lever', 'levi', 'lexu', 'lexus', 'lfe', 'li', 'liaison', 'liar', 'libat', 'liber', 'liberti', 'libra', 'librari', 'licens', 'lid', 'lids', 'lie', 'lif', 'life', 'lifeguard', 'lifeless', 'lifelik', 'lifestyl', 'lifetim', 'lift', 'ligher', 'light', 'lighten', 'lighter', 'lightli', 'lightn', 'lightning', 'lik', 'like', 'likeabl', 'likelihood', 'likewis', 'likwit', 'lil', 'lili', 'lilli', 'lilliputian', 'lilting', 'limbo', 'limelight', 'limit', 'limo', 'limonad', 'limp', 'lin', 'lincoln', 'linda', 'line', 'linear', 'linen', 'liner', 'lineup', 'linger', 'link', 'linkag', 'linkin', 'lint', 'linux', 'lion', 'lip', 'liquid', 'liquor', 'lisa', 'list', 'listen', 'lit', 'lite', 'liter', 'literari', 'literatur', 'litig', 'litter', 'littl', 'liva', 'live', 'liveabl', 'liven', 'liver', 'liveri', 'livetyp', 'll', 'lloyd', 'lo', 'load', 'loan', 'loathsom', 'lob', 'lobbi', 'lobe', 'local', 'locat', 'lock', 'lockdown', 'locked', 'lodg', 'lofti', 'log', 'logic', 'login', 'logitech', 'logo', 'lok', 'lol', 'london', 'lone', 'long', 'longer', 'longest', 'longev', 'longhous', 'look', 'looker', 'lookin', 'looko', 'lookout', 'looni', 'loop', 'loopi', 'loos', 'loosen', 'loosest', 'loosi', 'loot', 'lopez', 'lopsid', 'lord', 'lose', 'loser', 'loss', 'lost', 'lot', 'lotion', 'lotr', 'lotteri', 'loud', 'louder', 'loudest', 'loudli', 'loui', 'loung', 'lousi', 'louvr', 'lov', 'lovabl', 'love', 'loveabl', 'lovebird', 'lover', 'lovingli', 'low', 'lowbump', 'lower', 'lowest', 'lowli', 'lowlight', 'lox', 'loyal', 'loyalist', 'loyalti', 'lp', 'ls', 'lsd', 'ltd', 'luau', 'luciou', 'luck', 'lucki', 'luckili', 'luda', 'ludacri', 'luddit', 'ludicr', 'ludicrously', 'luftwaff', 'lug', 'luggag', 'luke', 'lullaby', 'lumbar', 'lumide', 'lump', 'lunar', 'lunat', 'lunch', 'luncheon', 'lung', 'lurch', 'lure', 'lusciou', 'lush', 'lust', 'luster', 'luxuri', 'lx', 'lynch', 'lyric', 'lyricist', 'lyricswis', 'm3', 'ma', 'mac', 'macarena', 'macaroni', 'macconnect', 'macdermott', 'mach', 'machin', 'machineri', 'macintosh', 'mack', 'maco', 'macpherson', 'mad', 'madd', 'madden', 'made', 'madlib', 'madman', 'madmen', 'madonna', 'madtheori', 'mag', 'magazin', 'maggi', 'magic', 'magician', 'magizin', 'magnet', 'magnifi', 'magnific', 'magnitud', 'maguir', 'mah', 'maid', 'maiden', 'mail', 'mailbox', 'mailer', 'main', 'mainli', 'mainstay', 'mainstream', 'maintain', 'mainten', 'major', 'mak', 'make', 'makeov', 'maker', 'makeup', 'makin', 'maladjust', 'male', 'malfunct', 'malibu', 'malici', 'mall', 'mama', 'mamma', 'man', 'manag', 'mandarin', 'maneuv', 'mangl', 'manhola', 'mani', 'manifest', 'manifold', 'manipul', 'manli', 'manner', 'manni', 'manoso', 'mansion', 'mantelpiec', 'manual', 'manufactur', 'map', 'mapl', 'mar', 'marbl', 'march', 'marcia', 'marco', 'marcu', 'margarita', 'margin', 'mari', 'maria', 'marina', 'marino', 'mario', 'mark', 'market', 'marketplac', 'maroon', 'marquez', 'marraca', 'marrag', 'marri', 'marriag', 'marshal', 'mart', 'martha', 'martin', 'martinez', 'marvel', 'mash', 'masher', 'mass', 'massacr', 'massiv', 'mast', 'master', 'masteri', 'mastermind', 'masterpiec', 'mastodon', 'mat', 'match', 'matchbox', 'mate', 'materi', 'material', 'materialist', 'matern', 'matey', 'math', 'mathers', 'matic', 'matlock', 'matrix', 'matronli', 'matte', 'matter', 'mattress', 'matur', 'maui', 'mauric', 'max', 'maxim', 'maxima', 'maximum', 'may', 'mayb', 'mayer', 'mayn', 'mazda', 'mazur', 'mb', 'mbna', 'mbp', 'mc', 'mcafee', 'mccarthy', 'mccauley', 'mcdonald', 'mcgirt', 'mcknight', 'me', 'meal', 'mealtim', 'mean', 'meander', 'meaning', 'meaningless', 'meant', 'meantim', 'meanwhil', 'measur', 'meat', 'meatbal', 'meati', 'meatloaf', 'mechan', 'medallion', 'meddl', 'media', 'medic', 'medicin', 'medicor', 'mediocr', 'mediterranean', 'medium', 'medley', 'meet', 'meg', 'mega', 'megabyt', 'megadef', 'megahertz', 'megastar', 'mel', 'melanchol', 'melancholi', 'melanin', 'mele', 'melitta', 'mellow', 'melod', 'melodi', 'melodrama', 'melodramat', 'melt', 'melted', 'member', 'memo', 'memoir', 'memor', 'memori', 'memory', 'men', 'menac', 'ment', 'mental', 'mention', 'menu', 'mercantil', 'merced', 'merchandis', 'merci', 'mercuri', 'mere', 'merg', 'meridien', 'merit', 'mermaid', 'merman', 'merri', 'mesh', 'mesmer', 'mesmor', 'mess', 'messag', 'messeng', 'messin', 'messsag', 'met', 'metafor', 'metal', 'metalish', 'metallica', 'metamucil', 'metaphor', 'meter', 'method', 'meticul', 'metropoli', 'mex', 'mexican', 'mexico', 'meyer', 'mg', 'mgm', 'mh', 'mhz', 'mi', 'miami', 'mic', 'michael', 'michel', 'mickey', 'micro', 'microboard', 'micron', 'microphon', 'microsoft', 'microwav', 'mid', 'mida', 'middl', 'middle', 'middling', 'midget', 'midnight', 'midst', 'midway', 'midweek', 'mifun', 'mifune', 'might', 'mighti', 'migrant', 'mike', 'mikkey', 'mild', 'mildli', 'mile', 'mileag', 'mileston', 'milhon', 'militari', 'milk', 'mill', 'milleni', 'millenia', 'millenium', 'millennia', 'millennium', 'miller', 'million', 'millionair', 'mimic', 'min', 'minc', 'mind', 'mine', 'mini', 'miniatur', 'minidv', 'minijack', 'minim', 'minimalist', 'minimum', 'minist', 'minitow', 'minivan', 'minni', 'minor', 'minu', 'minut', 'minutes', 'miracl', 'miracul', 'mirag', 'miramax', 'miranda', 'mirran', 'mirren', 'mirror', 'misadventur', 'misalign', 'misbehavior', 'miscast', 'miscellan', 'miser', 'miseri', 'misery', 'misfit', 'misfortun', 'misguid', 'mish', 'mishap', 'mislead', 'mismatch', 'misnom', 'misogynist', 'mispel', 'miss', 'missi', 'mission', 'mississippi', 'mississippian', 'misspel', 'mist', 'mistak', 'mistaken', 'mistakenli', 'misunderstood', 'mitsubishi', 'mitsumi', 'mitt', 'mix', 'mixer', 'mixtap', 'mixtur', 'mjg', 'mk', 'mm', 'mmmmm', 'mo', 'mobb', 'mobil', 'mobster', 'mockeri', 'mockingbird', 'mode', 'model', 'modelhomepage', 'modem', 'moder', 'moderately', 'modern', 'modernist', 'modest', 'modestli', 'modif', 'modifi', 'modul', 'modular', 'mohican', 'moist', 'moistur', 'molass', 'mold', 'moldi', 'mom', 'moment', 'momentari', 'momentum', 'momma', 'mommi', 'mon', 'mona', 'monch', 'monday', 'monetari', 'money', 'monik', 'monitor', 'monk', 'mono', 'monolith', 'monologu', 'monorail', 'monoton', 'monoxid', 'monster', 'monstros', 'monstrou', 'montana', 'montel', 'montell', 'month', 'monthli', 'monthly', 'monti', 'monty', 'monument', 'mood', 'moodi', 'moon', 'mooner', 'moot', 'moral', 'morbid', 'mordecai', 'more', 'morelli', 'moreov', 'moreso', 'morn', 'moron', 'morri', 'mortal', 'mortifi', 'morton', 'mosquito', 'moss', 'most', 'mostli', 'motel', 'mothaship', 'mother', 'motherboard', 'motif', 'motion', 'motor', 'motorcycl', 'motorola', 'mottl', 'motto', 'mould', 'mount', 'mountain', 'mourn', 'mous', 'mousepad', 'mousesavers', 'mouth', 'mouthwash', 'move', 'movement', 'movi', 'movie', 'moviemak', 'mp3', 'mpg', 'mph', 'mpn', 'mpp', 'mr', 'mrs', 'ms', 'msi', 'msn', 'mt', 'mtv', 'much', 'mud', 'muddi', 'mug', 'muic', 'multi', 'multifacet', 'multimedia', 'multipl', 'multipli', 'multiscan', 'multisyl', 'multitud', 'mumbo', 'munch', 'munchi', 'mundan', 'munson', 'mural', 'murder', 'muro', 'murphi', 'murray', 'muscl', 'muscle', 'muscular', 'muse', 'museum', 'mushi', 'mushier', 'mushroom', 'music', 'musicmatch', 'mussel', 'must', 'musta', 'mustang', 'mute', 'muteabl', 'muthaf', 'mutter', 'muuvon', 'muzzl', 'mx', 'mx400', 'mx700', 'mydvd', 'myer', 'myriad', 'mysogonyst', 'mysteri', 'mystery', 'mystic', 'mystifi', 'mystik', 'myth', 'mythic', 'n50', 'na', 'nab', 'nacho', 'nada', 'nail', 'naiv', 'nak', 'nake', 'naked', 'nam', 'name', 'nameless', 'nana', 'nap', 'napkin', 'nari', 'narr', 'narrartor', 'narrat', 'narrow', 'nas', 'nasal', 'nascar', 'nasti', 'nastradamu', 'nathan', 'nation', 'nativ', 'natur', 'naugahyd', 'naughti', 'nauseou', 'nave', 'navig', 'navigation', 'nay', 'near', 'nearbi', 'nearest', 'nearli', 'neat', 'neccessari', 'necess', 'necessari', 'necessarili', 'necessit', 'neck', 'need', 'needless', 'neg', 'negat', 'neglect', 'neglig', 'neighbor', 'neighborhood', 'neiman', 'neither', 'nekkid', 'nell', 'nelli', 'nellyvil', 'nemesi', 'nemo', 'neon', 'nephew', 'neptun', 'neptunes', 'nerd', 'nerdi', 'nero', 'nerv', 'nervou', 'net', 'netscap', 'nettl', 'network', 'neurot', 'neutral', 'neva', 'nevada', 'never', 'neverland', 'nevermind', 'nevertheless', 'neveu', 'new', 'newburi', 'newcom', 'newer', 'newest', 'newfound', 'newhart', 'newli', 'newman', 'news', 'newspap', 'newstand', 'newton', 'next', 'ni', 'nia', 'nic', 'nicad', 'nicd', 'nice', 'nicely', 'nicer', 'nicest', 'nich', 'nick', 'nickel', 'nicol', 'nicu', 'niec', 'nifti', 'nigga', 'night', 'nightgown', 'nightli', 'nightlif', 'nightmar', 'nightstand', 'nighttim', 'nihil', 'nihilist', 'nike', 'nikki', 'nile', 'nilli', 'nimh', 'nine', 'ninja', 'nino', 'nintendo', 'nippl', 'nissan', 'nissanusa', 'nit', 'niue', 'nmb', 'nmh', 'nn', 'nnps', 'nnptune', 'no', 'nob', 'nobil', 'nobl', 'nobodi', 'nobody', 'nod', 'nodd', 'nois', 'noisi', 'nokia', 'nom', 'nomin', 'nomine', 'non', 'nonchal', 'noncondens', 'none', 'nonetheless', 'nonexist', 'nonsens', 'nonstick', 'nonstop', 'nontheless', 'noodl', 'nope', 'nore', 'noreaga', 'norm', 'normal', 'norman', 'nortel', 'north', 'norther', 'northern', 'northwest', 'norton', 'nos', 'nose', 'nosi', 'nostalg', 'nostalgia', 'nostromo', 'not', 'notabl', 'notch', 'notchi', 'notchy', 'note', 'noteabl', 'notebook', 'noteworthi', 'noth', 'nothin', 'notic', 'notifi', 'notion', 'notori', 'novel', 'novelti', 'novemb', 'november', 'novic', 'now', 'nowaday', 'nowadays', 'nowher', 'nowl', 'noxon', 'noyd', 'nsx', 'ntf', 'nude', 'nuditi', 'nuff', 'nugget', 'nui', 'nuisanc', 'numb', 'number', 'numbingli', 'numer', 'nun', 'nuremberg', 'nurs', 'nurseri', 'nut', 'nuthous', 'nutshel', 'nvh', 'nvidia', 'ny', 'nyc', 'nylon', 'oak', 'oakland', 'oasi', 'oath', 'obi', 'obituari', 'object', 'objects', 'oblig', 'obligatori', 'obliter', 'obnoxi', 'obscen', 'obscur', 'observ', 'obsess', 'obsessive', 'obstruct', 'obtain', 'obtrus', 'obviou', 'obvious', 'occas', 'occasion', 'occup', 'occupi', 'occur', 'occurr', 'ocean', 'octan', 'octob', 'odb', 'odd', 'oddli', 'ode', 'odo', 'odomet', 'odor', 'odyssey', 'oe', 'oem', 'oeuvr', 'of', 'off', 'offend', 'offens', 'offer', 'offhand', 'offic', 'offici', 'offish', 'offlin', 'often', 'oftentim', 'oh', 'ohana', 'ohv', 'oil', 'oj', 'ok', 'okay', 'old', 'older', 'oldest', 'oldschool', 'oldsmobil', 'olfactori', 'oliv', 'olympu', 'omelet', 'omelett', 'omin', 'omiss', 'omnibook', 'omnivor', 'on', 'once', 'one', 'ongo', 'onion', 'onli', 'onlin', 'onsit', 'ontario', 'onto', 'ooh', 'oolldd', 'oooh', 'ooooh', 'oop', 'open', 'oper', 'opinion', 'oppon', 'opportun', 'oppos', 'opposit', 'opt', 'optic', 'optim', 'optimist', 'optimum', 'option', 'options', 'opu', 'or', 'orang', 'orange', 'orb', 'orchestr', 'ord', 'ordeal', 'order', 'orderli', 'ordinari', 'ordinarili', 'oregon', 'organ', 'orgasm', 'orgi', 'ori', 'orient', 'origin', 'origion', 'orlando', 'orlean', 'ornament', 'ornat', 'orphan', 'orphanag', 'os', 'osama', 'oscar', 'oshun', 'osx', 'ot', 'other', 'otherwis', 'otherworldli', 'otto', 'ouch', 'ought', 'ounc', 'our', 'out', 'outbound', 'outdat', 'outdo', 'outdoor', 'outdoors', 'outfit', 'outfitt', 'outgo', 'outing', 'outlandish', 'outlet', 'outlin', 'outliv', 'outlook', 'outperform', 'output', 'outrag', 'outshin', 'outsid', 'outspoken', 'outstand', 'outta', 'outweigh', 'outweight', 'ov', 'ova', 'oval', 'oven', 'over', 'overal', 'overbal', 'overboard', 'overboost', 'overcharg', 'overclock', 'overcom', 'overcook', 'overcrowd', 'overdon', 'overdos', 'overdr', 'overdu', 'overeag', 'overfil', 'overh', 'overhead', 'overheat', 'overi', 'overinfl', 'overli', 'overlook', 'overnight', 'overplay', 'overpr', 'overpriced', 'overproduc', 'overr', 'overreach', 'overrid', 'overs', 'overse', 'overshadow', 'oversight', 'overst', 'overstay', 'overtak', 'overview', 'overweight', 'overwhelm', 'overwrit', 'overwrought', 'owe', 'own', 'owner', 'ownership', 'ox10', 'oxford', 'oxid', 'oxo', 'oz', 'ozark', 'p215', 'p25', 'p4', 'p511', 'pa', 'pablo', 'pac', 'pacbel', 'pace', 'pacif', 'pack', 'packag', 'package', 'packet', 'pad', 'paddl', 'padlock', 'paella', 'page', 'pageant', 'pahrump', 'pai', 'paid', 'pain', 'painstak', 'paint', 'pair', 'palac', 'palat', 'pale', 'palladini', 'palm', 'palpabl', 'pamper', 'pan', 'panason', 'pancak', 'pander', 'panel', 'panic', 'panoram', 'pant', 'panther', 'pantyhos', 'pap', 'papa', 'paper', 'paperback', 'paperweight', 'pappi', 'par', 'paradis', 'paradox', 'paragraph', 'parallel', 'paramet', 'paranoid', 'paranorm', 'paraphras', 'parasit', 'parchment', 'pardon', 'parent', 'paretski', 'pari', 'park', 'parker', 'parmesan', 'parodi', 'parol', 'pars', 'part', 'parti', 'partial', 'particip', 'particl', 'particular', 'particularli', 'partit', 'partli', 'partner', 'partnership', 'party', 'pass', 'passag', 'passang', 'passat', 'passcod', 'passeng', 'passenger', 'passion', 'passiv', 'passive', 'passport', 'password', 'past', 'pasta', 'pastri', 'pastur', 'pat', 'patch', 'patent', 'patern', 'path', 'pathet', 'pathfind', 'patienc', 'patient', 'patio', 'patriarch', 'patriot', 'pattern', 'patterson', 'paul', 'paula', 'paulyoungotti', 'paus', 'pavement', 'pawn', 'pay', 'payback', 'paycheck', 'payment', 'payoff', 'pbx', 'pc', 'pc2100', 'pcalc', 'pcg', 'pci', 'pcmci', 'pcmcia', 'pda', 'pea', 'peac', 'peach', 'peak', 'peanut', 'pear', 'peasant', 'pebbl', 'pecan', 'peculiar', 'ped', 'pedal', 'peddler', 'pedestrian', 'pedicur', 'pee', 'peedi', 'peek', 'peel', 'peeler', 'peep', 'peer', 'peev', 'peg', 'peic', 'pelican', 'pellannor', 'pen', 'pendulum', 'penelop', 'penitentiari', 'penni', 'pennsylvania', 'penthous', 'pentium', 'pentola', 'peopl', 'people', 'pepper', 'peppi', 'per', 'perceiv', 'percentag', 'percept', 'percol', 'percuss', 'percussion', 'perenni', 'perfect', 'perfectli', 'perfidi', 'perfor', 'perform', 'performa', 'performance', 'perhap', 'peril', 'period', 'peripher', 'periphi', 'perk', 'perkin', 'perman', 'permeat', 'permit', 'perplexed', 'perri', 'persecut', 'persist', 'person', 'persona', 'personali', 'personnel', 'perspect', 'perspective', 'persuad', 'persuas', 'pervert', 'pet', 'pete', 'peter', 'petey', 'petit', 'pfeiffer', 'pg', 'pha', 'pharoah', 'pharrel', 'phase', 'phat', 'phenomen', 'phenomenon', 'phil', 'philly', 'philosoph', 'philosophi', 'phlegm', 'phoenix', 'phon', 'phone', 'phonebook', 'photo', 'photoshop', 'php', 'phrase', 'physic', 'physicist', 'physist', 'pianist', 'piano', 'pic', 'pick', 'picki', 'pickin', 'pickl', 'pickup', 'pictur', 'picturegear', 'pictures', 'pie', 'piec', 'pierr', 'pifco', 'pigeon', 'piii', 'pile', 'pillar', 'pillow', 'pimp', 'pin', 'pina', 'pinbal', 'pinch', 'pine', 'pineappl', 'pinhead', 'pink', 'pinpoint', 'pint', 'pioneer', 'pipe', 'piqu', 'pirat', 'pirelli', 'pit', 'pitch', 'pitfal', 'piti', 'pivot', 'pixar', 'pixel', 'pizza', 'pl', 'placat', 'place', 'placement', 'plagiar', 'plagu', 'plain', 'plan', 'plane', 'planet', 'plank', 'planner', 'plant', 'plaster', 'plastic', 'plastici', 'plasticki', 'plate', 'platform', 'platinum', 'platter', 'plausibl', 'play', 'playa', 'playback', 'playboy', 'player', 'playlist', 'plays', 'playstat', 'playstation', 'playtim', 'plea', 'plead', 'pleas', 'pleasant', 'pleasantli', 'pleasingli', 'pleasur', 'pleasure', 'pleather', 'plenti', 'plethora', 'pli', 'plight', 'plot', 'plu', 'pluck', 'plucki', 'plug', 'plum', 'pluse', 'pluss', 'pm', 'pocket', 'poem', 'poet', 'poetic', 'poetri', 'poignant', 'point', 'pointi', 'pointless', 'pois', 'poison', 'poke', 'poker', 'polar', 'pole', 'poli', 'polic', 'policeman', 'polici', 'polish', 'polit', 'politician', 'pollin', 'polo', 'polygraph', 'polynesian', 'pond', 'ponder', 'ponderosa', 'poni', 'pontiac', 'pool', 'poolsid', 'poor', 'poorli', 'pop', 'popcorn', 'popcornpopper', 'popper', 'poppi', 'poppin', 'popul', 'popular', 'porch', 'pore', 'pork', 'porn', 'porridg', 'pors', 'porsch', 'porse', 'port', 'portabl', 'portable', 'portion', 'portland', 'portli', 'portrait', 'portray', 'ports', 'pose', 'posess', 'posh', 'posit', 'poss', 'posses', 'possess', 'possibl', 'possibly', 'post', 'posta', 'postal', 'poster', 'postmast', 'postur', 'pot', 'potato', 'potent', 'potenti', 'pothol', 'pothold', 'potter', 'potteri', 'potti', 'potting', 'pound', 'pour', 'poverti', 'pow', 'power', 'powerbook', 'powerful', 'powerhous', 'powermac', 'powerpc', 'powerpl', 'powerpoint', 'powertrain', 'pr', 'practic', 'practicli', 'practition', 'prad', 'prairi', 'prais', 'praiseworthi', 'pranc', 'prank', 'praticlli', 'pray', 'pre', 'preach', 'preachi', 'preceed', 'preciou', 'precious', 'precis', 'preconceiv', 'predecessor', 'predica', 'predict', 'predominantli', 'prefac', 'prefer', 'pregnant', 'preinstal', 'prejud', 'prejudg', 'prejudic', 'prelatur', 'preload', 'premier', 'premis', 'premise', 'premium', 'premonit', 'prep', 'prepackag', 'prepar', 'preponder', 'prescript', 'presenc', 'present', 'preserv', 'preservative', 'presid', 'press', 'pressur', 'prestigi', 'presto', 'preston', 'presum', 'presuppos', 'pretend', 'pretenti', 'pretti', 'prettier', 'pretty', 'prevail', 'preval', 'prevent', 'preview', 'previou', 'previous', 'prfstar', 'price', 'pricelin', 'pricey', 'pricier', 'pride', 'priest', 'prig', 'prim', 'primari', 'primarili', 'prime', 'princ', 'princess', 'princip', 'principl', 'print', 'printer', 'prior', 'priori', 'prison', 'pristin', 'privaci', 'privat', 'privileg', 'prize', 'pro', 'probabl', 'problem', 'problemat', 'problemo', 'problems', 'proce', 'procedur', 'proceed', 'process', 'processor', 'proclaim', 'procounc', 'prodigi', 'produc', 'producers', 'product', 'production', 'prof', 'profan', 'profesion', 'profess', 'profession', 'professor', 'profici', 'profil', 'profit', 'profound', 'program', 'programm', 'progress', 'prohibit', 'project', 'projector', 'prolif', 'prolifer', 'prolix', 'prologu', 'prolong', 'prom', 'promenad', 'promin', 'promis', 'promisingli', 'promot', 'prompt', 'promptli', 'pron', 'prong', 'pronounc', 'proof', 'prop', 'propel', 'propens', 'proper', 'properli', 'properti', 'proport', 'propos', 'proprietari', 'proprietor', 'propt', 'prose', 'prospeak', 'prospect', 'prostitut', 'prostrat', 'protagonist', 'protect', 'protector', 'proteg', 'protocol', 'protrud', 'proud', 'proudest', 'prove', 'proven', 'provid', 'provinci', 'proxim', 'prude', 'pruitt', 'ps', 'ps2', 'pseudo', 'pseudonym', 'psi', 'psychiatr', 'psychic', 'psycholog', 'psychologist', 'pt', 'pu', 'pub', 'public', 'publicist', 'publish', 'puck', 'pud', 'puddi', 'puddl', 'puff', 'puffi', 'puk', 'pull', 'pulldown', 'pullin', 'puls', 'pulse', 'pump', 'pumper', 'pun', 'punch', 'punchlin', 'punish', 'punk', 'puppet', 'puppi', 'purchas', 'pure', 'purest', 'puriti', 'purpl', 'purport', 'purpos', 'purs', 'pursu', 'push', 'pusha', 'pushin', 'pushov', 'pushrod', 'put', 'puzzl', 'pyramid', 'q2', 'qt', 'quadra', 'quaint', 'quak', 'qual', 'qualifi', 'qualit', 'qualiti', 'quality', 'qualxserv', 'quannum', 'quantiti', 'quart', 'quarter', 'quartet', 'queasi', 'queation', 'queen', 'queens', 'queer', 'quench', 'quesiton', 'quest', 'question', 'questionnair', 'questions', 'queue', 'quibbl', 'quick', 'quicken', 'quicker', 'quickli', 'quicksand', 'quicksilv', 'quicktim', 'quiet', 'quieter', 'quietest', 'quietkey', 'quietli', 'quinn', 'quinta', 'quintessenti', 'quirk', 'quit', 'quite', 'quot', 'quotient', 'r2jd', 'ra', 'race', 'racer', 'racetrack', 'raci', 'racial', 'racist', 'rack', 'radeon', 'radial', 'radic', 'radio', 'radiu', 'raekwon', 'raff', 'raft', 'rafter', 'rag', 'rah', 'rahrah', 'raid', 'raider', 'rail', 'railroad', 'railway', 'rain', 'rainbow', 'raini', 'rainmak', 'rainstorm', 'rais', 'rakaa', 'rake', 'rakim', 'rakish', 'ralli', 'ram', 'ramadan', 'rambl', 'rambler', 'ramp', 'rampag', 'rampant', 'ran', 'rancher', 'rancid', 'random', 'randomli', 'rang', 'range', 'ranger', 'rank', 'rant', 'rap', 'rapa', 'rape', 'rapidli', 'rapp', 'rapper', 'rappin', 'raptli', 'rar', 'rare', 'rarotonga', 'rasco', 'rat', 'rate', 'rater', 'rates', 'rather', 'rating', 'ratio', 'ration', 'rattl', 'rav', 'rav4', 'rave', 'ravioli', 'raw', 'ray', 'raymond', 'razzberri', 'rc', 'rd10', 'rdram', 're', 'reach', 'react', 'reaction', 'reactiv', 'read', 'readabl', 'reader', 'readi', 'readili', 'readout', 'real', 'realest', 'realis', 'realist', 'realiti', 'realiz', 'realli', 'realon', 'realplay', 'realtor', 'ream', 'reanim', 'reap', 'rear', 'rearseat', 'rearview', 'reason', 'rebat', 'rebel', 'rebellion', 'reboot', 'rebuild', 'recal', 'recap', 'receipt', 'receiv', 'recent', 'recept', 'receptionist', 'recess', 'recharg', 'rechristen', 'reciev', 'recip', 'recit', 'reckon', 'reclin', 'recogn', 'recognis', 'recognit', 'recogniz', 'recollect', 'recommend', 'reconstruct', 'record', 'recordnow', 'recount', 'recours', 'recov', 'recover', 'recruit', 'rectangular', 'rectifi', 'recuit', 'recuper', 'recur', 'recycl', 'red', 'redecor', 'redeem', 'redempt', 'redesign', 'redial', 'redlin', 'redraw', 'reduc', 'reduct', 'redund', 'reed', 'reek', 'reel', 'rees', 'reev', 'refer', 'reffer', 'refil', 'refin', 'refit', 'reflect', 'reflex', 'reform', 'refrain', 'refresh', 'refriger', 'refund', 'refurbish', 'refus', 'refut', 'regain', 'regal', 'regard', 'regardless', 'regenc', 'regga', 'regi', 'region', 'regist', 'registr', 'registri', 'regret', 'regul', 'regular', 'regularli', 'rehash', 'reheat', 'reincarn', 'reindeer', 'reinforc', 'reinstal', 'reinvent', 'reiter', 'reject', 'rel', 'relat', 'relationship', 'relax', 'relay', 'releas', 'releg', 'relev', 'relevantli', 'reli', 'reliabilti', 'reliabl', 'reliaibl', 'relic', 'relief', 'reliev', 'religi', 'religion', 'religios', 'relish', 'reload', 'reloc', 'reluct', 'remain', 'remak', 'remanded', 'remark', 'rememb', 'remember', 'remi', 'remind', 'remines', 'reminic', 'reminisc', 'remix', 'remo', 'remodel', 'remorseless', 'remot', 'remov', 'ren', 'renam', 'renault', 'render', 'rendit', 'renegad', 'renounc', 'renov', 'rent', 'rental', 'reorgan', 'rep', 'repaint', 'repair', 'repairman', 'repay', 'repeat', 'repeatedli', 'repertoir', 'repetit', 'repit', 'replac', 'replet', 'repli', 'replic', 'report', 'reppin', 'repres', 'repress', 'reproduc', 'repuls', 'reput', 'reqir', 'requa', 'request', 'requir', 'reread', 'resal', 'rescu', 'research', 'reseason', 'resel', 'resembl', 'reserv', 'reservoir', 'reset', 'reshap', 'resid', 'residenti', 'residu', 'resign', 'resist', 'resiz', 'resolut', 'resolv', 'reson', 'resort', 'resourc', 'resource', 'respect', 'respiratori', 'respond', 'respons', 'rest', 'restart', 'restaur', 'restaurant', 'restor', 'restrain', 'restraint', 'restrict', 'restyl', 'result', 'resum', 'resurg', 'retail', 'retain', 'retent', 'rethink', 'retin', 'retir', 'retool', 'retreat', 'retriev', 'retro', 'retrofit', 'retrospect', 'return', 'reunion', 'reunit', 'rev', 'reveal', 'revealed', 'revel', 'revelri', 'reveng', 'rever', 'reverber', 'reverberating', 'reverewar', 'revers', 'revert', 'review', 'revis', 'revisit', 'reviv', 'revolut', 'revolutionari', 'revolv', 'revuls', 'reward', 'rewrit', 'rhetor', 'rhettmat', 'rhym', 'rhyme', 'rhyming', 'rhythm', 'rib', 'rice', 'rich', 'richard', 'richest', 'richman', 'rick', 'ricketi', 'ricki', 'rid', 'riddanc', 'ridden', 'riddl', 'ride', 'rider', 'ridicul', 'riff', 'rifl', 'rift', 'rig', 'right', 'righteou', 'rigid', 'rim', 'rine', 'ring', 'ringer', 'ringtyp', 'rins', 'rio', 'riot', 'rip', 'ripoff', 'rippin', 'rise', 'risin', 'risk', 'riski', 'rita', 'ritter', 'ritual', 'ritz', 'ritzcarlton', 'rival', 'river', 'rivet', 'riviera', 'rj', 'rl', 'rma', 'roach', 'road', 'roaddogg', 'roadsid', 'roam', 'roar', 'roast', 'rob', 'robberi', 'robe', 'robert', 'robin', 'robot', 'roc', 'rocio', 'rock', 'rockefel', 'rocker', 'rocket', 'rocki', 'rod', 'rode', 'roger', 'roland', 'role', 'roll', 'roller', 'rollin', 'rollingston', 'rom', 'romanc', 'romance', 'romant', 'rome', 'romp', 'ron', 'ronald', 'roof', 'rooflin', 'room', 'roomi', 'roomier', 'roommat', 'rooms', 'root', 'rosari', 'rosco', 'rose', 'rosemary', 'roster', 'rot', 'rotari', 'rotat', 'rotk', 'rough', 'roughli', 'roulett', 'round', 'rout', 'router', 'routin', 'rover', 'row', 'rowdi', 'rowland', 'roxio', 'roy', 'royalti', 'rpm', 'rr', 'rso', 'rsx', 'rub', 'rubber', 'rubin', 'rude', 'rudi', 'rudolph', 'ruffian', 'rug', 'rugrat', 'ruin', 'rule', 'rumbl', 'rumin', 'rumor', 'run', 'rundown', 'runner', 'runnin', 'rural', 'rush', 'russel', 'russet', 'rust', 'rusti', 'rustic', 'ruthless', 'rw', 'rwd', 'rx300', 'ryan', 'rymish', 'ryu', 'rza', 's4', 's400', 's607', 'saab', 'sabl', 'sabotag', 'sack', 'sacrif', 'sacrific', 'sad', 'saddam', 'sadden', 'sadder', 'saddl', 'sadli', 'saf', 'safari', 'safe', 'safecrack', 'safer', 'safeti', 'saga', 'sahara', 'said', 'sail', 'saint', 'sake', 'salad', 'salama', 'salami', 'salari', 'sale', 'saleabl', 'salem', 'salesman', 'salesmen', 'salespeopl', 'salesperson', 'salesteam', 'salli', 'salmon', 'salon', 'salt', 'saltin', 'salton', 'salvag', 'salvat', 'sam', 'saml', 'samoa', 'sampl', 'sampler', 'sampson', 'samsung', 'samurai', 'samuria', 'san', 'sanctiti', 'sand', 'sandal', 'sandcastl', 'sandi', 'sandwich', 'sandwitch', 'sane', 'sanit', 'saniti', 'santa', 'sap', 'sappi', 'sarah', 'sarcasm', 'sardin', 'sasha', 'sass', 'sassi', 'sat', 'satan', 'satellit', 'satir', 'satiris', 'satisfactori', 'satisfactorili', 'satisfi', 'saturday', 'sauc', 'sauce', 'saucepan', 'saunièr', 'sausag', 'saut', 'saute', 'sauté', 'sav', 'savag', 'save', 'saver', 'saving', 'saw', 'sax', 'saxton', 'say', 'sayin', 'sbc', 'sc', 'scale', 'scam', 'scandal', 'scanpan', 'scar', 'scarc', 'scare', 'scarfac', 'scari', 'scarier', 'scariest', 'scatter', 'scaveng', 'scenario', 'scene', 'sceneri', 'scenic', 'scent', 'schedul', 'scheme', 'schizophren', 'schlog', 'schmidt', 'school', 'schoolmast', 'sci', 'scid', 'scienc', 'science', 'scientif', 'scoop', 'scope', 'scorch', 'score', 'scotchbrit', 'scott', 'scour', 'scowl', 'scrambl', 'scramblett', 'scramblette', 'scrap', 'scrape', 'scratch', 'scratches', 'scream', 'screeen', 'screen', 'screenplay', 'screw', 'scribe', 'script', 'scroll', 'scroog', 'scrub', 'scrubber', 'scrubbi', 'scruff', 'scruffi', 'scrunch', 'scsi', 'scuba', 'scuff', 'sculptur', 'sd', 'sdram', 'se', 'sea', 'seafood', 'seal', 'seam', 'seamless', 'seamlessli', 'sean', 'sear', 'search', 'season', 'seat', 'seatback', 'seatbelt', 'seatbottom', 'seating', 'sec', 'second', 'secondari', 'secondhand', 'secondli', 'secret', 'secretli', 'sect', 'section', 'secur', 'sedan', 'sedat', 'sedona', 'see', 'seedi', 'seek', 'seem', 'seemingli', 'seemlessli', 'seen', 'segment', 'segu', 'seimen', 'sel', 'seldom', 'select', 'selector', 'self', 'selfish', 'sell', 'seller', 'selling', 'sematary', 'semi', 'senc', 'send', 'sens', 'sensat', 'senseless', 'sensit', 'sensor', 'sent', 'sentenc', 'sentiment', 'sentra', 'separ', 'seper', 'seperatli', 'sept', 'septemb', 'sequel', 'sequenti', 'seri', 'serial', 'seriou', 'serious', 'sermon', 'serv', 'servant', 'server', 'servic', 'servo', 'sess', 'session', 'set', 'setback', 'sett', 'sette', 'setting', 'settl', 'settlement', 'setup', 'seuss', 'seussian', 'seven', 'seventeen', 'seventh', 'seventi', 'seventy', 'sever', 'several', 'sew', 'sex', 'sexi', 'sexier', 'sexiest', 'sexist', 'sexton', 'sexu', 'sexual', 'sh', 'shabbi', 'shack', 'shad', 'shade', 'shadi', 'shadow', 'shake', 'shaken', 'shaker', 'shall', 'shallow', 'shame', 'shameless', 'shamelessli', 'shampoo', 'shannon', 'shap', 'shape', 'shaq', 'shar', 'share', 'sharecropp', 'sharewar', 'sharief', 'sharp', 'sharper', 'sharpest', 'sharpli', 'shatter', 'shave', 'she', 'shebang', 'shed', 'sheek', 'sheer', 'sheesh', 'sheet', 'sheets', 'shelf', 'shell', 'shelley', 'shells', 'shelter', 'shelv', 'shenanigan', 'shepard', 'sheraton', 'sheriff', 'sherlock', 'shi', 'shield', 'shift', 'shifter', 'shimmi', 'shin', 'shine', 'shiney', 'shini', 'ship', 'shipment', 'shirt', 'shiver', 'sho', 'shock', 'shoddi', 'shoe', 'shoebox', 'shogun', 'shoot', 'shooter', 'shop', 'shopper', 'shopping', 'shoppro', 'shore', 'short', 'shortag', 'shortcom', 'shortcut', 'shorten', 'shorter', 'shortest', 'shortfal', 'shorti', 'shortli', 'shot', 'shoud', 'should', 'shoulda', 'shoulder', 'shouldn', 'shouldnt', 'shout', 'shoutin', 'shoutout', 'show', 'showcas', 'shower', 'showgirl', 'shown', 'showroom', 'shriek', 'shrill', 'shrimp', 'shrink', 'shrug', 'shuck', 'shudder', 'shun', 'shut', 'shutdown', 'shuttl', 'shuvin', 'shyne', 'shyster', 'si', 'sibl', 'sic', 'sick', 'sickalici', 'sicken', 'sickenin', 'sid', 'side', 'sideplot', 'sidestep', 'sideswip', 'sideway', 'siemen', 'sig', 'sigel', 'sigh', 'sight', 'sightse', 'sign', 'signal', 'signatur', 'signific', 'significantli', 'sil', 'sila', 'silenc', 'silent', 'silhouett', 'silki', 'sill', 'silli', 'silly', 'silver', 'silverwar', 'sim', 'similar', 'similarli', 'simmer', 'simon', 'simpl', 'simplest', 'simpli', 'simplic', 'simplist', 'simul', 'simultan', 'sin', 'sinc', 'sincer', 'sing', 'singer', 'singl', 'single', 'singles', 'sinist', 'sink', 'sinkhol', 'sins', 'sintro', 'sion', 'sir', 'sireebob', 'sirloin', 'sisqo', 'sissi', 'sister', 'sistin', 'sit', 'sitar', 'sitcom', 'site', 'situat', 'six', 'sixteen', 'sixth', 'sixti', 'siz', 'sizabl', 'size', 'sizzl', 'sk', 'skateboard', 'skeev', 'skeleton', 'skeptic', 'sketch', 'sketchi', 'skew', 'skewer', 'ski', 'skid', 'skill', 'skillet', 'skillets', 'skillz', 'skim', 'skin', 'skip', 'skippabl', 'skipper', 'skirmish', 'skirt', 'skit', 'skittish', 'skull', 'sky', 'skylin', 'sl', 'slab', 'slack', 'slacker', 'slam', 'slang', 'slant', 'slap', 'slaughter', 'slave', 'slavish', 'slay', 'sleazi', 'sleazier', 'sleek', 'sleep', 'sleeper', 'sleeper54', 'sleepless', 'slender', 'sleuth', 'slew', 'sli', 'slice', 'slick', 'slickli', 'slide', 'slideshow', 'slight', 'slightest', 'slightli', 'slightly', 'slim', 'sling', 'slip', 'slipperi', 'sliver', 'slooooow', 'slope', 'sloppi', 'slot', 'slots', 'slotted', 'slouch', 'slough', 'slow', 'slower', 'slowli', 'slowly', 'sluggish', 'slumpi', 'slut', 'slv', 'smack', 'small', 'smaller', 'smallest', 'smallish', 'smart', 'smarten', 'smarter', 'smartest', 'smartli', 'smarts', 'smash', 'smb_onlineorder_resolut', 'smell', 'smile', 'smithzonian', 'smitten', 'smok', 'smoke', 'smoken', 'smoker', 'smokey', 'smokin', 'smooth', 'smoothest', 'smoothi', 'smoothli', 'smuggl', 'snack', 'snag', 'snail', 'snake', 'snap', 'snare', 'sneak', 'sneer', 'snide', 'snipe', 'sniper', 'snippet', 'snitch', 'snl', 'snoop', 'snooti', 'snooz', 'snore', 'snot', 'snotty', 'snow', 'snowbal', 'snowi', 'snuck', 'snugli', 'so', 'soak', 'soap', 'soapi', 'soar', 'sob', 'sobriety', 'soccer', 'social', 'societi', 'society', 'sock', 'soda', 'sodbust', 'sofa', 'soft', 'softball', 'softer', 'softli', 'softwar', 'sohc', 'soke', 'solar', 'solara', 'sold', 'soldier', 'sole', 'solemn', 'solicitor', 'solid', 'solidifi', 'solidli', 'solitud', 'solo', 'solut', 'solution', 'solv', 'solver', 'som', 'somber', 'sombrero', 'some', 'somebodi', 'someday', 'someh', 'somehow', 'someon', 'someplac', 'someth', 'somethin', 'sometim', 'somewhat', 'somewher', 'son', 'sonar', 'song', 'soni', 'sonic', 'sonicstag', 'sonoma', 'sonya', 'sook', 'soon', 'sooner', 'sooo', 'sooooo', 'sooth', 'sophi', 'sophist', 'sophomor', 'soporif', 'sore', 'sorri', 'sorrow', 'sort', 'sought', 'soul', 'sound', 'soundbit', 'soundblast', 'soundmax', 'soundproof', 'soundscap', 'soundtrack', 'soup', 'souped', 'sour', 'sourc', 'south', 'southeast', 'southern', 'souvenir', 'sp', 'spa', 'space', 'spaceship', 'spacey', 'spaci', 'spaciou', 'spade', 'spaghetti', 'spam', 'spamwar', 'span', 'spanish', 'spank', 'spankin', 'spare', 'spark', 'sparkl', 'spars', 'spartan', 'spatula', 'spe', 'speak', 'speaker', 'speakerphon', 'speakerphone', 'speakers', 'spear', 'spec', 'speci', 'special', 'specialti', 'specif', 'specifi', 'specs', 'spectacular', 'spectacularli', 'spedomet', 'speech', 'speed', 'speedboat', 'speedi', 'speedpad', 'spell', 'spencer', 'spend', 'spent', 'spew', 'spg', 'sphinx', 'spi', 'spider', 'spike', 'spill', 'spin', 'spinach', 'spindl', 'spine', 'spinner', 'spinnin', 'spinster', 'spirit', 'spiritu', 'spit', 'spite', 'spittag', 'spittin', 'spkr', 'splash', 'spleen', 'splendid', 'split', 'spliter', 'splurg', 'spoil', 'spoiler', 'spok', 'spoke', 'spoken', 'spong', 'spongi', 'spontan', 'spook', 'spoon', 'sporad', 'sporadic', 'sport', 'sporti', 'sportier', 'sports', 'sportshift', 'spot', 'spotless', 'spotlight', 'spout', 'sprang', 'sprawl', 'spray', 'spread', 'spreadsheet', 'spree', 'spring', 'springi', 'sprinkl', 'sprite', 'spritzer', 'spruill', 'spunki', 'spymob', 'spywar', 'sqeez', 'squad', 'squander', 'squar', 'squat', 'squeak', 'squeaki', 'squeaking', 'squeal', 'squeez', 'squirm', 'squirrelli', 'ss', 'ssed', 'ssi', 'st', 'stab', 'stabil', 'stabl', 'staccato', 'stack', 'staf', 'staff', 'stag', 'stage', 'stagi', 'stagnant', 'stain', 'stainless', 'stair', 'stairway', 'stake', 'stale', 'stalk', 'stalkerish', 'stalking', 'stall', 'stammer', 'stamp', 'stan', 'stanc', 'stand', 'standard', 'standbi', 'standout', 'standpoint', 'standstil', 'stank', 'stanley', 'stapl', 'star', 'starcraft', 'stare', 'stark', 'starr', 'stars', 'start', 'starter', 'stash', 'state', 'statement', 'static', 'station', 'statist', 'stats', 'statu', 'stay', 'stayin', 'std', 'stead', 'steadi', 'steak', 'steakhous', 'steal', 'stealer', 'steam', 'steamer', 'steeda', 'steel', 'steenburgen', 'steep', 'steeply', 'steer', 'stellar', 'stem', 'stench', 'step', 'stepfath', 'stepford', 'steph', 'stephani', 'stephanie', 'stephano', 'stephen', 'ster', 'stereo', 'stereotyp', 'steroid', 'steve', 'stevenson', 'stew', 'stewart', 'stick', 'sticker', 'stickler', 'stiff', 'stiffen', 'stiffer', 'stifl', 'stile', 'still', 'stillmat', 'stilt', 'stimuli', 'stine', 'sting', 'stink', 'stinki', 'stir', 'stirrer', 'stitch', 'stock', 'stockpot', 'stoke', 'stole', 'stolen', 'stolichnaya', 'stomach', 'stomp', 'stone', 'stoner', 'stop', 'stor', 'storag', 'storch', 'store', 'stori', 'storm', 'stormalong', 'stormi', 'story', 'storyboard', 'storylin', 'storylines', 'storytel', 'stoup', 'stove', 'stovetop', 'stow', 'straight', 'straightaway', 'straighten', 'straightforward', 'strain', 'strang', 'strangely', 'stranger', 'strap', 'strateg', 'strategi', 'stratospher', 'stratospherehotel', 'stratu', 'stray', 'stream', 'streamlin', 'street', 'streets', 'streetsweep', 'strength', 'strenou', 'stress', 'stressed', 'stretch', 'strewn', 'strictli', 'stride', 'strike', 'strikingli', 'string', 'strip', 'stripe', 'stripper', 'strive', 'stroke', 'stroll', 'strong', 'stronger', 'strongest', 'stronghold', 'strongli', 'struck', 'structur', 'struggl', 'strum', 'strut', 'stubborn', 'stuck', 'stud', 'studebak', 'student', 'studi', 'studio', 'stuf', 'stuff', 'stuffi', 'stumbl', 'stun', 'stunk', 'stunna', 'stunt', 'stupid', 'stupidest', 'sturdi', 'sturdier', 'stutter', 'styl', 'style', 'stylish', 'stylishli', 'stylist', 'styrofoam', 'sub', 'subaru', 'subdivis', 'subject', 'subplot', 'subscrib', 'subsequ', 'subsid', 'subsidiari', 'substanc', 'substandard', 'substanti', 'substit', 'substitut', 'subtl', 'subtli', 'suburban', 'subway', 'subwoof', 'succe', 'succeed', 'success', 'successor', 'succumb', 'suck', 'sucka', 'sucker', 'sucki', 'sudden', 'suddenli', 'sue', 'sued', 'suess', 'suffer', 'suffic', 'suffici', 'sugar', 'suge', 'suggest', 'suicid', 'suit', 'suitabl', 'suitcas', 'sultri', 'sum', 'summ', 'summar', 'summari', 'summat', 'summer', 'summon', 'sun', 'sunday', 'sundri', 'sunni', 'sunoco', 'sunris', 'sunroof', 'sunset', 'sunvisor', 'supa', 'super', 'superb', 'supercat', 'supercharg', 'superdom', 'superdr', 'superfici', 'superfreak', 'superior', 'supernatur', 'superstar', 'superthug', 'supervis', 'supervisor', 'superwoman', 'supper', 'supplement', 'supplementari', 'suppli', 'supplier', 'support', 'suppos', 'supposedli', 'supposidli', 'suprem', 'supremaci', 'supress', 'suprisingli', 'sure', 'surf', 'surfac', 'surfer', 'surg', 'surgemast', 'surgeri', 'surpris', 'surprised', 'surprisingli', 'surreal', 'surrog', 'surround', 'survey', 'surviv', 'survivor', 'susan', 'suspect', 'suspend', 'suspens', 'suspense', 'suspici', 'suspicion', 'sustem', 'suv', 'suzuki', 'svt', 'swab', 'swallowin', 'swam', 'swamp', 'swan', 'swap', 'swayze', 'swear', 'swedish', 'sweeney', 'sweep', 'sweet', 'sweeter', 'sweetness', 'swell', 'swelter', 'swerv', 'swift', 'swill', 'swim', 'swing', 'swinger', 'swip', 'swiss', 'switch', 'switchgear', 'swivel', 'swizz', 'swol', 'sword', 'swore', 'swum', 'swung', 'sx', 'sxga', 'sydney', 'syl', 'syllab', 'syllablist', 'sym', 'symantec', 'symbol', 'symbolog', 'symbologist', 'symet', 'symmetr', 'symmetri', 'sympathet', 'sympathi', 'symphon', 'symphoni', 'sync', 'synchro', 'synchron', 'syncmast', 'syncop', 'synonym', 'synopsi', 'synth', 'synthes', 'synthet', 'syrup', 'system', 'systemat', 't100', 't22', 't3650', 't6', 'ta', 'tab', 'tabl', 'tableau', 'tach', 'tachomet', 'tack', 'tacked', 'tacki', 'tackl', 'tacky', 'tactic', 'tactil', 'tad', 'tag', 'tah', 'tahiti', 'taho', 'tail', 'taillight', 'taint', 'tak', 'takbir', 'take', 'taken', 'takin', 'tale', 'talent', 'talk', 'talkin', 'tall', 'taller', 'talli', 'talon', 'tambu', 'tammi', 'tampabay', 'tan', 'tang', 'tank', 'tap', 'tape', 'taper', 'target', 'targets', 'targu', 'tash', 'task', 'tast', 'tasti', 'tastiest', 'tattoo', 'taught', 'taunt', 'tauri', 'tauru', 'taurus', 'tax', 'taxi', 'tay', 'tbsp', 'tc', 'tch', 'tche', 'tched', 'tchin', 'tcm526bxb', 'te', 'tea', 'teach', 'teacher', 'teachin', 'team', 'tear', 'teas', 'teaser', 'teaspoon', 'tech', 'techbargains', 'techn', 'techness', 'technic', 'technician', 'techniqu', 'techno', 'technolog', 'technology', 'techonolgi', 'teddi', 'tediou', 'tee', 'teen', 'teenag', 'teeni', 'teeth', 'teflon', 'tek', 'telephon', 'telescop', 'televis', 'tell', 'tellin', 'temp', 'temper', 'temperament', 'temperatur', 'templ', 'templat', 'tempo', 'temporari', 'tempt', 'ten', 'tend', 'tendenc', 'tender', 'tenni', 'tennison', 'tension', 'tent', 'tenth', 'terenc', 'term', 'termin', 'terminolog', 'terrac', 'terrain', 'terrestri', 'terri', 'terriabl', 'terribl', 'terrif', 'terrifi', 'terror', 'terrorist', 'terrycloth', 'test', 'testament', 'tester', 'testicl', 'testimoni', 'tex', 'texa', 'text', 'textur', 'tey', 'tft', 'tg2000b', 'tg2214w', 'tg2215b', 'tg2248', 'tg5100m', 'tga', 'tga230b', 'tga271v', 'tga272', 'th', 'tha', 'than', 'thang', 'thank', 'thankless', 'thanksgiv', 'that', 'the', 'theater', 'theatr', 'theft', 'theme', 'themedia', 'then', 'theodor', 'theori', 'ther', 'therapi', 'there', 'therebi', 'therefor', 'thermomet', 'thes', 'thesauru', 'thespian', 'they', 'theyv', 'thi', 'thick', 'thicken', 'thier', 'thiev', 'thigh', 'thin', 'thing', 'thingi', 'think', 'thinker', 'thinkin', 'thinkpad', 'thinner', 'third', 'thirst', 'thirsti', 'thirti', 'thirty', 'thirtysometh', 'thoma', 'thong', 'thornton', 'thorough', 'thoroughli', 'thorton', 'those', 'though', 'thought', 'thoughts', 'thousand', 'thread', 'threaten', 'three', 'threw', 'thrift', 'thrill', 'thriller', 'throat', 'throati', 'throne', 'throng', 'throttl', 'throttle', 'through', 'throughout', 'throw', 'throwaway', 'throwback', 'thrown', 'thru', 'thrust', 'thu', 'thug', 'thuggish', 'thuman', 'thumb', 'thump', 'thun', 'thunder', 'thunderbird', 'thurman', 'thurr', 'thusfar', 'thwart', 'ti', 'tick', 'ticket', 'tide', 'tie', 'tiem', 'tight', 'tighten', 'tightli', 'tile', 'till', 'tilt', 'tim', 'timb', 'timbaland', 'timber', 'timberlak', 'timbuk2', 'time', 'timeless', 'timelin', 'timer', 'timing', 'tin', 'ting', 'tini', 'tinney', 'tinni', 'tint', 'tip', 'tipper', 'tipsi', 'tiptron', 'tire', 'tires', 'tiresom', 'tissu', 'titan', 'titl', 'tity', 'tl', 'tlc', 'tm', 'to', 'toast', 'toaster', 'toastmast', 'toca', 'today', 'toe', 'togeth', 'toil', 'toilet', 'toiletri', 'tokelau', 'tokyo', 'told', 'toler', 'toll', 'tom', 'tomato', 'tomb', 'tombarn', 'tombston', 'tome', 'tommi', 'tommorow', 'tomorrow', 'ton', 'tone', 'tonga', 'tongu', 'toni', 'tonight', 'too', 'took', 'tool', 'toothier', 'top', 'topiari', 'topic', 'torch', 'torn', 'tornado', 'toronto', 'torqu', 'torque', 'torrid', 'tortur', 'toshiba', 'toss', 'tossabl', 'tostada', 'tot', 'total', 'totali', 'tote', 'totem', 'touch', 'touchi', 'touchpad', 'touchpoint', 'tough', 'tour', 'tourism', 'tout', 'tow', 'toward', 'towel', 'tower', 'town', 'toxin', 'toy', 'toyota', 'tq', 'tra', 'trace', 'track', 'trackbal', 'tracking', 'trackpoint', 'tract', 'traction', 'tractor', 'trade', 'trademark', 'tradit', 'traditional', 'traffic', 'tragedi', 'tragic', 'trail', 'trailer', 'train', 'trak', 'tram', 'tramlin', 'trance', 'tranmiss', 'tranni', 'tranquil', 'transceiv', 'transcend', 'transfer', 'transform', 'transit', 'translat', 'transluc', 'transmiss', 'transmission', 'transmitt', 'transpir', 'transport', 'transportation', 'trash', 'travel', 'travers', 'travesti', 'tray', 'tread', 'treasur', 'treasuri', 'treat', 'treatment', 'tree', 'treetop', 'trek', 'tremec', 'tremend', 'trend', 'trendi', 'trendier', 'trenton', 'trepid', 'tri', 'trial', 'triangular', 'tribal', 'tribe', 'tribut', 'trice', 'trick', 'trim', 'trina', 'trip', 'tripl', 'triple', 'trippi', 'trippin', 'tripreservations', 'trite', 'triumphant', 'trivial', 'trombon', 'troop', 'tropic', 'trot', 'troubl', 'troublemak', 'troubleshoot', 'troublesom', 'truck', 'true', 'trueli', 'truelli', 'truli', 'trumpet', 'trunk', 'trust', 'trusti', 'truth', 'try', 'tryin', 'trying', 'tt', 'ttc', 'tub', 'tubular', 'tucson', 'tuesday', 'tug', 'tumbl', 'tun', 'tune', 'tunnel', 'turbin', 'turbo', 'turbul', 'turgid', 'turk', 'turkey', 'turmoil', 'turn', 'turned', 'turntabl', 'turret', 'turtl', 'tuvalu', 'tv', 'twangi', 'tweak', 'twelv', 'twenti', 'twice', 'twiddl', 'twin', 'twinc', 'twist', 'twisti', 'twit', 'two', 'tx', 'ty', 'tymer', 'typ', 'type', 'typecast', 'typer', 'typhoon', 'typic', 'typifi', 'tyres', 'ubiquit', 'ufo', 'ugh', 'ugli', 'ugliest', 'uh', 'ulev', 'ultim', 'ultra', 'ultrasharp', 'um', 'umbrella', 'umm', 'un', 'unabl', 'unabridg', 'unaccept', 'unacquaint', 'unansw', 'unapp', 'unappropri', 'unashamedli', 'unattend', 'unattract', 'unavail', 'unbalanc', 'unbeliev', 'unbidden', 'unborn', 'uncanni', 'uncar', 'uncertain', 'unchang', 'uncharacterist', 'uncl', 'unclean', 'uncloak', 'uncoat', 'uncomfort', 'unconsci', 'uncontrol', 'unconvinc', 'uncov', 'uncr', 'uncredit', 'undamag', 'undeni', 'under', 'undercov', 'undercurr', 'undergon', 'underground', 'underlin', 'underneath', 'underpaid', 'underpow', 'underpublic', 'unders', 'undersid', 'underst', 'understand', 'understat', 'understood', 'undertak', 'undertaken', 'underus', 'underw', 'underwat', 'underwear', 'underwhelm', 'undi', 'undiscov', 'undo', 'undoubtedli', 'unearth', 'uneasi', 'unedit', 'unenjoy', 'unesthet', 'uneth', 'uneven', 'unevenli', 'unexpect', 'unexpectedli', 'unexplain', 'unfad', 'unfair', 'unfamiliar', 'unfavor', 'unfinish', 'unfold', 'unforgett', 'unforgiv', 'unforgiven', 'unfortun', 'unfortunatli', 'unfortur', 'unfriendli', 'unhappi', 'unhappili', 'unheard', 'unhelp', 'unhitch', 'unholi', 'uniden', 'unidentifi', 'unimagin', 'unimpress', 'uninspir', 'uninstal', 'unintellig', 'unintend', 'unintent', 'uninterest', 'uninvit', 'union', 'uniqu', 'unique', 'unit', 'univers', 'unix', 'unjust', 'unknown', 'unlead', 'unleash', 'unless', 'unlik', 'unlimit', 'unlisten', 'unload', 'unlock', 'unmatch', 'unmeasur', 'unmotiv', 'unmov', 'unnam', 'unnatur', 'unnecessari', 'unnecessarili', 'unnerv', 'unoccupi', 'unpack', 'unpaint', 'unparallel', 'unpleas', 'unplug', 'unpolish', 'unpreced', 'unpredict', 'unprepar', 'unravel', 'unreadi', 'unreal', 'unrealist', 'unreason', 'unredeem', 'unrefin', 'unrel', 'unreleas', 'unreli', 'unruli', 'unscrew', 'unshaven', 'unsightli', 'unstabl', 'unsubstanti', 'unsur', 'unsuspect', 'unsympathet', 'untim', 'unto', 'untri', 'untru', 'unus', 'unusu', 'unveil', 'unwant', 'unwarr', 'unwash', 'unwelcom', 'unwilling', 'unworthi', 'unwrap', 'up', 'upbeat', 'upcom', 'updat', 'upfront', 'upgrad', 'upgrag', 'uphil', 'uphold', 'upholst', 'upholsteri', 'upkeep', 'uplift', 'upload', 'upon', 'upper', 'upright', 'upscal', 'upsel', 'upset', 'upshift', 'upsid', 'upside', 'upstair', 'uptak', 'uptight', 'upward', 'urban', 'urg', 'urgenc', 'urgent', 'us', 'us_bcsd', 'us_dwnl_free', 'usa', 'usabl', 'usag', 'usairway', 'usb', 'uscemcsd', 'use', 'useabl', 'useless', 'user', 'usernam', 'usher', 'ussual', 'usu', 'usual', 'utensil', 'util', 'utilitarian', 'utilizng', 'utmost', 'utterli', 'uxga', 'v6', 'v70', 'v8', 'vacat', 'vacum', 'vader', 'vagrant', 'vagu', 'vaio', 'valet', 'valid', 'valley', 'valu', 'valuabl', 'valv', 'vampir', 'van', 'vancouv', 'vanessa', 'vanilla', 'vanish', 'vaniti', 'vanquish', 'vapor', 'vari', 'variabl', 'variant', 'variat', 'varieti', 'variou', 'vaselin', 'vast', 'vastli', 'vatican', 'vault', 'vbg', 'vbz', 'vcr', 've', 'vega', 'veget', 'veggi', 'vehicl', 'vehicles', 'vein', 'veloc', 'velour', 'vendor', 'veneer', 'venetian', 'veng', 'venom', 'vent', 'ventil', 'ventur', 'venu', 'verbal', 'verbos', 'verdict', 'verg', 'verklempt', 'verminophobia', 'vers', 'versatil', 'version', 'versions', 'versu', 'vertic', 'vessel', 'vestigi', 'veteran', 'vga', 'vi', 'via', 'viabil', 'vibe', 'vibrat', 'vice', 'viciou', 'vicious', 'victim', 'victor', 'video', 'videoconferenc', 'viev', 'view', 'viewabl', 'viewer', 'viewpoint', 'views', 'viewscreen', 'vigor', 'vii', 'viii', 'vikingsholm', 'villa', 'villag', 'villain', 'vin', 'vinci', 'vineyard', 'vintag', 'vinyl', 'viol', 'violenc', 'violent', 'violet', 'violin', 'vipclub', 'viper', 'virgin', 'virtual', 'viru', 'visibl', 'vision', 'visionari', 'visit', 'visitng', 'visitor', 'visor', 'visual', 'vita', 'vital', 'vitara', 'vivid', 'vividli', 'vocabulari', 'vocal', 'vocalist', 'vocat', 'vodka', 'voic', 'voice', 'voicemail', 'void', 'vol', 'volcano', 'volkswagon', 'volleybal', 'voltag', 'volum', 'volumin', 'volvo', 'vote', 'vouch', 'vow', 'voyeur', 'vpc', 'vq', 'vr', 'vram', 'vs', 'vsa', 'vtec', 'vtech', 'vtechphones', 'vu', 'vulcan', 'vulgar', 'vulner', 'vvt', 'vw', 'w98', 'wack', 'wackneiti', 'wad', 'waffl', 'wage', 'wager', 'wagon', 'waist', 'wait', 'waiter', 'waitress', 'waitstaff', 'wake', 'wal', 'walden', 'walk', 'walkin', 'walkway', 'wall', 'walla', 'wallow', 'wallpap', 'walnut', 'walt', 'walter', 'walton', 'wan', 'wanatab', 'wand', 'wander', 'want', 'war', 'waranti', 'warbl', 'ware', 'warfar', 'wari', 'warm', 'warmer', 'warn', 'warp', 'warrant', 'warranti', 'warren', 'warrior', 'warshawski', 'warz', 'wash', 'washcloth', 'washer', 'washi', 'washington', 'wasn', 'wasnt', 'wast', 'wasted', 'waster', 'wat', 'watanab', 'watanb', 'watch', 'watchabl', 'water', 'watered', 'waterfal', 'waterfront', 'waterslid', 'watson', 'watt', 'wattag', 'wave', 'wax', 'way', 'wayn', 'wayz', 'wc', 'wd', 'wdw', 'we', 'weak', 'weakest', 'wealthi', 'wean', 'wear', 'weari', 'weather', 'weav', 'web', 'websit', 'webster', 'webtv', 'wed', 'wedg', 'wedge', 'wednesday', 'wee', 'weed', 'week', 'weekday', 'weekend', 'weekli', 'weep', 'weezy', 'weigh', 'weight', 'weird', 'weirdest', 'weirdish', 'weirdo', 'wel', 'welbilt', 'welch', 'welcom', 'weld', 'well', 'wellesley', 'went', 'wept', 'weren', 'west', 'western', 'westin', 'westinghous', 'westminst', 'westsid', 'westward', 'wet', 'wether', 'whack', 'whadya', 'what', 'whatcha', 'whatev', 'whatnot', 'whatsoev', 'wheel', 'wheelbas', 'wheelspin', 'whelm', 'whenev', 'wher', 'where', 'whereev', 'wherein', 'wherev', 'whether', 'whew', 'whi', 'whichev', 'while', 'whilst', 'whimsic', 'whin', 'whine', 'whiner', 'whiney', 'whini', 'whiplash', 'whirl', 'whirley', 'whirlpool', 'whisk', 'whisper', 'whistl', 'whistling', 'whit', 'white', 'whitehous', 'whiter', 'whitewat', 'whitney', 'whiz', 'who', 'whoever', 'whole', 'wholesom', 'wholli', 'whoop', 'whop', 'whose', 'whovil', 'wi', 'wick', 'wide', 'wider', 'widescreen', 'widow', 'width', 'wield', 'wierd', 'wife', 'wifey', 'wiggl', 'wihtout', 'wilcher', 'wild', 'wilder', 'wildest', 'wildli', 'wiley', 'will', 'willi', 'william', 'williams', 'willie', 'willin', 'willing', 'willow', 'willy', 'wilton', 'wimp', 'wimpi', 'win', 'winan', 'winchest', 'wind', 'window', 'windows', 'windowsupdate', 'windoz', 'windscreen', 'windsheild', 'windshield', 'windstar', 'windswept', 'windtunnel', 'windvd', 'wine', 'wing', 'winmodem', 'winn', 'winner', 'winnetka', 'wintel', 'winter', 'wipe', 'wiper', 'wire', 'wireless', 'wirelss', 'wis', 'wisdom', 'wise', 'wish', 'wishbon', 'wishy', 'wist', 'wit', 'with', 'withheld', 'within', 'without', 'withstand', 'witti', 'wittier', 'wive', 'wizard', 'wl', 'wo', 'wobbl', 'woefulli', 'wok', 'woke', 'wolv', 'wolves', 'woman', 'women', 'won', 'wond', 'wonder', 'wondrou', 'wont', 'wood', 'wooden', 'woodi', 'woodland', 'woodward', 'woofer', 'woohooo', 'wool', 'woozi', 'wop', 'word', 'wordperfect', 'wordplay', 'work', 'workabl', 'workahol', 'worker', 'workers', 'workhahol', 'workmanship', 'workout', 'workplac', 'workshop', 'worksuite', 'world', 'worldbook', 'worldwid', 'worn', 'worri', 'wors', 'worsen', 'worship', 'worst', 'worth', 'worthi', 'worthless', 'worthwhil', 'would', 'woulda', 'wouldn', 'wound', 'woven', 'wow', 'wowwoo', 'wrack', 'wrap', 'wrapper', 'wreak', 'wreck', 'wrestl', 'wretch', 'wretched', 'wrinkl', 'wrist', 'writ', 'write', 'writer', 'writers', 'written', 'wrong', 'wrote', 'wrx', 'wu', 'wurr', 'www', 'wyclef', 'wyndham', 'wynett', 'wynette', 'wynn', 'x2', 'x9', 'xbox', 'xcel', 'xe', 'xenon', 'xga', 'xl', 'xorg', 'xp', 'xp2200', 'xr', 'xterra', 'xtra', 'xx', 'xxskagirlxx', 'xylophone', 'ya', 'yacht', 'yahoo', 'yal', 'yale', 'yanke', 'yard', 'yasser', 'yawn', 'ye', 'yeah', 'year', 'yearn', 'yell', 'yellow', 'yep', 'yer', 'yes', 'yesterday', 'yesteryear', 'yet', 'yike', 'yippi', 'yo', 'yogurt', 'york', 'yorkshir', 'you', 'young', 'younger', 'youngest', 'youngn', 'youngster', 'your', 'yours', 'yourself', 'youth', 'yr', 'yuck', 'yugo', 'yuletid', 'yuppi', 'z28', 'zap', 'zd7000', 'zd7020', 'zd7040', 'zd70xx', 'zealand', 'zekey', 'zero', 'zetec', 'zimmer', 'zino', 'zion', 'zip', 'ziplock', 'zippi', 'zit', 'zombi', 'zone', 'zoo', 'zooey', 'zoom', 'zr', 'zucchini', 'zwick', 'zwigoff', 'zx3', 'zy', 'über']\n"
          ],
          "name": "stdout"
        }
      ]
    },
    {
      "cell_type": "markdown",
      "metadata": {
        "id": "NOrn3aNXrF6u"
      },
      "source": [
        "Tomemos una opinión y obtengamos su bag-of-words como un vector, haciendo uso de `bow_transformer`:"
      ]
    },
    {
      "cell_type": "code",
      "metadata": {
        "colab": {
          "base_uri": "https://localhost:8080/"
        },
        "id": "QTgcullGrF6v",
        "outputId": "d1e8bf9d-b06e-4754-f2bf-5925506c6734"
      },
      "source": [
        "opinion5 = X_train.iloc[5]\n",
        "print(opinion5)"
      ],
      "execution_count": 31,
      "outputs": [
        {
          "output_type": "stream",
          "text": [
            "buy spoon look decent product ye spoon modestli price qualiti highli lack first impress `` hell '' upon inspect spoon appear cheap type `` pot metal '' stamp finish spoon flat unpolish grey color part spoon even remot shini head spoon look like big machin stamp poor enslav chines 12 year old forc quickli unevenli polish part spoon put mouth evidenc spoon nice `` made china '' sticker howev spoon bottom unevenli stamp word `` stainless steel '' indic actual stainless steel honest think stamp make believ stainless steel keep immedi demand refund\n"
          ],
          "name": "stdout"
        }
      ]
    },
    {
      "cell_type": "markdown",
      "metadata": {
        "id": "i877BBlqrF6v"
      },
      "source": [
        "Ahora vamos a ver su representación vectorial. Para ello, utilizamos la función `transform`."
      ]
    },
    {
      "cell_type": "code",
      "metadata": {
        "colab": {
          "base_uri": "https://localhost:8080/"
        },
        "id": "rUmHQXmYrF6v",
        "outputId": "52b1f9f2-a14e-47a7-9701-9eed1f0d0259"
      },
      "source": [
        "bow5 = bow_transformer.transform([opinion5])\n",
        "print(bow5)\n",
        "print(bow5.shape)"
      ],
      "execution_count": 32,
      "outputs": [
        {
          "output_type": "stream",
          "text": [
            "  (0, 56)\t1\n",
            "  (0, 582)\t1\n",
            "  (0, 860)\t1\n",
            "  (0, 1215)\t1\n",
            "  (0, 1269)\t1\n",
            "  (0, 1435)\t1\n",
            "  (0, 1624)\t1\n",
            "  (0, 1868)\t1\n",
            "  (0, 1916)\t1\n",
            "  (0, 1917)\t1\n",
            "  (0, 2107)\t1\n",
            "  (0, 2641)\t1\n",
            "  (0, 2701)\t1\n",
            "  (0, 3315)\t1\n",
            "  (0, 3402)\t1\n",
            "  (0, 3420)\t1\n",
            "  (0, 3697)\t1\n",
            "  (0, 3708)\t1\n",
            "  (0, 3733)\t1\n",
            "  (0, 3815)\t1\n",
            "  (0, 4250)\t1\n",
            "  (0, 4439)\t1\n",
            "  (0, 4491)\t1\n",
            "  (0, 4527)\t1\n",
            "  (0, 4587)\t1\n",
            "  :\t:\n",
            "  (0, 6731)\t2\n",
            "  (0, 7018)\t1\n",
            "  (0, 7032)\t1\n",
            "  (0, 7074)\t1\n",
            "  (0, 7164)\t1\n",
            "  (0, 7205)\t1\n",
            "  (0, 7321)\t1\n",
            "  (0, 7332)\t1\n",
            "  (0, 7356)\t1\n",
            "  (0, 7554)\t1\n",
            "  (0, 7620)\t1\n",
            "  (0, 8230)\t1\n",
            "  (0, 8677)\t9\n",
            "  (0, 8732)\t3\n",
            "  (0, 8742)\t4\n",
            "  (0, 8782)\t3\n",
            "  (0, 8807)\t1\n",
            "  (0, 9302)\t1\n",
            "  (0, 9613)\t1\n",
            "  (0, 9701)\t2\n",
            "  (0, 9766)\t1\n",
            "  (0, 9817)\t1\n",
            "  (0, 10304)\t1\n",
            "  (0, 10390)\t1\n",
            "  (0, 10392)\t1\n",
            "(1, 10452)\n"
          ],
          "name": "stdout"
        }
      ]
    },
    {
      "cell_type": "markdown",
      "metadata": {
        "id": "fYV8CfRmrF6v"
      },
      "source": [
        "Esto muestra el conjunto de tokens únicos que aparecen en la opinión número 5 del conjunto de entrenamiento. Uno de ellos aparece nueve veces. Vamos a comprobar y confirmar cuál es el que aparece nueve veces:"
      ]
    },
    {
      "cell_type": "code",
      "metadata": {
        "colab": {
          "base_uri": "https://localhost:8080/"
        },
        "id": "5kpLm4aqrF6w",
        "outputId": "0e7bfcb0-ca9e-46cb-99cd-0ee1ae353115"
      },
      "source": [
        "print(bow_transformer.get_feature_names()[8669])"
      ],
      "execution_count": 33,
      "outputs": [
        {
          "output_type": "stream",
          "text": [
            "spoiler\n"
          ],
          "name": "stdout"
        }
      ]
    },
    {
      "cell_type": "markdown",
      "metadata": {
        "id": "p8c68-5drF6w"
      },
      "source": [
        "Ahora podemos utilizar **.transform** sobre nuestro objeto transformado Bag-of-Words (bow) y transformar todo el conjunto de entrenamiento."
      ]
    },
    {
      "cell_type": "code",
      "metadata": {
        "id": "C3OLFM_2rF6w"
      },
      "source": [
        "X_train_bow = bow_transformer.transform(X_train)"
      ],
      "execution_count": 34,
      "outputs": []
    },
    {
      "cell_type": "markdown",
      "metadata": {
        "id": "6rwg1WTzrF6x"
      },
      "source": [
        "Comprobemos que el recuento de bag-of-words de todo el conjunto de entrenamiento es una matriz grande y dispersa. Cada token único se convierte en una característica de la matriz generada."
      ]
    },
    {
      "cell_type": "code",
      "metadata": {
        "colab": {
          "base_uri": "https://localhost:8080/",
          "height": 439
        },
        "id": "OGW1uiLgrF6x",
        "outputId": "6261f8d4-478b-44fc-c08f-fe591ca09765"
      },
      "source": [
        "pd.DataFrame(X_train_bow.toarray(), columns=bow_transformer.get_feature_names())"
      ],
      "execution_count": 35,
      "outputs": [
        {
          "output_type": "execute_result",
          "data": {
            "text/html": [
              "<div>\n",
              "<style scoped>\n",
              "    .dataframe tbody tr th:only-of-type {\n",
              "        vertical-align: middle;\n",
              "    }\n",
              "\n",
              "    .dataframe tbody tr th {\n",
              "        vertical-align: top;\n",
              "    }\n",
              "\n",
              "    .dataframe thead th {\n",
              "        text-align: right;\n",
              "    }\n",
              "</style>\n",
              "<table border=\"1\" class=\"dataframe\">\n",
              "  <thead>\n",
              "    <tr style=\"text-align: right;\">\n",
              "      <th></th>\n",
              "      <th>00</th>\n",
              "      <th>000</th>\n",
              "      <th>007</th>\n",
              "      <th>00pm</th>\n",
              "      <th>01</th>\n",
              "      <th>02</th>\n",
              "      <th>024</th>\n",
              "      <th>0271</th>\n",
              "      <th>0273</th>\n",
              "      <th>0298</th>\n",
              "      <th>03</th>\n",
              "      <th>033</th>\n",
              "      <th>0359</th>\n",
              "      <th>0380</th>\n",
              "      <th>0395</th>\n",
              "      <th>04</th>\n",
              "      <th>0409</th>\n",
              "      <th>0412</th>\n",
              "      <th>0441</th>\n",
              "      <th>0462</th>\n",
              "      <th>05</th>\n",
              "      <th>0547</th>\n",
              "      <th>0551</th>\n",
              "      <th>0555</th>\n",
              "      <th>06ghz</th>\n",
              "      <th>0735</th>\n",
              "      <th>0917</th>\n",
              "      <th>0984</th>\n",
              "      <th>0gb</th>\n",
              "      <th>0ghz</th>\n",
              "      <th>0in</th>\n",
              "      <th>0l</th>\n",
              "      <th>0t213e6fmay</th>\n",
              "      <th>10</th>\n",
              "      <th>100</th>\n",
              "      <th>1000</th>\n",
              "      <th>10000</th>\n",
              "      <th>100base</th>\n",
              "      <th>100m</th>\n",
              "      <th>100mhz</th>\n",
              "      <th>...</th>\n",
              "      <th>youngn</th>\n",
              "      <th>youngster</th>\n",
              "      <th>your</th>\n",
              "      <th>yours</th>\n",
              "      <th>yourself</th>\n",
              "      <th>youth</th>\n",
              "      <th>yr</th>\n",
              "      <th>yuck</th>\n",
              "      <th>yugo</th>\n",
              "      <th>yuletid</th>\n",
              "      <th>yuppi</th>\n",
              "      <th>z28</th>\n",
              "      <th>zap</th>\n",
              "      <th>zd7000</th>\n",
              "      <th>zd7020</th>\n",
              "      <th>zd7040</th>\n",
              "      <th>zd70xx</th>\n",
              "      <th>zealand</th>\n",
              "      <th>zekey</th>\n",
              "      <th>zero</th>\n",
              "      <th>zetec</th>\n",
              "      <th>zimmer</th>\n",
              "      <th>zino</th>\n",
              "      <th>zion</th>\n",
              "      <th>zip</th>\n",
              "      <th>ziplock</th>\n",
              "      <th>zippi</th>\n",
              "      <th>zit</th>\n",
              "      <th>zombi</th>\n",
              "      <th>zone</th>\n",
              "      <th>zoo</th>\n",
              "      <th>zooey</th>\n",
              "      <th>zoom</th>\n",
              "      <th>zr</th>\n",
              "      <th>zucchini</th>\n",
              "      <th>zwick</th>\n",
              "      <th>zwigoff</th>\n",
              "      <th>zx3</th>\n",
              "      <th>zy</th>\n",
              "      <th>über</th>\n",
              "    </tr>\n",
              "  </thead>\n",
              "  <tbody>\n",
              "    <tr>\n",
              "      <th>0</th>\n",
              "      <td>0</td>\n",
              "      <td>0</td>\n",
              "      <td>0</td>\n",
              "      <td>0</td>\n",
              "      <td>0</td>\n",
              "      <td>0</td>\n",
              "      <td>0</td>\n",
              "      <td>0</td>\n",
              "      <td>0</td>\n",
              "      <td>0</td>\n",
              "      <td>0</td>\n",
              "      <td>0</td>\n",
              "      <td>0</td>\n",
              "      <td>0</td>\n",
              "      <td>0</td>\n",
              "      <td>0</td>\n",
              "      <td>0</td>\n",
              "      <td>0</td>\n",
              "      <td>0</td>\n",
              "      <td>0</td>\n",
              "      <td>0</td>\n",
              "      <td>0</td>\n",
              "      <td>0</td>\n",
              "      <td>0</td>\n",
              "      <td>0</td>\n",
              "      <td>0</td>\n",
              "      <td>0</td>\n",
              "      <td>0</td>\n",
              "      <td>0</td>\n",
              "      <td>0</td>\n",
              "      <td>0</td>\n",
              "      <td>0</td>\n",
              "      <td>0</td>\n",
              "      <td>0</td>\n",
              "      <td>0</td>\n",
              "      <td>0</td>\n",
              "      <td>0</td>\n",
              "      <td>0</td>\n",
              "      <td>0</td>\n",
              "      <td>0</td>\n",
              "      <td>...</td>\n",
              "      <td>0</td>\n",
              "      <td>0</td>\n",
              "      <td>0</td>\n",
              "      <td>0</td>\n",
              "      <td>0</td>\n",
              "      <td>0</td>\n",
              "      <td>0</td>\n",
              "      <td>0</td>\n",
              "      <td>0</td>\n",
              "      <td>0</td>\n",
              "      <td>0</td>\n",
              "      <td>0</td>\n",
              "      <td>0</td>\n",
              "      <td>0</td>\n",
              "      <td>0</td>\n",
              "      <td>0</td>\n",
              "      <td>0</td>\n",
              "      <td>0</td>\n",
              "      <td>0</td>\n",
              "      <td>0</td>\n",
              "      <td>0</td>\n",
              "      <td>0</td>\n",
              "      <td>0</td>\n",
              "      <td>0</td>\n",
              "      <td>0</td>\n",
              "      <td>0</td>\n",
              "      <td>0</td>\n",
              "      <td>0</td>\n",
              "      <td>0</td>\n",
              "      <td>0</td>\n",
              "      <td>0</td>\n",
              "      <td>0</td>\n",
              "      <td>0</td>\n",
              "      <td>0</td>\n",
              "      <td>0</td>\n",
              "      <td>0</td>\n",
              "      <td>0</td>\n",
              "      <td>0</td>\n",
              "      <td>0</td>\n",
              "      <td>0</td>\n",
              "    </tr>\n",
              "    <tr>\n",
              "      <th>1</th>\n",
              "      <td>0</td>\n",
              "      <td>0</td>\n",
              "      <td>0</td>\n",
              "      <td>0</td>\n",
              "      <td>1</td>\n",
              "      <td>0</td>\n",
              "      <td>0</td>\n",
              "      <td>0</td>\n",
              "      <td>0</td>\n",
              "      <td>0</td>\n",
              "      <td>0</td>\n",
              "      <td>0</td>\n",
              "      <td>0</td>\n",
              "      <td>0</td>\n",
              "      <td>0</td>\n",
              "      <td>0</td>\n",
              "      <td>0</td>\n",
              "      <td>0</td>\n",
              "      <td>0</td>\n",
              "      <td>0</td>\n",
              "      <td>0</td>\n",
              "      <td>0</td>\n",
              "      <td>0</td>\n",
              "      <td>0</td>\n",
              "      <td>0</td>\n",
              "      <td>0</td>\n",
              "      <td>0</td>\n",
              "      <td>0</td>\n",
              "      <td>0</td>\n",
              "      <td>0</td>\n",
              "      <td>0</td>\n",
              "      <td>0</td>\n",
              "      <td>0</td>\n",
              "      <td>0</td>\n",
              "      <td>0</td>\n",
              "      <td>0</td>\n",
              "      <td>0</td>\n",
              "      <td>0</td>\n",
              "      <td>0</td>\n",
              "      <td>0</td>\n",
              "      <td>...</td>\n",
              "      <td>0</td>\n",
              "      <td>0</td>\n",
              "      <td>0</td>\n",
              "      <td>0</td>\n",
              "      <td>0</td>\n",
              "      <td>0</td>\n",
              "      <td>0</td>\n",
              "      <td>0</td>\n",
              "      <td>0</td>\n",
              "      <td>0</td>\n",
              "      <td>0</td>\n",
              "      <td>0</td>\n",
              "      <td>0</td>\n",
              "      <td>0</td>\n",
              "      <td>0</td>\n",
              "      <td>0</td>\n",
              "      <td>0</td>\n",
              "      <td>0</td>\n",
              "      <td>0</td>\n",
              "      <td>0</td>\n",
              "      <td>0</td>\n",
              "      <td>0</td>\n",
              "      <td>0</td>\n",
              "      <td>0</td>\n",
              "      <td>0</td>\n",
              "      <td>0</td>\n",
              "      <td>0</td>\n",
              "      <td>0</td>\n",
              "      <td>0</td>\n",
              "      <td>0</td>\n",
              "      <td>0</td>\n",
              "      <td>0</td>\n",
              "      <td>0</td>\n",
              "      <td>0</td>\n",
              "      <td>0</td>\n",
              "      <td>0</td>\n",
              "      <td>0</td>\n",
              "      <td>0</td>\n",
              "      <td>0</td>\n",
              "      <td>0</td>\n",
              "    </tr>\n",
              "    <tr>\n",
              "      <th>2</th>\n",
              "      <td>0</td>\n",
              "      <td>0</td>\n",
              "      <td>0</td>\n",
              "      <td>0</td>\n",
              "      <td>0</td>\n",
              "      <td>0</td>\n",
              "      <td>0</td>\n",
              "      <td>0</td>\n",
              "      <td>0</td>\n",
              "      <td>0</td>\n",
              "      <td>0</td>\n",
              "      <td>0</td>\n",
              "      <td>0</td>\n",
              "      <td>0</td>\n",
              "      <td>0</td>\n",
              "      <td>0</td>\n",
              "      <td>0</td>\n",
              "      <td>0</td>\n",
              "      <td>0</td>\n",
              "      <td>0</td>\n",
              "      <td>0</td>\n",
              "      <td>0</td>\n",
              "      <td>0</td>\n",
              "      <td>0</td>\n",
              "      <td>0</td>\n",
              "      <td>0</td>\n",
              "      <td>0</td>\n",
              "      <td>0</td>\n",
              "      <td>0</td>\n",
              "      <td>0</td>\n",
              "      <td>0</td>\n",
              "      <td>0</td>\n",
              "      <td>0</td>\n",
              "      <td>2</td>\n",
              "      <td>1</td>\n",
              "      <td>0</td>\n",
              "      <td>1</td>\n",
              "      <td>0</td>\n",
              "      <td>0</td>\n",
              "      <td>0</td>\n",
              "      <td>...</td>\n",
              "      <td>0</td>\n",
              "      <td>0</td>\n",
              "      <td>0</td>\n",
              "      <td>0</td>\n",
              "      <td>0</td>\n",
              "      <td>0</td>\n",
              "      <td>0</td>\n",
              "      <td>0</td>\n",
              "      <td>0</td>\n",
              "      <td>0</td>\n",
              "      <td>0</td>\n",
              "      <td>0</td>\n",
              "      <td>0</td>\n",
              "      <td>0</td>\n",
              "      <td>1</td>\n",
              "      <td>1</td>\n",
              "      <td>0</td>\n",
              "      <td>0</td>\n",
              "      <td>0</td>\n",
              "      <td>0</td>\n",
              "      <td>0</td>\n",
              "      <td>0</td>\n",
              "      <td>0</td>\n",
              "      <td>0</td>\n",
              "      <td>0</td>\n",
              "      <td>0</td>\n",
              "      <td>0</td>\n",
              "      <td>0</td>\n",
              "      <td>0</td>\n",
              "      <td>0</td>\n",
              "      <td>0</td>\n",
              "      <td>0</td>\n",
              "      <td>0</td>\n",
              "      <td>0</td>\n",
              "      <td>0</td>\n",
              "      <td>0</td>\n",
              "      <td>0</td>\n",
              "      <td>0</td>\n",
              "      <td>0</td>\n",
              "      <td>0</td>\n",
              "    </tr>\n",
              "    <tr>\n",
              "      <th>3</th>\n",
              "      <td>0</td>\n",
              "      <td>0</td>\n",
              "      <td>0</td>\n",
              "      <td>0</td>\n",
              "      <td>0</td>\n",
              "      <td>0</td>\n",
              "      <td>0</td>\n",
              "      <td>0</td>\n",
              "      <td>0</td>\n",
              "      <td>0</td>\n",
              "      <td>0</td>\n",
              "      <td>0</td>\n",
              "      <td>0</td>\n",
              "      <td>0</td>\n",
              "      <td>0</td>\n",
              "      <td>0</td>\n",
              "      <td>0</td>\n",
              "      <td>0</td>\n",
              "      <td>0</td>\n",
              "      <td>0</td>\n",
              "      <td>0</td>\n",
              "      <td>0</td>\n",
              "      <td>0</td>\n",
              "      <td>0</td>\n",
              "      <td>0</td>\n",
              "      <td>0</td>\n",
              "      <td>0</td>\n",
              "      <td>0</td>\n",
              "      <td>0</td>\n",
              "      <td>0</td>\n",
              "      <td>0</td>\n",
              "      <td>0</td>\n",
              "      <td>0</td>\n",
              "      <td>0</td>\n",
              "      <td>0</td>\n",
              "      <td>0</td>\n",
              "      <td>0</td>\n",
              "      <td>0</td>\n",
              "      <td>0</td>\n",
              "      <td>0</td>\n",
              "      <td>...</td>\n",
              "      <td>0</td>\n",
              "      <td>0</td>\n",
              "      <td>0</td>\n",
              "      <td>0</td>\n",
              "      <td>0</td>\n",
              "      <td>0</td>\n",
              "      <td>0</td>\n",
              "      <td>0</td>\n",
              "      <td>0</td>\n",
              "      <td>0</td>\n",
              "      <td>0</td>\n",
              "      <td>0</td>\n",
              "      <td>0</td>\n",
              "      <td>0</td>\n",
              "      <td>0</td>\n",
              "      <td>0</td>\n",
              "      <td>0</td>\n",
              "      <td>0</td>\n",
              "      <td>0</td>\n",
              "      <td>0</td>\n",
              "      <td>0</td>\n",
              "      <td>0</td>\n",
              "      <td>0</td>\n",
              "      <td>0</td>\n",
              "      <td>0</td>\n",
              "      <td>0</td>\n",
              "      <td>0</td>\n",
              "      <td>0</td>\n",
              "      <td>0</td>\n",
              "      <td>0</td>\n",
              "      <td>0</td>\n",
              "      <td>0</td>\n",
              "      <td>0</td>\n",
              "      <td>0</td>\n",
              "      <td>0</td>\n",
              "      <td>0</td>\n",
              "      <td>0</td>\n",
              "      <td>0</td>\n",
              "      <td>0</td>\n",
              "      <td>0</td>\n",
              "    </tr>\n",
              "    <tr>\n",
              "      <th>4</th>\n",
              "      <td>0</td>\n",
              "      <td>0</td>\n",
              "      <td>0</td>\n",
              "      <td>0</td>\n",
              "      <td>0</td>\n",
              "      <td>0</td>\n",
              "      <td>0</td>\n",
              "      <td>0</td>\n",
              "      <td>0</td>\n",
              "      <td>0</td>\n",
              "      <td>0</td>\n",
              "      <td>0</td>\n",
              "      <td>0</td>\n",
              "      <td>0</td>\n",
              "      <td>0</td>\n",
              "      <td>0</td>\n",
              "      <td>0</td>\n",
              "      <td>0</td>\n",
              "      <td>0</td>\n",
              "      <td>0</td>\n",
              "      <td>0</td>\n",
              "      <td>0</td>\n",
              "      <td>0</td>\n",
              "      <td>0</td>\n",
              "      <td>0</td>\n",
              "      <td>0</td>\n",
              "      <td>0</td>\n",
              "      <td>0</td>\n",
              "      <td>0</td>\n",
              "      <td>0</td>\n",
              "      <td>0</td>\n",
              "      <td>0</td>\n",
              "      <td>0</td>\n",
              "      <td>0</td>\n",
              "      <td>1</td>\n",
              "      <td>0</td>\n",
              "      <td>0</td>\n",
              "      <td>0</td>\n",
              "      <td>0</td>\n",
              "      <td>0</td>\n",
              "      <td>...</td>\n",
              "      <td>0</td>\n",
              "      <td>0</td>\n",
              "      <td>0</td>\n",
              "      <td>0</td>\n",
              "      <td>0</td>\n",
              "      <td>0</td>\n",
              "      <td>0</td>\n",
              "      <td>0</td>\n",
              "      <td>0</td>\n",
              "      <td>0</td>\n",
              "      <td>0</td>\n",
              "      <td>0</td>\n",
              "      <td>0</td>\n",
              "      <td>0</td>\n",
              "      <td>0</td>\n",
              "      <td>0</td>\n",
              "      <td>0</td>\n",
              "      <td>0</td>\n",
              "      <td>0</td>\n",
              "      <td>0</td>\n",
              "      <td>0</td>\n",
              "      <td>0</td>\n",
              "      <td>0</td>\n",
              "      <td>0</td>\n",
              "      <td>0</td>\n",
              "      <td>0</td>\n",
              "      <td>0</td>\n",
              "      <td>0</td>\n",
              "      <td>0</td>\n",
              "      <td>0</td>\n",
              "      <td>0</td>\n",
              "      <td>0</td>\n",
              "      <td>0</td>\n",
              "      <td>0</td>\n",
              "      <td>0</td>\n",
              "      <td>0</td>\n",
              "      <td>0</td>\n",
              "      <td>0</td>\n",
              "      <td>0</td>\n",
              "      <td>0</td>\n",
              "    </tr>\n",
              "    <tr>\n",
              "      <th>...</th>\n",
              "      <td>...</td>\n",
              "      <td>...</td>\n",
              "      <td>...</td>\n",
              "      <td>...</td>\n",
              "      <td>...</td>\n",
              "      <td>...</td>\n",
              "      <td>...</td>\n",
              "      <td>...</td>\n",
              "      <td>...</td>\n",
              "      <td>...</td>\n",
              "      <td>...</td>\n",
              "      <td>...</td>\n",
              "      <td>...</td>\n",
              "      <td>...</td>\n",
              "      <td>...</td>\n",
              "      <td>...</td>\n",
              "      <td>...</td>\n",
              "      <td>...</td>\n",
              "      <td>...</td>\n",
              "      <td>...</td>\n",
              "      <td>...</td>\n",
              "      <td>...</td>\n",
              "      <td>...</td>\n",
              "      <td>...</td>\n",
              "      <td>...</td>\n",
              "      <td>...</td>\n",
              "      <td>...</td>\n",
              "      <td>...</td>\n",
              "      <td>...</td>\n",
              "      <td>...</td>\n",
              "      <td>...</td>\n",
              "      <td>...</td>\n",
              "      <td>...</td>\n",
              "      <td>...</td>\n",
              "      <td>...</td>\n",
              "      <td>...</td>\n",
              "      <td>...</td>\n",
              "      <td>...</td>\n",
              "      <td>...</td>\n",
              "      <td>...</td>\n",
              "      <td>...</td>\n",
              "      <td>...</td>\n",
              "      <td>...</td>\n",
              "      <td>...</td>\n",
              "      <td>...</td>\n",
              "      <td>...</td>\n",
              "      <td>...</td>\n",
              "      <td>...</td>\n",
              "      <td>...</td>\n",
              "      <td>...</td>\n",
              "      <td>...</td>\n",
              "      <td>...</td>\n",
              "      <td>...</td>\n",
              "      <td>...</td>\n",
              "      <td>...</td>\n",
              "      <td>...</td>\n",
              "      <td>...</td>\n",
              "      <td>...</td>\n",
              "      <td>...</td>\n",
              "      <td>...</td>\n",
              "      <td>...</td>\n",
              "      <td>...</td>\n",
              "      <td>...</td>\n",
              "      <td>...</td>\n",
              "      <td>...</td>\n",
              "      <td>...</td>\n",
              "      <td>...</td>\n",
              "      <td>...</td>\n",
              "      <td>...</td>\n",
              "      <td>...</td>\n",
              "      <td>...</td>\n",
              "      <td>...</td>\n",
              "      <td>...</td>\n",
              "      <td>...</td>\n",
              "      <td>...</td>\n",
              "      <td>...</td>\n",
              "      <td>...</td>\n",
              "      <td>...</td>\n",
              "      <td>...</td>\n",
              "      <td>...</td>\n",
              "      <td>...</td>\n",
              "    </tr>\n",
              "    <tr>\n",
              "      <th>275</th>\n",
              "      <td>0</td>\n",
              "      <td>0</td>\n",
              "      <td>0</td>\n",
              "      <td>0</td>\n",
              "      <td>0</td>\n",
              "      <td>0</td>\n",
              "      <td>0</td>\n",
              "      <td>0</td>\n",
              "      <td>0</td>\n",
              "      <td>0</td>\n",
              "      <td>0</td>\n",
              "      <td>0</td>\n",
              "      <td>0</td>\n",
              "      <td>0</td>\n",
              "      <td>0</td>\n",
              "      <td>0</td>\n",
              "      <td>0</td>\n",
              "      <td>0</td>\n",
              "      <td>0</td>\n",
              "      <td>0</td>\n",
              "      <td>0</td>\n",
              "      <td>0</td>\n",
              "      <td>0</td>\n",
              "      <td>0</td>\n",
              "      <td>0</td>\n",
              "      <td>0</td>\n",
              "      <td>0</td>\n",
              "      <td>0</td>\n",
              "      <td>0</td>\n",
              "      <td>0</td>\n",
              "      <td>0</td>\n",
              "      <td>0</td>\n",
              "      <td>0</td>\n",
              "      <td>0</td>\n",
              "      <td>0</td>\n",
              "      <td>0</td>\n",
              "      <td>0</td>\n",
              "      <td>0</td>\n",
              "      <td>0</td>\n",
              "      <td>0</td>\n",
              "      <td>...</td>\n",
              "      <td>0</td>\n",
              "      <td>0</td>\n",
              "      <td>0</td>\n",
              "      <td>0</td>\n",
              "      <td>0</td>\n",
              "      <td>0</td>\n",
              "      <td>0</td>\n",
              "      <td>0</td>\n",
              "      <td>0</td>\n",
              "      <td>0</td>\n",
              "      <td>0</td>\n",
              "      <td>0</td>\n",
              "      <td>0</td>\n",
              "      <td>0</td>\n",
              "      <td>0</td>\n",
              "      <td>0</td>\n",
              "      <td>0</td>\n",
              "      <td>0</td>\n",
              "      <td>0</td>\n",
              "      <td>0</td>\n",
              "      <td>0</td>\n",
              "      <td>0</td>\n",
              "      <td>0</td>\n",
              "      <td>0</td>\n",
              "      <td>0</td>\n",
              "      <td>0</td>\n",
              "      <td>0</td>\n",
              "      <td>0</td>\n",
              "      <td>0</td>\n",
              "      <td>0</td>\n",
              "      <td>0</td>\n",
              "      <td>0</td>\n",
              "      <td>0</td>\n",
              "      <td>0</td>\n",
              "      <td>0</td>\n",
              "      <td>0</td>\n",
              "      <td>0</td>\n",
              "      <td>0</td>\n",
              "      <td>0</td>\n",
              "      <td>0</td>\n",
              "    </tr>\n",
              "    <tr>\n",
              "      <th>276</th>\n",
              "      <td>0</td>\n",
              "      <td>0</td>\n",
              "      <td>0</td>\n",
              "      <td>0</td>\n",
              "      <td>0</td>\n",
              "      <td>0</td>\n",
              "      <td>0</td>\n",
              "      <td>0</td>\n",
              "      <td>0</td>\n",
              "      <td>0</td>\n",
              "      <td>0</td>\n",
              "      <td>0</td>\n",
              "      <td>0</td>\n",
              "      <td>0</td>\n",
              "      <td>0</td>\n",
              "      <td>0</td>\n",
              "      <td>0</td>\n",
              "      <td>0</td>\n",
              "      <td>0</td>\n",
              "      <td>0</td>\n",
              "      <td>0</td>\n",
              "      <td>0</td>\n",
              "      <td>0</td>\n",
              "      <td>0</td>\n",
              "      <td>0</td>\n",
              "      <td>0</td>\n",
              "      <td>0</td>\n",
              "      <td>0</td>\n",
              "      <td>0</td>\n",
              "      <td>0</td>\n",
              "      <td>0</td>\n",
              "      <td>0</td>\n",
              "      <td>0</td>\n",
              "      <td>1</td>\n",
              "      <td>0</td>\n",
              "      <td>0</td>\n",
              "      <td>0</td>\n",
              "      <td>0</td>\n",
              "      <td>0</td>\n",
              "      <td>0</td>\n",
              "      <td>...</td>\n",
              "      <td>0</td>\n",
              "      <td>0</td>\n",
              "      <td>0</td>\n",
              "      <td>0</td>\n",
              "      <td>0</td>\n",
              "      <td>0</td>\n",
              "      <td>0</td>\n",
              "      <td>0</td>\n",
              "      <td>0</td>\n",
              "      <td>0</td>\n",
              "      <td>0</td>\n",
              "      <td>0</td>\n",
              "      <td>0</td>\n",
              "      <td>0</td>\n",
              "      <td>0</td>\n",
              "      <td>0</td>\n",
              "      <td>0</td>\n",
              "      <td>0</td>\n",
              "      <td>0</td>\n",
              "      <td>0</td>\n",
              "      <td>0</td>\n",
              "      <td>0</td>\n",
              "      <td>0</td>\n",
              "      <td>0</td>\n",
              "      <td>0</td>\n",
              "      <td>0</td>\n",
              "      <td>0</td>\n",
              "      <td>0</td>\n",
              "      <td>0</td>\n",
              "      <td>0</td>\n",
              "      <td>0</td>\n",
              "      <td>0</td>\n",
              "      <td>0</td>\n",
              "      <td>0</td>\n",
              "      <td>0</td>\n",
              "      <td>0</td>\n",
              "      <td>0</td>\n",
              "      <td>0</td>\n",
              "      <td>0</td>\n",
              "      <td>0</td>\n",
              "    </tr>\n",
              "    <tr>\n",
              "      <th>277</th>\n",
              "      <td>0</td>\n",
              "      <td>0</td>\n",
              "      <td>0</td>\n",
              "      <td>0</td>\n",
              "      <td>0</td>\n",
              "      <td>0</td>\n",
              "      <td>0</td>\n",
              "      <td>0</td>\n",
              "      <td>0</td>\n",
              "      <td>0</td>\n",
              "      <td>0</td>\n",
              "      <td>0</td>\n",
              "      <td>0</td>\n",
              "      <td>0</td>\n",
              "      <td>0</td>\n",
              "      <td>0</td>\n",
              "      <td>0</td>\n",
              "      <td>0</td>\n",
              "      <td>0</td>\n",
              "      <td>0</td>\n",
              "      <td>0</td>\n",
              "      <td>0</td>\n",
              "      <td>0</td>\n",
              "      <td>0</td>\n",
              "      <td>0</td>\n",
              "      <td>0</td>\n",
              "      <td>0</td>\n",
              "      <td>0</td>\n",
              "      <td>0</td>\n",
              "      <td>0</td>\n",
              "      <td>0</td>\n",
              "      <td>0</td>\n",
              "      <td>0</td>\n",
              "      <td>0</td>\n",
              "      <td>1</td>\n",
              "      <td>0</td>\n",
              "      <td>0</td>\n",
              "      <td>0</td>\n",
              "      <td>0</td>\n",
              "      <td>0</td>\n",
              "      <td>...</td>\n",
              "      <td>0</td>\n",
              "      <td>0</td>\n",
              "      <td>0</td>\n",
              "      <td>0</td>\n",
              "      <td>0</td>\n",
              "      <td>0</td>\n",
              "      <td>0</td>\n",
              "      <td>0</td>\n",
              "      <td>0</td>\n",
              "      <td>0</td>\n",
              "      <td>0</td>\n",
              "      <td>0</td>\n",
              "      <td>0</td>\n",
              "      <td>0</td>\n",
              "      <td>0</td>\n",
              "      <td>0</td>\n",
              "      <td>0</td>\n",
              "      <td>0</td>\n",
              "      <td>0</td>\n",
              "      <td>0</td>\n",
              "      <td>0</td>\n",
              "      <td>0</td>\n",
              "      <td>0</td>\n",
              "      <td>0</td>\n",
              "      <td>0</td>\n",
              "      <td>0</td>\n",
              "      <td>0</td>\n",
              "      <td>0</td>\n",
              "      <td>0</td>\n",
              "      <td>0</td>\n",
              "      <td>0</td>\n",
              "      <td>0</td>\n",
              "      <td>0</td>\n",
              "      <td>0</td>\n",
              "      <td>0</td>\n",
              "      <td>0</td>\n",
              "      <td>0</td>\n",
              "      <td>0</td>\n",
              "      <td>0</td>\n",
              "      <td>0</td>\n",
              "    </tr>\n",
              "    <tr>\n",
              "      <th>278</th>\n",
              "      <td>0</td>\n",
              "      <td>0</td>\n",
              "      <td>0</td>\n",
              "      <td>0</td>\n",
              "      <td>0</td>\n",
              "      <td>0</td>\n",
              "      <td>0</td>\n",
              "      <td>0</td>\n",
              "      <td>0</td>\n",
              "      <td>0</td>\n",
              "      <td>0</td>\n",
              "      <td>0</td>\n",
              "      <td>0</td>\n",
              "      <td>0</td>\n",
              "      <td>0</td>\n",
              "      <td>0</td>\n",
              "      <td>0</td>\n",
              "      <td>0</td>\n",
              "      <td>0</td>\n",
              "      <td>0</td>\n",
              "      <td>0</td>\n",
              "      <td>0</td>\n",
              "      <td>0</td>\n",
              "      <td>0</td>\n",
              "      <td>0</td>\n",
              "      <td>0</td>\n",
              "      <td>0</td>\n",
              "      <td>0</td>\n",
              "      <td>0</td>\n",
              "      <td>0</td>\n",
              "      <td>0</td>\n",
              "      <td>0</td>\n",
              "      <td>0</td>\n",
              "      <td>0</td>\n",
              "      <td>0</td>\n",
              "      <td>0</td>\n",
              "      <td>0</td>\n",
              "      <td>0</td>\n",
              "      <td>0</td>\n",
              "      <td>0</td>\n",
              "      <td>...</td>\n",
              "      <td>0</td>\n",
              "      <td>0</td>\n",
              "      <td>0</td>\n",
              "      <td>0</td>\n",
              "      <td>0</td>\n",
              "      <td>0</td>\n",
              "      <td>0</td>\n",
              "      <td>0</td>\n",
              "      <td>0</td>\n",
              "      <td>0</td>\n",
              "      <td>0</td>\n",
              "      <td>0</td>\n",
              "      <td>0</td>\n",
              "      <td>0</td>\n",
              "      <td>0</td>\n",
              "      <td>0</td>\n",
              "      <td>0</td>\n",
              "      <td>0</td>\n",
              "      <td>0</td>\n",
              "      <td>0</td>\n",
              "      <td>0</td>\n",
              "      <td>0</td>\n",
              "      <td>0</td>\n",
              "      <td>0</td>\n",
              "      <td>0</td>\n",
              "      <td>0</td>\n",
              "      <td>0</td>\n",
              "      <td>0</td>\n",
              "      <td>0</td>\n",
              "      <td>0</td>\n",
              "      <td>0</td>\n",
              "      <td>0</td>\n",
              "      <td>0</td>\n",
              "      <td>0</td>\n",
              "      <td>0</td>\n",
              "      <td>0</td>\n",
              "      <td>0</td>\n",
              "      <td>0</td>\n",
              "      <td>0</td>\n",
              "      <td>0</td>\n",
              "    </tr>\n",
              "    <tr>\n",
              "      <th>279</th>\n",
              "      <td>0</td>\n",
              "      <td>0</td>\n",
              "      <td>0</td>\n",
              "      <td>0</td>\n",
              "      <td>0</td>\n",
              "      <td>0</td>\n",
              "      <td>0</td>\n",
              "      <td>0</td>\n",
              "      <td>0</td>\n",
              "      <td>0</td>\n",
              "      <td>0</td>\n",
              "      <td>0</td>\n",
              "      <td>0</td>\n",
              "      <td>0</td>\n",
              "      <td>0</td>\n",
              "      <td>0</td>\n",
              "      <td>0</td>\n",
              "      <td>0</td>\n",
              "      <td>0</td>\n",
              "      <td>0</td>\n",
              "      <td>0</td>\n",
              "      <td>0</td>\n",
              "      <td>0</td>\n",
              "      <td>0</td>\n",
              "      <td>0</td>\n",
              "      <td>0</td>\n",
              "      <td>0</td>\n",
              "      <td>0</td>\n",
              "      <td>0</td>\n",
              "      <td>0</td>\n",
              "      <td>0</td>\n",
              "      <td>0</td>\n",
              "      <td>0</td>\n",
              "      <td>1</td>\n",
              "      <td>0</td>\n",
              "      <td>0</td>\n",
              "      <td>0</td>\n",
              "      <td>0</td>\n",
              "      <td>0</td>\n",
              "      <td>0</td>\n",
              "      <td>...</td>\n",
              "      <td>0</td>\n",
              "      <td>0</td>\n",
              "      <td>0</td>\n",
              "      <td>0</td>\n",
              "      <td>0</td>\n",
              "      <td>0</td>\n",
              "      <td>0</td>\n",
              "      <td>0</td>\n",
              "      <td>0</td>\n",
              "      <td>0</td>\n",
              "      <td>0</td>\n",
              "      <td>0</td>\n",
              "      <td>0</td>\n",
              "      <td>0</td>\n",
              "      <td>0</td>\n",
              "      <td>0</td>\n",
              "      <td>0</td>\n",
              "      <td>0</td>\n",
              "      <td>0</td>\n",
              "      <td>0</td>\n",
              "      <td>0</td>\n",
              "      <td>0</td>\n",
              "      <td>0</td>\n",
              "      <td>0</td>\n",
              "      <td>0</td>\n",
              "      <td>0</td>\n",
              "      <td>0</td>\n",
              "      <td>0</td>\n",
              "      <td>0</td>\n",
              "      <td>0</td>\n",
              "      <td>0</td>\n",
              "      <td>0</td>\n",
              "      <td>0</td>\n",
              "      <td>0</td>\n",
              "      <td>0</td>\n",
              "      <td>0</td>\n",
              "      <td>0</td>\n",
              "      <td>0</td>\n",
              "      <td>0</td>\n",
              "      <td>0</td>\n",
              "    </tr>\n",
              "  </tbody>\n",
              "</table>\n",
              "<p>280 rows × 10452 columns</p>\n",
              "</div>"
            ],
            "text/plain": [
              "     00  000  007  00pm  01  02  ...  zucchini  zwick  zwigoff  zx3  zy  über\n",
              "0     0    0    0     0   0   0  ...         0      0        0    0   0     0\n",
              "1     0    0    0     0   1   0  ...         0      0        0    0   0     0\n",
              "2     0    0    0     0   0   0  ...         0      0        0    0   0     0\n",
              "3     0    0    0     0   0   0  ...         0      0        0    0   0     0\n",
              "4     0    0    0     0   0   0  ...         0      0        0    0   0     0\n",
              "..   ..  ...  ...   ...  ..  ..  ...       ...    ...      ...  ...  ..   ...\n",
              "275   0    0    0     0   0   0  ...         0      0        0    0   0     0\n",
              "276   0    0    0     0   0   0  ...         0      0        0    0   0     0\n",
              "277   0    0    0     0   0   0  ...         0      0        0    0   0     0\n",
              "278   0    0    0     0   0   0  ...         0      0        0    0   0     0\n",
              "279   0    0    0     0   0   0  ...         0      0        0    0   0     0\n",
              "\n",
              "[280 rows x 10452 columns]"
            ]
          },
          "metadata": {
            "tags": []
          },
          "execution_count": 35
        }
      ]
    },
    {
      "cell_type": "code",
      "metadata": {
        "colab": {
          "base_uri": "https://localhost:8080/"
        },
        "id": "md-bsAZnrF6x",
        "outputId": "46e00f13-f393-482b-b96c-6be0df8f9f81"
      },
      "source": [
        "print(f'Shape de la matriz dispersa: {X_train_bow.shape}')\n",
        "print(f'Cantidad de ocurrencias que no son cero: {X_train_bow.nnz}')\n",
        "\n",
        "# La dispersión de la matriz se calcula como el número de elementos de valor cero dividido por el número total de elementos \n",
        "# Una matriz será dispersa cuando su dispersión sea mayor que 0,5\n",
        "sparsity = (X_train_bow.shape[0] * X_train_bow.shape[1] - X_train_bow.nnz)/ (X_train_bow.shape[0] * X_train_bow.shape[1]) *100\n",
        "print(f'Dispersión: {sparsity}')"
      ],
      "execution_count": 36,
      "outputs": [
        {
          "output_type": "stream",
          "text": [
            "Shape de la matriz dispersa: (280, 10452)\n",
            "Cantidad de ocurrencias que no son cero: 64422\n",
            "Dispersión: 97.7987124815483\n"
          ],
          "name": "stdout"
        }
      ]
    },
    {
      "cell_type": "markdown",
      "metadata": {
        "id": "cOPtOoPKrF6x"
      },
      "source": [
        "Por último, podemos comprobar el número de veces que una palabra del vocabulario aparece en el conjunto de artículos de opinión. Por ejemplo, la palabra 'hotel' tiene cero ocurrencias en 246 opiniones, aparece una vez en 9 opiniones y así sucesivamente."
      ]
    },
    {
      "cell_type": "code",
      "metadata": {
        "colab": {
          "base_uri": "https://localhost:8080/"
        },
        "id": "d1_TJ2JjrF6y",
        "outputId": "ba6eb626-ee16-4083-c008-2794c3b28753"
      },
      "source": [
        "pd.DataFrame(pd.DataFrame(X_train_bow.toarray(), columns=bow_transformer.get_feature_names()))['hotel'].value_counts()"
      ],
      "execution_count": 38,
      "outputs": [
        {
          "output_type": "execute_result",
          "data": {
            "text/plain": [
              "0     246\n",
              "1       9\n",
              "5       4\n",
              "8       3\n",
              "7       3\n",
              "6       3\n",
              "4       3\n",
              "3       3\n",
              "14      2\n",
              "19      1\n",
              "12      1\n",
              "9       1\n",
              "2       1\n",
              "Name: hotel, dtype: int64"
            ]
          },
          "metadata": {
            "tags": []
          },
          "execution_count": 38
        }
      ]
    },
    {
      "cell_type": "markdown",
      "metadata": {
        "id": "pKwS9CDprF6y"
      },
      "source": [
        "## Entrenamiento del modelo\n",
        "\n",
        "¡Es hora de entrenar el modelo!\n",
        "\n",
        "Vamos a probar un clasificador de regresión logística de Scikit-learn para entrenar nuestro modelo."
      ]
    },
    {
      "cell_type": "code",
      "metadata": {
        "id": "ecIHVXKdrF6y"
      },
      "source": [
        "from sklearn.linear_model import LogisticRegression\n",
        "\n",
        "modelLR = LogisticRegression()"
      ],
      "execution_count": 39,
      "outputs": []
    },
    {
      "cell_type": "markdown",
      "metadata": {
        "id": "f7lfuH7arF6z"
      },
      "source": [
        "Ahora ajustemos modelLR usando los datos de entrenamiento vectorizados."
      ]
    },
    {
      "cell_type": "code",
      "metadata": {
        "colab": {
          "base_uri": "https://localhost:8080/"
        },
        "id": "QzYP3hwmrF6z",
        "outputId": "de58fd14-3d3e-42eb-cd46-4f8fe06329a2"
      },
      "source": [
        "modelLR.fit(X_train_bow, y_train)"
      ],
      "execution_count": 40,
      "outputs": [
        {
          "output_type": "execute_result",
          "data": {
            "text/plain": [
              "LogisticRegression(C=1.0, class_weight=None, dual=False, fit_intercept=True,\n",
              "                   intercept_scaling=1, l1_ratio=None, max_iter=100,\n",
              "                   multi_class='auto', n_jobs=None, penalty='l2',\n",
              "                   random_state=None, solver='lbfgs', tol=0.0001, verbose=0,\n",
              "                   warm_start=False)"
            ]
          },
          "metadata": {
            "tags": []
          },
          "execution_count": 40
        }
      ]
    },
    {
      "cell_type": "markdown",
      "metadata": {
        "id": "e7jbGVwXrF6z"
      },
      "source": [
        "## Evaluación del modelo\n",
        "\n",
        "Es hora de evaluar el modelo.\n",
        "\n",
        "Para ver el rendimiento del modelo utilizamos el conjunto de test. En primer lugar, transformamos el conjunto de test a su matriz BoW utilizando el vectorizador aprendido en el entrenamiento y aplicamos el modelo entrenado utilizando el método de predicción."
      ]
    },
    {
      "cell_type": "code",
      "metadata": {
        "colab": {
          "base_uri": "https://localhost:8080/"
        },
        "id": "tEE4-DslrF6z",
        "outputId": "9643b8de-85bf-49dd-fbc1-34b5ee844cd2"
      },
      "source": [
        "X_test_bow = bow_transformer.transform(X_test)\n",
        "X_test_bow.shape"
      ],
      "execution_count": 41,
      "outputs": [
        {
          "output_type": "execute_result",
          "data": {
            "text/plain": [
              "(120, 10452)"
            ]
          },
          "metadata": {
            "tags": []
          },
          "execution_count": 41
        }
      ]
    },
    {
      "cell_type": "code",
      "metadata": {
        "id": "ptDZjvUDrF60"
      },
      "source": [
        "predictions = modelLR.predict(X_test_bow)"
      ],
      "execution_count": 42,
      "outputs": []
    },
    {
      "cell_type": "markdown",
      "metadata": {
        "id": "jA33LhAcrF60"
      },
      "source": [
        "Podemos crear una matriz de confusión usando esas predicciones y el conjunto y_test."
      ]
    },
    {
      "cell_type": "code",
      "metadata": {
        "id": "C3b9wvBWrF60"
      },
      "source": [
        "from sklearn.metrics import confusion_matrix, ConfusionMatrixDisplay"
      ],
      "execution_count": 43,
      "outputs": []
    },
    {
      "cell_type": "code",
      "metadata": {
        "colab": {
          "base_uri": "https://localhost:8080/",
          "height": 296
        },
        "id": "tR9UJX91rF60",
        "outputId": "a35c75f5-31dd-44b7-977d-807176f828c4"
      },
      "source": [
        "ConfusionMatrixDisplay(confusion_matrix(y_test,predictions), display_labels=modelLR.classes_).plot(cmap='YlGnBu')"
      ],
      "execution_count": 44,
      "outputs": [
        {
          "output_type": "execute_result",
          "data": {
            "text/plain": [
              "<sklearn.metrics._plot.confusion_matrix.ConfusionMatrixDisplay at 0x7fab19645110>"
            ]
          },
          "metadata": {
            "tags": []
          },
          "execution_count": 44
        },
        {
          "output_type": "display_data",
          "data": {
            "image/png": "[encoded data removed]",
            "text/plain": [
              "<Figure size 432x288 with 2 Axes>"
            ]
          },
          "metadata": {
            "tags": [],
            "needs_background": "light"
          }
        }
      ]
    },
    {
      "cell_type": "markdown",
      "metadata": {
        "id": "VaZ_B6IirF61"
      },
      "source": [
        "Podemos utilizar el informe de clasificación incorporado en Scikit-learn, que devuelve [precisión, cobertura,](https://en.wikipedia.org/wiki/Precision_and_recall) [f1-score](https://en.wikipedia.org/wiki/F1_score), y una columna de soporte (que significa cuántos casos apoyaron esa clasificación). Consulta los enlaces para obtener información más detallada sobre cada una de estas métricas y la figura siguiente:"
      ]
    },
    {
      "cell_type": "markdown",
      "metadata": {
        "id": "39M4PUBjrF61"
      },
      "source": [
        "<img src='https://upload.wikimedia.org/wikipedia/commons/thumb/2/26/Precisionrecall.svg/700px-Precisionrecall.svg.png' width=400 />"
      ]
    },
    {
      "cell_type": "markdown",
      "metadata": {
        "id": "5RPP9rFerF61"
      },
      "source": [
        "** 4. Muestra el informe de clasificación utilizando Scikit-learn. **"
      ]
    },
    {
      "cell_type": "code",
      "metadata": {
        "id": "FfybjFXqrF61"
      },
      "source": [
        "from sklearn.metrics import classification_report"
      ],
      "execution_count": 45,
      "outputs": []
    },
    {
      "cell_type": "code",
      "metadata": {
        "colab": {
          "base_uri": "https://localhost:8080/"
        },
        "id": "iMwWjM8-rF62",
        "outputId": "2b86ec82-353e-4ed1-dfeb-b38d050388ae"
      },
      "source": [
        "print(classification_report(y_test,predictions))"
      ],
      "execution_count": 47,
      "outputs": [
        {
          "output_type": "stream",
          "text": [
            "              precision    recall  f1-score   support\n",
            "\n",
            "           0       0.66      0.75      0.70        55\n",
            "           1       0.76      0.68      0.72        65\n",
            "\n",
            "    accuracy                           0.71       120\n",
            "   macro avg       0.71      0.71      0.71       120\n",
            "weighted avg       0.71      0.71      0.71       120\n",
            "\n"
          ],
          "name": "stdout"
        }
      ]
    },
    {
      "cell_type": "markdown",
      "metadata": {
        "id": "WyXJd-jXrF62"
      },
      "source": [
        "Salida esperada:\n",
        "\n",
        "![Captura%20de%20pantalla%202021-01-28%20a%20las%2012.57.31.png](attachment:Captura%20de%20pantalla%202021-01-28%20a%20las%2012.57.31.png)"
      ]
    },
    {
      "cell_type": "markdown",
      "metadata": {
        "id": "eidMWCbWrF62"
      },
      "source": [
        "Por último, y para comprender mejor cómo nuestro modelo realiza estas predicciones, podemos utilizar los coeficientes de cada característica (token) para determinar su peso en términos de positividad y negatividad."
      ]
    },
    {
      "cell_type": "code",
      "metadata": {
        "colab": {
          "base_uri": "https://localhost:8080/"
        },
        "id": "c2xKbJZerF63",
        "outputId": "7f7d4f60-4e24-41c3-edfe-300f5d0c827a"
      },
      "source": [
        "# Obtener los nombres de las catacterísticas (tokens)\n",
        "feature_names = np.array(bow_transformer.get_feature_names())\n",
        "\n",
        "# Ordenar los coeficientes del modelo\n",
        "sorted_coef_index = modelLR.coef_[0].argsort()\n",
        "\n",
        "# Mostrar los coeficientes mayores y menores\n",
        "print(f'Coeficientes menores: {feature_names[sorted_coef_index[:10]]}')\n",
        "print(f'Coeficientes mayores: {feature_names[sorted_coef_index[:-11:-1]]}')"
      ],
      "execution_count": 48,
      "outputs": [
        {
          "output_type": "stream",
          "text": [
            "Coeficientes menores: ['problem' 'seem' 'return' 'bad' 'say' 'product' 'work' 'batteri' 'noth'\n",
            " 'vtech']\n",
            "Coeficientes mayores: ['great' 'best' 'featur' 'set' 'fantast' 'read' 'thing' 'handset' 'clad'\n",
            " 'life']\n"
          ],
          "name": "stdout"
        }
      ]
    },
    {
      "cell_type": "markdown",
      "metadata": {
        "id": "x7PXR_MmrF63"
      },
      "source": [
        "Ordenando los diez coeficientes más pequeños y los diez más grandes, podemos ver que el modelo ha predicho palabras como 'problem', 'seem' y 'return' en opiniones negativas, y palabras como 'great', 'best', and 'featur' en reseñas positivas."
      ]
    },
    {
      "cell_type": "markdown",
      "metadata": {
        "id": "xGG88VCNrF63"
      },
      "source": [
        "Sin embargo, nuestro modelo puede ser mejorado, así que vamos a probar otro tipo de vectorización."
      ]
    },
    {
      "cell_type": "markdown",
      "metadata": {
        "id": "ofyomUzYrF63"
      },
      "source": [
        "## B. Term frequency–inverse document frequency (TF-IDF)"
      ]
    },
    {
      "cell_type": "markdown",
      "metadata": {
        "id": "SQPaX7VMrF64"
      },
      "source": [
        "### Qué es TF-IDF?\n",
        "TF-IDF son las siglas de *term frequency-inverse document frequency*, y el peso tf-idf es un peso que se utiliza a menudo en la recuperación de información y la minería de textos. Este peso es una medida estadística utilizada para evaluar la importancia de una palabra (token) en un documento de una colección o corpus. La importancia aumenta proporcionalmente al número de veces que un token aparece en el documento, pero se compensa con la frecuencia del token en el corpus. Los motores de búsqueda suelen utilizar variaciones del esquema de ponderación tf-idf como herramienta central para puntuar y clasificar la relevancia de un documento a partir de una consulta del usuario. Una de las funciones de ranking más sencillas se calcula sumando el tf-idf para cada término de la consulta; muchas funciones de ranking más sofisticadas son variantes de este modelo sencillo.\n",
        "\n",
        "Normalmente, la ponderación tf-idf se compone de dos términos: el primero calcula la Frecuencia de Términos (TF) normalizada, es decir, el número de veces que aparece un término en un documento, dividido por el número total de términos en ese documento; el segundo término es la Frecuencia Inversa de Documentos (IDF), calculada como el logaritmo del número de documentos en el corpus dividido por el número de documentos donde aparece el término específico.\n",
        "\n",
        "**TF: Term Frequency**, que mide la frecuencia con la que un término aparece en un documento. Dado que cada documento tiene una longitud diferente, es posible que un término aparezca mucho más veces en los documentos largos que en los más cortos. Por ello, la frecuencia de términos suele dividirse por la longitud del documento (es decir, el número total de términos en el documento) como forma de normalización: \n",
        "\n",
        "*TF(t) = (Número de veces que el término t aparece en un documento) / (Número total de términos en el documento).*\n",
        "\n",
        "**IDF: Inverse Document Frequency**, que mide la importancia de un término. Al calcular TF, todos los términos se consideran igualmente importantes. Sin embargo, se sabe que algunos términos, como \"is\", \"that\" y \"of\", pueden aparecer muchas veces pero tienen poca importancia. Por lo tanto, hay que ponderar los términos frecuentes y aumentar los raros, calculando lo siguiente \n",
        "\n",
        "*IDF(t) = log_e(Número total de documentos / Número de documentos con el término t).*\n",
        "\n",
        "Vea a continuación un ejemplo sencillo.\n",
        "\n",
        "**Ejemplo**\n",
        "\n",
        "Consideremos un documento que contiene 100 términos en los que el término *cat* aparece 3 veces. \n",
        "\n",
        "La frecuencia de términos (es decir, tf) para *cat* es entonces (3 / 100) = 0,03. Ahora, supongamos que tenemos 10 millones de documentos y que el token *cat* aparece en mil de ellos. Entonces, la frecuencia inversa del documento (es decir, idf) se calcula como log(10.000.000 / 1.000) = 4. Así, el peso tf-idf es el producto de estas cantidades: 0.03 * 4 = 0.12.\n",
        "____\n",
        "\n",
        "Vamos a ver cómo podemos hacer esto en Scikit-learn."
      ]
    },
    {
      "cell_type": "code",
      "metadata": {
        "id": "-alMSs3CrF64"
      },
      "source": [
        "from sklearn.feature_extraction.text import TfidfVectorizer"
      ],
      "execution_count": 49,
      "outputs": []
    },
    {
      "cell_type": "markdown",
      "metadata": {
        "id": "e7ioZwwxrF64"
      },
      "source": [
        "El modelo TF-IDF es implementado usando la función `TfidfVectorizer` de Scikit-learn."
      ]
    },
    {
      "cell_type": "code",
      "metadata": {
        "id": "G_sehngmrF64"
      },
      "source": [
        "tfidf_transformer = TfidfVectorizer()"
      ],
      "execution_count": 53,
      "outputs": []
    },
    {
      "cell_type": "markdown",
      "metadata": {
        "id": "W6tUYhRvrF65"
      },
      "source": [
        "**5. Genera el vocabulario a partir de los datos de entrenamiento utilizando la función *fit* de la misma manera que hicimos para el modelo BoW.**"
      ]
    },
    {
      "cell_type": "code",
      "metadata": {
        "id": "axptaj1OrF65",
        "colab": {
          "base_uri": "https://localhost:8080/"
        },
        "outputId": "ffc41235-d6c5-40a0-bb47-51f5661c3cae"
      },
      "source": [
        "tfidf_transformer.fit(X_train)"
      ],
      "execution_count": 55,
      "outputs": [
        {
          "output_type": "execute_result",
          "data": {
            "text/plain": [
              "TfidfVectorizer(analyzer='word', binary=False, decode_error='strict',\n",
              "                dtype=<class 'numpy.float64'>, encoding='utf-8',\n",
              "                input='content', lowercase=True, max_df=1.0, max_features=None,\n",
              "                min_df=1, ngram_range=(1, 1), norm='l2', preprocessor=None,\n",
              "                smooth_idf=True, stop_words=None, strip_accents=None,\n",
              "                sublinear_tf=False, token_pattern='(?u)\\\\b\\\\w\\\\w+\\\\b',\n",
              "                tokenizer=None, use_idf=True, vocabulary=None)"
            ]
          },
          "metadata": {
            "tags": []
          },
          "execution_count": 55
        }
      ]
    },
    {
      "cell_type": "markdown",
      "metadata": {
        "id": "YjJan06SrF65"
      },
      "source": [
        "Resultado esperado (puede variar dependiendo de la versión de Scikit-learn):\n",
        "\n",
        "![Captura%20de%20pantalla%202021-01-28%20a%20las%2013.01.29.png](attachment:Captura%20de%20pantalla%202021-01-28%20a%20las%2013.01.29.png)"
      ]
    },
    {
      "cell_type": "markdown",
      "metadata": {
        "id": "VQST1nNGrF65"
      },
      "source": [
        "Como se puede ver a continuación, el vocabulario es el mismo, independientemente del método de vectorización de los documentos."
      ]
    },
    {
      "cell_type": "code",
      "metadata": {
        "id": "QfhaS1AprF66",
        "colab": {
          "base_uri": "https://localhost:8080/"
        },
        "outputId": "3656adb6-52f3-4b48-d511-58346b10328b"
      },
      "source": [
        "print(f'Hay {len(tfidf_transformer.get_feature_names())} tokens en el vocabulario:')\n",
        "print(tfidf_transformer.get_feature_names())"
      ],
      "execution_count": 56,
      "outputs": [
        {
          "output_type": "stream",
          "text": [
            "Hay 10452 tokens en el vocabulario:\n",
            "['00', '000', '007', '00pm', '01', '02', '024', '0271', '0273', '0298', '03', '033', '0359', '0380', '0395', '04', '0409', '0412', '0441', '0462', '05', '0547', '0551', '0555', '06ghz', '0735', '0917', '0984', '0gb', '0ghz', '0in', '0l', '0t213e6fmay', '10', '100', '1000', '10000', '100base', '100m', '100mhz', '100x', '1024', '104', '106th', '10base', '10gb', '10k', '10pm', '10th', '10x', '11', '110', '1185', '11b', '11g', '11th', '12', '120', '1200', '1200nf', '120gig', '120mb', '125', '128', '128mb', '1299', '12a', '12th', '12x', '13', '130', '1300', '130w', '1313', '133', '135', '1394', '14', '140', '1400', '144', '1440x900', '145lb', '147', '1493', '15', '150', '1500', '155', '15mph', '16', '160', '1600', '1600x1200', '160gb', '165', '1656', '166', '168', '169', '16k', '16x', '16x9', '17', '170', '1700', '1703fp', '171', '17120', '172', '1743', '175', '1799', '17in', '18', '180', '180w', '181', '1814', '1818', '185', '186', '187', '1870', '1876', '188', '19', '190', '1900', '1906', '1912', '192', '1921', '1930', '194', '1940', '1950', '1952', '1957', '196', '1960', '1966', '1975', '1976', '1980', '1982', '1985', '1986', '1989', '1990', '1991', '1992', '1993', '1995', '1996', '1997', '1998', '1999', '1am', '1gb', '1ghz', '1gig', '1st', '1x', '20', '200', '2000', '2001', '2002', '2003', '2004', '2005', '200gb', '2024', '20700', '20gb', '20k', '20sk2', '20th', '20yr', '21', '210', '215', '216', '2198', '21st', '22', '2200', '221', '225', '225hp', '22nd', '23', '230', '2350', '2388', '24', '240', '240sx', '2431', '245', '245lb', '24th', '24x', '24x7', '25', '250', '2500', '2500rpm', '250gb', '250w', '2537', '256', '256k', '256mb', '25th', '26', '260', '260hp', '264v', '27', '272', '273', '275', '2750rpm', '2758', '27k', '27th', '28', '2800', '2819', '28723', '29', '292', '2cl', '2gb', '2ghz', '2k', '2k3', '2na', '2nd', '2pac', '2tl', '2v', '2x', '2x128m', '30', '300', '3000', '3000gt', '302', '309', '30k', '31', '310', '3100', '313', '315341', '31k', '32', '320', '320w', '3224', '325', '325ci', '3281', '328i', '32k', '32mb', '32x', '33', '330', '330ci', '330i', '330xi', '333', '3337', '333mhz', '33mpg', '34', '340', '345', '3470', '3485', '34th', '35', '350', '3500', '350w', '359', '35k', '35th', '36', '360', '37', '3700', '379', '38', '380', '39', '390', '3d', '3dmark2001', '3gb', '3l', '3rd', '3s', '3v', '3x', '40', '400', '4000', '400k', '400mhz', '400n', '400p', '40gb', '40k', '41', '411', '412', '4164', '42', '420', '4200', '4200rpm', '4229', '427', '430', '437', '44', '4430', '45', '450', '4500', '4550', '45r18', '45zr17', '460', '4600', '4600c', '462', '47', '48', '480', '4800', '48x', '49', '497367046', '4eva', '4g94', '4gb', '4ghz', '4l', '4mile', '4runner', '4th', '4x', '4x2', '4x4', '4xj', '50', '500', '5000', '500k', '500lb', '50k', '50r16', '512', '512mb', '5150', '52', '520', '5200', '5250', '5260', '52x', '5300', '530622076', '533', '54', '5400', '540i', '542456257', '55', '550', '5500', '56', '560', '5600', '56k', '56x', '57', '583', '5831', '5gb', '5ghz', '5in', '5l', '5s', '5se', '5spd', '5th', '60', '600', '6000', '600mhz', '60gb', '60ghz', '60gig', '6100', '62', '620', '6200', '63', '64', '640', '64mb', '64meg', '65', '66', '666', '6ghz', '6l', '6p', '6th', '6x', '70', '700', '7020', '7040', '70mph', '72', '7200', '7200rpm', '7222', '73', '749', '75', '75hz', '768', '768mb', '7ghz', '7gig', '7k', '80', '800', '800mhz', '802', '80gb', '80gig', '80mm', '81', '82', '8250', '85', '850', '86', '8600', '865pe', '87', '8860', '89', '8ball', '8gb', '8ghz', '8liter', '8mb', '8t', '8th', '8x', '90', '900', '900mhz', '9055', '90mph', '90v', '91', '911', '92', '93', '94', '9438', '95', '950', '96', '9600', '96mb', '97', '9797', '98', '98se', '99', '999', '9k', '9pm', '9th', '9x', '____', 'a4', 'aa', 'aaron', 'ab', 'abandon', 'abat', 'abbey', 'abdomen', 'abducted', 'abdul', 'abhor', 'abil', 'abl', 'abnorm', 'aboard', 'abomin', 'abort', 'abosultey', 'abound', 'above', 'abras', 'absenc', 'absens', 'absent', 'absolut', 'absolv', 'absorb', 'abstract', 'absurd', 'abund', 'abundantli', 'abus', 'ac', 'ac97', 'academ', 'acceler', 'accelerate', 'accent', 'accentu', 'accept', 'access', 'accessori', 'accid', 'accident', 'acclaim', 'accolad', 'accommod', 'accomod', 'accompani', 'accomplish', 'accord', 'accordingli', 'account', 'accru', 'accumul', 'accur', 'accuraci', 'accus', 'accustom', 'acer', 'ach', 'achiev', 'acid', 'acorn', 'acount', 'acoust', 'acquaint', 'acquaintances', 'acquir', 'acquisit', 'acquitt', 'acrobat', 'acronym', 'across', 'acrost', 'act', 'actin', 'action', 'actiu', 'activ', 'active', 'actor', 'actress', 'actual', 'actulli', 'acura', 'acut', 'ad', 'ada215', 'adam', 'adapt', 'adapter', 'adaptor', 'adc', 'add', 'addendum', 'addict', 'addit', 'address', 'adeptli', 'adequ', 'adequate', 'adher', 'adjac', 'adjoin', 'adjust', 'admir', 'admiss', 'admit', 'admittedli', 'adn', 'adolesc', 'adopt', 'ador', 'adorn', 'adrenalin', 'adu', 'adult', 'advanc', 'advantag', 'adventur', 'adventure', 'advers', 'advertis', 'advic', 'advis', 'advisor', 'aerob', 'aerodynam', 'aerosol', 'aesthet', 'affair', 'affect', 'affix', 'affluent', 'afford', 'aflam', 'aforement', 'afraid', 'after', 'afteral', 'aftermarket', 'aftermath', 'afternoon', 'afterthought', 'afterward', 'ag', 'age', 'agenc', 'agent', 'agent_id', 'aggrav', 'aggress', 'agil', 'agit', 'ago', 'agoni', 'agp', 'agre', 'agreement', 'agricultur', 'ah', 'ahead', 'ahiahi', 'ahoy', 'ai', 'aid', 'aight', 'aim', 'ain', 'aint', 'air', 'airbag', 'airborn', 'aircor', 'aircraft', 'airflow', 'airfram', 'airi', 'airlin', 'airplan', 'airplane', 'airplay', 'airport', 'airsick', 'airwav', 'airway', 'airwel', 'aisl', 'ak', 'ak77', 'aka', 'akbar', 'akroyd', 'al', 'ala', 'alarm', 'albeit', 'albino', 'album', 'alcatraz', 'alchemist', 'alcohol', 'alderton', 'alec', 'alert', 'alex', 'algren', 'alien', 'alik', 'aliv', 'all', 'allah', 'allegedli', 'allen', 'alley', 'alliter', 'allow', 'alloy', 'almighti', 'almost', 'aloha', 'alon', 'along', 'alongsid', 'aloud', 'alphabet', 'alreadi', 'alright', 'also', 'altec', 'alter', 'altern', 'alternate', 'although', 'altima', 'altitud', 'altogeth', 'altruist', 'aluminum', 'alway', 'alzheim', 'am', 'amanda', 'amateur', 'amateurish', 'amaz', 'amazingli', 'amazon', 'amber', 'ambienc', 'ambient', 'ambit', 'ambival', 'amd', 'amen', 'amenities', 'ameri', 'america', 'american', 'amerisuit', 'ami', 'amidst', 'amil', 'amillion', 'among', 'amongst', 'amount', 'amp', 'ampl', 'amplifi', 'amsoil', 'amuck', 'amus', 'an', 'anal', 'analog', 'analon', 'analys', 'analysi', 'analyt', 'analyz', 'anchor', 'ancient', 'ancillari', 'and', 'anderclayton', 'andfit', 'andh', 'andromeda', 'anem', 'anew', 'angel', 'angelino', 'anger', 'angi', 'angir', 'angl', 'angri', 'angrier', 'angriest', 'anguish', 'angular', 'ani', 'anim', 'ann', 'annett', 'anni', 'annie', 'annihil', 'anniversari', 'announc', 'annoy', 'annoying', 'annoyingh', 'annual', 'annvil', 'annyo', 'anod', 'anodis', 'anonym', 'anoth', 'answer', 'antagon', 'antagonist', 'antenna', 'anthem', 'anti', 'antic', 'anticip', 'anticlimat', 'antidot', 'antiqu', 'antiques', 'antiviru', 'anxiou', 'anxious', 'anybodi', 'anyhow', 'anymor', 'anyon', 'anyth', 'anytim', 'anyway', 'anywher', 'aol', 'aopen', 'aotearoa', 'apart', 'apex', 'apiec', 'aplenti', 'apocalyps', 'apocalypt', 'apocryph', 'apolog', 'apologet', 'app', 'appal', 'appar', 'appeal', 'appear', 'appet', 'appl', 'applaud', 'apple', 'applecar', 'applework', 'appli', 'applianc', 'applic', 'appoint', 'appreci', 'apprehend', 'apprehens', 'apprentic', 'approach', 'appropri', 'approv', 'approx', 'approxim', 'april', 'aqua', 'ar', 'arab', 'arafat', 'arang', 'arc', 'arcad', 'arch', 'archenemi', 'archetyp', 'architectur', 'architecture', 'archway', 'arctic', 'area', 'aren', 'arena', 'arent', 'argu', 'arguabl', 'argument', 'aringarosa', 'aris', 'arizona', 'arkansa', 'arm', 'armco', 'armi', 'armload', 'armoir', 'armor', 'armrest', 'armstrong', 'army', 'arnold', 'around', 'arrang', 'array', 'arriv', 'arrog', 'arrow', 'arson', 'art', 'artform', 'arthur', 'artic', 'articl', 'artifact', 'artifici', 'artilleri', 'artist', 'artistri', 'artists', 'artsi', 'artwork', 'as', 'asap', 'ascrib', 'asham', 'ashanti', 'ashley', 'ashtray', 'asia', 'asian', 'asid', 'ask', 'asleep', 'asner', 'aspect', 'aspir', 'aspx', 'ass', 'assassin', 'assault', 'assembl', 'assert', 'assess', 'asset', 'assi', 'assign', 'assist', 'associ', 'assort', 'assum', 'assumpt', 'assur', 'asthmatic', 'astonish', 'astronaut', 'astronomically', 'astut', 'at', 'ata', 'ate', 'athiest', 'athlon', 'ati', 'atla', 'atlanta', 'atlanti', 'atlantic', 'atmospher', 'atroc', 'atroci', 'attach', 'attack', 'attain', 'attempt', 'attend', 'attendants', 'attent', 'attic', 'attitud', 'attorney', 'attorneys', 'attract', 'attribut', 'attun', 'atx', 'audac', 'audi', 'audienc', 'audio', 'audiogi', 'audiophil', 'auditorium', 'august', 'auinala', 'aunt', 'aurora', 'ausset', 'austin', 'austria', 'authent', 'author', 'auto', 'autobiograph', 'autobox', 'autograph', 'autom', 'automak', 'automat', 'automatic', 'automatically', 'automobil', 'automot', 'autoweek', 'autumn', 'av', 'avail', 'availbl', 'avalanch', 'ave', 'avenu', 'averag', 'average', 'avert', 'avid', 'avoid', 'aw', 'await', 'awaken', 'awar', 'award', 'away', 'awd', 'awe', 'awesom', 'awesome', 'awhil', 'awkward', 'awok', 'awoken', 'awoolcott', 'aww', 'axl', 'axod', 'az', 'azetti', 'b_tche', 'babi', 'babu', 'babylon', 'babysit', 'babysitt', 'baccarat', 'back', 'backbon', 'backdrop', 'background', 'backlight', 'backlit', 'backroad', 'backseat', 'backsid', 'backspac', 'backstori', 'backstreet', 'backup', 'backward', 'bacon', 'bad', 'baddi', 'badg', 'badli', 'bag', 'bagel', 'bagg', 'bahia', 'bail', 'bake', 'baked', 'bakin', 'baking', 'bal', 'balanc', 'balconi', 'baldacci', 'baldwin', 'balki', 'ball', 'ballast', 'ballroom', 'baltimor', 'bamboo', 'ban', 'banana', 'band', 'bang', 'banger', 'bangin', 'banish', 'bank', 'banned', 'banner', 'banquet', 'banshe', 'banter', 'bar', 'barber', 'barbershop', 'bare', 'barenak', 'baresi', 'barg', 'bargain', 'bariton', 'bark', 'barmaid', 'baron', 'barrag', 'barri', 'barrington', 'bartend', 'bas', 'base', 'basebal', 'basement', 'baser', 'bash', 'basi', 'basic', 'basket', 'basketbal', 'bass', 'basslin', 'bast', 'bastard', 'bat', 'batch', 'bate', 'bath', 'bathrob', 'bathroom', 'bathtub', 'batteri', 'battery', 'battl', 'battle', 'battlefield', 'bay', 'bazillion', 'bbb', 'bc', 'be', 'beach', 'bead', 'beam', 'bean', 'beani', 'bear', 'beard', 'beast', 'beat', 'beaten', 'beatin', 'beatmak', 'beatswis', 'beauti', 'becam', 'beckham', 'beckon', 'becom', 'bed', 'bedroom', 'bedsid', 'bedspread', 'beef', 'beefi', 'beep', 'beer', 'beerbuff', 'beeri', 'beetl', 'befit', 'befor', 'beforehand', 'befriend', 'befuddl', 'beg', 'began', 'begin', 'beginn', 'behav', 'behavior', 'behaviour', 'behemoth', 'behind', 'behold', 'beig', 'belch', 'beleiv', 'belfri', 'belief', 'believ', 'belittl', 'belkin', 'bell', 'bella', 'bellagio', 'bellman', 'bellyflop', 'belong', 'belov', 'belt', 'beltlin', 'bemoan', 'bench', 'benchmark', 'bend', 'beneath', 'benefit', 'benevol', 'benjamin', 'benson', 'bent', 'benz', 'benzino', 'berenbaum', 'berg', 'berkeley', 'bermuda', 'berni', 'berri', 'besid', 'best', 'bestsel', 'bestseller', 'bet', 'betsey', 'better', 'betti', 'between', 'betwixt', 'beverag', 'bewar', 'beyond', 'bezel', 'bhp', 'bi', 'bia', 'bias', 'bibl', 'biblic', 'bicker', 'bicycl', 'bid', 'bide', 'big', 'bigga', 'bigger', 'biggest', 'biggi', 'biggie', 'bill', 'billboard', 'billi', 'billion', 'billy', 'bin', 'bind', 'bing', 'bio', 'bird', 'birdcal', 'birdman', 'birth', 'birthday', 'biscuit', 'bishop', 'bit', 'bite', 'bitten', 'bizarr', 'bkf', 'blabber', 'blabbermouth', 'black', 'blackalic', 'blackalici', 'blackalicious', 'blacken', 'blackest', 'blackjack', 'blackmail', 'blackout', 'blackstar', 'blacktop', 'blade', 'blah', 'blame', 'blameless', 'bland', 'blank', 'blanket', 'blase', 'blast', 'blastin', 'blatant', 'blatent', 'blather', 'blaze', 'bleary', 'blech', 'bleed', 'blend', 'blender', 'bless', 'blew', 'blige', 'blind', 'blindfold', 'blindli', 'bling', 'blink', 'bliss', 'blisteringli', 'blitz', 'blizzard', 'blk', 'bloatwar', 'block', 'bloke', 'blond', 'blood', 'bloodi', 'bloodsuck', 'bloom', 'bloviat', 'blow', 'blower', 'blown', 'blu', 'blubberi', 'blue', 'blueberri', 'blueprint', 'bluetooth', 'blunt', 'blur', 'blush', 'bmw', 'bo', 'board', 'boardroom', 'boardwalk', 'boast', 'boat', 'bob', 'bobbi', 'bode', 'bodi', 'bodice', 'bodili', 'bodily', 'body', 'bodystyl', 'boggl', 'boi', 'boil', 'boiler', 'boll', 'bologna', 'bolster', 'bolt', 'bomb', 'bombard', 'bon', 'bonafid', 'bond', 'bone', 'bones', 'bongo', 'bonni', 'bonu', 'bonus', 'bonzi', 'boo', 'boogaloo', 'boogi', 'book', 'booklet', 'bookmark', 'bookmarks', 'booksel', 'bookshelf', 'boom', 'boost', 'booster', 'boot', 'bootee', 'booth', 'booti', 'bootleg', 'booty', 'booz', 'booze', 'boozi', 'bop', 'border', 'borderlin', 'bore', 'boredom', 'boringli', 'born', 'borrow', 'bose', 'bosom', 'boss', 'boston', 'botanicca', 'bother', 'bothersom', 'bottl', 'bottom', 'bottoms', 'bouffant', 'bought', 'bounc', 'bounci', 'bound', 'boundari', 'bounti', 'bounty', 'bout', 'boutiqu', 'bow', 'bowi', 'bowl', 'box', 'boxier', 'boy', 'boyarde', 'boycott', 'boyfriend', 'brace', 'bracket', 'bradburi', 'bradman', 'brag', 'bragadaccio', 'braggadacio', 'braggadocio', 'brain', 'brainer', 'brainless', 'brake', 'branch', 'brand', 'brandon', 'brass', 'brassi', 'brat', 'brave', 'braveheart', 'braveri', 'brawl', 'braxton', 'brazen', 'bread', 'breadman', 'break', 'breakdown', 'breaker', 'breakestra', 'breakfast', 'breaking', 'breakout', 'breast', 'breath', 'breathtak', 'breev', 'breez', 'breslin', 'brethren', 'brett', 'breviti', 'brew', 'brian', 'briansdad', 'brick', 'bride', 'bridg', 'bridgett', 'brief', 'bright', 'brighten', 'brighter', 'brightli', 'brilliant', 'brilliantli', 'brillo', 'brim', 'bring', 'bringin', 'bristal', 'british', 'britney', 'brittl', 'bro', 'broad', 'broadband', 'broccoli', 'brochur', 'brock', 'broderick', 'brodi', 'broiler', 'broke', 'broken', 'bronxer', 'bronz', 'brooklyn', 'brotha', 'brother', 'brought', 'brow', 'brown', 'browni', 'brows', 'browser', 'bruci', 'bruckheimer', 'bruguru', 'bruis', 'brung', 'brush', 'brushed', 'brutal', 'brute', 'brutishli', 'bsing', 'bu', 'bubbl', 'bubblegum', 'bubblier', 'bubblin', 'buck', 'bucket', 'buckin', 'bucks', 'bud', 'budden', 'buddi', 'buddy', 'budg', 'budget', 'buff', 'buffer', 'buffet', 'bug', 'buggi', 'build', 'built', 'bulb', 'bulk', 'bulki', 'bulkier', 'bullet', 'bulli', 'bullitt', 'bullsh', 'bum', 'bumbl', 'bummer', 'bump', 'bumpbumpbumpbump', 'bumper', 'bumpi', 'bumpin', 'bumpkinish', 'bun', 'bunch', 'buncha', 'bundel', 'bundl', 'bunk', 'burbl', 'burden', 'burger', 'buri', 'burin', 'burn', 'burner', 'burning', 'burnout', 'burnt', 'burp', 'burst', 'bus', 'buse', 'busi', 'buss', 'bust', 'busta', 'but', 'butcher', 'butler', 'butt', 'butta', 'butter', 'butterfli', 'button', 'buy', 'buyer', 'buzz', 'by', 'bypass', 'byrn', 'byte', 'byzantin', 'c240', 'c320', 'c70', 'ca', 'caan', 'cab', 'cabana', 'cabin', 'cabinet', 'cabl', 'cach', 'cad', 'cadillac', 'cadmium', 'caen', 'caesar', 'cafe', 'cafeteria', 'café', 'cage', 'cake', 'cal', 'calaphon', 'calcul', 'calendar', 'cali', 'calib', 'california', 'call', 'caller', 'callin', 'calling', 'calm', 'calmli', 'calph', 'calphalon', 'cam', 'camaro', 'camb', 'camcord', 'came', 'camera', 'campground', 'camri', 'camron', 'camshaft', 'can', 'canada', 'cancel', 'cancer', 'cancun', 'candela', 'candid', 'candl', 'candlelit', 'cane', 'canibu', 'canned', 'cannon', 'canon', 'canopi', 'cant', 'canva', 'canvas', 'canyon', 'cap', 'capabl', 'capac', 'capaci', 'capad', 'cape', 'capit', 'capitalist', 'capon', 'capri', 'capt', 'captain', 'captiv', 'captur', 'car', 'caramel', 'carat', 'caray', 'carbon', 'card', 'cardboard', 'cardin', 'care', 'career', 'caress', 'carey', 'cargo', 'caribbean', 'caribean', 'caricatur', 'carla', 'carla_geronimo', 'carlo', 'carlton', 'carmak', 'carmen', 'carnag', 'carniv', 'carolina', 'carpal', 'carpel', 'carpet', 'carrey', 'carri', 'carribean', 'carrington', 'carrot', 'cars', 'carsmart', 'carson', 'cart', 'cartoon', 'carv', 'casa', 'case', 'cash', 'casino', 'casio', 'casper', 'cass', 'casserol', 'casset', 'cassett', 'cassidi', 'cast', 'castin', 'castl', 'casual', 'cat', 'catalog', 'catalogu', 'catch', 'catchi', 'catchiest', 'cate', 'categori', 'cater', 'cathedr', 'cathi', 'cathol', 'cattl', 'caucasian', 'caught', 'caus', 'caustic', 'caution', 'cautiou', 'cautious', 'caveat', 'cavern', 'cd', 'ceased', 'cede', 'ceil', 'ceiling', 'celebr', 'celeri', 'celeron', 'celia', 'celica', 'cell', 'cello', 'cellular', 'celph', 'cemetari', 'cemeteri', 'cent', 'center', 'centerfold', 'centerpiec', 'centr', 'central', 'centrifug', 'centuri', 'ceo', 'cereal', 'ceremoni', 'certain', 'certainli', 'certaintli', 'certif', 'cgi', 'ch', 'cha', 'chad', 'chafe', 'chain', 'chainsaw', 'chair', 'chais', 'chali', 'chalkboard', 'challeg', 'challeng', 'chamber', 'chamberlain', 'champ', 'champagn', 'champion', 'chanc', 'chandeli', 'chandler', 'chang', 'change', 'changer', 'changin', 'channel', 'chant', 'chap', 'chapel', 'chaperon', 'chapstick', 'chapter', 'charact', 'character', 'characterist', 'characterless', 'charcoal', 'charg', 'charge', 'charger', 'charisma', 'charismat', 'chariti', 'charl', 'charli', 'charm', 'chart', 'chase', 'chassi', 'chat', 'cheap', 'cheaper', 'cheapest', 'cheapi', 'cheapli', 'cheapo', 'cheat', 'check', 'checked', 'checkin', 'cheddar', 'cheek', 'cheeki', 'cheer', 'cheerlead', 'chees', 'cheesi', 'cheesili', 'chef', 'chemistri', 'cher', 'cherish', 'cherri', 'cherub', 'chess', 'chest', 'chestnut', 'chevi', 'chevrolet', 'chevvi', 'chewi', 'chi', 'chicago', 'chick', 'chicken', 'chicli', 'chief', 'child', 'childbirth', 'childhood', 'childish', 'children', 'chill', 'chilled', 'chilli', 'chillin', 'chime', 'chin', 'china', 'chines', 'chinese', 'chinez', 'chingi', 'chintzi', 'chip', 'chipe', 'chipset', 'chirp', 'chloe', 'chocol', 'choic', 'chok', 'choke', 'chomp', 'choo', 'choos', 'chop', 'choppi', 'chord', 'chore', 'choreographi', 'choru', 'chorus', 'chose', 'chosen', 'chow', 'chri', 'chrichton', 'chris', 'christian', 'christma', 'christmastim', 'chrome', 'chromosom', 'chronic', 'chrysler', 'chubbi', 'chuck', 'chuckl', 'chug', 'chummi', 'chunk', 'chunki', 'church', 'churn', 'ciaran', 'cigarett', 'cinch', 'cinema', 'cinemat', 'cinematagraphi', 'cinematic', 'cinematograph', 'cinematographi', 'circu', 'circuit', 'circul', 'circular', 'circulon', 'circumfer', 'circumst', 'citi', 'citizen', 'city', 'civic', 'civil', 'ck', 'cka', 'ckin', 'cl', 'clad', 'claiborn', 'claim', 'clam', 'clambak', 'clamshel', 'clan', 'clanci', 'clap', 'clariti', 'clark', 'clash', 'class', 'classi', 'classic', 'classroom', 'clatter', 'clau', 'claus', 'clean', 'cleaner', 'cleanest', 'cleanli', 'cleans', 'cleanser', 'cleanup', 'clear', 'clearer', 'clearli', 'clerk', 'clever', 'cleverli', 'clich', 'click', 'clicker', 'client', 'clientel', 'cliff', 'climat', 'climate', 'climax', 'climb', 'clinic', 'clinton', 'clio', 'clip', 'clipper', 'clips', 'cloak', 'clock', 'clockwork', 'clone', 'clori', 'clos', 'close', 'closer', 'closest', 'closet', 'cloth', 'cloud', 'cloudi', 'cloudless', 'clove', 'cloverleaf', 'clu', 'club', 'clubbish', 'clue', 'clumsi', 'clunk', 'clunker', 'clunki', 'clunkili', 'cluster', 'clutch', 'clutter', 'clyde', 'cm', 'cmhd_desktops', 'co', 'coal', 'coars', 'coast', 'coaster', 'coat', 'coax', 'cobra', 'cobweb', 'cocain', 'cock', 'cocki', 'cockpit', 'cocktail', 'coddl', 'code', 'coen', 'coffe', 'cofort', 'cogniz', 'coil', 'coin', 'coincident', 'coke', 'col', 'cola', 'colada', 'coland', 'cold', 'coldchain', 'coldest', 'collabo', 'collabor', 'colleagu', 'collect', 'colleen', 'colleg', 'collid', 'cologn', 'colon', 'color', 'colour', 'column', 'com', 'coma', 'combat', 'combin', 'combo', 'come', 'comeback', 'comed', 'comedi', 'comedian', 'comedy', 'comfi', 'comfort', 'comic', 'coming', 'command', 'commeci', 'commenc', 'commend', 'commensur', 'comment', 'commentari', 'commerci', 'commercial', 'commiss', 'commit', 'commod', 'common', 'commonli', 'commonplac', 'commonwealth', 'commun', 'communist', 'commut', 'compact', 'compactflash', 'compani', 'companion', 'compaq', 'compar', 'comparison', 'comparisons', 'compart', 'compartment', 'compass', 'compat', 'compel', 'compens', 'compet', 'competit', 'competitor', 'compil', 'complain', 'complaint', 'complement', 'complementari', 'complet', 'complex', 'compli', 'compliant', 'complic', 'compliment', 'complimentari', 'compon', 'compos', 'composit', 'comprehend', 'comprehens', 'compress', 'compressor', 'compris', 'compromis', 'compuls', 'compusa', 'comput', 'computer', 'comrad', 'comtinu', 'con', 'conceal', 'conced', 'conceit', 'conceiv', 'concentr', 'concept', 'conceptu', 'concern', 'concerns', 'concert', 'concess', 'concierg', 'concis', 'conclud', 'conclus', 'concoct', 'concret', 'concur', 'condens', 'condiment', 'condit', 'condition', 'condom', 'condominium', 'conduc', 'conduct', 'conductor', 'conduit', 'cone', 'conenct', 'conext', 'coney', 'confer', 'conferec', 'conferenc', 'confess', 'confid', 'configur', 'confin', 'confirm', 'conflict', 'conform', 'conformist', 'confront', 'confus', 'congratul', 'congressman', 'conjunct', 'conjur', 'connect', 'connector', 'conni', 'connot', 'conquer', 'conrad', 'consci', 'consciou', 'conscious', 'consecr', 'consequ', 'conserv', 'consid', 'consider', 'consist', 'consol', 'conspicu', 'conspiraci', 'constanc', 'constant', 'constantli', 'constantly', 'constitut', 'construct', 'consult', 'consum', 'consumm', 'consumpt', 'contact', 'contag', 'contain', 'contempl', 'contemporari', 'contend', 'content', 'content_72728153732', 'contest', 'context', 'contin', 'continent', 'continu', 'contour', 'contracept', 'contract', 'contractor', 'contractu', 'contrari', 'contrast', 'contribut', 'contriv', 'control', 'controversi', 'conveni', 'convent', 'convers', 'convert', 'convey', 'convict', 'convienc', 'convinc', 'coo', 'coochi', 'cook', 'cookbook', 'cooked', 'cooker', 'cooki', 'cookie', 'cookshop', 'cookwar', 'cool', 'cooler', 'coolest', 'coolio', 'cooper', 'coordin', 'cop', 'copasetik', 'copastik', 'copi', 'copper', 'coput', 'copycat', 'cor', 'coral', 'cord', 'cordial', 'cordless', 'core', 'corian', 'cork', 'cormega', 'corn', 'corner', 'corni', 'corolla', 'corp', 'corpor', 'corral', 'correct', 'correctli', 'correspond', 'corridor', 'corros', 'corrupt', 'corvett', 'cosmet', 'cosset', 'cost', 'costco', 'costli', 'costner', 'costum', 'cotton', 'cottonfield', 'couch', 'cougar', 'cough', 'could', 'couldn', 'couldnt', 'counsl', 'count', 'counter', 'countless', 'countri', 'country', 'countrysid', 'coup', 'coupl', 'couplet', 'coupon', 'courag', 'cours', 'court', 'courteou', 'courteous', 'courtesi', 'courtroom', 'courtyard', 'cousin', 'cousins', 'cov', 'cove', 'cover', 'coverag', 'coverlet', 'covet', 'cowbel', 'cowboy', 'cowl', 'cowork', 'cox', 'cozi', 'cpu', 'cpus', 'cr', 'cra', 'crab', 'crack', 'crackl', 'crackli', 'cradl', 'craft', 'craig', 'crakk', 'cram', 'cramp', 'crane', 'cranium', 'crank', 'cranki', 'crankshaft', 'crap', 'crappag', 'crappi', 'crapppi', 'crash', 'crashtest', 'crate', 'crave', 'crawl', 'crazi', 'crazy', 'creaki', 'cream', 'creat', 'creatin', 'creation', 'creativ', 'creator', 'creatur', 'credenza', 'credibl', 'credit', 'credul', 'creep', 'creepi', 'creme', 'creuset', 'crew', 'cri', 'crib', 'crichton', 'crime', 'crimin', 'cring', 'crisco', 'crisp', 'crisper', 'crispest', 'crispiest', 'criteria', 'critic', 'critiqu', 'critt', 'critter', 'crook', 'croon', 'crop', 'croquet', 'crosbi', 'cross', 'crossfir', 'crow', 'crowd', 'crown', 'crt', 'crude', 'cruel', 'cruelli', 'cruelti', 'cruis', 'cruiser', 'crumb', 'crummi', 'crunk', 'crust', 'crutch', 'cruz', 'crv', 'cryptic', 'cryptograph', 'cryptographi', 'cryptologist', 'crystal', 'cs', 'csi', 'cuba', 'cubbi', 'cube', 'cubic', 'cucumb', 'cue', 'cuisin', 'cuisinart', 'culinari', 'culkin', 'culmin', 'culprit', 'cult', 'cultur', 'cumbersom', 'cunninlynguist', 'cup', 'cupboard', 'cupcak', 'cuphold', 'cupid', 'curat', 'curator', 'curb', 'curios', 'curiou', 'curious', 'curl', 'curli', 'curr', 'current', 'curri', 'curs', 'cursor', 'curtail', 'curtain', 'curv', 'curvatur', 'curvi', 'cushion', 'cusom', 'cusp', 'cuss', 'custodi', 'custom', 'customari', 'customer', 'customizab', 'cut', 'cute', 'cutesi', 'cutmast', 'cutt', 'cuttin', 'cuz', 'cv', 'cyberlink', 'cycl', 'cylidn', 'cylind', 'cynic', 'cypher', 'cypress', 'd12', 'd235rh', 'da', 'dab', 'dabrat', 'dad', 'dada', 'daddi', 'daili', 'daiquiri', 'daisi', 'dakar', 'dakota', 'dale', 'damag', 'damn', 'damon', 'damp', 'dan', 'danc', 'dancehal', 'dancer', 'dances', 'dancing', 'danger', 'dangl', 'daniel', 'danish', 'danni', 'dare', 'dargi', 'daring', 'dark', 'darken', 'darker', 'darl', 'darn', 'darth', 'dash', 'dashboard', 'dat', 'data', 'databas', 'date', 'datelin', 'daughter', 'daunt', 'dave', 'david', 'davidk93', 'dawdl', 'dawn', 'day', 'daycar', 'daydreaming', 'daylight', 'daytim', 'daytona', 'daz', 'daze', 'dazzl', 'dbt', 'dct', 'dd', 'ddr', 'de', 'dead', 'deadli', 'deadlin', 'deafen', 'deafualt', 'deal', 'dealer', 'dealership', 'dealt', 'dean', 'dear', 'dearest', 'dearli', 'death', 'debacl', 'debat', 'debbi', 'debilit', 'debri', 'debut', 'dec', 'decad', 'decay', 'deceas', 'deceiv', 'decemb', 'decent', 'decept', 'decid', 'decidedli', 'decis', 'deck', 'declin', 'deco', 'decod', 'deconstruct', 'decor', 'decre', 'decreas', 'decreased', 'dedic', 'deduct', 'dee', 'deejay', 'deem', 'deep', 'deeper', 'deepli', 'def', 'defari', 'default', 'defeat', 'defect', 'defend', 'defens', 'defi', 'defiant', 'defin', 'definet', 'definit', 'deflat', 'deflector', 'defog', 'defoli', 'defrost', 'degener', 'degrad', 'degre', 'degreez', 'degress', 'dei', 'deja', 'delain', 'delay', 'delet', 'deli', 'delic', 'delici', 'delight', 'deliv', 'deliveri', 'dell', 'delta', 'delud', 'delux', 'dem', 'demand', 'demeanor', 'demigodz', 'demis', 'demo', 'democraci', 'demograph', 'demolish', 'demon', 'demonstr', 'demot', 'deni', 'denni', 'denomin', 'denot', 'denounc', 'dens', 'dent', 'denti', 'dentist', 'denty', 'denyin', 'deoder', 'deodor', 'dep', 'depart', 'departur', 'depend', 'depict', 'deplor', 'depot', 'depress', 'depriv', 'dept', 'depth', 'deriv', 'derogatori', 'derrti', 'descend', 'deschanel', 'describ', 'descript', 'desert', 'deserv', 'design', 'desir', 'desk', 'deskt', 'desktop', 'desol', 'despair', 'despar', 'desper', 'despis', 'despit', 'dessert', 'destin', 'destini', 'destroy', 'destruct', 'destructio', 'desultori', 'detail', 'detect', 'detent', 'deterg', 'deterior', 'determin', 'deterr', 'detour', 'detox', 'detract', 'detriment', 'detroit', 'devast', 'develop', 'devest', 'devic', 'devil', 'devis', 'devito', 'devolv', 'devot', 'dexter', 'dey', 'dh', 'di', 'diablo', 'diabol', 'diagnost', 'diagon', 'diagram', 'dial', 'dialog', 'dialogu', 'diamet', 'diamond', 'diari', 'dice', 'dicken', 'dictat', 'diction', 'dictionari', 'did', 'diddi', 'didn', 'didnt', 'die', 'diesel', 'diet', 'differ', 'differenti', 'difficult', 'difficulti', 'difficultli', 'diffrenc', 'diffrent', 'dig', 'digga', 'diggiti', 'digicam', 'digit', 'dignifi', 'digniti', 'digress', 'dijon', 'dilapid', 'dilat', 'dilated', 'dilemma', 'dilig', 'dilli', 'dilling', 'dim', 'dime', 'dimens', 'dimension', 'diminish', 'diminut', 'dimm', 'dimmer', 'dine', 'ding', 'dingi', 'dinner', 'dinosaur', 'dionysian', 'dip', 'diplomat', 'dire', 'direct', 'directli', 'director', 'directori', 'dirt', 'dirti', 'disabl', 'disadvantag', 'disagre', 'disapp', 'disappear', 'disappoin', 'disappoint', 'disassembl', 'disast', 'disaster', 'disbelief', 'disc', 'discern', 'discharg', 'disclos', 'discographi', 'discolor', 'discomfort', 'disconcert', 'disconnect', 'discount', 'discourag', 'discov', 'discrimin', 'discuss', 'diseas', 'disenfranchis', 'disengag', 'disentangl', 'disgust', 'disgustingli', 'dish', 'dishearten', 'dishevel', 'dishwash', 'disimilar', 'disjoint', 'disk', 'dislik', 'dismal', 'dismantl', 'dismay', 'dismiss', 'disney', 'disneyish', 'disneyland', 'disneyworld', 'disobedi', 'disorderli', 'dispens', 'dispirit', 'display', 'displeas', 'dispos', 'disregard', 'disrespect', 'disrob', 'diss', 'dissapear', 'dissapoint', 'dissatisfi', 'dissip', 'dissolv', 'dissuad', 'dist', 'distanc', 'distant', 'distil', 'distinct', 'distinctli', 'distinguish', 'distort', 'distract', 'distractedli', 'distribut', 'distributor', 'distrust', 'disturb', 'ditch', 'dither', 'ditti', 'dive', 'divers', 'divid', 'divin', 'divis', 'divorc', 'divulg', 'dixi', 'dj', 'dlo', 'dlx', 'dmx', 'do', 'doc', 'dock', 'doctor', 'document', 'documentari', 'dodg', 'dodger', 'doe', 'doesn', 'doesnt', 'dog', 'dogg', 'doggfath', 'dohc', 'doin', 'dolbi', 'dollar', 'dollhous', 'dolly', 'dolor', 'domain', 'dome', 'domin', 'don', 'donat', 'done', 'dont', 'donut', 'doo', 'doolittl', 'doom', 'doomsday', 'door', 'doorman', 'doormen', 'doors', 'doorstep', 'dope', 'dorm', 'dormand', 'dose', 'dot', 'doubl', 'double', 'doubleday', 'doubt', 'dough', 'dougi', 'dous', 'down', 'downbeat', 'downey', 'downfal', 'download', 'downright', 'downshift', 'downsid', 'downstair', 'downtown', 'downturn', 'dozen', 'dp', 'dr', 'dr_steph', 'drab', 'drag', 'dragon', 'dragonfire88', 'drain', 'drake', 'drama', 'dramas', 'dramat', 'drape', 'draw', 'drawback', 'drawer', 'drawn', 'dre', 'dread', 'dream', 'dreami', 'dreamlik', 'dreamweav', 'dreari', 'dreg', 'drench', 'dress', 'dresser', 'dressing', 'drew', 'dri', 'dribbl', 'drift', 'driftin', 'drink', 'drip', 'driv', 'drivabl', 'drive', 'drivebi', 'drivelin', 'driven', 'driver', 'drivetrain', 'driveway', 'drivin', 'drone', 'drool', 'drop', 'droplet', 'drought', 'drove', 'drown', 'drug', 'drugged', 'drum', 'drumbeat', 'drunk', 'drunkard', 'drunken', 'dtc', 'dtc28723', 'dtc29559', 'dtc39418', 'dtc39425', 'dtc47364', 'dtc65916', 'dtc66961', 'dtc69143', 'dtf229365', 'dual', 'duan', 'dub', 'dubiou', 'ducass', 'duchess', 'duck', 'duckl', 'dude', 'due', 'duet', 'duke', 'duli', 'dull', 'dumb', 'dumbest', 'dumbstruck', 'dummi', 'dump', 'dumpl', 'dumpster', 'dunno', 'dunst', 'duo', 'duplex', 'duplic', 'dupri', 'durabl', 'durat', 'duratec', 'durn', 'dust', 'dutch', 'duti', 'dutton', 'dv', 'dvd', 'dve', 'dvgate', 'dvi', 'dwarf', 'dwell', 'dwindl', 'dx', 'dylan', 'dynam', 'dynamo', 'dyno', 'décor', 'e773c', 'ea', 'eachoth', 'eager', 'eagerli', 'eagl', 'ear', 'earli', 'earlier', 'earliest', 'earn', 'earnest', 'earnhardt', 'earplug', 'earth', 'earthi', 'earthli', 'earthlink', 'earthquak', 'eas', 'easi', 'easier', 'easiest', 'easili', 'easily', 'east', 'eastern', 'easy', 'easysystem', 'eat', 'eaten', 'eateri', 'eats', 'eavesdrop', 'ebay', 'ebert', 'eboni', 'ecc', 'eccentr', 'ecco', 'echo', 'eclect', 'eclips', 'eco', 'econom', 'economi', 'ecp', 'ecstat', 'ed', 'eddi', 'edg', 'edgi', 'edific', 'edit', 'editor', 'edmund', 'edsel', 'educ', 'edward', 'eeek', 'eeri', 'eerili', 'effect', 'effervesc', 'effici', 'effort', 'effortlessli', 'eg', 'egg', 'eggnog', 'ego', 'eh', 'eight', 'eighteen', 'eighti', 'eisner', 'either', 'eject', 'elabor', 'elantra', 'elbow', 'elderli', 'elect', 'electr', 'electro', 'electron', 'electronica', 'eleg', 'elegantli', 'element', 'elementari', 'eleph', 'elev', 'elf', 'elicit', 'elimin', 'eliminat', 'elit', 'elizabeth', 'ella', 'elliot', 'elliott', 'elong', 'eloqu', 'els', 'else', 'elsewher', 'elud', 'elv', 'em', 'emac', 'email', 'embarass', 'embark', 'embarrass', 'embassi', 'embed', 'embodi', 'emboss', 'embrac', 'emce', 'emcee', 'emerg', 'emili', 'eminem', 'emiss', 'emit', 'emot', 'emotionally', 'empath', 'emperor', 'emphas', 'emphasi', 'empir', 'employ', 'employe', 'empti', 'emri', 'emti', 'en', 'enabl', 'enamel', 'encarta', 'encas', 'enclos', 'enclyclopedia', 'encod', 'encount', 'encourag', 'encyclopedia', 'end', 'endang', 'endear', 'endeavor', 'ending', 'endless', 'endors', 'endow', 'endulg', 'endur', 'enemi', 'enemies', 'enemy', 'energ', 'energet', 'energi', 'energy', 'enforc', 'engag', 'engin', 'england', 'english', 'engrav', 'engross', 'enhanc', 'enigma', 'enjoy', 'enlarg', 'enlighten', 'enlist', 'ennobl', 'enorm', 'enough', 'enrol', 'enslav', 'ensnar', 'ensur', 'entail', 'ententr', 'enter', 'enterpris', 'entertain', 'enthral', 'enthusiasm', 'enthusiast', 'entir', 'entiti', 'entitl', 'entourag', 'entranc', 'entre', 'entri', 'entryhal', 'envelop', 'envi', 'enviabl', 'enviou', 'environ', 'environment', 'envis', 'epa', 'epcot', 'epic', 'epilogu', 'epininions', 'epinion', 'epinions', 'episod', 'epp', 'equal', 'equilibrium', 'equip', 'equit', 'equival', 'er', 'era', 'eras', 'erect', 'ergonom', 'ergonomicli', 'eric', 'erkel', 'ernest', 'error', 'erupts', 'es', 'escal', 'escap', 'escort', 'espcial', 'especi', 'espionage', 'essenc', 'essenti', 'essex', 'establish', 'estat', 'esteem', 'ester', 'estim', 'estrang', 'et', 'etat', 'etc', 'etch', 'etern', 'ethan', 'ether', 'ethernet', 'etho', 'ethompson3', 'euphoni', 'euphrat', 'europ', 'european', 'euthan', 'ev', 'evalu', 'evanovich', 'evas', 'eve', 'even', 'evenli', 'event', 'eventu', 'ever', 'everglad', 'everi', 'every', 'everybodi', 'everyday', 'everyon', 'everyone', 'everyth', 'everything', 'everytim', 'everywher', 'evict', 'evid', 'evidenc', 'evil', 'evinc', 'evo', 'evolut', 'evolv', 'ewww', 'ex', 'exacerb', 'exact', 'exactli', 'exager', 'exagger', 'exalt', 'examin', 'exampl', 'excalibur', 'exce', 'exceed', 'exceedingli', 'excel', 'except', 'excerpt', 'excess', 'exchang', 'excit', 'exclaim', 'exclam', 'exclud', 'exclus', 'exclusives', 'excori', 'excus', 'execut', 'execution', 'exemplifi', 'exercis', 'exert', 'exhaust', 'exhibit', 'exhillar', 'exist', 'exit', 'exodu', 'exot', 'expand', 'expans', 'expeci', 'expect', 'expedit', 'expel', 'expend', 'expens', 'experi', 'experienc', 'experience', 'experiment', 'expert', 'expertis', 'expertli', 'expir', 'expired', 'explain', 'explan', 'explet', 'explic', 'explicit', 'explod', 'exploit', 'explor', 'exploratori', 'expo', 'export', 'expos', 'exposur', 'exposè', 'expound', 'express', 'expressway', 'exquist', 'extend', 'extended', 'extens', 'extent', 'exterior', 'extern', 'extol', 'extra', 'extract', 'extraordinari', 'extraordinarili', 'extraterrestri', 'extravag', 'extrem', 'exuber', 'exud', 'ey', 'eye', 'eyebal', 'eyehol', 'eyelid', 'eyes', 'fa', 'fab', 'fabol', 'fabric', 'fabul', 'fac', 'facad', 'face', 'facelift', 'facepl', 'facial', 'facil', 'facilit', 'fact', 'factoid', 'factor', 'factori', 'factual', 'factuom', 'faculti', 'fade', 'fail', 'failur', 'faint', 'fair', 'fairground', 'fairi', 'fairli', 'faith', 'fake', 'fakin', 'fall', 'fallen', 'falls', 'fals', 'falter', 'fam', 'fame', 'famili', 'familiar', 'family', 'famish', 'famou', 'fan', 'fanast', 'fanat', 'fanci', 'fancier', 'fang', 'fantasi', 'fantasia', 'fantast', 'fantasy', 'far', 'farberwar', 'farc', 'fare', 'farm', 'farmer', 'farrel', 'fart', 'farther', 'farthest', 'fascia', 'fascin', 'fashion', 'fast', 'fasten', 'faster', 'fastest', 'fastfood', 'fastr', 'fat', 'fatal', 'fate', 'father', 'fatigu', 'faulkner', 'fault', 'faux', 'faverau', 'favor', 'favorit', 'favour', 'favourit', 'favreau', 'fax', 'faxstf', 'fbi', 'fdd', 'fe', 'fear', 'fearsom', 'feast', 'feat', 'featur', 'feature', 'featureless', 'features', 'feautr', 'februari', 'feburari', 'fece', 'fed', 'feder', 'fedex', 'fee', 'feebli', 'feed', 'feedback', 'feel', 'feet', 'feint', 'felin', 'fell', 'fella', 'fellow', 'felt', 'femal', 'feminest', 'feminist', 'fenc', 'fender', 'ferrel', 'ferrell', 'ferri', 'ferryboat', 'fest', 'festiv', 'fetish', 'fever', 'few', 'fewer', 'fi', 'fianc', 'ficarra', 'fict', 'fiction', 'fidel', 'field', 'fiend', 'fierc', 'fieri', 'fiesta', 'fifteen', 'fifth', 'fifti', 'fifty', 'figgaz', 'fight', 'fighter', 'figur', 'figurehead', 'fiji', 'fil', 'file', 'filet', 'fill', 'filled', 'filler', 'film', 'filmi', 'filmmak', 'filter', 'filthi', 'final', 'financ', 'financi', 'find', 'finder', 'finding', 'fine', 'finest', 'finger', 'fingertip', 'finish', 'finnish', 'fire', 'fireplac', 'fireproof', 'firewal', 'firewir', 'firework', 'firm', 'firmer', 'firmli', 'first', 'fischer', 'fish', 'fishtail', 'fist', 'fit', 'fits', 'fitzgerald', 'five', 'fix', 'fixtur', 'flack', 'flag', 'flagg', 'flail', 'flair', 'flake', 'flaki', 'flame', 'flamepillar', 'flap', 'flare', 'flash', 'flashback', 'flashi', 'flat', 'flatter', 'flavor', 'flaw', 'flawless', 'flawlessli', 'flea', 'fled', 'flee', 'fleed', 'fleet', 'fleme', 'flesh', 'fleur', 'flew', 'flex', 'flexibl', 'fli', 'flick', 'flicker', 'flight', 'flimsi', 'flinti', 'flip', 'flipmod', 'float', 'flock', 'flood', 'floor', 'floormat', 'floorshow', 'flop', 'floppi', 'florida', 'floridia', 'floridian', 'flossi', 'flour', 'flouresc', 'flourish', 'flow', 'flower', 'floyd', 'fluffi', 'fluid', 'fluidli', 'fluoresc', 'fluouresc', 'flurri', 'flush', 'flute', 'flyer', 'fm', 'fmcc', 'fo', 'foam', 'fob', 'focaccia', 'focal', 'foci', 'focu', 'focus', 'fog', 'fold', 'folder', 'folk', 'follow', 'followin', 'fond', 'food', 'fool', 'fooled', 'foolish', 'foolproof', 'foot', 'footag', 'footbal', 'footi', 'footprint', 'footstep', 'footwork', 'for', 'forc', 'ford', 'fordfocusbreakproblems', 'forearm', 'forecast', 'foreign', 'foreman', 'foremost', 'foresaw', 'forest', 'forev', 'forgav', 'forget', 'forgett', 'forgiv', 'forgiven', 'forgot', 'forgotten', 'fork', 'form', 'formal', 'formaldehyd', 'format', 'former', 'formerli', 'formid', 'formula', 'formulaic', 'fornic', 'fort', 'forth', 'forti', 'fortifi', 'fortun', 'forty', 'forum', 'forward', 'foucault', 'foud', 'foul', 'found', 'foundat', 'founder', 'fountain', 'four', 'fourteen', 'fourth', 'fox', 'foxi', 'fraction', 'fragg', 'fragment', 'fram', 'frame', 'frameless', 'framework', 'fran', 'franchis', 'francisco', 'frank', 'frankenstein', 'franki', 'frankli', 'fransisco', 'frat', 'fratern', 'fraudul', 'fray', 'fre', 'freak', 'freaki', 'freakin', 'freakishli', 'freddi', 'fredon', 'fredwreck', 'free', 'freebasin', 'freebi', 'freedom', 'freeland', 'freeli', 'freestyl', 'freesyl', 'freewar', 'freeway', 'freez', 'freeze', 'freezer', 'fremont', 'french', 'freon', 'freqent', 'frequ', 'frequenc', 'frequent', 'fresh', 'freshen', 'fresher', 'freshest', 'freshli', 'freshly', 'freshwat', 'fret', 'freudian', 'fri', 'friday', 'fridg', 'friend', 'friendli', 'friendlier', 'friggin', 'frighten', 'frighteningli', 'frill', 'frilli', 'fring', 'front', 'frontier', 'frontin', 'frost', 'frozen', 'fruit', 'fruiti', 'frustrat', 'frv27', 'fryer', 'fsb', 'ft', 'ftp', 'fu', 'fuck', 'fuel', 'fugit', 'fujitsu', 'full', 'fullest', 'fulli', 'fumbl', 'fume', 'fun', 'funct', 'function', 'fund', 'funer', 'funk', 'funki', 'funnel', 'funni', 'funnier', 'funniest', 'funny', 'furnish', 'furnitur', 'furrow', 'furthermor', 'furthur', 'fusion', 'fuss', 'fussi', 'futil', 'futon', 'futur', 'futurisit', 'futurist', 'fuzz', 'fuzzi', 'fwd', 'fx', 'g3', 'g4', 'g40', 'g5', 'ga', 'gab', 'gadget', 'gage', 'gain', 'gainsward', 'gal', 'gala', 'galant', 'galaxi', 'galleri', 'gallon', 'gallop', 'galor', 'gam', 'gambl', 'gambler', 'game', 'gamer', 'gang', 'gangsta', 'gangstarr', 'gansta', 'gap', 'garag', 'garbag', 'garbl', 'garden', 'garland', 'garlic', 'gasp', 'gass', 'gat', 'gate', 'gateway', 'gather', 'gato', 'gaucho', 'gaug', 'gave', 'gawk', 'gawker', 'gay', 'gaze', 'gb', 'gear', 'gearbox', 'gee', 'geek', 'geeki', 'geforc', 'geforce2', 'geforce4', 'geisel', 'gem', 'gene', 'gener', 'genesi', 'genet', 'geniou', 'geniu', 'genius', 'genocid', 'genr', 'genre', 'gentl', 'gentleman', 'gentli', 'genuin', 'geograph', 'geographi', 'georg', 'germ', 'german', 'germani', 'germaphob', 'gert', 'gestur', 'get', 'getaway', 'getrag', 'gettin', 'gf', 'gga', 'ggot', 'gh', 'ghastli', 'ghetto', 'ghost', 'ghoul', 'ghz', 'giant', 'gibson', 'giddi', 'giddy', 'gift', 'gig', 'gigabit', 'gigabyt', 'gigahertz', 'gigant', 'gigarang', 'gigaset', 'giger', 'giggl', 'gillie', 'gimbal', 'gimbel', 'gimmick', 'gimmicki', 'gin', 'ginnif', 'giovanni', 'girdl', 'girl', 'girlfriend', 'girli', 'girls', 'gisel', 'give', 'given', 'giver', 'glad', 'gladiat', 'gladli', 'glamor', 'glanc', 'glare', 'glass', 'glasses', 'glaze', 'glazed', 'gleam', 'glenn', 'gli', 'glide', 'glitch', 'glitter', 'glitz', 'global', 'globe', 'glock', 'gloom', 'gloomi', 'glori', 'gloriou', 'glory', 'glossi', 'glove', 'glow', 'glu', 'gm', 'go', 'go5200', 'goal', 'goat', 'gobbl', 'goblet', 'god', 'goddess', 'gods', 'goe', 'going', 'gold', 'goldchain', 'golden', 'golf', 'gollaxwelcom', 'gon', 'gone', 'good', 'goodby', 'goodfor', 'goodi', 'goodwil', 'goodwin', 'goodyear', 'goofi', 'googl', 'goon', 'goosebump', 'gorgeou', 'gorgeous', 'gori', 'gosh', 'gospel', 'gossam', 'got', 'gothic', 'gothika', 'goto', 'gotten', 'gotti', 'goug', 'gourmet', 'gov', 'govern', 'gow', 'gown', 'gp', 'grab', 'grac', 'grace', 'gracious', 'grad', 'grade', 'gradual', 'graduat', 'grafh', 'grafton', 'graham', 'grain', 'grammar', 'gran', 'grand', 'granddaught', 'grandeur', 'grandfath', 'grandios', 'grandma', 'grandmoth', 'grandpa', 'grandpappi', 'grandpar', 'grandpaw', 'grandson', 'granni', 'grant', 'graphic', 'grasp', 'grass', 'grate', 'grater', 'gratif', 'gratitud', 'gratuiti', 'grav', 'grave', 'gravelli', 'gravi', 'gravit', 'gray', 'graze', 'grazer', 'greas', 'greasi', 'great', 'greater', 'greatest', 'greatli', 'gredunza', 'greed', 'greedi', 'greek', 'green', 'greenback', 'greenhous', 'greenish', 'greet', 'greeter', 'greg', 'grew', 'grey', 'greyhound', 'grid', 'griddl', 'gridiron', 'grief', 'griev', 'grievanc', 'griffin', 'grill', 'grilled', 'grime', 'grimi', 'grimiest', 'grin', 'grinch', 'grinchi', 'grind', 'grip', 'gripe', 'grisham', 'grisli', 'grisoft', 'grit', 'gritti', 'grizzli', 'groan', 'groceri', 'groom', 'groov', 'groovin', 'grope', 'gross', 'grouch', 'ground', 'group', 'groupie', 'grout', 'grove', 'grow', 'growl', 'grown', 'gruff', 'grumbl', 'grumpi', 'grunt', 'grv616', 'gs', 'gs300', 'gs430', 'gt', 'gti', 'guag', 'guarante', 'guard', 'guava', 'gucci', 'guch', 'guess', 'guest', 'guesthous', 'guffaw', 'guid', 'guild', 'guilt', 'guilti', 'guilty', 'guis', 'guitar', 'gulch', 'gum', 'gun', 'gunk', 'guru', 'gut', 'guy', 'gwenn', 'gyllenha', 'ha', 'habit', 'hack', 'hade', 'haden', 'haggl', 'haha', 'hair', 'haircut', 'hairdress', 'hairspray', 'hak', 'half', 'halfway', 'hall', 'hallmark', 'halloween', 'hallway', 'halogen', 'halt', 'halv', 'ham', 'hamburg', 'hammer', 'hammi', 'hamper', 'han', 'hana', 'hand', 'handi', 'handilng', 'handl', 'handler', 'handling', 'handrest', 'hands', 'handset', 'handsom', 'handwash', 'hang', 'hanger', 'hangin', 'hangmen', 'hank', 'hanna', 'hannah', 'hap', 'haphazard', 'happen', 'happi', 'happier', 'happili', 'harass', 'harbour', 'hard', 'hard_to_pleas', 'hardback', 'hardcor', 'hardcore', 'harddriv', 'harden', 'harder', 'hardi', 'hardiest', 'hardli', 'hardwar', 'harken', 'harley', 'harm', 'harmon', 'harmoni', 'harp', 'harper', 'harpist', 'harri', 'harrisburg', 'harrumph', 'harsh', 'harshest', 'harvard', 'harvest', 'hasp', 'hassel', 'hassl', 'hastili', 'hat', 'hatch', 'hatchback', 'hate', 'hater', 'hatin', 'hatr', 'haul', 'haunt', 'hauteur', 'hav', 'havana', 'haven', 'havent', 'havoc', 'hawaii', 'hawaiian', 'hawk', 'hay', 'hazard', 'haze', 'hazi', 'hd', 'hdd', 'he', 'heaaaavi', 'head', 'headach', 'headboard', 'headcov', 'headlamp', 'headlight', 'headlin', 'headphon', 'headrest', 'headroom', 'headset', 'health', 'healthi', 'healthier', 'heap', 'hear', 'heard', 'hears', 'heart', 'heartfelt', 'heat', 'heating', 'heatsink', 'heav', 'heaven', 'heavenli', 'heavi', 'heavier', 'heavili', 'heavily', 'heavy', 'heavyish', 'heavyweight', 'heck', 'heckuva', 'hed', 'hedg', 'heed', 'heedless', 'heeee', 'heel', 'heeps', 'heff', 'heft', 'hefti', 'heh', 'height', 'heighten', 'heirloom', 'heist', 'held', 'helen', 'hell', 'hello', 'helm', 'help', 'helper', 'helpless', 'helplessli', 'hemispher', 'henc', 'henceforth', 'henri', 'her', 'heracliu', 'here', 'hero', 'heroin', 'herr', 'herskovitz', 'hertz', 'herut', 'hesit', 'hey', 'hi', 'hibern', 'hid', 'hidden', 'hide', 'hideou', 'hideous', 'hierarchi', 'hieroglyph', 'higgin', 'high', 'higher', 'highest', 'highland', 'highli', 'highlight', 'highschool', 'highway', 'hike', 'hilari', 'hill', 'hilton', 'hind', 'hinder', 'hindsight', 'hing', 'hint', 'hip', 'hiphop', 'hippi', 'hire', 'his', 'hiss', 'histor', 'histori', 'hit', 'hitachi', 'hitch', 'hitmen', 'hmm', 'hmmm', 'hmmmm', 'ho', 'hoard', 'hobb', 'hobbi', 'hockey', 'hoe', 'hog', 'hol', 'hold', 'holder', 'holding', 'holds', 'hole', 'holes', 'holida', 'holiday', 'holla', 'hollogram', 'hollywood', 'holm', 'hom', 'home', 'homeboy', 'homeless', 'homelink', 'homepag', 'homer', 'hometown', 'homework', 'homi', 'homicid', 'honda', 'honest', 'honestli', 'honey', 'honeycomb', 'honeymoon', 'honor', 'hood', 'hoodi', 'hook', 'hooker', 'hooks', 'hoola', 'hoop', 'hooray', 'hop', 'hope', 'hopeless', 'hopelessli', 'hopp', 'hopper', 'hor', 'horizont', 'hormones', 'horn', 'horni', 'horrend', 'horribl', 'horrid', 'horrif', 'horrifi', 'horror', 'hors', 'horseback', 'horsepow', 'horton', 'hose', 'hospit', 'hospital', 'host', 'hostag', 'hostage', 'hostess', 'hostil', 'hosting', 'hot', 'hotdog', 'hotel', 'hotels', 'hotter', 'hottest', 'hour', 'hous', 'houseguest', 'household', 'housekeep', 'houses', 'housew', 'housewar', 'housewif', 'houston', 'hover', 'howard', 'howev', 'howl', 'hp', 'hr', 'hrs', 'hsn', 'ht', 'html', 'http', 'hub', 'hubbub', 'hubrist', 'huddl', 'hue', 'hug', 'huge', 'hugh', 'hugo', 'huh', 'hula', 'hum', 'human', 'humanist', 'humankind', 'humberfloob', 'humid', 'humili', 'hummer', 'humong', 'humor', 'humour', 'hump', 'humvee', 'hundr', 'hung', 'hunger', 'hungri', 'hunker', 'hunt', 'hunter', 'hurdl', 'hurray', 'hurri', 'hurrican', 'hurt', 'husband', 'hush', 'hussein', 'husti', 'hustl', 'hustla', 'hvac', 'hwi', 'hyatt', 'hybrid', 'hydrat', 'hydrid', 'hygien', 'hype', 'hyper', 'hyperthread', 'hypnot', 'hypocracy', 'hyster', 'hysteria', 'hyundai', 'hz', 'i30', 'ian', 'ibm', 'ibook', 'ical', 'ice', 'iceberg', 'iced', 'ichat', 'ick', 'icon', 'id', 'ide', 'idea', 'ideal', 'idealist', 'ident', 'identifi', 'idiosyncrasi', 'idiot', 'idisk', 'idl', 'idvd', 'idvd2', 'ie', 'ieee', 'if', 'iffi', 'ifi', 'ifor', 'ignit', 'ignor', 'ii', 'iii', 'ikea', 'ilif', 'ill', 'illeg', 'illegitim', 'illmat', 'illog', 'illumin', 'illumuin', 'illus', 'illustr', 'im', 'ima', 'imac', 'imag', 'imageri', 'images', 'imagin', 'imaginit', 'imit', 'immacul', 'immatur', 'immedi', 'immens', 'immensli', 'immers', 'immin', 'immobil', 'immun', 'imovi', 'imovie2', 'impact', 'impair', 'impala', 'impati', 'impecc', 'impenetr', 'imperfect', 'imperson', 'implaus', 'implement', 'impli', 'import', 'importantli', 'imposs', 'imposter', 'imprecis', 'impress', 'impressions', 'impreza', 'imprint', 'imprison', 'improv', 'impuls', 'imri', 'in', 'inabl', 'inaccuraci', 'inact', 'inadequ', 'inadvert', 'inan', 'inappropri', 'inappropriate', 'inattent', 'inaud', 'inbound', 'inc', 'incarcer', 'incarn', 'incendiari', 'incens', 'incent', 'inch', 'incid', 'incis', 'incit', 'inclin', 'includ', 'incom', 'incommun', 'incompat', 'incompet', 'incomplet', 'inconsist', 'inconveni', 'incorpor', 'incorrect', 'incorrectli', 'increas', 'increasingli', 'incred', 'incumb', 'inde', 'independ', 'india', 'indian', 'indic', 'indict', 'indiffer', 'indign', 'indistinct', 'individu', 'indoor', 'induc', 'induct', 'indulg', 'industri', 'industry', 'inebri', 'ineffici', 'inept', 'ineptitud', 'inertia', 'inescap', 'inevit', 'inexhaust', 'inexist', 'inexpens', 'inexperienc', 'infam', 'infantri', 'infecti', 'infer', 'inferior', 'inferno', 'infin', 'infinit', 'inflat', 'inflex', 'inflict', 'influenc', 'influenti', 'info', 'infomerci', 'inform', 'infrequ', 'infuenc', 'ingeni', 'ingenu', 'ingredi', 'inher', 'inherit', 'initi', 'inject', 'injur', 'injuri', 'ink', 'inkjet', 'inkl', 'inlet', 'inn', 'inna', 'innat', 'inner', 'innoc', 'innocu', 'innov', 'innuendo', 'innumer', 'inoffens', 'inop', 'inoper', 'inopportun', 'input', 'inquir', 'inquisit', 'inroad', 'insan', 'insecur', 'insert', 'inset', 'insid', 'insight', 'insignific', 'insist', 'insomnia', 'inspect', 'inspector', 'inspir', 'inspiron', 'instal', 'instanc', 'instant', 'instantli', 'instead', 'instinct', 'institut', 'instruct', 'instructions', 'instructor', 'instrument', 'insturct', 'insul', 'insult', 'insur', 'intact', 'intak', 'intang', 'integr', 'integra', 'integration', 'intel', 'intellect', 'intellectu', 'intellig', 'intenc', 'intend', 'intens', 'intent', 'interact', 'intercom', 'intercours', 'interest', 'interf', 'interfac', 'interfer', 'intergalact', 'interior', 'interlud', 'intermitt', 'intern', 'international', 'internet', 'interrog', 'interrupt', 'interspers', 'interst', 'interuppt', 'interupt', 'interv', 'interven', 'intervideo', 'interview', 'interwoven', 'intim', 'intimid', 'intoler', 'intox', 'intricaci', 'intrigu', 'intrins', 'intro', 'introduc', 'introduct', 'introspect', 'intrud', 'intrus', 'intuit', 'invad', 'invalid', 'invari', 'invect', 'invent', 'inventor', 'invert', 'invest', 'investig', 'investor', 'invis', 'invit', 'involv', 'iphoto', 'ir', 'iren', 'iron', 'ironi', 'irrat', 'irregular', 'irrelev', 'irrespect', 'irrit', 'irs', 'is', 'is300', 'ish', 'isi', 'isight', 'island', 'isley', 'isms', 'isn', 'isnt', 'isol', 'issu', 'issue', 'issues', 'isync', 'it', 'italian', 'itch', 'item', 'iter', 'itool', 'itun', 'itunes2', 'itunes4', 'ive', 'j740', 'ja', 'jab', 'jack', 'jacket', 'jackman', 'jackpot', 'jacksommersbi', 'jackson', 'jacksonvil', 'jacqu', 'jadakiss', 'jade', 'jae', 'jag', 'jaguar', 'jail', 'jam', 'jamaican', 'jame', 'jamilla', 'jan', 'jane', 'janet', 'janitor', 'janni', 'januari', 'japan', 'japanes', 'japanese', 'jar', 'jarul', 'jason', 'jaunt', 'jaw', 'jawn', 'jay', 'jazz', 'jazzi', 'jb', 'jd', 'jealou', 'jealousi', 'jedi', 'jeep', 'jeff', 'jelli', 'jello', 'jellybean', 'jennif', 'jerk', 'jermain', 'jerri', 'jersey', 'jerssi', 'jerusalem', 'jess', 'jesu', 'jeter', 'jetta', 'jewel', 'jewelri', 'jg', 'jheri', 'jigga', 'jiggl', 'jiggyjay', 'jill', 'jim', 'jimmi', 'jitter', 'jitteri', 'jivey', 'jj', 'joan', 'job', 'jobe', 'joe', 'joel', 'jog', 'john', 'johnson', 'join', 'joint', 'joke', 'jolli', 'jolt', 'jon', 'jone', 'jordan', 'josie_garza', 'jostl', 'journal', 'journalist', 'journey', 'jovi', 'joy', 'joyc', 'joyou', 'joystick', 'jpeg', 'jr', 'juan', 'jubil', 'judg', 'judgement', 'judgment', 'judi', 'juggernaut', 'juic', 'juiceladi', 'juiceman', 'jukebox', 'juli', 'julia', 'juliet', 'julio', 'jumbo', 'jump', 'jumper', 'jumperless', 'jumpin', 'jun', 'june', 'jungl', 'junior', 'junk', 'jurass', 'just', 'justic', 'justifi', 'justin', 'justo', 'juvenil', 'juvi', 'jux', 'juxtaposit', 'jvas2', 'jvc', 'kakahiaka', 'kam', 'kane', 'kapalua', 'karaok', 'kardon', 'kart', 'katherin', 'kathi', 'kathleen', 'kati', 'katsumoto', 'kauai', 'kay', 'kayslay', 'kb', 'kbp', 'ke', 'keanu', 'keen', 'keep', 'keeper', 'keev', 'keith', 'kel', 'keli', 'kelli', 'kelly', 'ken', 'keno', 'kensington', 'kentucki', 'kept', 'ker', 'kernel', 'kettl', 'kevin', 'key', 'keybaord', 'keyboard', 'keyhol', 'keyless', 'keylim', 'keypad', 'keyspan', 'keyston', 'keystrok', 'keyword', 'kg', 'kgb', 'khtml', 'kia', 'kick', 'kickdown', 'kicko', 'kid', 'kiddi', 'kids', 'kiesha', 'kill', 'killa', 'killah', 'killaz', 'killed', 'killer', 'kim', 'kind', 'kinda', 'kindergarten', 'kindli', 'king', 'kingdom', 'kings', 'kingston', 'kinsey', 'kiosk', 'kirkland', 'kirsten', 'kisha', 'kiss', 'kit', 'kitchen', 'kitchenaid', 'kite', 'kitschi', 'kiz', 'kleenex', 'km', 'kmart', 'knaamean', 'knapeley', 'knee', 'knew', 'knife', 'knight', 'knive', 'knob', 'knobbi', 'knock', 'knod', 'know', 'knowledg', 'known', 'knows', 'kodak', 'kona', 'koncret', 'koontz', 'korean', 'kri', 'kringl', 'kristinafh', 'kross', 'krs', 'kvm', 'kwan', 'kwanzaa', 'kx', 'kyle', 'l3', 'l70', 'la', 'lab', 'label', 'labor', 'laboratori', 'labori', 'lac', 'lace', 'lack', 'lackadais', 'lacklust', 'lacquer', 'laden', 'ladi', 'lady', 'ladylik', 'lag', 'lagoon', 'laid', 'laidback', 'lake', 'lakefront', 'lame', 'lament', 'lamin', 'laminar', 'lamp', 'lampshad', 'lan', 'lancer', 'land', 'landscap', 'lane', 'langdon', 'langtri', 'languag', 'languish', 'lansing', 'lansing5', 'lap', 'laptop', 'lard', 'larg', 'larger', 'largest', 'laser', 'lash', 'lassit', 'last', 'lastli', 'latch', 'late', 'later', 'latest', 'latin', 'latino', 'latter', 'latyrx', 'lauderdal', 'laugh', 'laughabl', 'laughter', 'launch', 'laundri', 'laurel', 'lauren', 'lava', 'lavish', 'law', 'lawrenc', 'lawsuit', 'lawyer', 'lay', 'layer', 'layout', 'laywer', 'lazi', 'lb', 'lbs', 'lcd', 'ldc', 'le', 'leachman', 'lead', 'leaden', 'leader', 'leagu', 'leak', 'lean', 'leap', 'leapt', 'learn', 'leas', 'leash', 'least', 'leather', 'leav', 'lectur', 'led', 'lee', 'left', 'leftov', 'leg', 'legaci', 'legal', 'legend', 'legendari', 'legibl', 'legit', 'legitim', 'legroom', 'leisur', 'lem', 'lemon', 'lemonad', 'len', 'lena', 'lend', 'length', 'lengthi', 'lenkum', 'lens', 'leppard', 'leroy', 'less', 'lesser', 'lesson', 'lest', 'let', 'lethal', 'lett', 'letter', 'lettuc', 'leukaemia', 'leukemia', 'lev', 'level', 'lever', 'levi', 'lexu', 'lexus', 'lfe', 'li', 'liaison', 'liar', 'libat', 'liber', 'liberti', 'libra', 'librari', 'licens', 'lid', 'lids', 'lie', 'lif', 'life', 'lifeguard', 'lifeless', 'lifelik', 'lifestyl', 'lifetim', 'lift', 'ligher', 'light', 'lighten', 'lighter', 'lightli', 'lightn', 'lightning', 'lik', 'like', 'likeabl', 'likelihood', 'likewis', 'likwit', 'lil', 'lili', 'lilli', 'lilliputian', 'lilting', 'limbo', 'limelight', 'limit', 'limo', 'limonad', 'limp', 'lin', 'lincoln', 'linda', 'line', 'linear', 'linen', 'liner', 'lineup', 'linger', 'link', 'linkag', 'linkin', 'lint', 'linux', 'lion', 'lip', 'liquid', 'liquor', 'lisa', 'list', 'listen', 'lit', 'lite', 'liter', 'literari', 'literatur', 'litig', 'litter', 'littl', 'liva', 'live', 'liveabl', 'liven', 'liver', 'liveri', 'livetyp', 'll', 'lloyd', 'lo', 'load', 'loan', 'loathsom', 'lob', 'lobbi', 'lobe', 'local', 'locat', 'lock', 'lockdown', 'locked', 'lodg', 'lofti', 'log', 'logic', 'login', 'logitech', 'logo', 'lok', 'lol', 'london', 'lone', 'long', 'longer', 'longest', 'longev', 'longhous', 'look', 'looker', 'lookin', 'looko', 'lookout', 'looni', 'loop', 'loopi', 'loos', 'loosen', 'loosest', 'loosi', 'loot', 'lopez', 'lopsid', 'lord', 'lose', 'loser', 'loss', 'lost', 'lot', 'lotion', 'lotr', 'lotteri', 'loud', 'louder', 'loudest', 'loudli', 'loui', 'loung', 'lousi', 'louvr', 'lov', 'lovabl', 'love', 'loveabl', 'lovebird', 'lover', 'lovingli', 'low', 'lowbump', 'lower', 'lowest', 'lowli', 'lowlight', 'lox', 'loyal', 'loyalist', 'loyalti', 'lp', 'ls', 'lsd', 'ltd', 'luau', 'luciou', 'luck', 'lucki', 'luckili', 'luda', 'ludacri', 'luddit', 'ludicr', 'ludicrously', 'luftwaff', 'lug', 'luggag', 'luke', 'lullaby', 'lumbar', 'lumide', 'lump', 'lunar', 'lunat', 'lunch', 'luncheon', 'lung', 'lurch', 'lure', 'lusciou', 'lush', 'lust', 'luster', 'luxuri', 'lx', 'lynch', 'lyric', 'lyricist', 'lyricswis', 'm3', 'ma', 'mac', 'macarena', 'macaroni', 'macconnect', 'macdermott', 'mach', 'machin', 'machineri', 'macintosh', 'mack', 'maco', 'macpherson', 'mad', 'madd', 'madden', 'made', 'madlib', 'madman', 'madmen', 'madonna', 'madtheori', 'mag', 'magazin', 'maggi', 'magic', 'magician', 'magizin', 'magnet', 'magnifi', 'magnific', 'magnitud', 'maguir', 'mah', 'maid', 'maiden', 'mail', 'mailbox', 'mailer', 'main', 'mainli', 'mainstay', 'mainstream', 'maintain', 'mainten', 'major', 'mak', 'make', 'makeov', 'maker', 'makeup', 'makin', 'maladjust', 'male', 'malfunct', 'malibu', 'malici', 'mall', 'mama', 'mamma', 'man', 'manag', 'mandarin', 'maneuv', 'mangl', 'manhola', 'mani', 'manifest', 'manifold', 'manipul', 'manli', 'manner', 'manni', 'manoso', 'mansion', 'mantelpiec', 'manual', 'manufactur', 'map', 'mapl', 'mar', 'marbl', 'march', 'marcia', 'marco', 'marcu', 'margarita', 'margin', 'mari', 'maria', 'marina', 'marino', 'mario', 'mark', 'market', 'marketplac', 'maroon', 'marquez', 'marraca', 'marrag', 'marri', 'marriag', 'marshal', 'mart', 'martha', 'martin', 'martinez', 'marvel', 'mash', 'masher', 'mass', 'massacr', 'massiv', 'mast', 'master', 'masteri', 'mastermind', 'masterpiec', 'mastodon', 'mat', 'match', 'matchbox', 'mate', 'materi', 'material', 'materialist', 'matern', 'matey', 'math', 'mathers', 'matic', 'matlock', 'matrix', 'matronli', 'matte', 'matter', 'mattress', 'matur', 'maui', 'mauric', 'max', 'maxim', 'maxima', 'maximum', 'may', 'mayb', 'mayer', 'mayn', 'mazda', 'mazur', 'mb', 'mbna', 'mbp', 'mc', 'mcafee', 'mccarthy', 'mccauley', 'mcdonald', 'mcgirt', 'mcknight', 'me', 'meal', 'mealtim', 'mean', 'meander', 'meaning', 'meaningless', 'meant', 'meantim', 'meanwhil', 'measur', 'meat', 'meatbal', 'meati', 'meatloaf', 'mechan', 'medallion', 'meddl', 'media', 'medic', 'medicin', 'medicor', 'mediocr', 'mediterranean', 'medium', 'medley', 'meet', 'meg', 'mega', 'megabyt', 'megadef', 'megahertz', 'megastar', 'mel', 'melanchol', 'melancholi', 'melanin', 'mele', 'melitta', 'mellow', 'melod', 'melodi', 'melodrama', 'melodramat', 'melt', 'melted', 'member', 'memo', 'memoir', 'memor', 'memori', 'memory', 'men', 'menac', 'ment', 'mental', 'mention', 'menu', 'mercantil', 'merced', 'merchandis', 'merci', 'mercuri', 'mere', 'merg', 'meridien', 'merit', 'mermaid', 'merman', 'merri', 'mesh', 'mesmer', 'mesmor', 'mess', 'messag', 'messeng', 'messin', 'messsag', 'met', 'metafor', 'metal', 'metalish', 'metallica', 'metamucil', 'metaphor', 'meter', 'method', 'meticul', 'metropoli', 'mex', 'mexican', 'mexico', 'meyer', 'mg', 'mgm', 'mh', 'mhz', 'mi', 'miami', 'mic', 'michael', 'michel', 'mickey', 'micro', 'microboard', 'micron', 'microphon', 'microsoft', 'microwav', 'mid', 'mida', 'middl', 'middle', 'middling', 'midget', 'midnight', 'midst', 'midway', 'midweek', 'mifun', 'mifune', 'might', 'mighti', 'migrant', 'mike', 'mikkey', 'mild', 'mildli', 'mile', 'mileag', 'mileston', 'milhon', 'militari', 'milk', 'mill', 'milleni', 'millenia', 'millenium', 'millennia', 'millennium', 'miller', 'million', 'millionair', 'mimic', 'min', 'minc', 'mind', 'mine', 'mini', 'miniatur', 'minidv', 'minijack', 'minim', 'minimalist', 'minimum', 'minist', 'minitow', 'minivan', 'minni', 'minor', 'minu', 'minut', 'minutes', 'miracl', 'miracul', 'mirag', 'miramax', 'miranda', 'mirran', 'mirren', 'mirror', 'misadventur', 'misalign', 'misbehavior', 'miscast', 'miscellan', 'miser', 'miseri', 'misery', 'misfit', 'misfortun', 'misguid', 'mish', 'mishap', 'mislead', 'mismatch', 'misnom', 'misogynist', 'mispel', 'miss', 'missi', 'mission', 'mississippi', 'mississippian', 'misspel', 'mist', 'mistak', 'mistaken', 'mistakenli', 'misunderstood', 'mitsubishi', 'mitsumi', 'mitt', 'mix', 'mixer', 'mixtap', 'mixtur', 'mjg', 'mk', 'mm', 'mmmmm', 'mo', 'mobb', 'mobil', 'mobster', 'mockeri', 'mockingbird', 'mode', 'model', 'modelhomepage', 'modem', 'moder', 'moderately', 'modern', 'modernist', 'modest', 'modestli', 'modif', 'modifi', 'modul', 'modular', 'mohican', 'moist', 'moistur', 'molass', 'mold', 'moldi', 'mom', 'moment', 'momentari', 'momentum', 'momma', 'mommi', 'mon', 'mona', 'monch', 'monday', 'monetari', 'money', 'monik', 'monitor', 'monk', 'mono', 'monolith', 'monologu', 'monorail', 'monoton', 'monoxid', 'monster', 'monstros', 'monstrou', 'montana', 'montel', 'montell', 'month', 'monthli', 'monthly', 'monti', 'monty', 'monument', 'mood', 'moodi', 'moon', 'mooner', 'moot', 'moral', 'morbid', 'mordecai', 'more', 'morelli', 'moreov', 'moreso', 'morn', 'moron', 'morri', 'mortal', 'mortifi', 'morton', 'mosquito', 'moss', 'most', 'mostli', 'motel', 'mothaship', 'mother', 'motherboard', 'motif', 'motion', 'motor', 'motorcycl', 'motorola', 'mottl', 'motto', 'mould', 'mount', 'mountain', 'mourn', 'mous', 'mousepad', 'mousesavers', 'mouth', 'mouthwash', 'move', 'movement', 'movi', 'movie', 'moviemak', 'mp3', 'mpg', 'mph', 'mpn', 'mpp', 'mr', 'mrs', 'ms', 'msi', 'msn', 'mt', 'mtv', 'much', 'mud', 'muddi', 'mug', 'muic', 'multi', 'multifacet', 'multimedia', 'multipl', 'multipli', 'multiscan', 'multisyl', 'multitud', 'mumbo', 'munch', 'munchi', 'mundan', 'munson', 'mural', 'murder', 'muro', 'murphi', 'murray', 'muscl', 'muscle', 'muscular', 'muse', 'museum', 'mushi', 'mushier', 'mushroom', 'music', 'musicmatch', 'mussel', 'must', 'musta', 'mustang', 'mute', 'muteabl', 'muthaf', 'mutter', 'muuvon', 'muzzl', 'mx', 'mx400', 'mx700', 'mydvd', 'myer', 'myriad', 'mysogonyst', 'mysteri', 'mystery', 'mystic', 'mystifi', 'mystik', 'myth', 'mythic', 'n50', 'na', 'nab', 'nacho', 'nada', 'nail', 'naiv', 'nak', 'nake', 'naked', 'nam', 'name', 'nameless', 'nana', 'nap', 'napkin', 'nari', 'narr', 'narrartor', 'narrat', 'narrow', 'nas', 'nasal', 'nascar', 'nasti', 'nastradamu', 'nathan', 'nation', 'nativ', 'natur', 'naugahyd', 'naughti', 'nauseou', 'nave', 'navig', 'navigation', 'nay', 'near', 'nearbi', 'nearest', 'nearli', 'neat', 'neccessari', 'necess', 'necessari', 'necessarili', 'necessit', 'neck', 'need', 'needless', 'neg', 'negat', 'neglect', 'neglig', 'neighbor', 'neighborhood', 'neiman', 'neither', 'nekkid', 'nell', 'nelli', 'nellyvil', 'nemesi', 'nemo', 'neon', 'nephew', 'neptun', 'neptunes', 'nerd', 'nerdi', 'nero', 'nerv', 'nervou', 'net', 'netscap', 'nettl', 'network', 'neurot', 'neutral', 'neva', 'nevada', 'never', 'neverland', 'nevermind', 'nevertheless', 'neveu', 'new', 'newburi', 'newcom', 'newer', 'newest', 'newfound', 'newhart', 'newli', 'newman', 'news', 'newspap', 'newstand', 'newton', 'next', 'ni', 'nia', 'nic', 'nicad', 'nicd', 'nice', 'nicely', 'nicer', 'nicest', 'nich', 'nick', 'nickel', 'nicol', 'nicu', 'niec', 'nifti', 'nigga', 'night', 'nightgown', 'nightli', 'nightlif', 'nightmar', 'nightstand', 'nighttim', 'nihil', 'nihilist', 'nike', 'nikki', 'nile', 'nilli', 'nimh', 'nine', 'ninja', 'nino', 'nintendo', 'nippl', 'nissan', 'nissanusa', 'nit', 'niue', 'nmb', 'nmh', 'nn', 'nnps', 'nnptune', 'no', 'nob', 'nobil', 'nobl', 'nobodi', 'nobody', 'nod', 'nodd', 'nois', 'noisi', 'nokia', 'nom', 'nomin', 'nomine', 'non', 'nonchal', 'noncondens', 'none', 'nonetheless', 'nonexist', 'nonsens', 'nonstick', 'nonstop', 'nontheless', 'noodl', 'nope', 'nore', 'noreaga', 'norm', 'normal', 'norman', 'nortel', 'north', 'norther', 'northern', 'northwest', 'norton', 'nos', 'nose', 'nosi', 'nostalg', 'nostalgia', 'nostromo', 'not', 'notabl', 'notch', 'notchi', 'notchy', 'note', 'noteabl', 'notebook', 'noteworthi', 'noth', 'nothin', 'notic', 'notifi', 'notion', 'notori', 'novel', 'novelti', 'novemb', 'november', 'novic', 'now', 'nowaday', 'nowadays', 'nowher', 'nowl', 'noxon', 'noyd', 'nsx', 'ntf', 'nude', 'nuditi', 'nuff', 'nugget', 'nui', 'nuisanc', 'numb', 'number', 'numbingli', 'numer', 'nun', 'nuremberg', 'nurs', 'nurseri', 'nut', 'nuthous', 'nutshel', 'nvh', 'nvidia', 'ny', 'nyc', 'nylon', 'oak', 'oakland', 'oasi', 'oath', 'obi', 'obituari', 'object', 'objects', 'oblig', 'obligatori', 'obliter', 'obnoxi', 'obscen', 'obscur', 'observ', 'obsess', 'obsessive', 'obstruct', 'obtain', 'obtrus', 'obviou', 'obvious', 'occas', 'occasion', 'occup', 'occupi', 'occur', 'occurr', 'ocean', 'octan', 'octob', 'odb', 'odd', 'oddli', 'ode', 'odo', 'odomet', 'odor', 'odyssey', 'oe', 'oem', 'oeuvr', 'of', 'off', 'offend', 'offens', 'offer', 'offhand', 'offic', 'offici', 'offish', 'offlin', 'often', 'oftentim', 'oh', 'ohana', 'ohv', 'oil', 'oj', 'ok', 'okay', 'old', 'older', 'oldest', 'oldschool', 'oldsmobil', 'olfactori', 'oliv', 'olympu', 'omelet', 'omelett', 'omin', 'omiss', 'omnibook', 'omnivor', 'on', 'once', 'one', 'ongo', 'onion', 'onli', 'onlin', 'onsit', 'ontario', 'onto', 'ooh', 'oolldd', 'oooh', 'ooooh', 'oop', 'open', 'oper', 'opinion', 'oppon', 'opportun', 'oppos', 'opposit', 'opt', 'optic', 'optim', 'optimist', 'optimum', 'option', 'options', 'opu', 'or', 'orang', 'orange', 'orb', 'orchestr', 'ord', 'ordeal', 'order', 'orderli', 'ordinari', 'ordinarili', 'oregon', 'organ', 'orgasm', 'orgi', 'ori', 'orient', 'origin', 'origion', 'orlando', 'orlean', 'ornament', 'ornat', 'orphan', 'orphanag', 'os', 'osama', 'oscar', 'oshun', 'osx', 'ot', 'other', 'otherwis', 'otherworldli', 'otto', 'ouch', 'ought', 'ounc', 'our', 'out', 'outbound', 'outdat', 'outdo', 'outdoor', 'outdoors', 'outfit', 'outfitt', 'outgo', 'outing', 'outlandish', 'outlet', 'outlin', 'outliv', 'outlook', 'outperform', 'output', 'outrag', 'outshin', 'outsid', 'outspoken', 'outstand', 'outta', 'outweigh', 'outweight', 'ov', 'ova', 'oval', 'oven', 'over', 'overal', 'overbal', 'overboard', 'overboost', 'overcharg', 'overclock', 'overcom', 'overcook', 'overcrowd', 'overdon', 'overdos', 'overdr', 'overdu', 'overeag', 'overfil', 'overh', 'overhead', 'overheat', 'overi', 'overinfl', 'overli', 'overlook', 'overnight', 'overplay', 'overpr', 'overpriced', 'overproduc', 'overr', 'overreach', 'overrid', 'overs', 'overse', 'overshadow', 'oversight', 'overst', 'overstay', 'overtak', 'overview', 'overweight', 'overwhelm', 'overwrit', 'overwrought', 'owe', 'own', 'owner', 'ownership', 'ox10', 'oxford', 'oxid', 'oxo', 'oz', 'ozark', 'p215', 'p25', 'p4', 'p511', 'pa', 'pablo', 'pac', 'pacbel', 'pace', 'pacif', 'pack', 'packag', 'package', 'packet', 'pad', 'paddl', 'padlock', 'paella', 'page', 'pageant', 'pahrump', 'pai', 'paid', 'pain', 'painstak', 'paint', 'pair', 'palac', 'palat', 'pale', 'palladini', 'palm', 'palpabl', 'pamper', 'pan', 'panason', 'pancak', 'pander', 'panel', 'panic', 'panoram', 'pant', 'panther', 'pantyhos', 'pap', 'papa', 'paper', 'paperback', 'paperweight', 'pappi', 'par', 'paradis', 'paradox', 'paragraph', 'parallel', 'paramet', 'paranoid', 'paranorm', 'paraphras', 'parasit', 'parchment', 'pardon', 'parent', 'paretski', 'pari', 'park', 'parker', 'parmesan', 'parodi', 'parol', 'pars', 'part', 'parti', 'partial', 'particip', 'particl', 'particular', 'particularli', 'partit', 'partli', 'partner', 'partnership', 'party', 'pass', 'passag', 'passang', 'passat', 'passcod', 'passeng', 'passenger', 'passion', 'passiv', 'passive', 'passport', 'password', 'past', 'pasta', 'pastri', 'pastur', 'pat', 'patch', 'patent', 'patern', 'path', 'pathet', 'pathfind', 'patienc', 'patient', 'patio', 'patriarch', 'patriot', 'pattern', 'patterson', 'paul', 'paula', 'paulyoungotti', 'paus', 'pavement', 'pawn', 'pay', 'payback', 'paycheck', 'payment', 'payoff', 'pbx', 'pc', 'pc2100', 'pcalc', 'pcg', 'pci', 'pcmci', 'pcmcia', 'pda', 'pea', 'peac', 'peach', 'peak', 'peanut', 'pear', 'peasant', 'pebbl', 'pecan', 'peculiar', 'ped', 'pedal', 'peddler', 'pedestrian', 'pedicur', 'pee', 'peedi', 'peek', 'peel', 'peeler', 'peep', 'peer', 'peev', 'peg', 'peic', 'pelican', 'pellannor', 'pen', 'pendulum', 'penelop', 'penitentiari', 'penni', 'pennsylvania', 'penthous', 'pentium', 'pentola', 'peopl', 'people', 'pepper', 'peppi', 'per', 'perceiv', 'percentag', 'percept', 'percol', 'percuss', 'percussion', 'perenni', 'perfect', 'perfectli', 'perfidi', 'perfor', 'perform', 'performa', 'performance', 'perhap', 'peril', 'period', 'peripher', 'periphi', 'perk', 'perkin', 'perman', 'permeat', 'permit', 'perplexed', 'perri', 'persecut', 'persist', 'person', 'persona', 'personali', 'personnel', 'perspect', 'perspective', 'persuad', 'persuas', 'pervert', 'pet', 'pete', 'peter', 'petey', 'petit', 'pfeiffer', 'pg', 'pha', 'pharoah', 'pharrel', 'phase', 'phat', 'phenomen', 'phenomenon', 'phil', 'philly', 'philosoph', 'philosophi', 'phlegm', 'phoenix', 'phon', 'phone', 'phonebook', 'photo', 'photoshop', 'php', 'phrase', 'physic', 'physicist', 'physist', 'pianist', 'piano', 'pic', 'pick', 'picki', 'pickin', 'pickl', 'pickup', 'pictur', 'picturegear', 'pictures', 'pie', 'piec', 'pierr', 'pifco', 'pigeon', 'piii', 'pile', 'pillar', 'pillow', 'pimp', 'pin', 'pina', 'pinbal', 'pinch', 'pine', 'pineappl', 'pinhead', 'pink', 'pinpoint', 'pint', 'pioneer', 'pipe', 'piqu', 'pirat', 'pirelli', 'pit', 'pitch', 'pitfal', 'piti', 'pivot', 'pixar', 'pixel', 'pizza', 'pl', 'placat', 'place', 'placement', 'plagiar', 'plagu', 'plain', 'plan', 'plane', 'planet', 'plank', 'planner', 'plant', 'plaster', 'plastic', 'plastici', 'plasticki', 'plate', 'platform', 'platinum', 'platter', 'plausibl', 'play', 'playa', 'playback', 'playboy', 'player', 'playlist', 'plays', 'playstat', 'playstation', 'playtim', 'plea', 'plead', 'pleas', 'pleasant', 'pleasantli', 'pleasingli', 'pleasur', 'pleasure', 'pleather', 'plenti', 'plethora', 'pli', 'plight', 'plot', 'plu', 'pluck', 'plucki', 'plug', 'plum', 'pluse', 'pluss', 'pm', 'pocket', 'poem', 'poet', 'poetic', 'poetri', 'poignant', 'point', 'pointi', 'pointless', 'pois', 'poison', 'poke', 'poker', 'polar', 'pole', 'poli', 'polic', 'policeman', 'polici', 'polish', 'polit', 'politician', 'pollin', 'polo', 'polygraph', 'polynesian', 'pond', 'ponder', 'ponderosa', 'poni', 'pontiac', 'pool', 'poolsid', 'poor', 'poorli', 'pop', 'popcorn', 'popcornpopper', 'popper', 'poppi', 'poppin', 'popul', 'popular', 'porch', 'pore', 'pork', 'porn', 'porridg', 'pors', 'porsch', 'porse', 'port', 'portabl', 'portable', 'portion', 'portland', 'portli', 'portrait', 'portray', 'ports', 'pose', 'posess', 'posh', 'posit', 'poss', 'posses', 'possess', 'possibl', 'possibly', 'post', 'posta', 'postal', 'poster', 'postmast', 'postur', 'pot', 'potato', 'potent', 'potenti', 'pothol', 'pothold', 'potter', 'potteri', 'potti', 'potting', 'pound', 'pour', 'poverti', 'pow', 'power', 'powerbook', 'powerful', 'powerhous', 'powermac', 'powerpc', 'powerpl', 'powerpoint', 'powertrain', 'pr', 'practic', 'practicli', 'practition', 'prad', 'prairi', 'prais', 'praiseworthi', 'pranc', 'prank', 'praticlli', 'pray', 'pre', 'preach', 'preachi', 'preceed', 'preciou', 'precious', 'precis', 'preconceiv', 'predecessor', 'predica', 'predict', 'predominantli', 'prefac', 'prefer', 'pregnant', 'preinstal', 'prejud', 'prejudg', 'prejudic', 'prelatur', 'preload', 'premier', 'premis', 'premise', 'premium', 'premonit', 'prep', 'prepackag', 'prepar', 'preponder', 'prescript', 'presenc', 'present', 'preserv', 'preservative', 'presid', 'press', 'pressur', 'prestigi', 'presto', 'preston', 'presum', 'presuppos', 'pretend', 'pretenti', 'pretti', 'prettier', 'pretty', 'prevail', 'preval', 'prevent', 'preview', 'previou', 'previous', 'prfstar', 'price', 'pricelin', 'pricey', 'pricier', 'pride', 'priest', 'prig', 'prim', 'primari', 'primarili', 'prime', 'princ', 'princess', 'princip', 'principl', 'print', 'printer', 'prior', 'priori', 'prison', 'pristin', 'privaci', 'privat', 'privileg', 'prize', 'pro', 'probabl', 'problem', 'problemat', 'problemo', 'problems', 'proce', 'procedur', 'proceed', 'process', 'processor', 'proclaim', 'procounc', 'prodigi', 'produc', 'producers', 'product', 'production', 'prof', 'profan', 'profesion', 'profess', 'profession', 'professor', 'profici', 'profil', 'profit', 'profound', 'program', 'programm', 'progress', 'prohibit', 'project', 'projector', 'prolif', 'prolifer', 'prolix', 'prologu', 'prolong', 'prom', 'promenad', 'promin', 'promis', 'promisingli', 'promot', 'prompt', 'promptli', 'pron', 'prong', 'pronounc', 'proof', 'prop', 'propel', 'propens', 'proper', 'properli', 'properti', 'proport', 'propos', 'proprietari', 'proprietor', 'propt', 'prose', 'prospeak', 'prospect', 'prostitut', 'prostrat', 'protagonist', 'protect', 'protector', 'proteg', 'protocol', 'protrud', 'proud', 'proudest', 'prove', 'proven', 'provid', 'provinci', 'proxim', 'prude', 'pruitt', 'ps', 'ps2', 'pseudo', 'pseudonym', 'psi', 'psychiatr', 'psychic', 'psycholog', 'psychologist', 'pt', 'pu', 'pub', 'public', 'publicist', 'publish', 'puck', 'pud', 'puddi', 'puddl', 'puff', 'puffi', 'puk', 'pull', 'pulldown', 'pullin', 'puls', 'pulse', 'pump', 'pumper', 'pun', 'punch', 'punchlin', 'punish', 'punk', 'puppet', 'puppi', 'purchas', 'pure', 'purest', 'puriti', 'purpl', 'purport', 'purpos', 'purs', 'pursu', 'push', 'pusha', 'pushin', 'pushov', 'pushrod', 'put', 'puzzl', 'pyramid', 'q2', 'qt', 'quadra', 'quaint', 'quak', 'qual', 'qualifi', 'qualit', 'qualiti', 'quality', 'qualxserv', 'quannum', 'quantiti', 'quart', 'quarter', 'quartet', 'queasi', 'queation', 'queen', 'queens', 'queer', 'quench', 'quesiton', 'quest', 'question', 'questionnair', 'questions', 'queue', 'quibbl', 'quick', 'quicken', 'quicker', 'quickli', 'quicksand', 'quicksilv', 'quicktim', 'quiet', 'quieter', 'quietest', 'quietkey', 'quietli', 'quinn', 'quinta', 'quintessenti', 'quirk', 'quit', 'quite', 'quot', 'quotient', 'r2jd', 'ra', 'race', 'racer', 'racetrack', 'raci', 'racial', 'racist', 'rack', 'radeon', 'radial', 'radic', 'radio', 'radiu', 'raekwon', 'raff', 'raft', 'rafter', 'rag', 'rah', 'rahrah', 'raid', 'raider', 'rail', 'railroad', 'railway', 'rain', 'rainbow', 'raini', 'rainmak', 'rainstorm', 'rais', 'rakaa', 'rake', 'rakim', 'rakish', 'ralli', 'ram', 'ramadan', 'rambl', 'rambler', 'ramp', 'rampag', 'rampant', 'ran', 'rancher', 'rancid', 'random', 'randomli', 'rang', 'range', 'ranger', 'rank', 'rant', 'rap', 'rapa', 'rape', 'rapidli', 'rapp', 'rapper', 'rappin', 'raptli', 'rar', 'rare', 'rarotonga', 'rasco', 'rat', 'rate', 'rater', 'rates', 'rather', 'rating', 'ratio', 'ration', 'rattl', 'rav', 'rav4', 'rave', 'ravioli', 'raw', 'ray', 'raymond', 'razzberri', 'rc', 'rd10', 'rdram', 're', 'reach', 'react', 'reaction', 'reactiv', 'read', 'readabl', 'reader', 'readi', 'readili', 'readout', 'real', 'realest', 'realis', 'realist', 'realiti', 'realiz', 'realli', 'realon', 'realplay', 'realtor', 'ream', 'reanim', 'reap', 'rear', 'rearseat', 'rearview', 'reason', 'rebat', 'rebel', 'rebellion', 'reboot', 'rebuild', 'recal', 'recap', 'receipt', 'receiv', 'recent', 'recept', 'receptionist', 'recess', 'recharg', 'rechristen', 'reciev', 'recip', 'recit', 'reckon', 'reclin', 'recogn', 'recognis', 'recognit', 'recogniz', 'recollect', 'recommend', 'reconstruct', 'record', 'recordnow', 'recount', 'recours', 'recov', 'recover', 'recruit', 'rectangular', 'rectifi', 'recuit', 'recuper', 'recur', 'recycl', 'red', 'redecor', 'redeem', 'redempt', 'redesign', 'redial', 'redlin', 'redraw', 'reduc', 'reduct', 'redund', 'reed', 'reek', 'reel', 'rees', 'reev', 'refer', 'reffer', 'refil', 'refin', 'refit', 'reflect', 'reflex', 'reform', 'refrain', 'refresh', 'refriger', 'refund', 'refurbish', 'refus', 'refut', 'regain', 'regal', 'regard', 'regardless', 'regenc', 'regga', 'regi', 'region', 'regist', 'registr', 'registri', 'regret', 'regul', 'regular', 'regularli', 'rehash', 'reheat', 'reincarn', 'reindeer', 'reinforc', 'reinstal', 'reinvent', 'reiter', 'reject', 'rel', 'relat', 'relationship', 'relax', 'relay', 'releas', 'releg', 'relev', 'relevantli', 'reli', 'reliabilti', 'reliabl', 'reliaibl', 'relic', 'relief', 'reliev', 'religi', 'religion', 'religios', 'relish', 'reload', 'reloc', 'reluct', 'remain', 'remak', 'remanded', 'remark', 'rememb', 'remember', 'remi', 'remind', 'remines', 'reminic', 'reminisc', 'remix', 'remo', 'remodel', 'remorseless', 'remot', 'remov', 'ren', 'renam', 'renault', 'render', 'rendit', 'renegad', 'renounc', 'renov', 'rent', 'rental', 'reorgan', 'rep', 'repaint', 'repair', 'repairman', 'repay', 'repeat', 'repeatedli', 'repertoir', 'repetit', 'repit', 'replac', 'replet', 'repli', 'replic', 'report', 'reppin', 'repres', 'repress', 'reproduc', 'repuls', 'reput', 'reqir', 'requa', 'request', 'requir', 'reread', 'resal', 'rescu', 'research', 'reseason', 'resel', 'resembl', 'reserv', 'reservoir', 'reset', 'reshap', 'resid', 'residenti', 'residu', 'resign', 'resist', 'resiz', 'resolut', 'resolv', 'reson', 'resort', 'resourc', 'resource', 'respect', 'respiratori', 'respond', 'respons', 'rest', 'restart', 'restaur', 'restaurant', 'restor', 'restrain', 'restraint', 'restrict', 'restyl', 'result', 'resum', 'resurg', 'retail', 'retain', 'retent', 'rethink', 'retin', 'retir', 'retool', 'retreat', 'retriev', 'retro', 'retrofit', 'retrospect', 'return', 'reunion', 'reunit', 'rev', 'reveal', 'revealed', 'revel', 'revelri', 'reveng', 'rever', 'reverber', 'reverberating', 'reverewar', 'revers', 'revert', 'review', 'revis', 'revisit', 'reviv', 'revolut', 'revolutionari', 'revolv', 'revuls', 'reward', 'rewrit', 'rhetor', 'rhettmat', 'rhym', 'rhyme', 'rhyming', 'rhythm', 'rib', 'rice', 'rich', 'richard', 'richest', 'richman', 'rick', 'ricketi', 'ricki', 'rid', 'riddanc', 'ridden', 'riddl', 'ride', 'rider', 'ridicul', 'riff', 'rifl', 'rift', 'rig', 'right', 'righteou', 'rigid', 'rim', 'rine', 'ring', 'ringer', 'ringtyp', 'rins', 'rio', 'riot', 'rip', 'ripoff', 'rippin', 'rise', 'risin', 'risk', 'riski', 'rita', 'ritter', 'ritual', 'ritz', 'ritzcarlton', 'rival', 'river', 'rivet', 'riviera', 'rj', 'rl', 'rma', 'roach', 'road', 'roaddogg', 'roadsid', 'roam', 'roar', 'roast', 'rob', 'robberi', 'robe', 'robert', 'robin', 'robot', 'roc', 'rocio', 'rock', 'rockefel', 'rocker', 'rocket', 'rocki', 'rod', 'rode', 'roger', 'roland', 'role', 'roll', 'roller', 'rollin', 'rollingston', 'rom', 'romanc', 'romance', 'romant', 'rome', 'romp', 'ron', 'ronald', 'roof', 'rooflin', 'room', 'roomi', 'roomier', 'roommat', 'rooms', 'root', 'rosari', 'rosco', 'rose', 'rosemary', 'roster', 'rot', 'rotari', 'rotat', 'rotk', 'rough', 'roughli', 'roulett', 'round', 'rout', 'router', 'routin', 'rover', 'row', 'rowdi', 'rowland', 'roxio', 'roy', 'royalti', 'rpm', 'rr', 'rso', 'rsx', 'rub', 'rubber', 'rubin', 'rude', 'rudi', 'rudolph', 'ruffian', 'rug', 'rugrat', 'ruin', 'rule', 'rumbl', 'rumin', 'rumor', 'run', 'rundown', 'runner', 'runnin', 'rural', 'rush', 'russel', 'russet', 'rust', 'rusti', 'rustic', 'ruthless', 'rw', 'rwd', 'rx300', 'ryan', 'rymish', 'ryu', 'rza', 's4', 's400', 's607', 'saab', 'sabl', 'sabotag', 'sack', 'sacrif', 'sacrific', 'sad', 'saddam', 'sadden', 'sadder', 'saddl', 'sadli', 'saf', 'safari', 'safe', 'safecrack', 'safer', 'safeti', 'saga', 'sahara', 'said', 'sail', 'saint', 'sake', 'salad', 'salama', 'salami', 'salari', 'sale', 'saleabl', 'salem', 'salesman', 'salesmen', 'salespeopl', 'salesperson', 'salesteam', 'salli', 'salmon', 'salon', 'salt', 'saltin', 'salton', 'salvag', 'salvat', 'sam', 'saml', 'samoa', 'sampl', 'sampler', 'sampson', 'samsung', 'samurai', 'samuria', 'san', 'sanctiti', 'sand', 'sandal', 'sandcastl', 'sandi', 'sandwich', 'sandwitch', 'sane', 'sanit', 'saniti', 'santa', 'sap', 'sappi', 'sarah', 'sarcasm', 'sardin', 'sasha', 'sass', 'sassi', 'sat', 'satan', 'satellit', 'satir', 'satiris', 'satisfactori', 'satisfactorili', 'satisfi', 'saturday', 'sauc', 'sauce', 'saucepan', 'saunièr', 'sausag', 'saut', 'saute', 'sauté', 'sav', 'savag', 'save', 'saver', 'saving', 'saw', 'sax', 'saxton', 'say', 'sayin', 'sbc', 'sc', 'scale', 'scam', 'scandal', 'scanpan', 'scar', 'scarc', 'scare', 'scarfac', 'scari', 'scarier', 'scariest', 'scatter', 'scaveng', 'scenario', 'scene', 'sceneri', 'scenic', 'scent', 'schedul', 'scheme', 'schizophren', 'schlog', 'schmidt', 'school', 'schoolmast', 'sci', 'scid', 'scienc', 'science', 'scientif', 'scoop', 'scope', 'scorch', 'score', 'scotchbrit', 'scott', 'scour', 'scowl', 'scrambl', 'scramblett', 'scramblette', 'scrap', 'scrape', 'scratch', 'scratches', 'scream', 'screeen', 'screen', 'screenplay', 'screw', 'scribe', 'script', 'scroll', 'scroog', 'scrub', 'scrubber', 'scrubbi', 'scruff', 'scruffi', 'scrunch', 'scsi', 'scuba', 'scuff', 'sculptur', 'sd', 'sdram', 'se', 'sea', 'seafood', 'seal', 'seam', 'seamless', 'seamlessli', 'sean', 'sear', 'search', 'season', 'seat', 'seatback', 'seatbelt', 'seatbottom', 'seating', 'sec', 'second', 'secondari', 'secondhand', 'secondli', 'secret', 'secretli', 'sect', 'section', 'secur', 'sedan', 'sedat', 'sedona', 'see', 'seedi', 'seek', 'seem', 'seemingli', 'seemlessli', 'seen', 'segment', 'segu', 'seimen', 'sel', 'seldom', 'select', 'selector', 'self', 'selfish', 'sell', 'seller', 'selling', 'sematary', 'semi', 'senc', 'send', 'sens', 'sensat', 'senseless', 'sensit', 'sensor', 'sent', 'sentenc', 'sentiment', 'sentra', 'separ', 'seper', 'seperatli', 'sept', 'septemb', 'sequel', 'sequenti', 'seri', 'serial', 'seriou', 'serious', 'sermon', 'serv', 'servant', 'server', 'servic', 'servo', 'sess', 'session', 'set', 'setback', 'sett', 'sette', 'setting', 'settl', 'settlement', 'setup', 'seuss', 'seussian', 'seven', 'seventeen', 'seventh', 'seventi', 'seventy', 'sever', 'several', 'sew', 'sex', 'sexi', 'sexier', 'sexiest', 'sexist', 'sexton', 'sexu', 'sexual', 'sh', 'shabbi', 'shack', 'shad', 'shade', 'shadi', 'shadow', 'shake', 'shaken', 'shaker', 'shall', 'shallow', 'shame', 'shameless', 'shamelessli', 'shampoo', 'shannon', 'shap', 'shape', 'shaq', 'shar', 'share', 'sharecropp', 'sharewar', 'sharief', 'sharp', 'sharper', 'sharpest', 'sharpli', 'shatter', 'shave', 'she', 'shebang', 'shed', 'sheek', 'sheer', 'sheesh', 'sheet', 'sheets', 'shelf', 'shell', 'shelley', 'shells', 'shelter', 'shelv', 'shenanigan', 'shepard', 'sheraton', 'sheriff', 'sherlock', 'shi', 'shield', 'shift', 'shifter', 'shimmi', 'shin', 'shine', 'shiney', 'shini', 'ship', 'shipment', 'shirt', 'shiver', 'sho', 'shock', 'shoddi', 'shoe', 'shoebox', 'shogun', 'shoot', 'shooter', 'shop', 'shopper', 'shopping', 'shoppro', 'shore', 'short', 'shortag', 'shortcom', 'shortcut', 'shorten', 'shorter', 'shortest', 'shortfal', 'shorti', 'shortli', 'shot', 'shoud', 'should', 'shoulda', 'shoulder', 'shouldn', 'shouldnt', 'shout', 'shoutin', 'shoutout', 'show', 'showcas', 'shower', 'showgirl', 'shown', 'showroom', 'shriek', 'shrill', 'shrimp', 'shrink', 'shrug', 'shuck', 'shudder', 'shun', 'shut', 'shutdown', 'shuttl', 'shuvin', 'shyne', 'shyster', 'si', 'sibl', 'sic', 'sick', 'sickalici', 'sicken', 'sickenin', 'sid', 'side', 'sideplot', 'sidestep', 'sideswip', 'sideway', 'siemen', 'sig', 'sigel', 'sigh', 'sight', 'sightse', 'sign', 'signal', 'signatur', 'signific', 'significantli', 'sil', 'sila', 'silenc', 'silent', 'silhouett', 'silki', 'sill', 'silli', 'silly', 'silver', 'silverwar', 'sim', 'similar', 'similarli', 'simmer', 'simon', 'simpl', 'simplest', 'simpli', 'simplic', 'simplist', 'simul', 'simultan', 'sin', 'sinc', 'sincer', 'sing', 'singer', 'singl', 'single', 'singles', 'sinist', 'sink', 'sinkhol', 'sins', 'sintro', 'sion', 'sir', 'sireebob', 'sirloin', 'sisqo', 'sissi', 'sister', 'sistin', 'sit', 'sitar', 'sitcom', 'site', 'situat', 'six', 'sixteen', 'sixth', 'sixti', 'siz', 'sizabl', 'size', 'sizzl', 'sk', 'skateboard', 'skeev', 'skeleton', 'skeptic', 'sketch', 'sketchi', 'skew', 'skewer', 'ski', 'skid', 'skill', 'skillet', 'skillets', 'skillz', 'skim', 'skin', 'skip', 'skippabl', 'skipper', 'skirmish', 'skirt', 'skit', 'skittish', 'skull', 'sky', 'skylin', 'sl', 'slab', 'slack', 'slacker', 'slam', 'slang', 'slant', 'slap', 'slaughter', 'slave', 'slavish', 'slay', 'sleazi', 'sleazier', 'sleek', 'sleep', 'sleeper', 'sleeper54', 'sleepless', 'slender', 'sleuth', 'slew', 'sli', 'slice', 'slick', 'slickli', 'slide', 'slideshow', 'slight', 'slightest', 'slightli', 'slightly', 'slim', 'sling', 'slip', 'slipperi', 'sliver', 'slooooow', 'slope', 'sloppi', 'slot', 'slots', 'slotted', 'slouch', 'slough', 'slow', 'slower', 'slowli', 'slowly', 'sluggish', 'slumpi', 'slut', 'slv', 'smack', 'small', 'smaller', 'smallest', 'smallish', 'smart', 'smarten', 'smarter', 'smartest', 'smartli', 'smarts', 'smash', 'smb_onlineorder_resolut', 'smell', 'smile', 'smithzonian', 'smitten', 'smok', 'smoke', 'smoken', 'smoker', 'smokey', 'smokin', 'smooth', 'smoothest', 'smoothi', 'smoothli', 'smuggl', 'snack', 'snag', 'snail', 'snake', 'snap', 'snare', 'sneak', 'sneer', 'snide', 'snipe', 'sniper', 'snippet', 'snitch', 'snl', 'snoop', 'snooti', 'snooz', 'snore', 'snot', 'snotty', 'snow', 'snowbal', 'snowi', 'snuck', 'snugli', 'so', 'soak', 'soap', 'soapi', 'soar', 'sob', 'sobriety', 'soccer', 'social', 'societi', 'society', 'sock', 'soda', 'sodbust', 'sofa', 'soft', 'softball', 'softer', 'softli', 'softwar', 'sohc', 'soke', 'solar', 'solara', 'sold', 'soldier', 'sole', 'solemn', 'solicitor', 'solid', 'solidifi', 'solidli', 'solitud', 'solo', 'solut', 'solution', 'solv', 'solver', 'som', 'somber', 'sombrero', 'some', 'somebodi', 'someday', 'someh', 'somehow', 'someon', 'someplac', 'someth', 'somethin', 'sometim', 'somewhat', 'somewher', 'son', 'sonar', 'song', 'soni', 'sonic', 'sonicstag', 'sonoma', 'sonya', 'sook', 'soon', 'sooner', 'sooo', 'sooooo', 'sooth', 'sophi', 'sophist', 'sophomor', 'soporif', 'sore', 'sorri', 'sorrow', 'sort', 'sought', 'soul', 'sound', 'soundbit', 'soundblast', 'soundmax', 'soundproof', 'soundscap', 'soundtrack', 'soup', 'souped', 'sour', 'sourc', 'south', 'southeast', 'southern', 'souvenir', 'sp', 'spa', 'space', 'spaceship', 'spacey', 'spaci', 'spaciou', 'spade', 'spaghetti', 'spam', 'spamwar', 'span', 'spanish', 'spank', 'spankin', 'spare', 'spark', 'sparkl', 'spars', 'spartan', 'spatula', 'spe', 'speak', 'speaker', 'speakerphon', 'speakerphone', 'speakers', 'spear', 'spec', 'speci', 'special', 'specialti', 'specif', 'specifi', 'specs', 'spectacular', 'spectacularli', 'spedomet', 'speech', 'speed', 'speedboat', 'speedi', 'speedpad', 'spell', 'spencer', 'spend', 'spent', 'spew', 'spg', 'sphinx', 'spi', 'spider', 'spike', 'spill', 'spin', 'spinach', 'spindl', 'spine', 'spinner', 'spinnin', 'spinster', 'spirit', 'spiritu', 'spit', 'spite', 'spittag', 'spittin', 'spkr', 'splash', 'spleen', 'splendid', 'split', 'spliter', 'splurg', 'spoil', 'spoiler', 'spok', 'spoke', 'spoken', 'spong', 'spongi', 'spontan', 'spook', 'spoon', 'sporad', 'sporadic', 'sport', 'sporti', 'sportier', 'sports', 'sportshift', 'spot', 'spotless', 'spotlight', 'spout', 'sprang', 'sprawl', 'spray', 'spread', 'spreadsheet', 'spree', 'spring', 'springi', 'sprinkl', 'sprite', 'spritzer', 'spruill', 'spunki', 'spymob', 'spywar', 'sqeez', 'squad', 'squander', 'squar', 'squat', 'squeak', 'squeaki', 'squeaking', 'squeal', 'squeez', 'squirm', 'squirrelli', 'ss', 'ssed', 'ssi', 'st', 'stab', 'stabil', 'stabl', 'staccato', 'stack', 'staf', 'staff', 'stag', 'stage', 'stagi', 'stagnant', 'stain', 'stainless', 'stair', 'stairway', 'stake', 'stale', 'stalk', 'stalkerish', 'stalking', 'stall', 'stammer', 'stamp', 'stan', 'stanc', 'stand', 'standard', 'standbi', 'standout', 'standpoint', 'standstil', 'stank', 'stanley', 'stapl', 'star', 'starcraft', 'stare', 'stark', 'starr', 'stars', 'start', 'starter', 'stash', 'state', 'statement', 'static', 'station', 'statist', 'stats', 'statu', 'stay', 'stayin', 'std', 'stead', 'steadi', 'steak', 'steakhous', 'steal', 'stealer', 'steam', 'steamer', 'steeda', 'steel', 'steenburgen', 'steep', 'steeply', 'steer', 'stellar', 'stem', 'stench', 'step', 'stepfath', 'stepford', 'steph', 'stephani', 'stephanie', 'stephano', 'stephen', 'ster', 'stereo', 'stereotyp', 'steroid', 'steve', 'stevenson', 'stew', 'stewart', 'stick', 'sticker', 'stickler', 'stiff', 'stiffen', 'stiffer', 'stifl', 'stile', 'still', 'stillmat', 'stilt', 'stimuli', 'stine', 'sting', 'stink', 'stinki', 'stir', 'stirrer', 'stitch', 'stock', 'stockpot', 'stoke', 'stole', 'stolen', 'stolichnaya', 'stomach', 'stomp', 'stone', 'stoner', 'stop', 'stor', 'storag', 'storch', 'store', 'stori', 'storm', 'stormalong', 'stormi', 'story', 'storyboard', 'storylin', 'storylines', 'storytel', 'stoup', 'stove', 'stovetop', 'stow', 'straight', 'straightaway', 'straighten', 'straightforward', 'strain', 'strang', 'strangely', 'stranger', 'strap', 'strateg', 'strategi', 'stratospher', 'stratospherehotel', 'stratu', 'stray', 'stream', 'streamlin', 'street', 'streets', 'streetsweep', 'strength', 'strenou', 'stress', 'stressed', 'stretch', 'strewn', 'strictli', 'stride', 'strike', 'strikingli', 'string', 'strip', 'stripe', 'stripper', 'strive', 'stroke', 'stroll', 'strong', 'stronger', 'strongest', 'stronghold', 'strongli', 'struck', 'structur', 'struggl', 'strum', 'strut', 'stubborn', 'stuck', 'stud', 'studebak', 'student', 'studi', 'studio', 'stuf', 'stuff', 'stuffi', 'stumbl', 'stun', 'stunk', 'stunna', 'stunt', 'stupid', 'stupidest', 'sturdi', 'sturdier', 'stutter', 'styl', 'style', 'stylish', 'stylishli', 'stylist', 'styrofoam', 'sub', 'subaru', 'subdivis', 'subject', 'subplot', 'subscrib', 'subsequ', 'subsid', 'subsidiari', 'substanc', 'substandard', 'substanti', 'substit', 'substitut', 'subtl', 'subtli', 'suburban', 'subway', 'subwoof', 'succe', 'succeed', 'success', 'successor', 'succumb', 'suck', 'sucka', 'sucker', 'sucki', 'sudden', 'suddenli', 'sue', 'sued', 'suess', 'suffer', 'suffic', 'suffici', 'sugar', 'suge', 'suggest', 'suicid', 'suit', 'suitabl', 'suitcas', 'sultri', 'sum', 'summ', 'summar', 'summari', 'summat', 'summer', 'summon', 'sun', 'sunday', 'sundri', 'sunni', 'sunoco', 'sunris', 'sunroof', 'sunset', 'sunvisor', 'supa', 'super', 'superb', 'supercat', 'supercharg', 'superdom', 'superdr', 'superfici', 'superfreak', 'superior', 'supernatur', 'superstar', 'superthug', 'supervis', 'supervisor', 'superwoman', 'supper', 'supplement', 'supplementari', 'suppli', 'supplier', 'support', 'suppos', 'supposedli', 'supposidli', 'suprem', 'supremaci', 'supress', 'suprisingli', 'sure', 'surf', 'surfac', 'surfer', 'surg', 'surgemast', 'surgeri', 'surpris', 'surprised', 'surprisingli', 'surreal', 'surrog', 'surround', 'survey', 'surviv', 'survivor', 'susan', 'suspect', 'suspend', 'suspens', 'suspense', 'suspici', 'suspicion', 'sustem', 'suv', 'suzuki', 'svt', 'swab', 'swallowin', 'swam', 'swamp', 'swan', 'swap', 'swayze', 'swear', 'swedish', 'sweeney', 'sweep', 'sweet', 'sweeter', 'sweetness', 'swell', 'swelter', 'swerv', 'swift', 'swill', 'swim', 'swing', 'swinger', 'swip', 'swiss', 'switch', 'switchgear', 'swivel', 'swizz', 'swol', 'sword', 'swore', 'swum', 'swung', 'sx', 'sxga', 'sydney', 'syl', 'syllab', 'syllablist', 'sym', 'symantec', 'symbol', 'symbolog', 'symbologist', 'symet', 'symmetr', 'symmetri', 'sympathet', 'sympathi', 'symphon', 'symphoni', 'sync', 'synchro', 'synchron', 'syncmast', 'syncop', 'synonym', 'synopsi', 'synth', 'synthes', 'synthet', 'syrup', 'system', 'systemat', 't100', 't22', 't3650', 't6', 'ta', 'tab', 'tabl', 'tableau', 'tach', 'tachomet', 'tack', 'tacked', 'tacki', 'tackl', 'tacky', 'tactic', 'tactil', 'tad', 'tag', 'tah', 'tahiti', 'taho', 'tail', 'taillight', 'taint', 'tak', 'takbir', 'take', 'taken', 'takin', 'tale', 'talent', 'talk', 'talkin', 'tall', 'taller', 'talli', 'talon', 'tambu', 'tammi', 'tampabay', 'tan', 'tang', 'tank', 'tap', 'tape', 'taper', 'target', 'targets', 'targu', 'tash', 'task', 'tast', 'tasti', 'tastiest', 'tattoo', 'taught', 'taunt', 'tauri', 'tauru', 'taurus', 'tax', 'taxi', 'tay', 'tbsp', 'tc', 'tch', 'tche', 'tched', 'tchin', 'tcm526bxb', 'te', 'tea', 'teach', 'teacher', 'teachin', 'team', 'tear', 'teas', 'teaser', 'teaspoon', 'tech', 'techbargains', 'techn', 'techness', 'technic', 'technician', 'techniqu', 'techno', 'technolog', 'technology', 'techonolgi', 'teddi', 'tediou', 'tee', 'teen', 'teenag', 'teeni', 'teeth', 'teflon', 'tek', 'telephon', 'telescop', 'televis', 'tell', 'tellin', 'temp', 'temper', 'temperament', 'temperatur', 'templ', 'templat', 'tempo', 'temporari', 'tempt', 'ten', 'tend', 'tendenc', 'tender', 'tenni', 'tennison', 'tension', 'tent', 'tenth', 'terenc', 'term', 'termin', 'terminolog', 'terrac', 'terrain', 'terrestri', 'terri', 'terriabl', 'terribl', 'terrif', 'terrifi', 'terror', 'terrorist', 'terrycloth', 'test', 'testament', 'tester', 'testicl', 'testimoni', 'tex', 'texa', 'text', 'textur', 'tey', 'tft', 'tg2000b', 'tg2214w', 'tg2215b', 'tg2248', 'tg5100m', 'tga', 'tga230b', 'tga271v', 'tga272', 'th', 'tha', 'than', 'thang', 'thank', 'thankless', 'thanksgiv', 'that', 'the', 'theater', 'theatr', 'theft', 'theme', 'themedia', 'then', 'theodor', 'theori', 'ther', 'therapi', 'there', 'therebi', 'therefor', 'thermomet', 'thes', 'thesauru', 'thespian', 'they', 'theyv', 'thi', 'thick', 'thicken', 'thier', 'thiev', 'thigh', 'thin', 'thing', 'thingi', 'think', 'thinker', 'thinkin', 'thinkpad', 'thinner', 'third', 'thirst', 'thirsti', 'thirti', 'thirty', 'thirtysometh', 'thoma', 'thong', 'thornton', 'thorough', 'thoroughli', 'thorton', 'those', 'though', 'thought', 'thoughts', 'thousand', 'thread', 'threaten', 'three', 'threw', 'thrift', 'thrill', 'thriller', 'throat', 'throati', 'throne', 'throng', 'throttl', 'throttle', 'through', 'throughout', 'throw', 'throwaway', 'throwback', 'thrown', 'thru', 'thrust', 'thu', 'thug', 'thuggish', 'thuman', 'thumb', 'thump', 'thun', 'thunder', 'thunderbird', 'thurman', 'thurr', 'thusfar', 'thwart', 'ti', 'tick', 'ticket', 'tide', 'tie', 'tiem', 'tight', 'tighten', 'tightli', 'tile', 'till', 'tilt', 'tim', 'timb', 'timbaland', 'timber', 'timberlak', 'timbuk2', 'time', 'timeless', 'timelin', 'timer', 'timing', 'tin', 'ting', 'tini', 'tinney', 'tinni', 'tint', 'tip', 'tipper', 'tipsi', 'tiptron', 'tire', 'tires', 'tiresom', 'tissu', 'titan', 'titl', 'tity', 'tl', 'tlc', 'tm', 'to', 'toast', 'toaster', 'toastmast', 'toca', 'today', 'toe', 'togeth', 'toil', 'toilet', 'toiletri', 'tokelau', 'tokyo', 'told', 'toler', 'toll', 'tom', 'tomato', 'tomb', 'tombarn', 'tombston', 'tome', 'tommi', 'tommorow', 'tomorrow', 'ton', 'tone', 'tonga', 'tongu', 'toni', 'tonight', 'too', 'took', 'tool', 'toothier', 'top', 'topiari', 'topic', 'torch', 'torn', 'tornado', 'toronto', 'torqu', 'torque', 'torrid', 'tortur', 'toshiba', 'toss', 'tossabl', 'tostada', 'tot', 'total', 'totali', 'tote', 'totem', 'touch', 'touchi', 'touchpad', 'touchpoint', 'tough', 'tour', 'tourism', 'tout', 'tow', 'toward', 'towel', 'tower', 'town', 'toxin', 'toy', 'toyota', 'tq', 'tra', 'trace', 'track', 'trackbal', 'tracking', 'trackpoint', 'tract', 'traction', 'tractor', 'trade', 'trademark', 'tradit', 'traditional', 'traffic', 'tragedi', 'tragic', 'trail', 'trailer', 'train', 'trak', 'tram', 'tramlin', 'trance', 'tranmiss', 'tranni', 'tranquil', 'transceiv', 'transcend', 'transfer', 'transform', 'transit', 'translat', 'transluc', 'transmiss', 'transmission', 'transmitt', 'transpir', 'transport', 'transportation', 'trash', 'travel', 'travers', 'travesti', 'tray', 'tread', 'treasur', 'treasuri', 'treat', 'treatment', 'tree', 'treetop', 'trek', 'tremec', 'tremend', 'trend', 'trendi', 'trendier', 'trenton', 'trepid', 'tri', 'trial', 'triangular', 'tribal', 'tribe', 'tribut', 'trice', 'trick', 'trim', 'trina', 'trip', 'tripl', 'triple', 'trippi', 'trippin', 'tripreservations', 'trite', 'triumphant', 'trivial', 'trombon', 'troop', 'tropic', 'trot', 'troubl', 'troublemak', 'troubleshoot', 'troublesom', 'truck', 'true', 'trueli', 'truelli', 'truli', 'trumpet', 'trunk', 'trust', 'trusti', 'truth', 'try', 'tryin', 'trying', 'tt', 'ttc', 'tub', 'tubular', 'tucson', 'tuesday', 'tug', 'tumbl', 'tun', 'tune', 'tunnel', 'turbin', 'turbo', 'turbul', 'turgid', 'turk', 'turkey', 'turmoil', 'turn', 'turned', 'turntabl', 'turret', 'turtl', 'tuvalu', 'tv', 'twangi', 'tweak', 'twelv', 'twenti', 'twice', 'twiddl', 'twin', 'twinc', 'twist', 'twisti', 'twit', 'two', 'tx', 'ty', 'tymer', 'typ', 'type', 'typecast', 'typer', 'typhoon', 'typic', 'typifi', 'tyres', 'ubiquit', 'ufo', 'ugh', 'ugli', 'ugliest', 'uh', 'ulev', 'ultim', 'ultra', 'ultrasharp', 'um', 'umbrella', 'umm', 'un', 'unabl', 'unabridg', 'unaccept', 'unacquaint', 'unansw', 'unapp', 'unappropri', 'unashamedli', 'unattend', 'unattract', 'unavail', 'unbalanc', 'unbeliev', 'unbidden', 'unborn', 'uncanni', 'uncar', 'uncertain', 'unchang', 'uncharacterist', 'uncl', 'unclean', 'uncloak', 'uncoat', 'uncomfort', 'unconsci', 'uncontrol', 'unconvinc', 'uncov', 'uncr', 'uncredit', 'undamag', 'undeni', 'under', 'undercov', 'undercurr', 'undergon', 'underground', 'underlin', 'underneath', 'underpaid', 'underpow', 'underpublic', 'unders', 'undersid', 'underst', 'understand', 'understat', 'understood', 'undertak', 'undertaken', 'underus', 'underw', 'underwat', 'underwear', 'underwhelm', 'undi', 'undiscov', 'undo', 'undoubtedli', 'unearth', 'uneasi', 'unedit', 'unenjoy', 'unesthet', 'uneth', 'uneven', 'unevenli', 'unexpect', 'unexpectedli', 'unexplain', 'unfad', 'unfair', 'unfamiliar', 'unfavor', 'unfinish', 'unfold', 'unforgett', 'unforgiv', 'unforgiven', 'unfortun', 'unfortunatli', 'unfortur', 'unfriendli', 'unhappi', 'unhappili', 'unheard', 'unhelp', 'unhitch', 'unholi', 'uniden', 'unidentifi', 'unimagin', 'unimpress', 'uninspir', 'uninstal', 'unintellig', 'unintend', 'unintent', 'uninterest', 'uninvit', 'union', 'uniqu', 'unique', 'unit', 'univers', 'unix', 'unjust', 'unknown', 'unlead', 'unleash', 'unless', 'unlik', 'unlimit', 'unlisten', 'unload', 'unlock', 'unmatch', 'unmeasur', 'unmotiv', 'unmov', 'unnam', 'unnatur', 'unnecessari', 'unnecessarili', 'unnerv', 'unoccupi', 'unpack', 'unpaint', 'unparallel', 'unpleas', 'unplug', 'unpolish', 'unpreced', 'unpredict', 'unprepar', 'unravel', 'unreadi', 'unreal', 'unrealist', 'unreason', 'unredeem', 'unrefin', 'unrel', 'unreleas', 'unreli', 'unruli', 'unscrew', 'unshaven', 'unsightli', 'unstabl', 'unsubstanti', 'unsur', 'unsuspect', 'unsympathet', 'untim', 'unto', 'untri', 'untru', 'unus', 'unusu', 'unveil', 'unwant', 'unwarr', 'unwash', 'unwelcom', 'unwilling', 'unworthi', 'unwrap', 'up', 'upbeat', 'upcom', 'updat', 'upfront', 'upgrad', 'upgrag', 'uphil', 'uphold', 'upholst', 'upholsteri', 'upkeep', 'uplift', 'upload', 'upon', 'upper', 'upright', 'upscal', 'upsel', 'upset', 'upshift', 'upsid', 'upside', 'upstair', 'uptak', 'uptight', 'upward', 'urban', 'urg', 'urgenc', 'urgent', 'us', 'us_bcsd', 'us_dwnl_free', 'usa', 'usabl', 'usag', 'usairway', 'usb', 'uscemcsd', 'use', 'useabl', 'useless', 'user', 'usernam', 'usher', 'ussual', 'usu', 'usual', 'utensil', 'util', 'utilitarian', 'utilizng', 'utmost', 'utterli', 'uxga', 'v6', 'v70', 'v8', 'vacat', 'vacum', 'vader', 'vagrant', 'vagu', 'vaio', 'valet', 'valid', 'valley', 'valu', 'valuabl', 'valv', 'vampir', 'van', 'vancouv', 'vanessa', 'vanilla', 'vanish', 'vaniti', 'vanquish', 'vapor', 'vari', 'variabl', 'variant', 'variat', 'varieti', 'variou', 'vaselin', 'vast', 'vastli', 'vatican', 'vault', 'vbg', 'vbz', 'vcr', 've', 'vega', 'veget', 'veggi', 'vehicl', 'vehicles', 'vein', 'veloc', 'velour', 'vendor', 'veneer', 'venetian', 'veng', 'venom', 'vent', 'ventil', 'ventur', 'venu', 'verbal', 'verbos', 'verdict', 'verg', 'verklempt', 'verminophobia', 'vers', 'versatil', 'version', 'versions', 'versu', 'vertic', 'vessel', 'vestigi', 'veteran', 'vga', 'vi', 'via', 'viabil', 'vibe', 'vibrat', 'vice', 'viciou', 'vicious', 'victim', 'victor', 'video', 'videoconferenc', 'viev', 'view', 'viewabl', 'viewer', 'viewpoint', 'views', 'viewscreen', 'vigor', 'vii', 'viii', 'vikingsholm', 'villa', 'villag', 'villain', 'vin', 'vinci', 'vineyard', 'vintag', 'vinyl', 'viol', 'violenc', 'violent', 'violet', 'violin', 'vipclub', 'viper', 'virgin', 'virtual', 'viru', 'visibl', 'vision', 'visionari', 'visit', 'visitng', 'visitor', 'visor', 'visual', 'vita', 'vital', 'vitara', 'vivid', 'vividli', 'vocabulari', 'vocal', 'vocalist', 'vocat', 'vodka', 'voic', 'voice', 'voicemail', 'void', 'vol', 'volcano', 'volkswagon', 'volleybal', 'voltag', 'volum', 'volumin', 'volvo', 'vote', 'vouch', 'vow', 'voyeur', 'vpc', 'vq', 'vr', 'vram', 'vs', 'vsa', 'vtec', 'vtech', 'vtechphones', 'vu', 'vulcan', 'vulgar', 'vulner', 'vvt', 'vw', 'w98', 'wack', 'wackneiti', 'wad', 'waffl', 'wage', 'wager', 'wagon', 'waist', 'wait', 'waiter', 'waitress', 'waitstaff', 'wake', 'wal', 'walden', 'walk', 'walkin', 'walkway', 'wall', 'walla', 'wallow', 'wallpap', 'walnut', 'walt', 'walter', 'walton', 'wan', 'wanatab', 'wand', 'wander', 'want', 'war', 'waranti', 'warbl', 'ware', 'warfar', 'wari', 'warm', 'warmer', 'warn', 'warp', 'warrant', 'warranti', 'warren', 'warrior', 'warshawski', 'warz', 'wash', 'washcloth', 'washer', 'washi', 'washington', 'wasn', 'wasnt', 'wast', 'wasted', 'waster', 'wat', 'watanab', 'watanb', 'watch', 'watchabl', 'water', 'watered', 'waterfal', 'waterfront', 'waterslid', 'watson', 'watt', 'wattag', 'wave', 'wax', 'way', 'wayn', 'wayz', 'wc', 'wd', 'wdw', 'we', 'weak', 'weakest', 'wealthi', 'wean', 'wear', 'weari', 'weather', 'weav', 'web', 'websit', 'webster', 'webtv', 'wed', 'wedg', 'wedge', 'wednesday', 'wee', 'weed', 'week', 'weekday', 'weekend', 'weekli', 'weep', 'weezy', 'weigh', 'weight', 'weird', 'weirdest', 'weirdish', 'weirdo', 'wel', 'welbilt', 'welch', 'welcom', 'weld', 'well', 'wellesley', 'went', 'wept', 'weren', 'west', 'western', 'westin', 'westinghous', 'westminst', 'westsid', 'westward', 'wet', 'wether', 'whack', 'whadya', 'what', 'whatcha', 'whatev', 'whatnot', 'whatsoev', 'wheel', 'wheelbas', 'wheelspin', 'whelm', 'whenev', 'wher', 'where', 'whereev', 'wherein', 'wherev', 'whether', 'whew', 'whi', 'whichev', 'while', 'whilst', 'whimsic', 'whin', 'whine', 'whiner', 'whiney', 'whini', 'whiplash', 'whirl', 'whirley', 'whirlpool', 'whisk', 'whisper', 'whistl', 'whistling', 'whit', 'white', 'whitehous', 'whiter', 'whitewat', 'whitney', 'whiz', 'who', 'whoever', 'whole', 'wholesom', 'wholli', 'whoop', 'whop', 'whose', 'whovil', 'wi', 'wick', 'wide', 'wider', 'widescreen', 'widow', 'width', 'wield', 'wierd', 'wife', 'wifey', 'wiggl', 'wihtout', 'wilcher', 'wild', 'wilder', 'wildest', 'wildli', 'wiley', 'will', 'willi', 'william', 'williams', 'willie', 'willin', 'willing', 'willow', 'willy', 'wilton', 'wimp', 'wimpi', 'win', 'winan', 'winchest', 'wind', 'window', 'windows', 'windowsupdate', 'windoz', 'windscreen', 'windsheild', 'windshield', 'windstar', 'windswept', 'windtunnel', 'windvd', 'wine', 'wing', 'winmodem', 'winn', 'winner', 'winnetka', 'wintel', 'winter', 'wipe', 'wiper', 'wire', 'wireless', 'wirelss', 'wis', 'wisdom', 'wise', 'wish', 'wishbon', 'wishy', 'wist', 'wit', 'with', 'withheld', 'within', 'without', 'withstand', 'witti', 'wittier', 'wive', 'wizard', 'wl', 'wo', 'wobbl', 'woefulli', 'wok', 'woke', 'wolv', 'wolves', 'woman', 'women', 'won', 'wond', 'wonder', 'wondrou', 'wont', 'wood', 'wooden', 'woodi', 'woodland', 'woodward', 'woofer', 'woohooo', 'wool', 'woozi', 'wop', 'word', 'wordperfect', 'wordplay', 'work', 'workabl', 'workahol', 'worker', 'workers', 'workhahol', 'workmanship', 'workout', 'workplac', 'workshop', 'worksuite', 'world', 'worldbook', 'worldwid', 'worn', 'worri', 'wors', 'worsen', 'worship', 'worst', 'worth', 'worthi', 'worthless', 'worthwhil', 'would', 'woulda', 'wouldn', 'wound', 'woven', 'wow', 'wowwoo', 'wrack', 'wrap', 'wrapper', 'wreak', 'wreck', 'wrestl', 'wretch', 'wretched', 'wrinkl', 'wrist', 'writ', 'write', 'writer', 'writers', 'written', 'wrong', 'wrote', 'wrx', 'wu', 'wurr', 'www', 'wyclef', 'wyndham', 'wynett', 'wynette', 'wynn', 'x2', 'x9', 'xbox', 'xcel', 'xe', 'xenon', 'xga', 'xl', 'xorg', 'xp', 'xp2200', 'xr', 'xterra', 'xtra', 'xx', 'xxskagirlxx', 'xylophone', 'ya', 'yacht', 'yahoo', 'yal', 'yale', 'yanke', 'yard', 'yasser', 'yawn', 'ye', 'yeah', 'year', 'yearn', 'yell', 'yellow', 'yep', 'yer', 'yes', 'yesterday', 'yesteryear', 'yet', 'yike', 'yippi', 'yo', 'yogurt', 'york', 'yorkshir', 'you', 'young', 'younger', 'youngest', 'youngn', 'youngster', 'your', 'yours', 'yourself', 'youth', 'yr', 'yuck', 'yugo', 'yuletid', 'yuppi', 'z28', 'zap', 'zd7000', 'zd7020', 'zd7040', 'zd70xx', 'zealand', 'zekey', 'zero', 'zetec', 'zimmer', 'zino', 'zion', 'zip', 'ziplock', 'zippi', 'zit', 'zombi', 'zone', 'zoo', 'zooey', 'zoom', 'zr', 'zucchini', 'zwick', 'zwigoff', 'zx3', 'zy', 'über']\n"
          ],
          "name": "stdout"
        }
      ]
    },
    {
      "cell_type": "markdown",
      "metadata": {
        "id": "T3kX3nhOrF66"
      },
      "source": [
        "**6. Utiliza la función *transform* en el objeto transformado TF-IDF y transforma todo el conjunto de train.**"
      ]
    },
    {
      "cell_type": "code",
      "metadata": {
        "id": "l9u3aY_YrF66"
      },
      "source": [
        "X_train_tfidf = tfidf_transformer.transform(X_train)"
      ],
      "execution_count": 57,
      "outputs": []
    },
    {
      "cell_type": "markdown",
      "metadata": {
        "id": "QhQRrSYJrF67"
      },
      "source": [
        "Podemos ver a continuación cómo el peso del token \"01\" en la opinión 1 ha cambiado de 1 en el modelo BoW (apareció una vez en el documento) a 0,040001 como resultado del cálculo de tf-idf."
      ]
    },
    {
      "cell_type": "code",
      "metadata": {
        "id": "QTZX-MbkrF67",
        "colab": {
          "base_uri": "https://localhost:8080/",
          "height": 439
        },
        "outputId": "3fd853a6-c51d-4c82-fe5f-9bcfe2ea57a3"
      },
      "source": [
        "pd.DataFrame(X_train_tfidf.toarray(), columns=tfidf_transformer.get_feature_names())"
      ],
      "execution_count": 58,
      "outputs": [
        {
          "output_type": "execute_result",
          "data": {
            "text/html": [
              "<div>\n",
              "<style scoped>\n",
              "    .dataframe tbody tr th:only-of-type {\n",
              "        vertical-align: middle;\n",
              "    }\n",
              "\n",
              "    .dataframe tbody tr th {\n",
              "        vertical-align: top;\n",
              "    }\n",
              "\n",
              "    .dataframe thead th {\n",
              "        text-align: right;\n",
              "    }\n",
              "</style>\n",
              "<table border=\"1\" class=\"dataframe\">\n",
              "  <thead>\n",
              "    <tr style=\"text-align: right;\">\n",
              "      <th></th>\n",
              "      <th>00</th>\n",
              "      <th>000</th>\n",
              "      <th>007</th>\n",
              "      <th>00pm</th>\n",
              "      <th>01</th>\n",
              "      <th>02</th>\n",
              "      <th>024</th>\n",
              "      <th>0271</th>\n",
              "      <th>0273</th>\n",
              "      <th>0298</th>\n",
              "      <th>03</th>\n",
              "      <th>033</th>\n",
              "      <th>0359</th>\n",
              "      <th>0380</th>\n",
              "      <th>0395</th>\n",
              "      <th>04</th>\n",
              "      <th>0409</th>\n",
              "      <th>0412</th>\n",
              "      <th>0441</th>\n",
              "      <th>0462</th>\n",
              "      <th>05</th>\n",
              "      <th>0547</th>\n",
              "      <th>0551</th>\n",
              "      <th>0555</th>\n",
              "      <th>06ghz</th>\n",
              "      <th>0735</th>\n",
              "      <th>0917</th>\n",
              "      <th>0984</th>\n",
              "      <th>0gb</th>\n",
              "      <th>0ghz</th>\n",
              "      <th>0in</th>\n",
              "      <th>0l</th>\n",
              "      <th>0t213e6fmay</th>\n",
              "      <th>10</th>\n",
              "      <th>100</th>\n",
              "      <th>1000</th>\n",
              "      <th>10000</th>\n",
              "      <th>100base</th>\n",
              "      <th>100m</th>\n",
              "      <th>100mhz</th>\n",
              "      <th>...</th>\n",
              "      <th>youngn</th>\n",
              "      <th>youngster</th>\n",
              "      <th>your</th>\n",
              "      <th>yours</th>\n",
              "      <th>yourself</th>\n",
              "      <th>youth</th>\n",
              "      <th>yr</th>\n",
              "      <th>yuck</th>\n",
              "      <th>yugo</th>\n",
              "      <th>yuletid</th>\n",
              "      <th>yuppi</th>\n",
              "      <th>z28</th>\n",
              "      <th>zap</th>\n",
              "      <th>zd7000</th>\n",
              "      <th>zd7020</th>\n",
              "      <th>zd7040</th>\n",
              "      <th>zd70xx</th>\n",
              "      <th>zealand</th>\n",
              "      <th>zekey</th>\n",
              "      <th>zero</th>\n",
              "      <th>zetec</th>\n",
              "      <th>zimmer</th>\n",
              "      <th>zino</th>\n",
              "      <th>zion</th>\n",
              "      <th>zip</th>\n",
              "      <th>ziplock</th>\n",
              "      <th>zippi</th>\n",
              "      <th>zit</th>\n",
              "      <th>zombi</th>\n",
              "      <th>zone</th>\n",
              "      <th>zoo</th>\n",
              "      <th>zooey</th>\n",
              "      <th>zoom</th>\n",
              "      <th>zr</th>\n",
              "      <th>zucchini</th>\n",
              "      <th>zwick</th>\n",
              "      <th>zwigoff</th>\n",
              "      <th>zx3</th>\n",
              "      <th>zy</th>\n",
              "      <th>über</th>\n",
              "    </tr>\n",
              "  </thead>\n",
              "  <tbody>\n",
              "    <tr>\n",
              "      <th>0</th>\n",
              "      <td>0.0</td>\n",
              "      <td>0.0</td>\n",
              "      <td>0.0</td>\n",
              "      <td>0.0</td>\n",
              "      <td>0.00</td>\n",
              "      <td>0.0</td>\n",
              "      <td>0.0</td>\n",
              "      <td>0.0</td>\n",
              "      <td>0.0</td>\n",
              "      <td>0.0</td>\n",
              "      <td>0.0</td>\n",
              "      <td>0.0</td>\n",
              "      <td>0.0</td>\n",
              "      <td>0.0</td>\n",
              "      <td>0.0</td>\n",
              "      <td>0.0</td>\n",
              "      <td>0.0</td>\n",
              "      <td>0.0</td>\n",
              "      <td>0.0</td>\n",
              "      <td>0.0</td>\n",
              "      <td>0.0</td>\n",
              "      <td>0.0</td>\n",
              "      <td>0.0</td>\n",
              "      <td>0.0</td>\n",
              "      <td>0.0</td>\n",
              "      <td>0.0</td>\n",
              "      <td>0.0</td>\n",
              "      <td>0.0</td>\n",
              "      <td>0.0</td>\n",
              "      <td>0.0</td>\n",
              "      <td>0.0</td>\n",
              "      <td>0.0</td>\n",
              "      <td>0.0</td>\n",
              "      <td>0.000000</td>\n",
              "      <td>0.000000</td>\n",
              "      <td>0.0</td>\n",
              "      <td>0.000000</td>\n",
              "      <td>0.0</td>\n",
              "      <td>0.0</td>\n",
              "      <td>0.0</td>\n",
              "      <td>...</td>\n",
              "      <td>0.0</td>\n",
              "      <td>0.0</td>\n",
              "      <td>0.0</td>\n",
              "      <td>0.0</td>\n",
              "      <td>0.0</td>\n",
              "      <td>0.0</td>\n",
              "      <td>0.0</td>\n",
              "      <td>0.0</td>\n",
              "      <td>0.0</td>\n",
              "      <td>0.0</td>\n",
              "      <td>0.0</td>\n",
              "      <td>0.0</td>\n",
              "      <td>0.0</td>\n",
              "      <td>0.0</td>\n",
              "      <td>0.000000</td>\n",
              "      <td>0.000000</td>\n",
              "      <td>0.0</td>\n",
              "      <td>0.0</td>\n",
              "      <td>0.0</td>\n",
              "      <td>0.0</td>\n",
              "      <td>0.0</td>\n",
              "      <td>0.0</td>\n",
              "      <td>0.0</td>\n",
              "      <td>0.0</td>\n",
              "      <td>0.0</td>\n",
              "      <td>0.0</td>\n",
              "      <td>0.0</td>\n",
              "      <td>0.0</td>\n",
              "      <td>0.0</td>\n",
              "      <td>0.0</td>\n",
              "      <td>0.0</td>\n",
              "      <td>0.0</td>\n",
              "      <td>0.0</td>\n",
              "      <td>0.0</td>\n",
              "      <td>0.0</td>\n",
              "      <td>0.0</td>\n",
              "      <td>0.0</td>\n",
              "      <td>0.0</td>\n",
              "      <td>0.0</td>\n",
              "      <td>0.0</td>\n",
              "    </tr>\n",
              "    <tr>\n",
              "      <th>1</th>\n",
              "      <td>0.0</td>\n",
              "      <td>0.0</td>\n",
              "      <td>0.0</td>\n",
              "      <td>0.0</td>\n",
              "      <td>0.04</td>\n",
              "      <td>0.0</td>\n",
              "      <td>0.0</td>\n",
              "      <td>0.0</td>\n",
              "      <td>0.0</td>\n",
              "      <td>0.0</td>\n",
              "      <td>0.0</td>\n",
              "      <td>0.0</td>\n",
              "      <td>0.0</td>\n",
              "      <td>0.0</td>\n",
              "      <td>0.0</td>\n",
              "      <td>0.0</td>\n",
              "      <td>0.0</td>\n",
              "      <td>0.0</td>\n",
              "      <td>0.0</td>\n",
              "      <td>0.0</td>\n",
              "      <td>0.0</td>\n",
              "      <td>0.0</td>\n",
              "      <td>0.0</td>\n",
              "      <td>0.0</td>\n",
              "      <td>0.0</td>\n",
              "      <td>0.0</td>\n",
              "      <td>0.0</td>\n",
              "      <td>0.0</td>\n",
              "      <td>0.0</td>\n",
              "      <td>0.0</td>\n",
              "      <td>0.0</td>\n",
              "      <td>0.0</td>\n",
              "      <td>0.0</td>\n",
              "      <td>0.000000</td>\n",
              "      <td>0.000000</td>\n",
              "      <td>0.0</td>\n",
              "      <td>0.000000</td>\n",
              "      <td>0.0</td>\n",
              "      <td>0.0</td>\n",
              "      <td>0.0</td>\n",
              "      <td>...</td>\n",
              "      <td>0.0</td>\n",
              "      <td>0.0</td>\n",
              "      <td>0.0</td>\n",
              "      <td>0.0</td>\n",
              "      <td>0.0</td>\n",
              "      <td>0.0</td>\n",
              "      <td>0.0</td>\n",
              "      <td>0.0</td>\n",
              "      <td>0.0</td>\n",
              "      <td>0.0</td>\n",
              "      <td>0.0</td>\n",
              "      <td>0.0</td>\n",
              "      <td>0.0</td>\n",
              "      <td>0.0</td>\n",
              "      <td>0.000000</td>\n",
              "      <td>0.000000</td>\n",
              "      <td>0.0</td>\n",
              "      <td>0.0</td>\n",
              "      <td>0.0</td>\n",
              "      <td>0.0</td>\n",
              "      <td>0.0</td>\n",
              "      <td>0.0</td>\n",
              "      <td>0.0</td>\n",
              "      <td>0.0</td>\n",
              "      <td>0.0</td>\n",
              "      <td>0.0</td>\n",
              "      <td>0.0</td>\n",
              "      <td>0.0</td>\n",
              "      <td>0.0</td>\n",
              "      <td>0.0</td>\n",
              "      <td>0.0</td>\n",
              "      <td>0.0</td>\n",
              "      <td>0.0</td>\n",
              "      <td>0.0</td>\n",
              "      <td>0.0</td>\n",
              "      <td>0.0</td>\n",
              "      <td>0.0</td>\n",
              "      <td>0.0</td>\n",
              "      <td>0.0</td>\n",
              "      <td>0.0</td>\n",
              "    </tr>\n",
              "    <tr>\n",
              "      <th>2</th>\n",
              "      <td>0.0</td>\n",
              "      <td>0.0</td>\n",
              "      <td>0.0</td>\n",
              "      <td>0.0</td>\n",
              "      <td>0.00</td>\n",
              "      <td>0.0</td>\n",
              "      <td>0.0</td>\n",
              "      <td>0.0</td>\n",
              "      <td>0.0</td>\n",
              "      <td>0.0</td>\n",
              "      <td>0.0</td>\n",
              "      <td>0.0</td>\n",
              "      <td>0.0</td>\n",
              "      <td>0.0</td>\n",
              "      <td>0.0</td>\n",
              "      <td>0.0</td>\n",
              "      <td>0.0</td>\n",
              "      <td>0.0</td>\n",
              "      <td>0.0</td>\n",
              "      <td>0.0</td>\n",
              "      <td>0.0</td>\n",
              "      <td>0.0</td>\n",
              "      <td>0.0</td>\n",
              "      <td>0.0</td>\n",
              "      <td>0.0</td>\n",
              "      <td>0.0</td>\n",
              "      <td>0.0</td>\n",
              "      <td>0.0</td>\n",
              "      <td>0.0</td>\n",
              "      <td>0.0</td>\n",
              "      <td>0.0</td>\n",
              "      <td>0.0</td>\n",
              "      <td>0.0</td>\n",
              "      <td>0.059588</td>\n",
              "      <td>0.042141</td>\n",
              "      <td>0.0</td>\n",
              "      <td>0.074118</td>\n",
              "      <td>0.0</td>\n",
              "      <td>0.0</td>\n",
              "      <td>0.0</td>\n",
              "      <td>...</td>\n",
              "      <td>0.0</td>\n",
              "      <td>0.0</td>\n",
              "      <td>0.0</td>\n",
              "      <td>0.0</td>\n",
              "      <td>0.0</td>\n",
              "      <td>0.0</td>\n",
              "      <td>0.0</td>\n",
              "      <td>0.0</td>\n",
              "      <td>0.0</td>\n",
              "      <td>0.0</td>\n",
              "      <td>0.0</td>\n",
              "      <td>0.0</td>\n",
              "      <td>0.0</td>\n",
              "      <td>0.0</td>\n",
              "      <td>0.074118</td>\n",
              "      <td>0.074118</td>\n",
              "      <td>0.0</td>\n",
              "      <td>0.0</td>\n",
              "      <td>0.0</td>\n",
              "      <td>0.0</td>\n",
              "      <td>0.0</td>\n",
              "      <td>0.0</td>\n",
              "      <td>0.0</td>\n",
              "      <td>0.0</td>\n",
              "      <td>0.0</td>\n",
              "      <td>0.0</td>\n",
              "      <td>0.0</td>\n",
              "      <td>0.0</td>\n",
              "      <td>0.0</td>\n",
              "      <td>0.0</td>\n",
              "      <td>0.0</td>\n",
              "      <td>0.0</td>\n",
              "      <td>0.0</td>\n",
              "      <td>0.0</td>\n",
              "      <td>0.0</td>\n",
              "      <td>0.0</td>\n",
              "      <td>0.0</td>\n",
              "      <td>0.0</td>\n",
              "      <td>0.0</td>\n",
              "      <td>0.0</td>\n",
              "    </tr>\n",
              "    <tr>\n",
              "      <th>3</th>\n",
              "      <td>0.0</td>\n",
              "      <td>0.0</td>\n",
              "      <td>0.0</td>\n",
              "      <td>0.0</td>\n",
              "      <td>0.00</td>\n",
              "      <td>0.0</td>\n",
              "      <td>0.0</td>\n",
              "      <td>0.0</td>\n",
              "      <td>0.0</td>\n",
              "      <td>0.0</td>\n",
              "      <td>0.0</td>\n",
              "      <td>0.0</td>\n",
              "      <td>0.0</td>\n",
              "      <td>0.0</td>\n",
              "      <td>0.0</td>\n",
              "      <td>0.0</td>\n",
              "      <td>0.0</td>\n",
              "      <td>0.0</td>\n",
              "      <td>0.0</td>\n",
              "      <td>0.0</td>\n",
              "      <td>0.0</td>\n",
              "      <td>0.0</td>\n",
              "      <td>0.0</td>\n",
              "      <td>0.0</td>\n",
              "      <td>0.0</td>\n",
              "      <td>0.0</td>\n",
              "      <td>0.0</td>\n",
              "      <td>0.0</td>\n",
              "      <td>0.0</td>\n",
              "      <td>0.0</td>\n",
              "      <td>0.0</td>\n",
              "      <td>0.0</td>\n",
              "      <td>0.0</td>\n",
              "      <td>0.000000</td>\n",
              "      <td>0.000000</td>\n",
              "      <td>0.0</td>\n",
              "      <td>0.000000</td>\n",
              "      <td>0.0</td>\n",
              "      <td>0.0</td>\n",
              "      <td>0.0</td>\n",
              "      <td>...</td>\n",
              "      <td>0.0</td>\n",
              "      <td>0.0</td>\n",
              "      <td>0.0</td>\n",
              "      <td>0.0</td>\n",
              "      <td>0.0</td>\n",
              "      <td>0.0</td>\n",
              "      <td>0.0</td>\n",
              "      <td>0.0</td>\n",
              "      <td>0.0</td>\n",
              "      <td>0.0</td>\n",
              "      <td>0.0</td>\n",
              "      <td>0.0</td>\n",
              "      <td>0.0</td>\n",
              "      <td>0.0</td>\n",
              "      <td>0.000000</td>\n",
              "      <td>0.000000</td>\n",
              "      <td>0.0</td>\n",
              "      <td>0.0</td>\n",
              "      <td>0.0</td>\n",
              "      <td>0.0</td>\n",
              "      <td>0.0</td>\n",
              "      <td>0.0</td>\n",
              "      <td>0.0</td>\n",
              "      <td>0.0</td>\n",
              "      <td>0.0</td>\n",
              "      <td>0.0</td>\n",
              "      <td>0.0</td>\n",
              "      <td>0.0</td>\n",
              "      <td>0.0</td>\n",
              "      <td>0.0</td>\n",
              "      <td>0.0</td>\n",
              "      <td>0.0</td>\n",
              "      <td>0.0</td>\n",
              "      <td>0.0</td>\n",
              "      <td>0.0</td>\n",
              "      <td>0.0</td>\n",
              "      <td>0.0</td>\n",
              "      <td>0.0</td>\n",
              "      <td>0.0</td>\n",
              "      <td>0.0</td>\n",
              "    </tr>\n",
              "    <tr>\n",
              "      <th>4</th>\n",
              "      <td>0.0</td>\n",
              "      <td>0.0</td>\n",
              "      <td>0.0</td>\n",
              "      <td>0.0</td>\n",
              "      <td>0.00</td>\n",
              "      <td>0.0</td>\n",
              "      <td>0.0</td>\n",
              "      <td>0.0</td>\n",
              "      <td>0.0</td>\n",
              "      <td>0.0</td>\n",
              "      <td>0.0</td>\n",
              "      <td>0.0</td>\n",
              "      <td>0.0</td>\n",
              "      <td>0.0</td>\n",
              "      <td>0.0</td>\n",
              "      <td>0.0</td>\n",
              "      <td>0.0</td>\n",
              "      <td>0.0</td>\n",
              "      <td>0.0</td>\n",
              "      <td>0.0</td>\n",
              "      <td>0.0</td>\n",
              "      <td>0.0</td>\n",
              "      <td>0.0</td>\n",
              "      <td>0.0</td>\n",
              "      <td>0.0</td>\n",
              "      <td>0.0</td>\n",
              "      <td>0.0</td>\n",
              "      <td>0.0</td>\n",
              "      <td>0.0</td>\n",
              "      <td>0.0</td>\n",
              "      <td>0.0</td>\n",
              "      <td>0.0</td>\n",
              "      <td>0.0</td>\n",
              "      <td>0.000000</td>\n",
              "      <td>0.032916</td>\n",
              "      <td>0.0</td>\n",
              "      <td>0.000000</td>\n",
              "      <td>0.0</td>\n",
              "      <td>0.0</td>\n",
              "      <td>0.0</td>\n",
              "      <td>...</td>\n",
              "      <td>0.0</td>\n",
              "      <td>0.0</td>\n",
              "      <td>0.0</td>\n",
              "      <td>0.0</td>\n",
              "      <td>0.0</td>\n",
              "      <td>0.0</td>\n",
              "      <td>0.0</td>\n",
              "      <td>0.0</td>\n",
              "      <td>0.0</td>\n",
              "      <td>0.0</td>\n",
              "      <td>0.0</td>\n",
              "      <td>0.0</td>\n",
              "      <td>0.0</td>\n",
              "      <td>0.0</td>\n",
              "      <td>0.000000</td>\n",
              "      <td>0.000000</td>\n",
              "      <td>0.0</td>\n",
              "      <td>0.0</td>\n",
              "      <td>0.0</td>\n",
              "      <td>0.0</td>\n",
              "      <td>0.0</td>\n",
              "      <td>0.0</td>\n",
              "      <td>0.0</td>\n",
              "      <td>0.0</td>\n",
              "      <td>0.0</td>\n",
              "      <td>0.0</td>\n",
              "      <td>0.0</td>\n",
              "      <td>0.0</td>\n",
              "      <td>0.0</td>\n",
              "      <td>0.0</td>\n",
              "      <td>0.0</td>\n",
              "      <td>0.0</td>\n",
              "      <td>0.0</td>\n",
              "      <td>0.0</td>\n",
              "      <td>0.0</td>\n",
              "      <td>0.0</td>\n",
              "      <td>0.0</td>\n",
              "      <td>0.0</td>\n",
              "      <td>0.0</td>\n",
              "      <td>0.0</td>\n",
              "    </tr>\n",
              "    <tr>\n",
              "      <th>...</th>\n",
              "      <td>...</td>\n",
              "      <td>...</td>\n",
              "      <td>...</td>\n",
              "      <td>...</td>\n",
              "      <td>...</td>\n",
              "      <td>...</td>\n",
              "      <td>...</td>\n",
              "      <td>...</td>\n",
              "      <td>...</td>\n",
              "      <td>...</td>\n",
              "      <td>...</td>\n",
              "      <td>...</td>\n",
              "      <td>...</td>\n",
              "      <td>...</td>\n",
              "      <td>...</td>\n",
              "      <td>...</td>\n",
              "      <td>...</td>\n",
              "      <td>...</td>\n",
              "      <td>...</td>\n",
              "      <td>...</td>\n",
              "      <td>...</td>\n",
              "      <td>...</td>\n",
              "      <td>...</td>\n",
              "      <td>...</td>\n",
              "      <td>...</td>\n",
              "      <td>...</td>\n",
              "      <td>...</td>\n",
              "      <td>...</td>\n",
              "      <td>...</td>\n",
              "      <td>...</td>\n",
              "      <td>...</td>\n",
              "      <td>...</td>\n",
              "      <td>...</td>\n",
              "      <td>...</td>\n",
              "      <td>...</td>\n",
              "      <td>...</td>\n",
              "      <td>...</td>\n",
              "      <td>...</td>\n",
              "      <td>...</td>\n",
              "      <td>...</td>\n",
              "      <td>...</td>\n",
              "      <td>...</td>\n",
              "      <td>...</td>\n",
              "      <td>...</td>\n",
              "      <td>...</td>\n",
              "      <td>...</td>\n",
              "      <td>...</td>\n",
              "      <td>...</td>\n",
              "      <td>...</td>\n",
              "      <td>...</td>\n",
              "      <td>...</td>\n",
              "      <td>...</td>\n",
              "      <td>...</td>\n",
              "      <td>...</td>\n",
              "      <td>...</td>\n",
              "      <td>...</td>\n",
              "      <td>...</td>\n",
              "      <td>...</td>\n",
              "      <td>...</td>\n",
              "      <td>...</td>\n",
              "      <td>...</td>\n",
              "      <td>...</td>\n",
              "      <td>...</td>\n",
              "      <td>...</td>\n",
              "      <td>...</td>\n",
              "      <td>...</td>\n",
              "      <td>...</td>\n",
              "      <td>...</td>\n",
              "      <td>...</td>\n",
              "      <td>...</td>\n",
              "      <td>...</td>\n",
              "      <td>...</td>\n",
              "      <td>...</td>\n",
              "      <td>...</td>\n",
              "      <td>...</td>\n",
              "      <td>...</td>\n",
              "      <td>...</td>\n",
              "      <td>...</td>\n",
              "      <td>...</td>\n",
              "      <td>...</td>\n",
              "      <td>...</td>\n",
              "    </tr>\n",
              "    <tr>\n",
              "      <th>275</th>\n",
              "      <td>0.0</td>\n",
              "      <td>0.0</td>\n",
              "      <td>0.0</td>\n",
              "      <td>0.0</td>\n",
              "      <td>0.00</td>\n",
              "      <td>0.0</td>\n",
              "      <td>0.0</td>\n",
              "      <td>0.0</td>\n",
              "      <td>0.0</td>\n",
              "      <td>0.0</td>\n",
              "      <td>0.0</td>\n",
              "      <td>0.0</td>\n",
              "      <td>0.0</td>\n",
              "      <td>0.0</td>\n",
              "      <td>0.0</td>\n",
              "      <td>0.0</td>\n",
              "      <td>0.0</td>\n",
              "      <td>0.0</td>\n",
              "      <td>0.0</td>\n",
              "      <td>0.0</td>\n",
              "      <td>0.0</td>\n",
              "      <td>0.0</td>\n",
              "      <td>0.0</td>\n",
              "      <td>0.0</td>\n",
              "      <td>0.0</td>\n",
              "      <td>0.0</td>\n",
              "      <td>0.0</td>\n",
              "      <td>0.0</td>\n",
              "      <td>0.0</td>\n",
              "      <td>0.0</td>\n",
              "      <td>0.0</td>\n",
              "      <td>0.0</td>\n",
              "      <td>0.0</td>\n",
              "      <td>0.000000</td>\n",
              "      <td>0.000000</td>\n",
              "      <td>0.0</td>\n",
              "      <td>0.000000</td>\n",
              "      <td>0.0</td>\n",
              "      <td>0.0</td>\n",
              "      <td>0.0</td>\n",
              "      <td>...</td>\n",
              "      <td>0.0</td>\n",
              "      <td>0.0</td>\n",
              "      <td>0.0</td>\n",
              "      <td>0.0</td>\n",
              "      <td>0.0</td>\n",
              "      <td>0.0</td>\n",
              "      <td>0.0</td>\n",
              "      <td>0.0</td>\n",
              "      <td>0.0</td>\n",
              "      <td>0.0</td>\n",
              "      <td>0.0</td>\n",
              "      <td>0.0</td>\n",
              "      <td>0.0</td>\n",
              "      <td>0.0</td>\n",
              "      <td>0.000000</td>\n",
              "      <td>0.000000</td>\n",
              "      <td>0.0</td>\n",
              "      <td>0.0</td>\n",
              "      <td>0.0</td>\n",
              "      <td>0.0</td>\n",
              "      <td>0.0</td>\n",
              "      <td>0.0</td>\n",
              "      <td>0.0</td>\n",
              "      <td>0.0</td>\n",
              "      <td>0.0</td>\n",
              "      <td>0.0</td>\n",
              "      <td>0.0</td>\n",
              "      <td>0.0</td>\n",
              "      <td>0.0</td>\n",
              "      <td>0.0</td>\n",
              "      <td>0.0</td>\n",
              "      <td>0.0</td>\n",
              "      <td>0.0</td>\n",
              "      <td>0.0</td>\n",
              "      <td>0.0</td>\n",
              "      <td>0.0</td>\n",
              "      <td>0.0</td>\n",
              "      <td>0.0</td>\n",
              "      <td>0.0</td>\n",
              "      <td>0.0</td>\n",
              "    </tr>\n",
              "    <tr>\n",
              "      <th>276</th>\n",
              "      <td>0.0</td>\n",
              "      <td>0.0</td>\n",
              "      <td>0.0</td>\n",
              "      <td>0.0</td>\n",
              "      <td>0.00</td>\n",
              "      <td>0.0</td>\n",
              "      <td>0.0</td>\n",
              "      <td>0.0</td>\n",
              "      <td>0.0</td>\n",
              "      <td>0.0</td>\n",
              "      <td>0.0</td>\n",
              "      <td>0.0</td>\n",
              "      <td>0.0</td>\n",
              "      <td>0.0</td>\n",
              "      <td>0.0</td>\n",
              "      <td>0.0</td>\n",
              "      <td>0.0</td>\n",
              "      <td>0.0</td>\n",
              "      <td>0.0</td>\n",
              "      <td>0.0</td>\n",
              "      <td>0.0</td>\n",
              "      <td>0.0</td>\n",
              "      <td>0.0</td>\n",
              "      <td>0.0</td>\n",
              "      <td>0.0</td>\n",
              "      <td>0.0</td>\n",
              "      <td>0.0</td>\n",
              "      <td>0.0</td>\n",
              "      <td>0.0</td>\n",
              "      <td>0.0</td>\n",
              "      <td>0.0</td>\n",
              "      <td>0.0</td>\n",
              "      <td>0.0</td>\n",
              "      <td>0.031073</td>\n",
              "      <td>0.000000</td>\n",
              "      <td>0.0</td>\n",
              "      <td>0.000000</td>\n",
              "      <td>0.0</td>\n",
              "      <td>0.0</td>\n",
              "      <td>0.0</td>\n",
              "      <td>...</td>\n",
              "      <td>0.0</td>\n",
              "      <td>0.0</td>\n",
              "      <td>0.0</td>\n",
              "      <td>0.0</td>\n",
              "      <td>0.0</td>\n",
              "      <td>0.0</td>\n",
              "      <td>0.0</td>\n",
              "      <td>0.0</td>\n",
              "      <td>0.0</td>\n",
              "      <td>0.0</td>\n",
              "      <td>0.0</td>\n",
              "      <td>0.0</td>\n",
              "      <td>0.0</td>\n",
              "      <td>0.0</td>\n",
              "      <td>0.000000</td>\n",
              "      <td>0.000000</td>\n",
              "      <td>0.0</td>\n",
              "      <td>0.0</td>\n",
              "      <td>0.0</td>\n",
              "      <td>0.0</td>\n",
              "      <td>0.0</td>\n",
              "      <td>0.0</td>\n",
              "      <td>0.0</td>\n",
              "      <td>0.0</td>\n",
              "      <td>0.0</td>\n",
              "      <td>0.0</td>\n",
              "      <td>0.0</td>\n",
              "      <td>0.0</td>\n",
              "      <td>0.0</td>\n",
              "      <td>0.0</td>\n",
              "      <td>0.0</td>\n",
              "      <td>0.0</td>\n",
              "      <td>0.0</td>\n",
              "      <td>0.0</td>\n",
              "      <td>0.0</td>\n",
              "      <td>0.0</td>\n",
              "      <td>0.0</td>\n",
              "      <td>0.0</td>\n",
              "      <td>0.0</td>\n",
              "      <td>0.0</td>\n",
              "    </tr>\n",
              "    <tr>\n",
              "      <th>277</th>\n",
              "      <td>0.0</td>\n",
              "      <td>0.0</td>\n",
              "      <td>0.0</td>\n",
              "      <td>0.0</td>\n",
              "      <td>0.00</td>\n",
              "      <td>0.0</td>\n",
              "      <td>0.0</td>\n",
              "      <td>0.0</td>\n",
              "      <td>0.0</td>\n",
              "      <td>0.0</td>\n",
              "      <td>0.0</td>\n",
              "      <td>0.0</td>\n",
              "      <td>0.0</td>\n",
              "      <td>0.0</td>\n",
              "      <td>0.0</td>\n",
              "      <td>0.0</td>\n",
              "      <td>0.0</td>\n",
              "      <td>0.0</td>\n",
              "      <td>0.0</td>\n",
              "      <td>0.0</td>\n",
              "      <td>0.0</td>\n",
              "      <td>0.0</td>\n",
              "      <td>0.0</td>\n",
              "      <td>0.0</td>\n",
              "      <td>0.0</td>\n",
              "      <td>0.0</td>\n",
              "      <td>0.0</td>\n",
              "      <td>0.0</td>\n",
              "      <td>0.0</td>\n",
              "      <td>0.0</td>\n",
              "      <td>0.0</td>\n",
              "      <td>0.0</td>\n",
              "      <td>0.0</td>\n",
              "      <td>0.000000</td>\n",
              "      <td>0.063487</td>\n",
              "      <td>0.0</td>\n",
              "      <td>0.000000</td>\n",
              "      <td>0.0</td>\n",
              "      <td>0.0</td>\n",
              "      <td>0.0</td>\n",
              "      <td>...</td>\n",
              "      <td>0.0</td>\n",
              "      <td>0.0</td>\n",
              "      <td>0.0</td>\n",
              "      <td>0.0</td>\n",
              "      <td>0.0</td>\n",
              "      <td>0.0</td>\n",
              "      <td>0.0</td>\n",
              "      <td>0.0</td>\n",
              "      <td>0.0</td>\n",
              "      <td>0.0</td>\n",
              "      <td>0.0</td>\n",
              "      <td>0.0</td>\n",
              "      <td>0.0</td>\n",
              "      <td>0.0</td>\n",
              "      <td>0.000000</td>\n",
              "      <td>0.000000</td>\n",
              "      <td>0.0</td>\n",
              "      <td>0.0</td>\n",
              "      <td>0.0</td>\n",
              "      <td>0.0</td>\n",
              "      <td>0.0</td>\n",
              "      <td>0.0</td>\n",
              "      <td>0.0</td>\n",
              "      <td>0.0</td>\n",
              "      <td>0.0</td>\n",
              "      <td>0.0</td>\n",
              "      <td>0.0</td>\n",
              "      <td>0.0</td>\n",
              "      <td>0.0</td>\n",
              "      <td>0.0</td>\n",
              "      <td>0.0</td>\n",
              "      <td>0.0</td>\n",
              "      <td>0.0</td>\n",
              "      <td>0.0</td>\n",
              "      <td>0.0</td>\n",
              "      <td>0.0</td>\n",
              "      <td>0.0</td>\n",
              "      <td>0.0</td>\n",
              "      <td>0.0</td>\n",
              "      <td>0.0</td>\n",
              "    </tr>\n",
              "    <tr>\n",
              "      <th>278</th>\n",
              "      <td>0.0</td>\n",
              "      <td>0.0</td>\n",
              "      <td>0.0</td>\n",
              "      <td>0.0</td>\n",
              "      <td>0.00</td>\n",
              "      <td>0.0</td>\n",
              "      <td>0.0</td>\n",
              "      <td>0.0</td>\n",
              "      <td>0.0</td>\n",
              "      <td>0.0</td>\n",
              "      <td>0.0</td>\n",
              "      <td>0.0</td>\n",
              "      <td>0.0</td>\n",
              "      <td>0.0</td>\n",
              "      <td>0.0</td>\n",
              "      <td>0.0</td>\n",
              "      <td>0.0</td>\n",
              "      <td>0.0</td>\n",
              "      <td>0.0</td>\n",
              "      <td>0.0</td>\n",
              "      <td>0.0</td>\n",
              "      <td>0.0</td>\n",
              "      <td>0.0</td>\n",
              "      <td>0.0</td>\n",
              "      <td>0.0</td>\n",
              "      <td>0.0</td>\n",
              "      <td>0.0</td>\n",
              "      <td>0.0</td>\n",
              "      <td>0.0</td>\n",
              "      <td>0.0</td>\n",
              "      <td>0.0</td>\n",
              "      <td>0.0</td>\n",
              "      <td>0.0</td>\n",
              "      <td>0.000000</td>\n",
              "      <td>0.000000</td>\n",
              "      <td>0.0</td>\n",
              "      <td>0.000000</td>\n",
              "      <td>0.0</td>\n",
              "      <td>0.0</td>\n",
              "      <td>0.0</td>\n",
              "      <td>...</td>\n",
              "      <td>0.0</td>\n",
              "      <td>0.0</td>\n",
              "      <td>0.0</td>\n",
              "      <td>0.0</td>\n",
              "      <td>0.0</td>\n",
              "      <td>0.0</td>\n",
              "      <td>0.0</td>\n",
              "      <td>0.0</td>\n",
              "      <td>0.0</td>\n",
              "      <td>0.0</td>\n",
              "      <td>0.0</td>\n",
              "      <td>0.0</td>\n",
              "      <td>0.0</td>\n",
              "      <td>0.0</td>\n",
              "      <td>0.000000</td>\n",
              "      <td>0.000000</td>\n",
              "      <td>0.0</td>\n",
              "      <td>0.0</td>\n",
              "      <td>0.0</td>\n",
              "      <td>0.0</td>\n",
              "      <td>0.0</td>\n",
              "      <td>0.0</td>\n",
              "      <td>0.0</td>\n",
              "      <td>0.0</td>\n",
              "      <td>0.0</td>\n",
              "      <td>0.0</td>\n",
              "      <td>0.0</td>\n",
              "      <td>0.0</td>\n",
              "      <td>0.0</td>\n",
              "      <td>0.0</td>\n",
              "      <td>0.0</td>\n",
              "      <td>0.0</td>\n",
              "      <td>0.0</td>\n",
              "      <td>0.0</td>\n",
              "      <td>0.0</td>\n",
              "      <td>0.0</td>\n",
              "      <td>0.0</td>\n",
              "      <td>0.0</td>\n",
              "      <td>0.0</td>\n",
              "      <td>0.0</td>\n",
              "    </tr>\n",
              "    <tr>\n",
              "      <th>279</th>\n",
              "      <td>0.0</td>\n",
              "      <td>0.0</td>\n",
              "      <td>0.0</td>\n",
              "      <td>0.0</td>\n",
              "      <td>0.00</td>\n",
              "      <td>0.0</td>\n",
              "      <td>0.0</td>\n",
              "      <td>0.0</td>\n",
              "      <td>0.0</td>\n",
              "      <td>0.0</td>\n",
              "      <td>0.0</td>\n",
              "      <td>0.0</td>\n",
              "      <td>0.0</td>\n",
              "      <td>0.0</td>\n",
              "      <td>0.0</td>\n",
              "      <td>0.0</td>\n",
              "      <td>0.0</td>\n",
              "      <td>0.0</td>\n",
              "      <td>0.0</td>\n",
              "      <td>0.0</td>\n",
              "      <td>0.0</td>\n",
              "      <td>0.0</td>\n",
              "      <td>0.0</td>\n",
              "      <td>0.0</td>\n",
              "      <td>0.0</td>\n",
              "      <td>0.0</td>\n",
              "      <td>0.0</td>\n",
              "      <td>0.0</td>\n",
              "      <td>0.0</td>\n",
              "      <td>0.0</td>\n",
              "      <td>0.0</td>\n",
              "      <td>0.0</td>\n",
              "      <td>0.0</td>\n",
              "      <td>0.037482</td>\n",
              "      <td>0.000000</td>\n",
              "      <td>0.0</td>\n",
              "      <td>0.000000</td>\n",
              "      <td>0.0</td>\n",
              "      <td>0.0</td>\n",
              "      <td>0.0</td>\n",
              "      <td>...</td>\n",
              "      <td>0.0</td>\n",
              "      <td>0.0</td>\n",
              "      <td>0.0</td>\n",
              "      <td>0.0</td>\n",
              "      <td>0.0</td>\n",
              "      <td>0.0</td>\n",
              "      <td>0.0</td>\n",
              "      <td>0.0</td>\n",
              "      <td>0.0</td>\n",
              "      <td>0.0</td>\n",
              "      <td>0.0</td>\n",
              "      <td>0.0</td>\n",
              "      <td>0.0</td>\n",
              "      <td>0.0</td>\n",
              "      <td>0.000000</td>\n",
              "      <td>0.000000</td>\n",
              "      <td>0.0</td>\n",
              "      <td>0.0</td>\n",
              "      <td>0.0</td>\n",
              "      <td>0.0</td>\n",
              "      <td>0.0</td>\n",
              "      <td>0.0</td>\n",
              "      <td>0.0</td>\n",
              "      <td>0.0</td>\n",
              "      <td>0.0</td>\n",
              "      <td>0.0</td>\n",
              "      <td>0.0</td>\n",
              "      <td>0.0</td>\n",
              "      <td>0.0</td>\n",
              "      <td>0.0</td>\n",
              "      <td>0.0</td>\n",
              "      <td>0.0</td>\n",
              "      <td>0.0</td>\n",
              "      <td>0.0</td>\n",
              "      <td>0.0</td>\n",
              "      <td>0.0</td>\n",
              "      <td>0.0</td>\n",
              "      <td>0.0</td>\n",
              "      <td>0.0</td>\n",
              "      <td>0.0</td>\n",
              "    </tr>\n",
              "  </tbody>\n",
              "</table>\n",
              "<p>280 rows × 10452 columns</p>\n",
              "</div>"
            ],
            "text/plain": [
              "      00  000  007  00pm    01   02  ...  zucchini  zwick  zwigoff  zx3   zy  über\n",
              "0    0.0  0.0  0.0   0.0  0.00  0.0  ...       0.0    0.0      0.0  0.0  0.0   0.0\n",
              "1    0.0  0.0  0.0   0.0  0.04  0.0  ...       0.0    0.0      0.0  0.0  0.0   0.0\n",
              "2    0.0  0.0  0.0   0.0  0.00  0.0  ...       0.0    0.0      0.0  0.0  0.0   0.0\n",
              "3    0.0  0.0  0.0   0.0  0.00  0.0  ...       0.0    0.0      0.0  0.0  0.0   0.0\n",
              "4    0.0  0.0  0.0   0.0  0.00  0.0  ...       0.0    0.0      0.0  0.0  0.0   0.0\n",
              "..   ...  ...  ...   ...   ...  ...  ...       ...    ...      ...  ...  ...   ...\n",
              "275  0.0  0.0  0.0   0.0  0.00  0.0  ...       0.0    0.0      0.0  0.0  0.0   0.0\n",
              "276  0.0  0.0  0.0   0.0  0.00  0.0  ...       0.0    0.0      0.0  0.0  0.0   0.0\n",
              "277  0.0  0.0  0.0   0.0  0.00  0.0  ...       0.0    0.0      0.0  0.0  0.0   0.0\n",
              "278  0.0  0.0  0.0   0.0  0.00  0.0  ...       0.0    0.0      0.0  0.0  0.0   0.0\n",
              "279  0.0  0.0  0.0   0.0  0.00  0.0  ...       0.0    0.0      0.0  0.0  0.0   0.0\n",
              "\n",
              "[280 rows x 10452 columns]"
            ]
          },
          "metadata": {
            "tags": []
          },
          "execution_count": 58
        }
      ]
    },
    {
      "cell_type": "markdown",
      "metadata": {
        "id": "eCuoE3_VrF67"
      },
      "source": [
        "## Entrenar el modelo\n",
        "\n",
        "Vamos a entrenar nuestro modelo utilizando el clasificador de regresión logística definido anteriormente."
      ]
    },
    {
      "cell_type": "code",
      "metadata": {
        "id": "ZrMagS4mrF67",
        "colab": {
          "base_uri": "https://localhost:8080/"
        },
        "outputId": "389fe77d-0a1b-411b-c756-3dee7736ca9d"
      },
      "source": [
        "modelLR.fit(X_train_tfidf, y_train)"
      ],
      "execution_count": 59,
      "outputs": [
        {
          "output_type": "execute_result",
          "data": {
            "text/plain": [
              "LogisticRegression(C=1.0, class_weight=None, dual=False, fit_intercept=True,\n",
              "                   intercept_scaling=1, l1_ratio=None, max_iter=100,\n",
              "                   multi_class='auto', n_jobs=None, penalty='l2',\n",
              "                   random_state=None, solver='lbfgs', tol=0.0001, verbose=0,\n",
              "                   warm_start=False)"
            ]
          },
          "metadata": {
            "tags": []
          },
          "execution_count": 59
        }
      ]
    },
    {
      "cell_type": "markdown",
      "metadata": {
        "id": "HGKlheR6rF68"
      },
      "source": [
        "## Evaluación del modelo"
      ]
    },
    {
      "cell_type": "markdown",
      "metadata": {
        "id": "yKoKl9DwrF68"
      },
      "source": [
        "**7. Calcula el rendimiento del modelo en el conjunto de test. Para ello, transforma el conjunto de test a su matriz TF-IDF utilizando el vectorizador aprendido en el entrenamiento y, a continuación, aplica el modelo entrenado utilizando el método de predicción.**"
      ]
    },
    {
      "cell_type": "code",
      "metadata": {
        "id": "jcQarKbdrF68"
      },
      "source": [
        "X_test_tfidf = tfidf_transformer.transform(X_test)"
      ],
      "execution_count": 60,
      "outputs": []
    },
    {
      "cell_type": "code",
      "metadata": {
        "id": "oIG82EWbrF69"
      },
      "source": [
        "predictions = modelLR.predict(X_test_tfidf)"
      ],
      "execution_count": 61,
      "outputs": []
    },
    {
      "cell_type": "markdown",
      "metadata": {
        "id": "JfDsG2rYrF69"
      },
      "source": [
        "Creemos la matriz de confusión utilizando estas predicciones y el conjunto de y_test e imprimamos el informe de clasificación utilizando Scikit-learn."
      ]
    },
    {
      "cell_type": "code",
      "metadata": {
        "id": "0-Vxe1lArF69",
        "colab": {
          "base_uri": "https://localhost:8080/",
          "height": 296
        },
        "outputId": "33cbcadf-7e74-4f95-814d-f63d4bc676aa"
      },
      "source": [
        "ConfusionMatrixDisplay(confusion_matrix(y_test,predictions), display_labels=modelLR.classes_).plot(cmap='YlGnBu')"
      ],
      "execution_count": 62,
      "outputs": [
        {
          "output_type": "execute_result",
          "data": {
            "text/plain": [
              "<sklearn.metrics._plot.confusion_matrix.ConfusionMatrixDisplay at 0x7fab19272550>"
            ]
          },
          "metadata": {
            "tags": []
          },
          "execution_count": 62
        },
        {
          "output_type": "display_data",
          "data": {
            "image/png": "[encoded data removed]",
            "text/plain": [
              "<Figure size 432x288 with 2 Axes>"
            ]
          },
          "metadata": {
            "tags": [],
            "needs_background": "light"
          }
        }
      ]
    },
    {
      "cell_type": "code",
      "metadata": {
        "id": "xOmfvaParF69",
        "colab": {
          "base_uri": "https://localhost:8080/"
        },
        "outputId": "0ff75069-2272-41b8-bfb3-aaaa58b36c6f"
      },
      "source": [
        "print(classification_report(y_test, predictions))"
      ],
      "execution_count": 63,
      "outputs": [
        {
          "output_type": "stream",
          "text": [
            "              precision    recall  f1-score   support\n",
            "\n",
            "           0       0.67      0.85      0.75        55\n",
            "           1       0.84      0.65      0.73        65\n",
            "\n",
            "    accuracy                           0.74       120\n",
            "   macro avg       0.76      0.75      0.74       120\n",
            "weighted avg       0.76      0.74      0.74       120\n",
            "\n"
          ],
          "name": "stdout"
        }
      ]
    },
    {
      "cell_type": "markdown",
      "metadata": {
        "id": "WWoPtabUrF6-"
      },
      "source": [
        "Por último, veamos el peso de cada característica (un token) en términos de positividad y negatividad."
      ]
    },
    {
      "cell_type": "code",
      "metadata": {
        "id": "BTEl9-bXrF6-",
        "colab": {
          "base_uri": "https://localhost:8080/"
        },
        "outputId": "5ed18e56-a07f-4cb4-c4e8-714a4c60388f"
      },
      "source": [
        "# Obtener los nombres de las catacterísticas (tokens)\n",
        "feature_names = np.array(bow_transformer.get_feature_names())\n",
        "\n",
        "# Ordenar los coeficientes del modelo\n",
        "sorted_coef_index = modelLR.coef_[0].argsort()\n",
        "\n",
        "# Mostrar los coeficientes mayores y menores\n",
        "print(f'Coeficientes menores: {feature_names[sorted_coef_index[:10]]}')\n",
        "print(f'Coeficientes mayores: {feature_names[sorted_coef_index[:-11:-1]]}')"
      ],
      "execution_count": 64,
      "outputs": [
        {
          "output_type": "stream",
          "text": [
            "Coeficientes menores: ['dell' 'tauru' 'problem' 'qualiti' 'calphalon' 'hotel' 'poor' 'return'\n",
            " 'seuss' 'product']\n",
            "Coeficientes mayores: ['clad' 'system' 'stephani' 'film' 'great' 'featur' 'all' 'santa'\n",
            " 'stainless' 'set']\n"
          ],
          "name": "stdout"
        }
      ]
    },
    {
      "cell_type": "markdown",
      "metadata": {
        "id": "SIsMeiUzrF6-"
      },
      "source": [
        "Podemos ver cómo las palabras predichas por el sistema como pertenecientes a cada clase difieren un poco de las predichas en el modelo BoW. Otras siguen siendo las mismas, como \"problem\" en el caso de las opiniones negativas y \"great\" en el caso de las positivas."
      ]
    },
    {
      "cell_type": "markdown",
      "metadata": {
        "id": "OfZ-NdidrF6-"
      },
      "source": [
        "## Magnífico trabajo!"
      ]
    },
    {
      "cell_type": "markdown",
      "metadata": {
        "id": "FE8e9y5crF6_"
      },
      "source": [
        "Parece que el modelo TF-IDF funciona un poco mejor. \n",
        "\n",
        "Sin embargo, todavía se puede jugar mucho más. Algunas otras cosas que se pueden probar son perfeccionar el preprocesamiento eliminando los símbolos que no aportan información y que no se han eliminado correctamente (por ejemplo, como se ha visto en algunos documentos, las comillas no parecen haberse eliminado correctamente), utilizar el lematizador en lugar del stemming, probar otros algoritmos de clasificación, tunear los parámetros de los algoritmos, etc."
      ]
    },
    {
      "cell_type": "markdown",
      "metadata": {
        "id": "wt9i7ZZnrF6_"
      },
      "source": [
        "_Código adaptado del curso NLP with Python impartido por Jose Portilla (Udemy): https://www.udemy.com/course/nlp-natural-language-processing-with-python/ y el programa de especialización en NLP (Coursera): https://www.coursera.org/specializations/natural-language-processing_"
      ]
    }
  ]
}