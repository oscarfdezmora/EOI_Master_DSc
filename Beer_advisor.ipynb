{
  "nbformat": 4,
  "nbformat_minor": 0,
  "metadata": {
    "kernelspec": {
      "display_name": "Python 3",
      "language": "python",
      "name": "python3"
    },
    "language_info": {
      "codemirror_mode": {
        "name": "ipython",
        "version": 3
      },
      "file_extension": ".py",
      "mimetype": "text/x-python",
      "name": "python",
      "nbconvert_exporter": "python",
      "pygments_lexer": "ipython3",
      "version": "3.7.4"
    },
    "colab": {
      "name": "8 - Ejercicio_filtro_colaborativo.ipynb",
      "provenance": [],
      "collapsed_sections": [],
      "include_colab_link": true
    }
  },
  "cells": [
    {
      "cell_type": "markdown",
      "metadata": {
        "id": "view-in-github",
        "colab_type": "text"
      },
      "source": [
        "<a href=\"https://colab.research.google.com/github/oscarfdezmora/EOI_Master_DSc/blob/main/Beer_advisor.ipynb\" target=\"_parent\"><img src=\"https://colab.research.google.com/assets/colab-badge.svg\" alt=\"Open In Colab\"/></a>"
      ]
    },
    {
      "cell_type": "markdown",
      "metadata": {
        "id": "UOQwg2TtMdPe"
      },
      "source": [
        "<center><img src='https://sedigitalylanzate.es/wp-content/uploads/2019/03/logoeoiok-e1552040050697.png' width=\"500\"></center>"
      ]
    },
    {
      "cell_type": "markdown",
      "metadata": {
        "id": "hKDe9A4pMdPf"
      },
      "source": [
        "# Ejercicio de algoritmo de filtro colaborativo\n",
        "\n",
        "El objetivo de este ejercicio es generar un algoritmo de filtro colaborativo con los datos del dataset beer_review. La información se corresponde con la reviews de la web https://www.beeradvocate.com/"
      ]
    },
    {
      "cell_type": "markdown",
      "metadata": {
        "id": "tlOTnYoVMdPf"
      },
      "source": [
        "<center><img src='https://www.pngitem.com/pimgs/m/39-394080_beer-advocate-hd-png-download.png' width=600 ></center>"
      ]
    },
    {
      "cell_type": "markdown",
      "metadata": {
        "id": "kRaOSifgMdPg"
      },
      "source": [
        "## Información\n",
        "\n",
        "Este dataset consiste en revisiones de cerveza de Beeradvocate. Los datos abarcan un período de más de 10 años, que incluye todas ~ 1.5 millones de revisiones hasta noviembre de 2011. Cada revisión incluye calificaciones en términos de cinco \"aspectos\": apariencia, aroma, paladar, sabor e impresión general. Las revisiones incluyen información del producto y del usuario, seguida de cada una de estas cinco clasificaciones, y una revisión en formato texto. \n",
        "\n",
        "Para nuestro ejercicio vamos a usar una versión reducida de este dataset, que contiene las reviews de aquellos usuarios que han valorado al menos 50 cervezas."
      ]
    },
    {
      "cell_type": "markdown",
      "metadata": {
        "id": "QxK93d6fMdPg"
      },
      "source": [
        "## Pasos a seguir\n",
        "\n",
        "1. Descarga la información de beeradvocate en una carpeta que se llame `datos_ejercicios/beeradvocate` y que se encuentre al mismo nivel que el notebook en el que vas a ejecutar el código.\n",
        "\n",
        "2. Lee el fichero `beer_reviews_50.csv` y crea dos datasets:\n",
        "    - uno con las reviews de los usuarios.\n",
        "    - otro con la información de la cerveza (brewery, beer_name, beer_style)\n",
        "    \n",
        "3. Divide la información en los conjuntos de train y test.\n",
        "\n",
        "4. De los distintos tipos de algoritmos que conocemos elige uno para generar la recomendación. Si creas más de uno explica el motivo de tu elección.\n",
        "\n",
        "\n",
        "5. Crea una función que dado un usuario nos devuelva el top 10 de recomendaciones. \n",
        "\n",
        "6. Genera un html con los resultados de notebook file -> Export Notebook As... -> Export Notebook as HTML. Este html será el documento que tendrás que entregar para la evaluación del ejercicio."
      ]
    },
    {
      "cell_type": "markdown",
      "metadata": {
        "id": "PKiKSTGi4PdC"
      },
      "source": [
        "\r\n",
        "\r\n",
        "---\r\n",
        "\r\n",
        "---\r\n",
        "\r\n",
        "\r\n",
        "\r\n"
      ]
    },
    {
      "cell_type": "code",
      "metadata": {
        "colab": {
          "base_uri": "https://localhost:8080/"
        },
        "id": "iK9MP10Z47g0",
        "outputId": "957008d1-1834-433a-c04f-f9c76cf8b191"
      },
      "source": [
        "## Habilitamos la lectura desde Drive\r\n",
        "from google.colab import drive\r\n",
        "drive.mount('/content/drive')"
      ],
      "execution_count": null,
      "outputs": [
        {
          "output_type": "stream",
          "text": [
            "Mounted at /content/drive\n"
          ],
          "name": "stdout"
        }
      ]
    },
    {
      "cell_type": "code",
      "metadata": {
        "id": "Bz3UxcgV4-vC"
      },
      "source": [
        "## Importamos las librerías\r\n",
        "import pandas as pd"
      ],
      "execution_count": null,
      "outputs": []
    },
    {
      "cell_type": "code",
      "metadata": {
        "colab": {
          "base_uri": "https://localhost:8080/",
          "height": 453
        },
        "id": "L6u_UPbR5EnP",
        "outputId": "dbb0dd02-b461-458f-def4-6d163595b57e"
      },
      "source": [
        "## Definimos nuestra ruta de trabajo\r\n",
        "dir = '/content/drive/MyDrive/Máster EOI/Semana 11 - Recomendadores/datos_ejercicios/beeradvocate/'\r\n",
        "\r\n",
        "## Leemos los datos del fichero origen\r\n",
        "datos = pd.read_csv(dir + 'beer_reviews_50.csv')\r\n",
        "datos"
      ],
      "execution_count": null,
      "outputs": [
        {
          "output_type": "execute_result",
          "data": {
            "text/html": [
              "<div>\n",
              "<style scoped>\n",
              "    .dataframe tbody tr th:only-of-type {\n",
              "        vertical-align: middle;\n",
              "    }\n",
              "\n",
              "    .dataframe tbody tr th {\n",
              "        vertical-align: top;\n",
              "    }\n",
              "\n",
              "    .dataframe thead th {\n",
              "        text-align: right;\n",
              "    }\n",
              "</style>\n",
              "<table border=\"1\" class=\"dataframe\">\n",
              "  <thead>\n",
              "    <tr style=\"text-align: right;\">\n",
              "      <th></th>\n",
              "      <th>brewery_id</th>\n",
              "      <th>brewery_name</th>\n",
              "      <th>review_time</th>\n",
              "      <th>review_overall</th>\n",
              "      <th>review_aroma</th>\n",
              "      <th>review_appearance</th>\n",
              "      <th>review_profilename</th>\n",
              "      <th>beer_style</th>\n",
              "      <th>review_palate</th>\n",
              "      <th>review_taste</th>\n",
              "      <th>beer_name</th>\n",
              "      <th>beer_abv</th>\n",
              "      <th>beer_beerid</th>\n",
              "    </tr>\n",
              "  </thead>\n",
              "  <tbody>\n",
              "    <tr>\n",
              "      <th>0</th>\n",
              "      <td>10325</td>\n",
              "      <td>Vecchio Birraio</td>\n",
              "      <td>1234817823</td>\n",
              "      <td>1.5</td>\n",
              "      <td>2.0</td>\n",
              "      <td>2.5</td>\n",
              "      <td>stcules</td>\n",
              "      <td>Hefeweizen</td>\n",
              "      <td>1.5</td>\n",
              "      <td>1.5</td>\n",
              "      <td>Sausa Weizen</td>\n",
              "      <td>5.0</td>\n",
              "      <td>47986.0</td>\n",
              "    </tr>\n",
              "    <tr>\n",
              "      <th>1</th>\n",
              "      <td>10325</td>\n",
              "      <td>Vecchio Birraio</td>\n",
              "      <td>1235915097</td>\n",
              "      <td>3.0</td>\n",
              "      <td>2.5</td>\n",
              "      <td>3.0</td>\n",
              "      <td>stcules</td>\n",
              "      <td>English Strong Ale</td>\n",
              "      <td>3.0</td>\n",
              "      <td>3.0</td>\n",
              "      <td>Red Moon</td>\n",
              "      <td>6.2</td>\n",
              "      <td>48213.0</td>\n",
              "    </tr>\n",
              "    <tr>\n",
              "      <th>2</th>\n",
              "      <td>10325</td>\n",
              "      <td>Vecchio Birraio</td>\n",
              "      <td>1235916604</td>\n",
              "      <td>3.0</td>\n",
              "      <td>2.5</td>\n",
              "      <td>3.0</td>\n",
              "      <td>stcules</td>\n",
              "      <td>Foreign / Export Stout</td>\n",
              "      <td>3.0</td>\n",
              "      <td>3.0</td>\n",
              "      <td>Black Horse Black Beer</td>\n",
              "      <td>6.5</td>\n",
              "      <td>48215.0</td>\n",
              "    </tr>\n",
              "    <tr>\n",
              "      <th>3</th>\n",
              "      <td>10325</td>\n",
              "      <td>Vecchio Birraio</td>\n",
              "      <td>1234725145</td>\n",
              "      <td>3.0</td>\n",
              "      <td>3.0</td>\n",
              "      <td>3.5</td>\n",
              "      <td>stcules</td>\n",
              "      <td>German Pilsener</td>\n",
              "      <td>2.5</td>\n",
              "      <td>3.0</td>\n",
              "      <td>Sausa Pils</td>\n",
              "      <td>5.0</td>\n",
              "      <td>47969.0</td>\n",
              "    </tr>\n",
              "    <tr>\n",
              "      <th>4</th>\n",
              "      <td>1075</td>\n",
              "      <td>Caldera Brewing Company</td>\n",
              "      <td>1293735206</td>\n",
              "      <td>4.0</td>\n",
              "      <td>4.5</td>\n",
              "      <td>4.0</td>\n",
              "      <td>johnmichaelsen</td>\n",
              "      <td>American Double / Imperial IPA</td>\n",
              "      <td>4.0</td>\n",
              "      <td>4.5</td>\n",
              "      <td>Cauldron DIPA</td>\n",
              "      <td>7.7</td>\n",
              "      <td>64883.0</td>\n",
              "    </tr>\n",
              "    <tr>\n",
              "      <th>...</th>\n",
              "      <td>...</td>\n",
              "      <td>...</td>\n",
              "      <td>...</td>\n",
              "      <td>...</td>\n",
              "      <td>...</td>\n",
              "      <td>...</td>\n",
              "      <td>...</td>\n",
              "      <td>...</td>\n",
              "      <td>...</td>\n",
              "      <td>...</td>\n",
              "      <td>...</td>\n",
              "      <td>...</td>\n",
              "      <td>...</td>\n",
              "    </tr>\n",
              "    <tr>\n",
              "      <th>256591</th>\n",
              "      <td>870</td>\n",
              "      <td>Moylan's Brewery</td>\n",
              "      <td>1231487618</td>\n",
              "      <td>4.5</td>\n",
              "      <td>4.0</td>\n",
              "      <td>3.5</td>\n",
              "      <td>Jmoore50</td>\n",
              "      <td>American IPA</td>\n",
              "      <td>4.0</td>\n",
              "      <td>4.5</td>\n",
              "      <td>India Pale Ale</td>\n",
              "      <td>6.5</td>\n",
              "      <td>3064.0</td>\n",
              "    </tr>\n",
              "    <tr>\n",
              "      <th>256592</th>\n",
              "      <td>870</td>\n",
              "      <td>Moylan's Brewery</td>\n",
              "      <td>1231184213</td>\n",
              "      <td>4.0</td>\n",
              "      <td>3.5</td>\n",
              "      <td>4.0</td>\n",
              "      <td>kmeves</td>\n",
              "      <td>American IPA</td>\n",
              "      <td>3.0</td>\n",
              "      <td>3.5</td>\n",
              "      <td>India Pale Ale</td>\n",
              "      <td>6.5</td>\n",
              "      <td>3064.0</td>\n",
              "    </tr>\n",
              "    <tr>\n",
              "      <th>256593</th>\n",
              "      <td>870</td>\n",
              "      <td>Moylan's Brewery</td>\n",
              "      <td>1230947306</td>\n",
              "      <td>4.0</td>\n",
              "      <td>4.5</td>\n",
              "      <td>4.5</td>\n",
              "      <td>tavernjef</td>\n",
              "      <td>American IPA</td>\n",
              "      <td>4.5</td>\n",
              "      <td>4.0</td>\n",
              "      <td>India Pale Ale</td>\n",
              "      <td>6.5</td>\n",
              "      <td>3064.0</td>\n",
              "    </tr>\n",
              "    <tr>\n",
              "      <th>256594</th>\n",
              "      <td>870</td>\n",
              "      <td>Moylan's Brewery</td>\n",
              "      <td>1230365245</td>\n",
              "      <td>3.5</td>\n",
              "      <td>4.0</td>\n",
              "      <td>3.5</td>\n",
              "      <td>biboergosum</td>\n",
              "      <td>American IPA</td>\n",
              "      <td>4.0</td>\n",
              "      <td>4.0</td>\n",
              "      <td>India Pale Ale</td>\n",
              "      <td>6.5</td>\n",
              "      <td>3064.0</td>\n",
              "    </tr>\n",
              "    <tr>\n",
              "      <th>256595</th>\n",
              "      <td>870</td>\n",
              "      <td>Moylan's Brewery</td>\n",
              "      <td>1230009386</td>\n",
              "      <td>4.0</td>\n",
              "      <td>4.0</td>\n",
              "      <td>4.0</td>\n",
              "      <td>BDTyre</td>\n",
              "      <td>American IPA</td>\n",
              "      <td>4.0</td>\n",
              "      <td>4.0</td>\n",
              "      <td>India Pale Ale</td>\n",
              "      <td>6.5</td>\n",
              "      <td>3064.0</td>\n",
              "    </tr>\n",
              "  </tbody>\n",
              "</table>\n",
              "<p>256596 rows × 13 columns</p>\n",
              "</div>"
            ],
            "text/plain": [
              "        brewery_id             brewery_name  ...  beer_abv  beer_beerid\n",
              "0            10325          Vecchio Birraio  ...       5.0      47986.0\n",
              "1            10325          Vecchio Birraio  ...       6.2      48213.0\n",
              "2            10325          Vecchio Birraio  ...       6.5      48215.0\n",
              "3            10325          Vecchio Birraio  ...       5.0      47969.0\n",
              "4             1075  Caldera Brewing Company  ...       7.7      64883.0\n",
              "...            ...                      ...  ...       ...          ...\n",
              "256591         870         Moylan's Brewery  ...       6.5       3064.0\n",
              "256592         870         Moylan's Brewery  ...       6.5       3064.0\n",
              "256593         870         Moylan's Brewery  ...       6.5       3064.0\n",
              "256594         870         Moylan's Brewery  ...       6.5       3064.0\n",
              "256595         870         Moylan's Brewery  ...       6.5       3064.0\n",
              "\n",
              "[256596 rows x 13 columns]"
            ]
          },
          "metadata": {
            "tags": []
          },
          "execution_count": 4
        }
      ]
    },
    {
      "cell_type": "code",
      "metadata": {
        "colab": {
          "base_uri": "https://localhost:8080/",
          "height": 204
        },
        "id": "6tXw-9NY-iSO",
        "outputId": "50a2999f-c5de-480d-f17a-afebece9c916"
      },
      "source": [
        "## Creamos el data ser de cervezas\r\n",
        "beers = datos[['beer_beerid','brewery_name','beer_name','beer_style']]\r\n",
        "beers.head()"
      ],
      "execution_count": null,
      "outputs": [
        {
          "output_type": "execute_result",
          "data": {
            "text/html": [
              "<div>\n",
              "<style scoped>\n",
              "    .dataframe tbody tr th:only-of-type {\n",
              "        vertical-align: middle;\n",
              "    }\n",
              "\n",
              "    .dataframe tbody tr th {\n",
              "        vertical-align: top;\n",
              "    }\n",
              "\n",
              "    .dataframe thead th {\n",
              "        text-align: right;\n",
              "    }\n",
              "</style>\n",
              "<table border=\"1\" class=\"dataframe\">\n",
              "  <thead>\n",
              "    <tr style=\"text-align: right;\">\n",
              "      <th></th>\n",
              "      <th>beer_beerid</th>\n",
              "      <th>brewery_name</th>\n",
              "      <th>beer_name</th>\n",
              "      <th>beer_style</th>\n",
              "    </tr>\n",
              "  </thead>\n",
              "  <tbody>\n",
              "    <tr>\n",
              "      <th>0</th>\n",
              "      <td>47986.0</td>\n",
              "      <td>Vecchio Birraio</td>\n",
              "      <td>Sausa Weizen</td>\n",
              "      <td>Hefeweizen</td>\n",
              "    </tr>\n",
              "    <tr>\n",
              "      <th>1</th>\n",
              "      <td>48213.0</td>\n",
              "      <td>Vecchio Birraio</td>\n",
              "      <td>Red Moon</td>\n",
              "      <td>English Strong Ale</td>\n",
              "    </tr>\n",
              "    <tr>\n",
              "      <th>2</th>\n",
              "      <td>48215.0</td>\n",
              "      <td>Vecchio Birraio</td>\n",
              "      <td>Black Horse Black Beer</td>\n",
              "      <td>Foreign / Export Stout</td>\n",
              "    </tr>\n",
              "    <tr>\n",
              "      <th>3</th>\n",
              "      <td>47969.0</td>\n",
              "      <td>Vecchio Birraio</td>\n",
              "      <td>Sausa Pils</td>\n",
              "      <td>German Pilsener</td>\n",
              "    </tr>\n",
              "    <tr>\n",
              "      <th>4</th>\n",
              "      <td>64883.0</td>\n",
              "      <td>Caldera Brewing Company</td>\n",
              "      <td>Cauldron DIPA</td>\n",
              "      <td>American Double / Imperial IPA</td>\n",
              "    </tr>\n",
              "  </tbody>\n",
              "</table>\n",
              "</div>"
            ],
            "text/plain": [
              "   beer_beerid  ...                      beer_style\n",
              "0      47986.0  ...                      Hefeweizen\n",
              "1      48213.0  ...              English Strong Ale\n",
              "2      48215.0  ...          Foreign / Export Stout\n",
              "3      47969.0  ...                 German Pilsener\n",
              "4      64883.0  ...  American Double / Imperial IPA\n",
              "\n",
              "[5 rows x 4 columns]"
            ]
          },
          "metadata": {
            "tags": []
          },
          "execution_count": 6
        }
      ]
    },
    {
      "cell_type": "code",
      "metadata": {
        "colab": {
          "base_uri": "https://localhost:8080/",
          "height": 204
        },
        "id": "WRH_bawv-DMt",
        "outputId": "a859b7ed-1b71-44db-e263-62d4900058d1"
      },
      "source": [
        "## Creamos el data set de reviews\r\n",
        "reviews = datos[['beer_beerid','review_overall','review_aroma','review_appearance','review_palate','review_taste', 'review_profilename']]\r\n",
        "reviews.head()"
      ],
      "execution_count": null,
      "outputs": [
        {
          "output_type": "execute_result",
          "data": {
            "text/html": [
              "<div>\n",
              "<style scoped>\n",
              "    .dataframe tbody tr th:only-of-type {\n",
              "        vertical-align: middle;\n",
              "    }\n",
              "\n",
              "    .dataframe tbody tr th {\n",
              "        vertical-align: top;\n",
              "    }\n",
              "\n",
              "    .dataframe thead th {\n",
              "        text-align: right;\n",
              "    }\n",
              "</style>\n",
              "<table border=\"1\" class=\"dataframe\">\n",
              "  <thead>\n",
              "    <tr style=\"text-align: right;\">\n",
              "      <th></th>\n",
              "      <th>beer_beerid</th>\n",
              "      <th>review_overall</th>\n",
              "      <th>review_aroma</th>\n",
              "      <th>review_appearance</th>\n",
              "      <th>review_palate</th>\n",
              "      <th>review_taste</th>\n",
              "      <th>review_profilename</th>\n",
              "    </tr>\n",
              "  </thead>\n",
              "  <tbody>\n",
              "    <tr>\n",
              "      <th>0</th>\n",
              "      <td>47986.0</td>\n",
              "      <td>1.5</td>\n",
              "      <td>2.0</td>\n",
              "      <td>2.5</td>\n",
              "      <td>1.5</td>\n",
              "      <td>1.5</td>\n",
              "      <td>stcules</td>\n",
              "    </tr>\n",
              "    <tr>\n",
              "      <th>1</th>\n",
              "      <td>48213.0</td>\n",
              "      <td>3.0</td>\n",
              "      <td>2.5</td>\n",
              "      <td>3.0</td>\n",
              "      <td>3.0</td>\n",
              "      <td>3.0</td>\n",
              "      <td>stcules</td>\n",
              "    </tr>\n",
              "    <tr>\n",
              "      <th>2</th>\n",
              "      <td>48215.0</td>\n",
              "      <td>3.0</td>\n",
              "      <td>2.5</td>\n",
              "      <td>3.0</td>\n",
              "      <td>3.0</td>\n",
              "      <td>3.0</td>\n",
              "      <td>stcules</td>\n",
              "    </tr>\n",
              "    <tr>\n",
              "      <th>3</th>\n",
              "      <td>47969.0</td>\n",
              "      <td>3.0</td>\n",
              "      <td>3.0</td>\n",
              "      <td>3.5</td>\n",
              "      <td>2.5</td>\n",
              "      <td>3.0</td>\n",
              "      <td>stcules</td>\n",
              "    </tr>\n",
              "    <tr>\n",
              "      <th>4</th>\n",
              "      <td>64883.0</td>\n",
              "      <td>4.0</td>\n",
              "      <td>4.5</td>\n",
              "      <td>4.0</td>\n",
              "      <td>4.0</td>\n",
              "      <td>4.5</td>\n",
              "      <td>johnmichaelsen</td>\n",
              "    </tr>\n",
              "  </tbody>\n",
              "</table>\n",
              "</div>"
            ],
            "text/plain": [
              "   beer_beerid  review_overall  ...  review_taste  review_profilename\n",
              "0      47986.0             1.5  ...           1.5             stcules\n",
              "1      48213.0             3.0  ...           3.0             stcules\n",
              "2      48215.0             3.0  ...           3.0             stcules\n",
              "3      47969.0             3.0  ...           3.0             stcules\n",
              "4      64883.0             4.0  ...           4.5      johnmichaelsen\n",
              "\n",
              "[5 rows x 7 columns]"
            ]
          },
          "metadata": {
            "tags": []
          },
          "execution_count": 7
        }
      ]
    },
    {
      "cell_type": "markdown",
      "metadata": {
        "id": "erC6EOnj6miv"
      },
      "source": [
        "Tenemos cinco tipos de notas\r\n",
        "\r\n",
        "\r\n",
        "* **review_aroma**, **review_appearance**, **review_palate**, **review_taste**, que son valoraciones para aspectos concretos de la cerveza\r\n",
        "* **review_overall**, que contiene la evaluación final (que no siempre se puede corresponder con la media de las anteriores evaluaciones)\r\n",
        "\r\n",
        "Si utilizamos solo review_overall, perderíamos parte de la información de las otras variables. \r\n",
        "\r\n",
        "Por ello, en un acto espléndido (y quizá de nulo impacto sobre el modelo ^^'), crearemos una nueva variable que conjugue las cinco, que llamaremos **review_trns**, que se creará:\r\n",
        "\r\n",
        "*   con un **60%** del peso de **review_overall**\r\n",
        "*   con un **40%** del **promedio de las otras variables**\r\n"
      ]
    },
    {
      "cell_type": "code",
      "metadata": {
        "colab": {
          "base_uri": "https://localhost:8080/",
          "height": 306
        },
        "id": "lPhG6GWgKwMh",
        "outputId": "147a4edb-75cb-488f-b899-9cdcf95d879a"
      },
      "source": [
        "## Añadimos la columna review_trns con la formula anteriormente descrita\r\n",
        "reviews['review_trns'] = reviews.apply(lambda row: 0.6*row['review_overall'] + 0.4*((row['review_aroma'] + row['review_appearance'] + row['review_palate'] + row['review_taste'])/4), axis=1)\r\n",
        "\r\n",
        "## Podemos eliminar el resto de columnas de review\r\n",
        "reviews = reviews.drop(['review_overall','review_aroma','review_appearance','review_palate','review_taste'], axis=1)\r\n",
        "reviews.head()\r\n"
      ],
      "execution_count": null,
      "outputs": [
        {
          "output_type": "stream",
          "text": [
            "/usr/local/lib/python3.7/dist-packages/ipykernel_launcher.py:2: SettingWithCopyWarning: \n",
            "A value is trying to be set on a copy of a slice from a DataFrame.\n",
            "Try using .loc[row_indexer,col_indexer] = value instead\n",
            "\n",
            "See the caveats in the documentation: https://pandas.pydata.org/pandas-docs/stable/user_guide/indexing.html#returning-a-view-versus-a-copy\n",
            "  \n"
          ],
          "name": "stderr"
        },
        {
          "output_type": "execute_result",
          "data": {
            "text/html": [
              "<div>\n",
              "<style scoped>\n",
              "    .dataframe tbody tr th:only-of-type {\n",
              "        vertical-align: middle;\n",
              "    }\n",
              "\n",
              "    .dataframe tbody tr th {\n",
              "        vertical-align: top;\n",
              "    }\n",
              "\n",
              "    .dataframe thead th {\n",
              "        text-align: right;\n",
              "    }\n",
              "</style>\n",
              "<table border=\"1\" class=\"dataframe\">\n",
              "  <thead>\n",
              "    <tr style=\"text-align: right;\">\n",
              "      <th></th>\n",
              "      <th>beer_beerid</th>\n",
              "      <th>review_profilename</th>\n",
              "      <th>review_trns</th>\n",
              "    </tr>\n",
              "  </thead>\n",
              "  <tbody>\n",
              "    <tr>\n",
              "      <th>0</th>\n",
              "      <td>47986.0</td>\n",
              "      <td>stcules</td>\n",
              "      <td>1.65</td>\n",
              "    </tr>\n",
              "    <tr>\n",
              "      <th>1</th>\n",
              "      <td>48213.0</td>\n",
              "      <td>stcules</td>\n",
              "      <td>2.95</td>\n",
              "    </tr>\n",
              "    <tr>\n",
              "      <th>2</th>\n",
              "      <td>48215.0</td>\n",
              "      <td>stcules</td>\n",
              "      <td>2.95</td>\n",
              "    </tr>\n",
              "    <tr>\n",
              "      <th>3</th>\n",
              "      <td>47969.0</td>\n",
              "      <td>stcules</td>\n",
              "      <td>3.00</td>\n",
              "    </tr>\n",
              "    <tr>\n",
              "      <th>4</th>\n",
              "      <td>64883.0</td>\n",
              "      <td>johnmichaelsen</td>\n",
              "      <td>4.10</td>\n",
              "    </tr>\n",
              "  </tbody>\n",
              "</table>\n",
              "</div>"
            ],
            "text/plain": [
              "   beer_beerid review_profilename  review_trns\n",
              "0      47986.0            stcules         1.65\n",
              "1      48213.0            stcules         2.95\n",
              "2      48215.0            stcules         2.95\n",
              "3      47969.0            stcules         3.00\n",
              "4      64883.0     johnmichaelsen         4.10"
            ]
          },
          "metadata": {
            "tags": []
          },
          "execution_count": 8
        }
      ]
    },
    {
      "cell_type": "markdown",
      "metadata": {
        "id": "KK2x3KtBDEb0"
      },
      "source": [
        "Para crear nuestro modelo, vamos a utilizar la librería Surprise. \r\n",
        "\r\n",
        "Para ello la instalamos e importamos"
      ]
    },
    {
      "cell_type": "code",
      "metadata": {
        "colab": {
          "base_uri": "https://localhost:8080/"
        },
        "id": "MGvuCSTMDEGX",
        "outputId": "1213e80e-a38e-4ba0-d9af-c2ef1c75a8d1"
      },
      "source": [
        "## Instalamos Surprise\r\n",
        "!pip install surprise\r\n",
        "\r\n",
        "## Importamos la librería\r\n",
        "from surprise import *\r\n",
        "from surprise import SVDpp, accuracy, Reader, Dataset\r\n",
        "from surprise.model_selection import cross_validate\r\n",
        "from surprise.model_selection import train_test_split"
      ],
      "execution_count": null,
      "outputs": [
        {
          "output_type": "stream",
          "text": [
            "Collecting surprise\n",
            "  Downloading https://files.pythonhosted.org/packages/61/de/e5cba8682201fcf9c3719a6fdda95693468ed061945493dea2dd37c5618b/surprise-0.1-py2.py3-none-any.whl\n",
            "Collecting scikit-surprise\n",
            "\u001b[?25l  Downloading https://files.pythonhosted.org/packages/97/37/5d334adaf5ddd65da99fc65f6507e0e4599d092ba048f4302fe8775619e8/scikit-surprise-1.1.1.tar.gz (11.8MB)\n",
            "\u001b[K     |████████████████████████████████| 11.8MB 364kB/s \n",
            "\u001b[?25hRequirement already satisfied: joblib>=0.11 in /usr/local/lib/python3.7/dist-packages (from scikit-surprise->surprise) (1.0.1)\n",
            "Requirement already satisfied: numpy>=1.11.2 in /usr/local/lib/python3.7/dist-packages (from scikit-surprise->surprise) (1.19.5)\n",
            "Requirement already satisfied: scipy>=1.0.0 in /usr/local/lib/python3.7/dist-packages (from scikit-surprise->surprise) (1.4.1)\n",
            "Requirement already satisfied: six>=1.10.0 in /usr/local/lib/python3.7/dist-packages (from scikit-surprise->surprise) (1.15.0)\n",
            "Building wheels for collected packages: scikit-surprise\n",
            "  Building wheel for scikit-surprise (setup.py) ... \u001b[?25l\u001b[?25hdone\n",
            "  Created wheel for scikit-surprise: filename=scikit_surprise-1.1.1-cp37-cp37m-linux_x86_64.whl size=1617585 sha256=61966daf2493a310717356b23893187623ac06f892cae1318544dfc07af186d8\n",
            "  Stored in directory: /root/.cache/pip/wheels/78/9c/3d/41b419c9d2aff5b6e2b4c0fc8d25c538202834058f9ed110d0\n",
            "Successfully built scikit-surprise\n",
            "Installing collected packages: scikit-surprise, surprise\n",
            "Successfully installed scikit-surprise-1.1.1 surprise-0.1\n"
          ],
          "name": "stdout"
        }
      ]
    },
    {
      "cell_type": "markdown",
      "metadata": {
        "id": "vi7X5-MJDxJZ"
      },
      "source": [
        "Vamos a evaluar el RMSE con diferentes tipos de algoritmos del paquete Surprise, para ver cuál es el que mejor valor nos da"
      ]
    },
    {
      "cell_type": "code",
      "metadata": {
        "id": "0GdtSfQMDwoe"
      },
      "source": [
        "## Definimos el reader, que nos ayuda a pasar al formato que necesita surprise para hacer las recomendaciones\r\n",
        "reader = Reader()"
      ],
      "execution_count": null,
      "outputs": []
    },
    {
      "cell_type": "code",
      "metadata": {
        "id": "4toTMwXbE1uI"
      },
      "source": [
        "## Creamos el data set con los datos\r\n",
        "data = Dataset.load_from_df(reviews, reader)"
      ],
      "execution_count": null,
      "outputs": []
    },
    {
      "cell_type": "code",
      "metadata": {
        "colab": {
          "base_uri": "https://localhost:8080/",
          "height": 931
        },
        "id": "Xi-NxVP8FG4P",
        "outputId": "9cbf927b-81f9-4ecc-8616-1d0f9ae48a1c"
      },
      "source": [
        "## Realizamos el test con los diferentes algoritmos\r\n",
        "benchmark = []\r\n",
        "# Iteramos todos los algoritmos\r\n",
        "for algorithm in [SVD(), SVDpp(), SlopeOne(), NMF(), NormalPredictor(), KNNBaseline(), KNNBasic(), KNNWithMeans(), KNNWithZScore(), BaselineOnly(), CoClustering()]:\r\n",
        "    # Realizamos la validación cruzada\r\n",
        "    results = cross_validate(algorithm, data, measures=['RMSE'], cv=3, verbose=False)\r\n",
        "    \r\n",
        "    # Guaramos los resultadosb\r\n",
        "    tmp = pd.DataFrame.from_dict(results).mean(axis=0)\r\n",
        "    tmp = tmp.append(pd.Series([str(algorithm).split(' ')[0].split('.')[-1]], index=['Algorithm']))\r\n",
        "    benchmark.append(tmp)\r\n",
        "    \r\n",
        "pd.DataFrame(benchmark).set_index('Algorithm').sort_values('test_rmse')   "
      ],
      "execution_count": null,
      "outputs": [
        {
          "output_type": "stream",
          "text": [
            "Estimating biases using als...\n",
            "Computing the msd similarity matrix...\n",
            "Done computing similarity matrix.\n",
            "Estimating biases using als...\n",
            "Computing the msd similarity matrix...\n",
            "Done computing similarity matrix.\n",
            "Estimating biases using als...\n",
            "Computing the msd similarity matrix...\n",
            "Done computing similarity matrix.\n",
            "Computing the msd similarity matrix...\n",
            "Done computing similarity matrix.\n",
            "Computing the msd similarity matrix...\n",
            "Done computing similarity matrix.\n",
            "Computing the msd similarity matrix...\n",
            "Done computing similarity matrix.\n",
            "Computing the msd similarity matrix...\n",
            "Done computing similarity matrix.\n",
            "Computing the msd similarity matrix...\n",
            "Done computing similarity matrix.\n",
            "Computing the msd similarity matrix...\n",
            "Done computing similarity matrix.\n",
            "Computing the msd similarity matrix...\n",
            "Done computing similarity matrix.\n",
            "Computing the msd similarity matrix...\n",
            "Done computing similarity matrix.\n",
            "Computing the msd similarity matrix...\n",
            "Done computing similarity matrix.\n",
            "Estimating biases using als...\n",
            "Estimating biases using als...\n",
            "Estimating biases using als...\n"
          ],
          "name": "stdout"
        },
        {
          "output_type": "execute_result",
          "data": {
            "text/html": [
              "<div>\n",
              "<style scoped>\n",
              "    .dataframe tbody tr th:only-of-type {\n",
              "        vertical-align: middle;\n",
              "    }\n",
              "\n",
              "    .dataframe tbody tr th {\n",
              "        vertical-align: top;\n",
              "    }\n",
              "\n",
              "    .dataframe thead th {\n",
              "        text-align: right;\n",
              "    }\n",
              "</style>\n",
              "<table border=\"1\" class=\"dataframe\">\n",
              "  <thead>\n",
              "    <tr style=\"text-align: right;\">\n",
              "      <th></th>\n",
              "      <th>test_rmse</th>\n",
              "      <th>fit_time</th>\n",
              "      <th>test_time</th>\n",
              "    </tr>\n",
              "    <tr>\n",
              "      <th>Algorithm</th>\n",
              "      <th></th>\n",
              "      <th></th>\n",
              "      <th></th>\n",
              "    </tr>\n",
              "  </thead>\n",
              "  <tbody>\n",
              "    <tr>\n",
              "      <th>SVDpp</th>\n",
              "      <td>0.471206</td>\n",
              "      <td>491.641790</td>\n",
              "      <td>24.929826</td>\n",
              "    </tr>\n",
              "    <tr>\n",
              "      <th>KNNWithMeans</th>\n",
              "      <td>0.472516</td>\n",
              "      <td>6.497323</td>\n",
              "      <td>18.696893</td>\n",
              "    </tr>\n",
              "    <tr>\n",
              "      <th>KNNBaseline</th>\n",
              "      <td>0.474880</td>\n",
              "      <td>7.922131</td>\n",
              "      <td>21.283628</td>\n",
              "    </tr>\n",
              "    <tr>\n",
              "      <th>KNNWithZScore</th>\n",
              "      <td>0.474962</td>\n",
              "      <td>6.822183</td>\n",
              "      <td>19.890056</td>\n",
              "    </tr>\n",
              "    <tr>\n",
              "      <th>SlopeOne</th>\n",
              "      <td>0.476588</td>\n",
              "      <td>2.470372</td>\n",
              "      <td>19.928392</td>\n",
              "    </tr>\n",
              "    <tr>\n",
              "      <th>SVD</th>\n",
              "      <td>0.478437</td>\n",
              "      <td>10.407772</td>\n",
              "      <td>0.888916</td>\n",
              "    </tr>\n",
              "    <tr>\n",
              "      <th>BaselineOnly</th>\n",
              "      <td>0.479786</td>\n",
              "      <td>1.151916</td>\n",
              "      <td>0.899651</td>\n",
              "    </tr>\n",
              "    <tr>\n",
              "      <th>NMF</th>\n",
              "      <td>0.492268</td>\n",
              "      <td>12.598969</td>\n",
              "      <td>0.902581</td>\n",
              "    </tr>\n",
              "    <tr>\n",
              "      <th>KNNBasic</th>\n",
              "      <td>0.526872</td>\n",
              "      <td>6.884548</td>\n",
              "      <td>18.160559</td>\n",
              "    </tr>\n",
              "    <tr>\n",
              "      <th>CoClustering</th>\n",
              "      <td>0.670196</td>\n",
              "      <td>5.457511</td>\n",
              "      <td>0.829494</td>\n",
              "    </tr>\n",
              "    <tr>\n",
              "      <th>NormalPredictor</th>\n",
              "      <td>0.851521</td>\n",
              "      <td>0.360612</td>\n",
              "      <td>0.903011</td>\n",
              "    </tr>\n",
              "  </tbody>\n",
              "</table>\n",
              "</div>"
            ],
            "text/plain": [
              "                 test_rmse    fit_time  test_time\n",
              "Algorithm                                        \n",
              "SVDpp             0.471206  491.641790  24.929826\n",
              "KNNWithMeans      0.472516    6.497323  18.696893\n",
              "KNNBaseline       0.474880    7.922131  21.283628\n",
              "KNNWithZScore     0.474962    6.822183  19.890056\n",
              "SlopeOne          0.476588    2.470372  19.928392\n",
              "SVD               0.478437   10.407772   0.888916\n",
              "BaselineOnly      0.479786    1.151916   0.899651\n",
              "NMF               0.492268   12.598969   0.902581\n",
              "KNNBasic          0.526872    6.884548  18.160559\n",
              "CoClustering      0.670196    5.457511   0.829494\n",
              "NormalPredictor   0.851521    0.360612   0.903011"
            ]
          },
          "metadata": {
            "tags": []
          },
          "execution_count": 28
        }
      ]
    },
    {
      "cell_type": "markdown",
      "metadata": {
        "id": "kH0qx1dSbXEh"
      },
      "source": [
        "![image.png](data:image/png;base64,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)"
      ]
    },
    {
      "cell_type": "markdown",
      "metadata": {
        "id": "7EnjZCyn9yS2"
      },
      "source": [
        "Aunque el algoritmo ***SVDpp*** es el que tiene mejor *rmse* (0.471206), sus tiempos son demasiado grandes."
      ]
    },
    {
      "cell_type": "markdown",
      "metadata": {
        "id": "IjF5s5LR-IaO"
      },
      "source": [
        "Optamos por el algoritmo ***KNNWithMeans***, que aún teniendo un rmse un poco mayor (0.472516), es mucho más rápido en su ejecución"
      ]
    },
    {
      "cell_type": "code",
      "metadata": {
        "id": "pn_r5AVzIo9R"
      },
      "source": [
        "## Definimos el algoritmo como KNNWithMeans\r\n",
        "algorithm = KNNWithMeans()"
      ],
      "execution_count": null,
      "outputs": []
    },
    {
      "cell_type": "code",
      "metadata": {
        "id": "28XHELO1IxCB",
        "colab": {
          "base_uri": "https://localhost:8080/"
        },
        "outputId": "f403d4d7-3c98-44bc-9407-7bb1e8100e99"
      },
      "source": [
        "## Separamos el dataset en train y test\r\n",
        "trainset, testset = train_test_split(data, test_size=0.25)\r\n",
        "\r\n",
        "## Entrenamos nuestro modelo\r\n",
        "algorithm.fit(trainset)\r\n",
        "\r\n",
        "## Generamos las predicciones\r\n",
        "\r\n",
        "predicciones = algorithm.test(testset)"
      ],
      "execution_count": null,
      "outputs": [
        {
          "output_type": "stream",
          "text": [
            "Computing the msd similarity matrix...\n",
            "Done computing similarity matrix.\n"
          ],
          "name": "stdout"
        }
      ]
    },
    {
      "cell_type": "markdown",
      "metadata": {
        "id": "lzeGW4E7Oo6T"
      },
      "source": [
        "Generamos nuestro recomendador"
      ]
    },
    {
      "cell_type": "code",
      "metadata": {
        "id": "kPymyD5tPX_G"
      },
      "source": [
        "def beer_advisor(user):\r\n",
        "  ## Inicializamos la recomendación\r\n",
        "  recom = []\r\n",
        "\r\n",
        "  ## Generamos el listado de cervezas de nuesto usuario\r\n",
        "  reviewed = reviews[reviews.review_profilename == user].beer_beerid.tolist()\r\n",
        "\r\n",
        "  ## Generamos la lista de cervezas que no ha bebido nuestro usuario\r\n",
        "  candidates = beers[~beers.beer_beerid.isin(reviewed)].beer_beerid.unique()\r\n",
        "\r\n",
        "  ## Sobre cada cerveza para ver su score\r\n",
        "  for beer in candidates:\r\n",
        "     recom.append([beer, algorithm.predict(beer, user)[3]])\r\n",
        " \r\n",
        "  ## Generamos nuestro data set de resultados, pardiendo de la tabla de cervezas recomendadas\r\n",
        "  recom = (pd.DataFrame(recom, columns=[\"beer_beerid\", \"review_estimated\"])\r\n",
        "          ## ordenamos por el valor estimado\r\n",
        "          .sort_values(\"review_estimated\", ascending=False)\r\n",
        "          ## unimos la información de las cervezas\r\n",
        "          .merge(beers[[\"beer_beerid\", \"beer_name\", \"brewery_name\", \"beer_style\"]], \r\n",
        "              on='beer_beerid')\r\n",
        "          ## ERROR: salen algunos valores duplicados (no localizado el error)\r\n",
        "          ## los quitamos del dataset final\r\n",
        "          .drop_duplicates()                                                      \r\n",
        "          )\r\n",
        "  \r\n",
        "  print(\"Estas son las diez recomendaciones de cervezas para el usuario \\n\" + '\\033[1m' +  user + \"\\033[0m\\n\")\r\n",
        "  ## Sacamos los 10 primeros\r\n",
        "  return recom.head(10)\r\n",
        "     "
      ],
      "execution_count": 93,
      "outputs": []
    },
    {
      "cell_type": "code",
      "metadata": {
        "id": "mJy5SdzuJzlZ",
        "colab": {
          "base_uri": "https://localhost:8080/",
          "height": 359
        },
        "outputId": "0d250bed-e05e-45ff-fa0f-b9f2d8e8339f"
      },
      "source": [
        "beer_advisor(\"stcules\")\r\n"
      ],
      "execution_count": 75,
      "outputs": [
        {
          "output_type": "execute_result",
          "data": {
            "text/html": [
              "<div>\n",
              "<style scoped>\n",
              "    .dataframe tbody tr th:only-of-type {\n",
              "        vertical-align: middle;\n",
              "    }\n",
              "\n",
              "    .dataframe tbody tr th {\n",
              "        vertical-align: top;\n",
              "    }\n",
              "\n",
              "    .dataframe thead th {\n",
              "        text-align: right;\n",
              "    }\n",
              "</style>\n",
              "<table border=\"1\" class=\"dataframe\">\n",
              "  <thead>\n",
              "    <tr style=\"text-align: right;\">\n",
              "      <th></th>\n",
              "      <th>beer_beerid</th>\n",
              "      <th>review_estimated</th>\n",
              "      <th>beer_name</th>\n",
              "      <th>brewery_name</th>\n",
              "      <th>beer_style</th>\n",
              "    </tr>\n",
              "  </thead>\n",
              "  <tbody>\n",
              "    <tr>\n",
              "      <th>0</th>\n",
              "      <td>68665.0</td>\n",
              "      <td>5.000000</td>\n",
              "      <td>Lips Of Faith - Eric's Ale (Bourbon Barrel Aged)</td>\n",
              "      <td>New Belgium Brewing</td>\n",
              "      <td>American Wild Ale</td>\n",
              "    </tr>\n",
              "    <tr>\n",
              "      <th>2</th>\n",
              "      <td>60069.0</td>\n",
              "      <td>5.000000</td>\n",
              "      <td>Sierra Nevada Oaked Imperial Porter</td>\n",
              "      <td>Sierra Nevada Brewing Co.</td>\n",
              "      <td>American Porter</td>\n",
              "    </tr>\n",
              "    <tr>\n",
              "      <th>3</th>\n",
              "      <td>24574.0</td>\n",
              "      <td>5.000000</td>\n",
              "      <td>Flander's Red</td>\n",
              "      <td>Coopersmith's Pub &amp; Brewing</td>\n",
              "      <td>Flanders Red Ale</td>\n",
              "    </tr>\n",
              "    <tr>\n",
              "      <th>5</th>\n",
              "      <td>14252.0</td>\n",
              "      <td>5.000000</td>\n",
              "      <td>Bourbon Barrel Vermont Smoked Porter</td>\n",
              "      <td>The Vermont Pub &amp; Brewery</td>\n",
              "      <td>American Porter</td>\n",
              "    </tr>\n",
              "    <tr>\n",
              "      <th>6</th>\n",
              "      <td>39026.0</td>\n",
              "      <td>5.000000</td>\n",
              "      <td>Pale Ale</td>\n",
              "      <td>New Belgium Brewing</td>\n",
              "      <td>American Pale Ale (APA)</td>\n",
              "    </tr>\n",
              "    <tr>\n",
              "      <th>7</th>\n",
              "      <td>57276.0</td>\n",
              "      <td>5.000000</td>\n",
              "      <td>Humulus Lager With Simcoe Hops</td>\n",
              "      <td>The Bruery</td>\n",
              "      <td>American Double / Imperial Pilsner</td>\n",
              "    </tr>\n",
              "    <tr>\n",
              "      <th>9</th>\n",
              "      <td>3676.0</td>\n",
              "      <td>4.992252</td>\n",
              "      <td>'99 Wee Heavy Scotch Ale</td>\n",
              "      <td>The Vermont Pub &amp; Brewery</td>\n",
              "      <td>Scotch Ale / Wee Heavy</td>\n",
              "    </tr>\n",
              "    <tr>\n",
              "      <th>10</th>\n",
              "      <td>72007.0</td>\n",
              "      <td>4.962192</td>\n",
              "      <td>Saisonnaire</td>\n",
              "      <td>Cambridge Brewing Company</td>\n",
              "      <td>Saison / Farmhouse Ale</td>\n",
              "    </tr>\n",
              "    <tr>\n",
              "      <th>11</th>\n",
              "      <td>74521.0</td>\n",
              "      <td>4.959594</td>\n",
              "      <td>Skull And Bones Foxy</td>\n",
              "      <td>Bristol Brewing Company</td>\n",
              "      <td>American Wild Ale</td>\n",
              "    </tr>\n",
              "    <tr>\n",
              "      <th>12</th>\n",
              "      <td>66290.0</td>\n",
              "      <td>4.957456</td>\n",
              "      <td>Rose De Cambrinus</td>\n",
              "      <td>Cambridge Brewing Company</td>\n",
              "      <td>American Wild Ale</td>\n",
              "    </tr>\n",
              "  </tbody>\n",
              "</table>\n",
              "</div>"
            ],
            "text/plain": [
              "    beer_beerid  ...                          beer_style\n",
              "0       68665.0  ...                   American Wild Ale\n",
              "2       60069.0  ...                     American Porter\n",
              "3       24574.0  ...                    Flanders Red Ale\n",
              "5       14252.0  ...                     American Porter\n",
              "6       39026.0  ...             American Pale Ale (APA)\n",
              "7       57276.0  ...  American Double / Imperial Pilsner\n",
              "9        3676.0  ...              Scotch Ale / Wee Heavy\n",
              "10      72007.0  ...              Saison / Farmhouse Ale\n",
              "11      74521.0  ...                   American Wild Ale\n",
              "12      66290.0  ...                   American Wild Ale\n",
              "\n",
              "[10 rows x 5 columns]"
            ]
          },
          "metadata": {
            "tags": []
          },
          "execution_count": 75
        }
      ]
    },
    {
      "cell_type": "markdown",
      "metadata": {
        "id": "c0l_fBapb2sm"
      },
      "source": [
        "Creamos un recomendador de usuarios aleatorios para comprobar su funcionamiento"
      ]
    },
    {
      "cell_type": "code",
      "metadata": {
        "id": "LwQui2P9b64s"
      },
      "source": [
        "import random\r\n",
        "\r\n",
        "def beer_advisor_random():\r\n",
        "  user = reviews['review_profilename'].iloc[random.randint(0,len(reviews))]\r\n",
        "  return (beer_advisor(user))"
      ],
      "execution_count": 78,
      "outputs": []
    },
    {
      "cell_type": "code",
      "metadata": {
        "colab": {
          "base_uri": "https://localhost:8080/",
          "height": 410
        },
        "id": "_lfGEM8vcnTo",
        "outputId": "11edcb95-56db-471c-9f31-cb2568015bc9"
      },
      "source": [
        "beer_advisor_random()"
      ],
      "execution_count": 102,
      "outputs": [
        {
          "output_type": "stream",
          "text": [
            "Estas son las diez recomendaciones de cervezas para el usuario \n",
            "\u001b[1mcvstrickland\u001b[0m\n",
            "\n"
          ],
          "name": "stdout"
        },
        {
          "output_type": "execute_result",
          "data": {
            "text/html": [
              "<div>\n",
              "<style scoped>\n",
              "    .dataframe tbody tr th:only-of-type {\n",
              "        vertical-align: middle;\n",
              "    }\n",
              "\n",
              "    .dataframe tbody tr th {\n",
              "        vertical-align: top;\n",
              "    }\n",
              "\n",
              "    .dataframe thead th {\n",
              "        text-align: right;\n",
              "    }\n",
              "</style>\n",
              "<table border=\"1\" class=\"dataframe\">\n",
              "  <thead>\n",
              "    <tr style=\"text-align: right;\">\n",
              "      <th></th>\n",
              "      <th>beer_beerid</th>\n",
              "      <th>review_estimated</th>\n",
              "      <th>beer_name</th>\n",
              "      <th>brewery_name</th>\n",
              "      <th>beer_style</th>\n",
              "    </tr>\n",
              "  </thead>\n",
              "  <tbody>\n",
              "    <tr>\n",
              "      <th>0</th>\n",
              "      <td>25718.0</td>\n",
              "      <td>5.0</td>\n",
              "      <td>Lucidity</td>\n",
              "      <td>Port Brewing Company / Pizza Port</td>\n",
              "      <td>Saison / Farmhouse Ale</td>\n",
              "    </tr>\n",
              "    <tr>\n",
              "      <th>1</th>\n",
              "      <td>3676.0</td>\n",
              "      <td>5.0</td>\n",
              "      <td>'99 Wee Heavy Scotch Ale</td>\n",
              "      <td>The Vermont Pub &amp; Brewery</td>\n",
              "      <td>Scotch Ale / Wee Heavy</td>\n",
              "    </tr>\n",
              "    <tr>\n",
              "      <th>2</th>\n",
              "      <td>19629.0</td>\n",
              "      <td>5.0</td>\n",
              "      <td>Old Engine 86</td>\n",
              "      <td>West Virginia Brewing Company</td>\n",
              "      <td>California Common / Steam Beer</td>\n",
              "    </tr>\n",
              "    <tr>\n",
              "      <th>3</th>\n",
              "      <td>40260.0</td>\n",
              "      <td>5.0</td>\n",
              "      <td>Blackberry-Juniper Wheat</td>\n",
              "      <td>West Virginia Brewing Company</td>\n",
              "      <td>Fruit / Vegetable Beer</td>\n",
              "    </tr>\n",
              "    <tr>\n",
              "      <th>4</th>\n",
              "      <td>22056.0</td>\n",
              "      <td>5.0</td>\n",
              "      <td>Jasper Murdock's Private Stock '04</td>\n",
              "      <td>Jasper Murdock’s Alehouse, Dining Room &amp; Micro...</td>\n",
              "      <td>English Barleywine</td>\n",
              "    </tr>\n",
              "    <tr>\n",
              "      <th>5</th>\n",
              "      <td>10793.0</td>\n",
              "      <td>5.0</td>\n",
              "      <td>Cauldron Brew</td>\n",
              "      <td>Caldera Brewing Company</td>\n",
              "      <td>American Strong Ale</td>\n",
              "    </tr>\n",
              "    <tr>\n",
              "      <th>6</th>\n",
              "      <td>8990.0</td>\n",
              "      <td>5.0</td>\n",
              "      <td>Celtic Red</td>\n",
              "      <td>Milwaukee Ale House</td>\n",
              "      <td>Irish Red Ale</td>\n",
              "    </tr>\n",
              "    <tr>\n",
              "      <th>7</th>\n",
              "      <td>43796.0</td>\n",
              "      <td>5.0</td>\n",
              "      <td>Banana Wheat</td>\n",
              "      <td>Walnut Brewery</td>\n",
              "      <td>American Pale Wheat Ale</td>\n",
              "    </tr>\n",
              "    <tr>\n",
              "      <th>8</th>\n",
              "      <td>42870.0</td>\n",
              "      <td>5.0</td>\n",
              "      <td>Batch 500</td>\n",
              "      <td>Lunar Brewing</td>\n",
              "      <td>American Double / Imperial IPA</td>\n",
              "    </tr>\n",
              "    <tr>\n",
              "      <th>9</th>\n",
              "      <td>34353.0</td>\n",
              "      <td>5.0</td>\n",
              "      <td>Barely Wine</td>\n",
              "      <td>Lunar Brewing</td>\n",
              "      <td>American Barleywine</td>\n",
              "    </tr>\n",
              "  </tbody>\n",
              "</table>\n",
              "</div>"
            ],
            "text/plain": [
              "   beer_beerid  ...                      beer_style\n",
              "0      25718.0  ...          Saison / Farmhouse Ale\n",
              "1       3676.0  ...          Scotch Ale / Wee Heavy\n",
              "2      19629.0  ...  California Common / Steam Beer\n",
              "3      40260.0  ...          Fruit / Vegetable Beer\n",
              "4      22056.0  ...              English Barleywine\n",
              "5      10793.0  ...             American Strong Ale\n",
              "6       8990.0  ...                   Irish Red Ale\n",
              "7      43796.0  ...         American Pale Wheat Ale\n",
              "8      42870.0  ...  American Double / Imperial IPA\n",
              "9      34353.0  ...             American Barleywine\n",
              "\n",
              "[10 rows x 5 columns]"
            ]
          },
          "metadata": {
            "tags": []
          },
          "execution_count": 102
        }
      ]
    }
  ]
}